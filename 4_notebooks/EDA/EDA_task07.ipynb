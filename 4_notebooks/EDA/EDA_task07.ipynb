{
 "cells": [
  {
   "cell_type": "markdown",
   "metadata": {},
   "source": [
    "#### **Task 7**: Test the hypothesis whether planes fly faster when there is the departure delay? "
   ]
  },
  {
   "cell_type": "code",
   "execution_count": 1,
   "metadata": {},
   "outputs": [],
   "source": [
    "import pandas as pd\n",
    "import math\n",
    "import requests\n",
    "import numpy as np\n",
    "import scipy as sci\n",
    "import matplotlib.pyplot as plt\n",
    "import seaborn as sns\n",
    "import statsmodels.api as sm\n",
    "import os\n",
    "\n",
    "os.chdir('../..')\n",
    "df_flights = pd.read_csv('2_data/flights_random_sample.csv')"
   ]
  },
  {
   "cell_type": "code",
   "execution_count": 7,
   "metadata": {},
   "outputs": [
    {
     "data": {
      "text/plain": [
       "12782    19.0\n",
       "1962     64.0\n",
       "51967    27.0\n",
       "13240    19.0\n",
       "13256    16.0\n",
       "99239    41.0\n",
       "97583    99.0\n",
       "73967    17.0\n",
       "55753    30.0\n",
       "28096    65.0\n",
       "Name: arr_delay, dtype: float64"
      ]
     },
     "execution_count": 7,
     "metadata": {},
     "output_type": "execute_result"
    }
   ],
   "source": [
    "df_flights.arr_delay[(df_flights.distance / (df_flights.actual_elapsed_time / 60 )).sort_values().index].head(10)"
   ]
  },
  {
   "cell_type": "code",
   "execution_count": 8,
   "metadata": {},
   "outputs": [
    {
     "data": {
      "text/plain": [
       "25443   -44.0\n",
       "69316     8.0\n",
       "53573   -44.0\n",
       "33463   -28.0\n",
       "43523   -36.0\n",
       "68924   -13.0\n",
       "14172   -34.0\n",
       "92632   -47.0\n",
       "33709   -55.0\n",
       "23987   -54.0\n",
       "Name: arr_delay, dtype: float64"
      ]
     },
     "execution_count": 8,
     "metadata": {},
     "output_type": "execute_result"
    }
   ],
   "source": [
    "df_flights.arr_delay[(df_flights.distance / (df_flights.actual_elapsed_time / 60 )).sort_values().index].dropna().tail(10)"
   ]
  },
  {
   "cell_type": "code",
   "execution_count": null,
   "metadata": {},
   "outputs": [],
   "source": []
  }
 ],
 "metadata": {
  "kernelspec": {
   "display_name": "Python 3.9.12 ('Lighthouse')",
   "language": "python",
   "name": "python3"
  },
  "language_info": {
   "codemirror_mode": {
    "name": "ipython",
    "version": 3
   },
   "file_extension": ".py",
   "mimetype": "text/x-python",
   "name": "python",
   "nbconvert_exporter": "python",
   "pygments_lexer": "ipython3",
   "version": "3.9.12"
  },
  "orig_nbformat": 4,
  "vscode": {
   "interpreter": {
    "hash": "ab2e892db4cd2d29706aec2e2e8786b747c5513220d51c73c05913caff2c85c0"
   }
  }
 },
 "nbformat": 4,
 "nbformat_minor": 2
}
