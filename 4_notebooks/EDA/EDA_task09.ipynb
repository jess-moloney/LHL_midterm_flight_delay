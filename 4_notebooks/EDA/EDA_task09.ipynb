{
 "cells": [
  {
   "cell_type": "markdown",
   "metadata": {},
   "source": [
    "#### **Task 9**: Find the top 10 the bussiest airports. Does the biggest number of flights mean that the biggest number of passengers went through the particular airport? How much traffic do these 10 airports cover?"
   ]
  },
  {
   "cell_type": "code",
   "execution_count": 1,
   "metadata": {},
   "outputs": [],
   "source": [
    "import pandas as pd\n",
    "import math\n",
    "import requests\n",
    "import numpy as np\n",
    "import scipy as sci\n",
    "import matplotlib.pyplot as plt\n",
    "import seaborn as sns\n",
    "import statsmodels.api as sm\n",
    "import os"
   ]
  },
  {
   "cell_type": "code",
   "execution_count": 2,
   "metadata": {},
   "outputs": [],
   "source": [
    "os.chdir('../..')\n",
    "df_flights = pd.read_csv('2_data/flights_random_sample.csv')\n",
    "df_passengers = pd.read_csv('2_data/passenger_random_sample.csv')"
   ]
  },
  {
   "cell_type": "code",
   "execution_count": 18,
   "metadata": {},
   "outputs": [],
   "source": [
    "top_airports = (df_passengers.origin_airport_id.value_counts() + df_passengers.dest_airport_id.value_counts()).dropna()\n",
    "all_airports = (df_passengers.origin_airport_id.value_counts() + df_passengers.dest_airport_id.value_counts()).dropna().sum()"
   ]
  },
  {
   "cell_type": "code",
   "execution_count": 21,
   "metadata": {},
   "outputs": [
    {
     "data": {
      "text/plain": [
       "13930    0.033402\n",
       "10397    0.028777\n",
       "11292    0.024499\n",
       "12892    0.021470\n",
       "11298    0.020173\n",
       "12266    0.019726\n",
       "13487    0.019195\n",
       "11433    0.018038\n",
       "13303    0.017731\n",
       "11618    0.017512\n",
       "dtype: float64"
      ]
     },
     "execution_count": 21,
     "metadata": {},
     "output_type": "execute_result"
    }
   ],
   "source": [
    "flights_perc = top_airports/all_airports\n",
    "df_passengers['flight_perc'] = (df_passengers.origin_airport_id.value_counts() + df_passengers.dest_airport_id.value_counts())/all_airports\n",
    "flights_perc.nlargest(10)"
   ]
  },
  {
   "cell_type": "code",
   "execution_count": 28,
   "metadata": {},
   "outputs": [
    {
     "data": {
      "text/html": [
       "<div>\n",
       "<style scoped>\n",
       "    .dataframe tbody tr th:only-of-type {\n",
       "        vertical-align: middle;\n",
       "    }\n",
       "\n",
       "    .dataframe tbody tr th {\n",
       "        vertical-align: top;\n",
       "    }\n",
       "\n",
       "    .dataframe thead th {\n",
       "        text-align: right;\n",
       "    }\n",
       "</style>\n",
       "<table border=\"1\" class=\"dataframe\">\n",
       "  <thead>\n",
       "    <tr style=\"text-align: right;\">\n",
       "      <th></th>\n",
       "      <th>passengers</th>\n",
       "      <th>freight</th>\n",
       "      <th>mail</th>\n",
       "      <th>flight_perc</th>\n",
       "    </tr>\n",
       "  </thead>\n",
       "  <tbody>\n",
       "    <tr>\n",
       "      <th>13930</th>\n",
       "      <td>1432</td>\n",
       "      <td>0</td>\n",
       "      <td>0</td>\n",
       "      <td>0.033402</td>\n",
       "    </tr>\n",
       "    <tr>\n",
       "      <th>10397</th>\n",
       "      <td>175</td>\n",
       "      <td>0</td>\n",
       "      <td>247</td>\n",
       "      <td>0.028777</td>\n",
       "    </tr>\n",
       "    <tr>\n",
       "      <th>11292</th>\n",
       "      <td>386</td>\n",
       "      <td>22</td>\n",
       "      <td>0</td>\n",
       "      <td>0.024499</td>\n",
       "    </tr>\n",
       "    <tr>\n",
       "      <th>12892</th>\n",
       "      <td>832</td>\n",
       "      <td>0</td>\n",
       "      <td>0</td>\n",
       "      <td>0.021470</td>\n",
       "    </tr>\n",
       "    <tr>\n",
       "      <th>11298</th>\n",
       "      <td>432</td>\n",
       "      <td>57</td>\n",
       "      <td>0</td>\n",
       "      <td>0.020173</td>\n",
       "    </tr>\n",
       "    <tr>\n",
       "      <th>12266</th>\n",
       "      <td>624</td>\n",
       "      <td>30</td>\n",
       "      <td>0</td>\n",
       "      <td>0.019726</td>\n",
       "    </tr>\n",
       "    <tr>\n",
       "      <th>13487</th>\n",
       "      <td>1074</td>\n",
       "      <td>1551</td>\n",
       "      <td>0</td>\n",
       "      <td>0.019195</td>\n",
       "    </tr>\n",
       "    <tr>\n",
       "      <th>11433</th>\n",
       "      <td>166</td>\n",
       "      <td>0</td>\n",
       "      <td>0</td>\n",
       "      <td>0.018038</td>\n",
       "    </tr>\n",
       "    <tr>\n",
       "      <th>13303</th>\n",
       "      <td>995</td>\n",
       "      <td>442</td>\n",
       "      <td>2073</td>\n",
       "      <td>0.017731</td>\n",
       "    </tr>\n",
       "    <tr>\n",
       "      <th>11618</th>\n",
       "      <td>455</td>\n",
       "      <td>0</td>\n",
       "      <td>0</td>\n",
       "      <td>0.017512</td>\n",
       "    </tr>\n",
       "  </tbody>\n",
       "</table>\n",
       "</div>"
      ],
      "text/plain": [
       "       passengers  freight  mail  flight_perc\n",
       "13930        1432        0     0     0.033402\n",
       "10397         175        0   247     0.028777\n",
       "11292         386       22     0     0.024499\n",
       "12892         832        0     0     0.021470\n",
       "11298         432       57     0     0.020173\n",
       "12266         624       30     0     0.019726\n",
       "13487        1074     1551     0     0.019195\n",
       "11433         166        0     0     0.018038\n",
       "13303         995      442  2073     0.017731\n",
       "11618         455        0     0     0.017512"
      ]
     },
     "execution_count": 28,
     "metadata": {},
     "output_type": "execute_result"
    }
   ],
   "source": [
    "df_passengers[['passengers','freight','mail', 'flight_perc']].dropna().sort_values(by='flight_perc', ascending = False).head(10)"
   ]
  },
  {
   "cell_type": "code",
   "execution_count": 27,
   "metadata": {},
   "outputs": [
    {
     "data": {
      "text/plain": [
       "23991    80320\n",
       "23972    80272\n",
       "23994    80128\n",
       "23974    77042\n",
       "23970    72957\n",
       "23967    72482\n",
       "60770    71630\n",
       "92297    68158\n",
       "92294    66685\n",
       "92296    66380\n",
       "Name: passengers, dtype: int64"
      ]
     },
     "execution_count": 27,
     "metadata": {},
     "output_type": "execute_result"
    }
   ],
   "source": [
    "df_passengers.passengers.nlargest(10)"
   ]
  },
  {
   "cell_type": "code",
   "execution_count": null,
   "metadata": {},
   "outputs": [],
   "source": []
  }
 ],
 "metadata": {
  "kernelspec": {
   "display_name": "Python 3.9.12 ('Lighthouse')",
   "language": "python",
   "name": "python3"
  },
  "language_info": {
   "codemirror_mode": {
    "name": "ipython",
    "version": 3
   },
   "file_extension": ".py",
   "mimetype": "text/x-python",
   "name": "python",
   "nbconvert_exporter": "python",
   "pygments_lexer": "ipython3",
   "version": "3.9.12"
  },
  "orig_nbformat": 4,
  "vscode": {
   "interpreter": {
    "hash": "ab2e892db4cd2d29706aec2e2e8786b747c5513220d51c73c05913caff2c85c0"
   }
  }
 },
 "nbformat": 4,
 "nbformat_minor": 2
}
