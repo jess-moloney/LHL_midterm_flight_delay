{
 "cells": [
  {
   "cell_type": "markdown",
   "metadata": {},
   "source": [
    "# Step 8 - Feature Engineering"
   ]
  },
  {
   "cell_type": "markdown",
   "metadata": {},
   "source": [
    "Run baseline model without any dimensionality reduction / feature engineering, then: \n",
    "\n",
    "- Transform datetime features into datetime, and extract more useful info - e.g., day vs. night, season, holiday vs. normal day, weekday vs. weekend\n",
    "- Extract state name from origin_city_name and dest_city_name & create origin_state_name and dest_state_name\n",
    "- Create region feature - using dictionary below\n",
    "- Do PCA - dimensionality reduction"
   ]
  },
  {
   "cell_type": "code",
   "execution_count": null,
   "metadata": {},
   "outputs": [
    {
     "data": {
      "text/plain": [
       "51"
      ]
     },
     "metadata": {},
     "output_type": "display_data"
    }
   ],
   "source": [
    "# Add a region feature that groups states into four regions\n",
    "# Region Dictionary for States *includes DC\n",
    "\n",
    "state_region = {\n",
    "    'WA': 'West',\n",
    "    'OR': 'West',\n",
    "    'CA': 'West',\n",
    "    'AK': 'West',\n",
    "    'HI': 'West',\n",
    "    'ID': 'West',\n",
    "    'MT': 'West',\n",
    "    'WY': 'West',\n",
    "    'NV': 'West',\n",
    "    'UT': 'West',\n",
    "    'CO': 'West',\n",
    "    'AZ': 'West',\n",
    "    'NM': 'West',\n",
    "    'ND': 'Midwest',\n",
    "    'SD': 'Midwest',\n",
    "    'MN': 'Midwest',\n",
    "    'NE': 'Midwest',\n",
    "    'KS': 'Midwest',\n",
    "    'IA': 'Midwest',\n",
    "    'MO': 'Midwest',\n",
    "    'WI': 'Midwest',\n",
    "    'IL': 'Midwest',\n",
    "    'MI': 'Midwest',\n",
    "    'IN': 'Midwest',\n",
    "    'OH': 'Midwest',\n",
    "    'VT': 'Northeast',\n",
    "    'ME': 'Northeast',\n",
    "    'NH': 'Northeast',\n",
    "    'MA': 'Northeast',\n",
    "    'NY': 'Northeast',\n",
    "    'PA': 'Northeast',\n",
    "    'RI': 'Northeast',\n",
    "    'CT': 'Northeast',\n",
    "    'NJ': 'Northeast',\n",
    "    'DE': 'South',\n",
    "    'MD': 'South',\n",
    "    'WV': 'South',\n",
    "    'DC': 'South',\n",
    "    'VA': 'South',\n",
    "    'KY': 'South',\n",
    "    'NC': 'South',\n",
    "    'OK': 'South',\n",
    "    'TX': 'South',\n",
    "    'AR': 'South',\n",
    "    'LA': 'South',\n",
    "    'MS': 'South',\n",
    "    'AL': 'South',\n",
    "    'TN': 'South',\n",
    "    'SC': 'South',\n",
    "    'GA': 'South',\n",
    "    'FL': 'South',\n",
    "}\n",
    "len(state_region)"
   ]
  },
  {
   "cell_type": "markdown",
   "metadata": {},
   "source": [
    "refer to task 2:\n",
    "- extract month and season(winter, spring, summer, fall) from flight date and use that to predict arrival delay\n",
    "- log transformation of arrival delay to make it more normally distributed and/or remove outliers?\n",
    "\n",
    "refer to task 4:\n",
    "-"
   ]
  }
 ],
 "metadata": {
  "kernelspec": {
   "display_name": "Python 3.9.13 64-bit",
   "language": "python",
   "name": "python3"
  },
  "language_info": {
   "name": "python",
   "version": "3.9.13"
  },
  "orig_nbformat": 4,
  "vscode": {
   "interpreter": {
    "hash": "11938c6bc6919ae2720b4d5011047913343b08a43b18698fd82dedb0d4417594"
   }
  }
 },
 "nbformat": 4,
 "nbformat_minor": 2
}
