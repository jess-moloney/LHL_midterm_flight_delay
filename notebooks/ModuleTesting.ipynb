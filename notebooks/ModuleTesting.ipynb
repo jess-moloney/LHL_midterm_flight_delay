{
 "cells": [
  {
   "cell_type": "code",
   "execution_count": 1,
   "metadata": {},
   "outputs": [],
   "source": [
    "import os\n",
    "os.chdir('..')\n",
    "from src.modules import connect_lhl, test_models"
   ]
  },
  {
   "cell_type": "code",
   "execution_count": 2,
   "metadata": {},
   "outputs": [
    {
     "name": "stderr",
     "output_type": "stream",
     "text": [
      "/Users/calebward/LHL_midterm_flight_delay/src/modules/connect_lhl.py:51: UserWarning: pandas only supports SQLAlchemy connectable (engine/connection) or database string URI or sqlite3 DBAPI2 connection. Other DBAPI2 objects are not tested. Please consider using SQLAlchemy.\n",
      "  df_return = sqlio.read_sql_query(query, self.connection())\n"
     ]
    }
   ],
   "source": [
    "test_conn = connect_lhl.lhl_delay_data('lhl-data-bootcamp.crzjul5qln0e.ca-central-1.rds.amazonaws.com','mid_term_project','lhl_student','lhl_student', 0)\n",
    "test_conn.connection()\n",
    "df = test_conn.sample_table('flights','100')"
   ]
  },
  {
   "cell_type": "code",
   "execution_count": 3,
   "metadata": {},
   "outputs": [
    {
     "data": {
      "text/html": [
       "<div>\n",
       "<style scoped>\n",
       "    .dataframe tbody tr th:only-of-type {\n",
       "        vertical-align: middle;\n",
       "    }\n",
       "\n",
       "    .dataframe tbody tr th {\n",
       "        vertical-align: top;\n",
       "    }\n",
       "\n",
       "    .dataframe thead th {\n",
       "        text-align: right;\n",
       "    }\n",
       "</style>\n",
       "<table border=\"1\" class=\"dataframe\">\n",
       "  <thead>\n",
       "    <tr style=\"text-align: right;\">\n",
       "      <th></th>\n",
       "      <th>mkt_carrier_fl_num</th>\n",
       "      <th>op_carrier_fl_num</th>\n",
       "      <th>origin_airport_id</th>\n",
       "      <th>dest_airport_id</th>\n",
       "      <th>crs_dep_time</th>\n",
       "      <th>crs_arr_time</th>\n",
       "      <th>crs_elapsed_time</th>\n",
       "      <th>distance</th>\n",
       "      <th>arr_delay</th>\n",
       "      <th>year</th>\n",
       "      <th>month</th>\n",
       "      <th>day</th>\n",
       "    </tr>\n",
       "  </thead>\n",
       "  <tbody>\n",
       "    <tr>\n",
       "      <th>0</th>\n",
       "      <td>5431</td>\n",
       "      <td>5431</td>\n",
       "      <td>12889</td>\n",
       "      <td>13851</td>\n",
       "      <td>1930</td>\n",
       "      <td>2350</td>\n",
       "      <td>140</td>\n",
       "      <td>986</td>\n",
       "      <td>19.0</td>\n",
       "      <td>2018</td>\n",
       "      <td>1</td>\n",
       "      <td>1</td>\n",
       "    </tr>\n",
       "    <tr>\n",
       "      <th>1</th>\n",
       "      <td>989</td>\n",
       "      <td>989</td>\n",
       "      <td>12889</td>\n",
       "      <td>13871</td>\n",
       "      <td>2125</td>\n",
       "      <td>155</td>\n",
       "      <td>150</td>\n",
       "      <td>1099</td>\n",
       "      <td>46.0</td>\n",
       "      <td>2018</td>\n",
       "      <td>1</td>\n",
       "      <td>1</td>\n",
       "    </tr>\n",
       "    <tr>\n",
       "      <th>2</th>\n",
       "      <td>1664</td>\n",
       "      <td>1664</td>\n",
       "      <td>12889</td>\n",
       "      <td>13871</td>\n",
       "      <td>650</td>\n",
       "      <td>1120</td>\n",
       "      <td>150</td>\n",
       "      <td>1099</td>\n",
       "      <td>-9.0</td>\n",
       "      <td>2018</td>\n",
       "      <td>1</td>\n",
       "      <td>1</td>\n",
       "    </tr>\n",
       "    <tr>\n",
       "      <th>3</th>\n",
       "      <td>1106</td>\n",
       "      <td>1106</td>\n",
       "      <td>12889</td>\n",
       "      <td>13891</td>\n",
       "      <td>735</td>\n",
       "      <td>830</td>\n",
       "      <td>55</td>\n",
       "      <td>197</td>\n",
       "      <td>-3.0</td>\n",
       "      <td>2018</td>\n",
       "      <td>1</td>\n",
       "      <td>1</td>\n",
       "    </tr>\n",
       "    <tr>\n",
       "      <th>4</th>\n",
       "      <td>1559</td>\n",
       "      <td>1559</td>\n",
       "      <td>12889</td>\n",
       "      <td>13891</td>\n",
       "      <td>1740</td>\n",
       "      <td>1835</td>\n",
       "      <td>55</td>\n",
       "      <td>197</td>\n",
       "      <td>37.0</td>\n",
       "      <td>2018</td>\n",
       "      <td>1</td>\n",
       "      <td>1</td>\n",
       "    </tr>\n",
       "  </tbody>\n",
       "</table>\n",
       "</div>"
      ],
      "text/plain": [
       "   mkt_carrier_fl_num  op_carrier_fl_num  origin_airport_id  dest_airport_id  \\\n",
       "0                5431               5431              12889            13851   \n",
       "1                 989                989              12889            13871   \n",
       "2                1664               1664              12889            13871   \n",
       "3                1106               1106              12889            13891   \n",
       "4                1559               1559              12889            13891   \n",
       "\n",
       "   crs_dep_time  crs_arr_time  crs_elapsed_time  distance  arr_delay  year  \\\n",
       "0          1930          2350               140       986       19.0  2018   \n",
       "1          2125           155               150      1099       46.0  2018   \n",
       "2           650          1120               150      1099       -9.0  2018   \n",
       "3           735           830                55       197       -3.0  2018   \n",
       "4          1740          1835                55       197       37.0  2018   \n",
       "\n",
       "   month  day  \n",
       "0      1    1  \n",
       "1      1    1  \n",
       "2      1    1  \n",
       "3      1    1  \n",
       "4      1    1  "
      ]
     },
     "execution_count": 3,
     "metadata": {},
     "output_type": "execute_result"
    }
   ],
   "source": [
    "import pandas as pd\n",
    "df_flights = pd.read_csv('data/baseline_data.csv', sep=',')\n",
    "df_flights = df_flights.drop('Unnamed: 0', axis=1)\n",
    "df_flights.head()"
   ]
  },
  {
   "cell_type": "code",
   "execution_count": 4,
   "metadata": {},
   "outputs": [],
   "source": [
    "X = df_flights.drop('arr_delay',axis=1)\n",
    "y = df_flights['arr_delay']\n",
    "run_models = test_models.test_models(X, target = y, model_names=['ridge','lasso'], degree=3)\n",
    "run_models.create_models()\n",
    "model_output = run_models.run_models()"
   ]
  },
  {
   "cell_type": "code",
   "execution_count": 6,
   "metadata": {},
   "outputs": [
    {
     "data": {
      "text/html": [
       "<div>\n",
       "<style scoped>\n",
       "    .dataframe tbody tr th:only-of-type {\n",
       "        vertical-align: middle;\n",
       "    }\n",
       "\n",
       "    .dataframe tbody tr th {\n",
       "        vertical-align: top;\n",
       "    }\n",
       "\n",
       "    .dataframe thead th {\n",
       "        text-align: right;\n",
       "    }\n",
       "</style>\n",
       "<table border=\"1\" class=\"dataframe\">\n",
       "  <thead>\n",
       "    <tr style=\"text-align: right;\">\n",
       "      <th></th>\n",
       "      <th>MAE_test</th>\n",
       "      <th>MAE_train</th>\n",
       "      <th>RMSE_test</th>\n",
       "      <th>RMSE_train</th>\n",
       "      <th>R2_test</th>\n",
       "      <th>R2_train</th>\n",
       "      <th>ADJR2_test</th>\n",
       "      <th>ADJR2_train</th>\n",
       "    </tr>\n",
       "  </thead>\n",
       "  <tbody>\n",
       "    <tr>\n",
       "      <th>ridge</th>\n",
       "      <td>24.326935</td>\n",
       "      <td>24.426811</td>\n",
       "      <td>48.137717</td>\n",
       "      <td>48.297188</td>\n",
       "      <td>0.009191</td>\n",
       "      <td>0.009651</td>\n",
       "      <td>0.008791</td>\n",
       "      <td>0.009251</td>\n",
       "    </tr>\n",
       "    <tr>\n",
       "      <th>lasso</th>\n",
       "      <td>24.329158</td>\n",
       "      <td>24.437476</td>\n",
       "      <td>48.152903</td>\n",
       "      <td>48.322888</td>\n",
       "      <td>0.008566</td>\n",
       "      <td>0.008597</td>\n",
       "      <td>0.008166</td>\n",
       "      <td>0.008196</td>\n",
       "    </tr>\n",
       "  </tbody>\n",
       "</table>\n",
       "</div>"
      ],
      "text/plain": [
       "        MAE_test  MAE_train  RMSE_test  RMSE_train   R2_test  R2_train  \\\n",
       "ridge  24.326935  24.426811  48.137717   48.297188  0.009191  0.009651   \n",
       "lasso  24.329158  24.437476  48.152903   48.322888  0.008566  0.008597   \n",
       "\n",
       "       ADJR2_test  ADJR2_train  \n",
       "ridge    0.008791     0.009251  \n",
       "lasso    0.008166     0.008196  "
      ]
     },
     "execution_count": 6,
     "metadata": {},
     "output_type": "execute_result"
    }
   ],
   "source": [
    "model_output"
   ]
  },
  {
   "cell_type": "code",
   "execution_count": null,
   "metadata": {},
   "outputs": [],
   "source": []
  }
 ],
 "metadata": {
  "kernelspec": {
   "display_name": "Lighthouse",
   "language": "python",
   "name": "lighthouse"
  },
  "language_info": {
   "codemirror_mode": {
    "name": "ipython",
    "version": 3
   },
   "file_extension": ".py",
   "mimetype": "text/x-python",
   "name": "python",
   "nbconvert_exporter": "python",
   "pygments_lexer": "ipython3",
   "version": "3.9.12"
  },
  "orig_nbformat": 4,
  "vscode": {
   "interpreter": {
    "hash": "397704579725e15f5c7cb49fe5f0341eb7531c82d19f2c29d197e8b64ab5776b"
   }
  }
 },
 "nbformat": 4,
 "nbformat_minor": 2
}
