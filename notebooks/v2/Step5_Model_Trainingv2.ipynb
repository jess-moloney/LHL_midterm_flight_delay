{
 "cells": [
  {
   "cell_type": "code",
   "execution_count": 8,
   "metadata": {},
   "outputs": [],
   "source": [
    "def IFPE_Regression(X_train, y_train, X_test, y_test, regressor, deg=None):\n",
    "    \n",
    "    ### INSTANTIATE THE MODEL\n",
    "\n",
    "    ## LINEAR MODELS\n",
    "\n",
    "    # ordinary least squares\n",
    "    if regressor == 'linear':\n",
    "        from sklearn.linear_model import LinearRegression\n",
    "        reg = LinearRegression()\n",
    "    \n",
    "    # ridge regression\n",
    "    elif regressor == 'ridge':\n",
    "        from sklearn.linear_model import Ridge\n",
    "        reg = Ridge(random_state=0)\n",
    "\n",
    "    # lasso regression\n",
    "    elif regressor == 'lasso':\n",
    "        from sklearn.linear_model import Lasso\n",
    "        reg = Lasso(random_state=0)\n",
    "\n",
    "    # polynomial linear regression - need to add polynomial features first\n",
    "    # https://www.geeksforgeeks.org/python-implementation-of-polynomial-regression/\n",
    "    # https://scikit-learn.org/stable/modules/linear_model.html#polynomial-regression-extending-linear-models-with-basis-functions\n",
    "    elif regressor == 'polynomial':\n",
    "        from sklearn.linear_model import LinearRegression\n",
    "        from sklearn.preprocessing import PolynomialFeatures\n",
    "        poly = PolynomialFeatures(degree = deg)\n",
    "        X_poly_train = poly.fit_transform(X_train)\n",
    "        X_poly_test = poly.fit_transform(X_test)\n",
    "        X_train = X_poly_train\n",
    "        X_test = X_poly_test\n",
    "\n",
    "        # poly.fit(X_poly, y_train)\n",
    "        reg = LinearRegression()\n",
    "\n",
    "    # stochastic gradient descent\n",
    "    elif regressor == 'sgd':\n",
    "        from sklearn.linear_model import SGDRegressor\n",
    "        reg = SGDRegressor(random_state=0)\n",
    "    \n",
    "    ## SUPPORT VECTOR MACHINES\n",
    "\n",
    "    # SVM regression https://scikit-learn.org/stable/modules/svm.html#regression\n",
    "    elif regressor == 'svm':\n",
    "        from sklearn import svm\n",
    "        reg = svm.SVR()\n",
    "\n",
    "    ## DECISION TREES\n",
    "\n",
    "    # decision tree\n",
    "    elif regressor == 'dt':\n",
    "        from sklearn import tree\n",
    "        reg = tree.DecisionTreeRegressor(random_state=0)\n",
    "\n",
    "    ## ENSEMBLE METHODS\n",
    "\n",
    "    # random forest\n",
    "    elif regressor =='rf':\n",
    "        from sklearn.ensemble import RandomForestRegressor\n",
    "        reg = RandomForestRegressor(max_depth=2, random_state=0)\n",
    "\n",
    "    # gradient boost\n",
    "    elif regressor =='gb':\n",
    "        from sklearn.ensemble import GradientBoostingRegressor\n",
    "        reg = GradientBoostingRegressor(random_state=0)\n",
    "\n",
    "    # voting regressor\n",
    "    elif regressor =='vr':\n",
    "        from sklearn.ensemble import GradientBoostingRegressor\n",
    "        from sklearn.ensemble import RandomForestRegressor\n",
    "        from sklearn.linear_model import LinearRegression\n",
    "        from sklearn.ensemble import VotingRegressor\n",
    "        reg1 = GradientBoostingRegressor(random_state=1)\n",
    "        reg2 = RandomForestRegressor(random_state=1)\n",
    "        reg3 = LinearRegression()\n",
    "        reg = VotingRegressor(estimators=[('gb', reg1), ('rf', reg2), ('lr', reg3)])\n",
    "\n",
    "    # xgboost\n",
    "    elif regressor == 'xgb':\n",
    "        import xgboost as xgb\n",
    "        reg = xgb.XGBRegressor(objective ='reg:squarederror', random_state=0)\n",
    "\n",
    "\n",
    "\n",
    "    ### FIT THE MODEL\n",
    "\n",
    "    reg.fit(X_train, y_train)\n",
    "\n",
    "\n",
    "\n",
    "\n",
    "    ### PREDICT THE RESPONSE FOR THE TEST DATASET\n",
    "\n",
    "    y_pred = reg.predict(X_test)\n",
    "\n",
    "\n",
    "\n",
    "\n",
    "    ### EVALUATE THE MODEL\n",
    "\n",
    "    # Mean Absolute Error\n",
    "    from sklearn.metrics import mean_absolute_error\n",
    "    MAE = mean_absolute_error(y_test, y_pred)\n",
    "\n",
    "    # Root Mean Square Error\n",
    "    from sklearn.metrics import mean_squared_error\n",
    "    RMSE = mean_squared_error(y_test, y_pred, squared=False)\n",
    "\n",
    "    # r2\n",
    "    from sklearn.metrics import r2_score\n",
    "    r2 = r2_score(y_test, y_pred)\n",
    "\n",
    "    # Adjusted r2\n",
    "    n = len(X_test)\n",
    "    p = len(X_test[0,:])\n",
    "\n",
    "    Adj_r2 = 1-(1-r2)*(n-1)/(n-p-1)\n",
    "\n",
    "    ### COMPARE MODELS\n",
    "    \n",
    "    import pandas as pd\n",
    "    model_comparison = pd.DataFrame({\n",
    "        'Mean Absolute Error': MAE,\n",
    "        'Root Mean Square Error': RMSE,\n",
    "        'R Squared': r2,\n",
    "        'Adjusted R Squared': Adj_r2\n",
    "    }, index  = [str(regressor)])\n",
    "    \n",
    "    return model_comparison, reg"
   ]
  },
  {
   "cell_type": "markdown",
   "metadata": {},
   "source": [
    "# Iteration 1"
   ]
  },
  {
   "cell_type": "code",
   "execution_count": 2,
   "metadata": {},
   "outputs": [],
   "source": [
    "import pickle\n",
    "\n",
    "with open(r'..\\..\\data\\v2\\df_train_step3_subset1.pickle','rb') as flight_data_file:\n",
    "     df_flights_TRAIN = pickle.load(flight_data_file)"
   ]
  },
  {
   "cell_type": "code",
   "execution_count": 3,
   "metadata": {},
   "outputs": [],
   "source": [
    "import pickle\n",
    "\n",
    "with open(r'..\\..\\data\\v2\\df_test_step3_subset1.pickle','rb') as flight_data_file:\n",
    "     df_flights_TEST = pickle.load(flight_data_file)"
   ]
  },
  {
   "cell_type": "code",
   "execution_count": 4,
   "metadata": {},
   "outputs": [
    {
     "data": {
      "text/plain": [
       "(73395, 34)"
      ]
     },
     "execution_count": 4,
     "metadata": {},
     "output_type": "execute_result"
    }
   ],
   "source": [
    "df_flights_TRAIN.shape"
   ]
  },
  {
   "cell_type": "code",
   "execution_count": 5,
   "metadata": {},
   "outputs": [
    {
     "data": {
      "text/plain": [
       "(24444, 34)"
      ]
     },
     "execution_count": 5,
     "metadata": {},
     "output_type": "execute_result"
    }
   ],
   "source": [
    "df_flights_TEST.shape"
   ]
  },
  {
   "cell_type": "code",
   "execution_count": 6,
   "metadata": {},
   "outputs": [],
   "source": [
    "X_train = df_flights_TRAIN.drop('arr_delay',axis=1).to_numpy()\n",
    "X_test = df_flights_TEST.drop('arr_delay',axis=1).to_numpy()\n",
    "y_train = df_flights_TRAIN['arr_delay'].to_numpy()\n",
    "y_test = df_flights_TEST['arr_delay'].to_numpy()"
   ]
  },
  {
   "cell_type": "code",
   "execution_count": 7,
   "metadata": {},
   "outputs": [
    {
     "name": "stdout",
     "output_type": "stream",
     "text": [
      "(73395, 33)\n",
      "(24444, 33)\n",
      "(73395,)\n",
      "(24444,)\n"
     ]
    }
   ],
   "source": [
    "print(X_train.shape)\n",
    "print(X_test.shape)\n",
    "print(y_train.shape)\n",
    "print(y_test.shape)"
   ]
  },
  {
   "cell_type": "code",
   "execution_count": 8,
   "metadata": {},
   "outputs": [
    {
     "data": {
      "text/html": [
       "<div>\n",
       "<style scoped>\n",
       "    .dataframe tbody tr th:only-of-type {\n",
       "        vertical-align: middle;\n",
       "    }\n",
       "\n",
       "    .dataframe tbody tr th {\n",
       "        vertical-align: top;\n",
       "    }\n",
       "\n",
       "    .dataframe thead th {\n",
       "        text-align: right;\n",
       "    }\n",
       "</style>\n",
       "<table border=\"1\" class=\"dataframe\">\n",
       "  <thead>\n",
       "    <tr style=\"text-align: right;\">\n",
       "      <th></th>\n",
       "      <th>Mean Absolute Error</th>\n",
       "      <th>Root Mean Square Error</th>\n",
       "      <th>R Squared</th>\n",
       "      <th>Adjusted R Squared</th>\n",
       "    </tr>\n",
       "  </thead>\n",
       "  <tbody>\n",
       "    <tr>\n",
       "      <th>linear</th>\n",
       "      <td>23.956809</td>\n",
       "      <td>48.678319</td>\n",
       "      <td>0.01337</td>\n",
       "      <td>0.012036</td>\n",
       "    </tr>\n",
       "  </tbody>\n",
       "</table>\n",
       "</div>"
      ],
      "text/plain": [
       "        Mean Absolute Error  Root Mean Square Error  R Squared  \\\n",
       "linear            23.956809               48.678319    0.01337   \n",
       "\n",
       "        Adjusted R Squared  \n",
       "linear            0.012036  "
      ]
     },
     "execution_count": 8,
     "metadata": {},
     "output_type": "execute_result"
    }
   ],
   "source": [
    "model_comparison_linear, reg = IFPE_Regression(X_train, y_train, X_test, y_test, regressor='linear', deg=None)\n",
    "model_comparison_linear"
   ]
  },
  {
   "cell_type": "code",
   "execution_count": 9,
   "metadata": {},
   "outputs": [
    {
     "data": {
      "text/html": [
       "<div>\n",
       "<style scoped>\n",
       "    .dataframe tbody tr th:only-of-type {\n",
       "        vertical-align: middle;\n",
       "    }\n",
       "\n",
       "    .dataframe tbody tr th {\n",
       "        vertical-align: top;\n",
       "    }\n",
       "\n",
       "    .dataframe thead th {\n",
       "        text-align: right;\n",
       "    }\n",
       "</style>\n",
       "<table border=\"1\" class=\"dataframe\">\n",
       "  <thead>\n",
       "    <tr style=\"text-align: right;\">\n",
       "      <th></th>\n",
       "      <th>Mean Absolute Error</th>\n",
       "      <th>Root Mean Square Error</th>\n",
       "      <th>R Squared</th>\n",
       "      <th>Adjusted R Squared</th>\n",
       "    </tr>\n",
       "  </thead>\n",
       "  <tbody>\n",
       "    <tr>\n",
       "      <th>ridge</th>\n",
       "      <td>23.955426</td>\n",
       "      <td>48.677943</td>\n",
       "      <td>0.013385</td>\n",
       "      <td>0.012051</td>\n",
       "    </tr>\n",
       "  </tbody>\n",
       "</table>\n",
       "</div>"
      ],
      "text/plain": [
       "       Mean Absolute Error  Root Mean Square Error  R Squared  \\\n",
       "ridge            23.955426               48.677943   0.013385   \n",
       "\n",
       "       Adjusted R Squared  \n",
       "ridge            0.012051  "
      ]
     },
     "execution_count": 9,
     "metadata": {},
     "output_type": "execute_result"
    }
   ],
   "source": [
    "model_comparison_ridge, reg = IFPE_Regression(X_train, y_train, X_test, y_test, regressor='ridge', deg=None)\n",
    "model_comparison_ridge"
   ]
  },
  {
   "cell_type": "code",
   "execution_count": 10,
   "metadata": {},
   "outputs": [
    {
     "data": {
      "text/html": [
       "<div>\n",
       "<style scoped>\n",
       "    .dataframe tbody tr th:only-of-type {\n",
       "        vertical-align: middle;\n",
       "    }\n",
       "\n",
       "    .dataframe tbody tr th {\n",
       "        vertical-align: top;\n",
       "    }\n",
       "\n",
       "    .dataframe thead th {\n",
       "        text-align: right;\n",
       "    }\n",
       "</style>\n",
       "<table border=\"1\" class=\"dataframe\">\n",
       "  <thead>\n",
       "    <tr style=\"text-align: right;\">\n",
       "      <th></th>\n",
       "      <th>Mean Absolute Error</th>\n",
       "      <th>Root Mean Square Error</th>\n",
       "      <th>R Squared</th>\n",
       "      <th>Adjusted R Squared</th>\n",
       "    </tr>\n",
       "  </thead>\n",
       "  <tbody>\n",
       "    <tr>\n",
       "      <th>lasso</th>\n",
       "      <td>24.082465</td>\n",
       "      <td>48.883307</td>\n",
       "      <td>0.005043</td>\n",
       "      <td>0.003698</td>\n",
       "    </tr>\n",
       "  </tbody>\n",
       "</table>\n",
       "</div>"
      ],
      "text/plain": [
       "       Mean Absolute Error  Root Mean Square Error  R Squared  \\\n",
       "lasso            24.082465               48.883307   0.005043   \n",
       "\n",
       "       Adjusted R Squared  \n",
       "lasso            0.003698  "
      ]
     },
     "execution_count": 10,
     "metadata": {},
     "output_type": "execute_result"
    }
   ],
   "source": [
    "model_comparison_lasso, reg = IFPE_Regression(X_train, y_train, X_test, y_test, regressor='lasso', deg=None)\n",
    "model_comparison_lasso"
   ]
  },
  {
   "cell_type": "code",
   "execution_count": 11,
   "metadata": {},
   "outputs": [
    {
     "data": {
      "text/html": [
       "<div>\n",
       "<style scoped>\n",
       "    .dataframe tbody tr th:only-of-type {\n",
       "        vertical-align: middle;\n",
       "    }\n",
       "\n",
       "    .dataframe tbody tr th {\n",
       "        vertical-align: top;\n",
       "    }\n",
       "\n",
       "    .dataframe thead th {\n",
       "        text-align: right;\n",
       "    }\n",
       "</style>\n",
       "<table border=\"1\" class=\"dataframe\">\n",
       "  <thead>\n",
       "    <tr style=\"text-align: right;\">\n",
       "      <th></th>\n",
       "      <th>Mean Absolute Error</th>\n",
       "      <th>Root Mean Square Error</th>\n",
       "      <th>R Squared</th>\n",
       "      <th>Adjusted R Squared</th>\n",
       "    </tr>\n",
       "  </thead>\n",
       "  <tbody>\n",
       "    <tr>\n",
       "      <th>polynomial</th>\n",
       "      <td>1.682346e+09</td>\n",
       "      <td>1.859886e+11</td>\n",
       "      <td>-1.440310e+19</td>\n",
       "      <td>-1.476245e+19</td>\n",
       "    </tr>\n",
       "  </tbody>\n",
       "</table>\n",
       "</div>"
      ],
      "text/plain": [
       "            Mean Absolute Error  Root Mean Square Error     R Squared  \\\n",
       "polynomial         1.682346e+09            1.859886e+11 -1.440310e+19   \n",
       "\n",
       "            Adjusted R Squared  \n",
       "polynomial       -1.476245e+19  "
      ]
     },
     "execution_count": 11,
     "metadata": {},
     "output_type": "execute_result"
    }
   ],
   "source": [
    "model_comparison_poly2,reg = IFPE_Regression(X_train, y_train, X_test, y_test, regressor='polynomial', deg=2)\n",
    "model_comparison_poly2"
   ]
  },
  {
   "cell_type": "code",
   "execution_count": 12,
   "metadata": {},
   "outputs": [],
   "source": [
    "# model_comparison_poly3 = IFPE_Regression(X_train, y_train, X_test, y_test, regressor='polynomial', deg=3)\n",
    "# model_comparison_poly3"
   ]
  },
  {
   "cell_type": "code",
   "execution_count": 13,
   "metadata": {},
   "outputs": [
    {
     "data": {
      "text/html": [
       "<div>\n",
       "<style scoped>\n",
       "    .dataframe tbody tr th:only-of-type {\n",
       "        vertical-align: middle;\n",
       "    }\n",
       "\n",
       "    .dataframe tbody tr th {\n",
       "        vertical-align: top;\n",
       "    }\n",
       "\n",
       "    .dataframe thead th {\n",
       "        text-align: right;\n",
       "    }\n",
       "</style>\n",
       "<table border=\"1\" class=\"dataframe\">\n",
       "  <thead>\n",
       "    <tr style=\"text-align: right;\">\n",
       "      <th></th>\n",
       "      <th>Mean Absolute Error</th>\n",
       "      <th>Root Mean Square Error</th>\n",
       "      <th>R Squared</th>\n",
       "      <th>Adjusted R Squared</th>\n",
       "    </tr>\n",
       "  </thead>\n",
       "  <tbody>\n",
       "    <tr>\n",
       "      <th>sgd</th>\n",
       "      <td>23.919875</td>\n",
       "      <td>48.676221</td>\n",
       "      <td>0.013455</td>\n",
       "      <td>0.012121</td>\n",
       "    </tr>\n",
       "  </tbody>\n",
       "</table>\n",
       "</div>"
      ],
      "text/plain": [
       "     Mean Absolute Error  Root Mean Square Error  R Squared  \\\n",
       "sgd            23.919875               48.676221   0.013455   \n",
       "\n",
       "     Adjusted R Squared  \n",
       "sgd            0.012121  "
      ]
     },
     "execution_count": 13,
     "metadata": {},
     "output_type": "execute_result"
    }
   ],
   "source": [
    "model_comparison_sgd, reg = IFPE_Regression(X_train, y_train, X_test, y_test, regressor='sgd', deg=None)\n",
    "model_comparison_sgd"
   ]
  },
  {
   "cell_type": "code",
   "execution_count": 14,
   "metadata": {},
   "outputs": [],
   "source": [
    "# model_comparison_svm = IFPE_Regression(X_train, y_train, X_test, y_test, regressor='svm', deg=None)\n",
    "# model_comparison_svm"
   ]
  },
  {
   "cell_type": "code",
   "execution_count": 15,
   "metadata": {},
   "outputs": [
    {
     "data": {
      "text/html": [
       "<div>\n",
       "<style scoped>\n",
       "    .dataframe tbody tr th:only-of-type {\n",
       "        vertical-align: middle;\n",
       "    }\n",
       "\n",
       "    .dataframe tbody tr th {\n",
       "        vertical-align: top;\n",
       "    }\n",
       "\n",
       "    .dataframe thead th {\n",
       "        text-align: right;\n",
       "    }\n",
       "</style>\n",
       "<table border=\"1\" class=\"dataframe\">\n",
       "  <thead>\n",
       "    <tr style=\"text-align: right;\">\n",
       "      <th></th>\n",
       "      <th>Mean Absolute Error</th>\n",
       "      <th>Root Mean Square Error</th>\n",
       "      <th>R Squared</th>\n",
       "      <th>Adjusted R Squared</th>\n",
       "    </tr>\n",
       "  </thead>\n",
       "  <tbody>\n",
       "    <tr>\n",
       "      <th>dt</th>\n",
       "      <td>25.1137</td>\n",
       "      <td>50.340876</td>\n",
       "      <td>-0.055176</td>\n",
       "      <td>-0.056602</td>\n",
       "    </tr>\n",
       "  </tbody>\n",
       "</table>\n",
       "</div>"
      ],
      "text/plain": [
       "    Mean Absolute Error  Root Mean Square Error  R Squared  Adjusted R Squared\n",
       "dt              25.1137               50.340876  -0.055176           -0.056602"
      ]
     },
     "execution_count": 15,
     "metadata": {},
     "output_type": "execute_result"
    }
   ],
   "source": [
    "model_comparison_dt, reg = IFPE_Regression(X_train, y_train, X_test, y_test, regressor='dt', deg=None)\n",
    "model_comparison_dt"
   ]
  },
  {
   "cell_type": "code",
   "execution_count": 16,
   "metadata": {},
   "outputs": [
    {
     "data": {
      "text/html": [
       "<div>\n",
       "<style scoped>\n",
       "    .dataframe tbody tr th:only-of-type {\n",
       "        vertical-align: middle;\n",
       "    }\n",
       "\n",
       "    .dataframe tbody tr th {\n",
       "        vertical-align: top;\n",
       "    }\n",
       "\n",
       "    .dataframe thead th {\n",
       "        text-align: right;\n",
       "    }\n",
       "</style>\n",
       "<table border=\"1\" class=\"dataframe\">\n",
       "  <thead>\n",
       "    <tr style=\"text-align: right;\">\n",
       "      <th></th>\n",
       "      <th>Mean Absolute Error</th>\n",
       "      <th>Root Mean Square Error</th>\n",
       "      <th>R Squared</th>\n",
       "      <th>Adjusted R Squared</th>\n",
       "    </tr>\n",
       "  </thead>\n",
       "  <tbody>\n",
       "    <tr>\n",
       "      <th>rf</th>\n",
       "      <td>24.043896</td>\n",
       "      <td>48.785907</td>\n",
       "      <td>0.009004</td>\n",
       "      <td>0.007664</td>\n",
       "    </tr>\n",
       "  </tbody>\n",
       "</table>\n",
       "</div>"
      ],
      "text/plain": [
       "    Mean Absolute Error  Root Mean Square Error  R Squared  Adjusted R Squared\n",
       "rf            24.043896               48.785907   0.009004            0.007664"
      ]
     },
     "execution_count": 16,
     "metadata": {},
     "output_type": "execute_result"
    }
   ],
   "source": [
    "model_comparison_rf, reg = IFPE_Regression(X_train, y_train, X_test, y_test, regressor='rf', deg=None)\n",
    "model_comparison_rf"
   ]
  },
  {
   "cell_type": "code",
   "execution_count": 17,
   "metadata": {},
   "outputs": [
    {
     "data": {
      "text/html": [
       "<div>\n",
       "<style scoped>\n",
       "    .dataframe tbody tr th:only-of-type {\n",
       "        vertical-align: middle;\n",
       "    }\n",
       "\n",
       "    .dataframe tbody tr th {\n",
       "        vertical-align: top;\n",
       "    }\n",
       "\n",
       "    .dataframe thead th {\n",
       "        text-align: right;\n",
       "    }\n",
       "</style>\n",
       "<table border=\"1\" class=\"dataframe\">\n",
       "  <thead>\n",
       "    <tr style=\"text-align: right;\">\n",
       "      <th></th>\n",
       "      <th>Mean Absolute Error</th>\n",
       "      <th>Root Mean Square Error</th>\n",
       "      <th>R Squared</th>\n",
       "      <th>Adjusted R Squared</th>\n",
       "    </tr>\n",
       "  </thead>\n",
       "  <tbody>\n",
       "    <tr>\n",
       "      <th>gb</th>\n",
       "      <td>23.823479</td>\n",
       "      <td>48.591112</td>\n",
       "      <td>0.016902</td>\n",
       "      <td>0.015573</td>\n",
       "    </tr>\n",
       "  </tbody>\n",
       "</table>\n",
       "</div>"
      ],
      "text/plain": [
       "    Mean Absolute Error  Root Mean Square Error  R Squared  Adjusted R Squared\n",
       "gb            23.823479               48.591112   0.016902            0.015573"
      ]
     },
     "execution_count": 17,
     "metadata": {},
     "output_type": "execute_result"
    }
   ],
   "source": [
    "model_comparison_gb, reg_gb = IFPE_Regression(X_train, y_train, X_test, y_test, regressor='gb', deg=None)\n",
    "model_comparison_gb"
   ]
  },
  {
   "cell_type": "code",
   "execution_count": 18,
   "metadata": {},
   "outputs": [],
   "source": [
    "with open(r'..\\..\\data\\v2\\reg_gb_iteration1.pickle','wb') as flight_data_file:\n",
    "     pickle.dump(reg_gb, flight_data_file)"
   ]
  },
  {
   "cell_type": "code",
   "execution_count": 19,
   "metadata": {},
   "outputs": [
    {
     "data": {
      "text/html": [
       "<div>\n",
       "<style scoped>\n",
       "    .dataframe tbody tr th:only-of-type {\n",
       "        vertical-align: middle;\n",
       "    }\n",
       "\n",
       "    .dataframe tbody tr th {\n",
       "        vertical-align: top;\n",
       "    }\n",
       "\n",
       "    .dataframe thead th {\n",
       "        text-align: right;\n",
       "    }\n",
       "</style>\n",
       "<table border=\"1\" class=\"dataframe\">\n",
       "  <thead>\n",
       "    <tr style=\"text-align: right;\">\n",
       "      <th></th>\n",
       "      <th>Mean Absolute Error</th>\n",
       "      <th>Root Mean Square Error</th>\n",
       "      <th>R Squared</th>\n",
       "      <th>Adjusted R Squared</th>\n",
       "    </tr>\n",
       "  </thead>\n",
       "  <tbody>\n",
       "    <tr>\n",
       "      <th>vr</th>\n",
       "      <td>23.941649</td>\n",
       "      <td>48.716293</td>\n",
       "      <td>0.01183</td>\n",
       "      <td>0.010494</td>\n",
       "    </tr>\n",
       "  </tbody>\n",
       "</table>\n",
       "</div>"
      ],
      "text/plain": [
       "    Mean Absolute Error  Root Mean Square Error  R Squared  Adjusted R Squared\n",
       "vr            23.941649               48.716293    0.01183            0.010494"
      ]
     },
     "execution_count": 19,
     "metadata": {},
     "output_type": "execute_result"
    }
   ],
   "source": [
    "model_comparison_vr, reg = IFPE_Regression(X_train, y_train, X_test, y_test, regressor='vr', deg=None)\n",
    "model_comparison_vr"
   ]
  },
  {
   "cell_type": "code",
   "execution_count": 20,
   "metadata": {},
   "outputs": [
    {
     "data": {
      "text/html": [
       "<div>\n",
       "<style scoped>\n",
       "    .dataframe tbody tr th:only-of-type {\n",
       "        vertical-align: middle;\n",
       "    }\n",
       "\n",
       "    .dataframe tbody tr th {\n",
       "        vertical-align: top;\n",
       "    }\n",
       "\n",
       "    .dataframe thead th {\n",
       "        text-align: right;\n",
       "    }\n",
       "</style>\n",
       "<table border=\"1\" class=\"dataframe\">\n",
       "  <thead>\n",
       "    <tr style=\"text-align: right;\">\n",
       "      <th></th>\n",
       "      <th>Mean Absolute Error</th>\n",
       "      <th>Root Mean Square Error</th>\n",
       "      <th>R Squared</th>\n",
       "      <th>Adjusted R Squared</th>\n",
       "    </tr>\n",
       "  </thead>\n",
       "  <tbody>\n",
       "    <tr>\n",
       "      <th>xgb</th>\n",
       "      <td>24.202509</td>\n",
       "      <td>49.054208</td>\n",
       "      <td>-0.001926</td>\n",
       "      <td>-0.003281</td>\n",
       "    </tr>\n",
       "  </tbody>\n",
       "</table>\n",
       "</div>"
      ],
      "text/plain": [
       "     Mean Absolute Error  Root Mean Square Error  R Squared  \\\n",
       "xgb            24.202509               49.054208  -0.001926   \n",
       "\n",
       "     Adjusted R Squared  \n",
       "xgb           -0.003281  "
      ]
     },
     "execution_count": 20,
     "metadata": {},
     "output_type": "execute_result"
    }
   ],
   "source": [
    "model_comparison_xgb, reg = IFPE_Regression(X_train, y_train, X_test, y_test, regressor='xgb', deg=None)\n",
    "model_comparison_xgb"
   ]
  },
  {
   "cell_type": "code",
   "execution_count": 21,
   "metadata": {},
   "outputs": [],
   "source": [
    "import pandas as pd\n",
    "model_comparison = pd.concat([model_comparison_linear,model_comparison_ridge,model_comparison_lasso,model_comparison_dt,model_comparison_rf,model_comparison_gb,model_comparison_vr,model_comparison_xgb])\n"
   ]
  },
  {
   "cell_type": "code",
   "execution_count": 22,
   "metadata": {},
   "outputs": [
    {
     "data": {
      "text/html": [
       "<div>\n",
       "<style scoped>\n",
       "    .dataframe tbody tr th:only-of-type {\n",
       "        vertical-align: middle;\n",
       "    }\n",
       "\n",
       "    .dataframe tbody tr th {\n",
       "        vertical-align: top;\n",
       "    }\n",
       "\n",
       "    .dataframe thead th {\n",
       "        text-align: right;\n",
       "    }\n",
       "</style>\n",
       "<table border=\"1\" class=\"dataframe\">\n",
       "  <thead>\n",
       "    <tr style=\"text-align: right;\">\n",
       "      <th></th>\n",
       "      <th>Mean Absolute Error</th>\n",
       "      <th>Root Mean Square Error</th>\n",
       "      <th>R Squared</th>\n",
       "      <th>Adjusted R Squared</th>\n",
       "    </tr>\n",
       "  </thead>\n",
       "  <tbody>\n",
       "    <tr>\n",
       "      <th>gb</th>\n",
       "      <td>23.823479</td>\n",
       "      <td>48.591112</td>\n",
       "      <td>0.016902</td>\n",
       "      <td>0.015573</td>\n",
       "    </tr>\n",
       "    <tr>\n",
       "      <th>ridge</th>\n",
       "      <td>23.955426</td>\n",
       "      <td>48.677943</td>\n",
       "      <td>0.013385</td>\n",
       "      <td>0.012051</td>\n",
       "    </tr>\n",
       "    <tr>\n",
       "      <th>linear</th>\n",
       "      <td>23.956809</td>\n",
       "      <td>48.678319</td>\n",
       "      <td>0.013370</td>\n",
       "      <td>0.012036</td>\n",
       "    </tr>\n",
       "    <tr>\n",
       "      <th>vr</th>\n",
       "      <td>23.941649</td>\n",
       "      <td>48.716293</td>\n",
       "      <td>0.011830</td>\n",
       "      <td>0.010494</td>\n",
       "    </tr>\n",
       "    <tr>\n",
       "      <th>rf</th>\n",
       "      <td>24.043896</td>\n",
       "      <td>48.785907</td>\n",
       "      <td>0.009004</td>\n",
       "      <td>0.007664</td>\n",
       "    </tr>\n",
       "    <tr>\n",
       "      <th>lasso</th>\n",
       "      <td>24.082465</td>\n",
       "      <td>48.883307</td>\n",
       "      <td>0.005043</td>\n",
       "      <td>0.003698</td>\n",
       "    </tr>\n",
       "    <tr>\n",
       "      <th>xgb</th>\n",
       "      <td>24.202509</td>\n",
       "      <td>49.054208</td>\n",
       "      <td>-0.001926</td>\n",
       "      <td>-0.003281</td>\n",
       "    </tr>\n",
       "    <tr>\n",
       "      <th>dt</th>\n",
       "      <td>25.113700</td>\n",
       "      <td>50.340876</td>\n",
       "      <td>-0.055176</td>\n",
       "      <td>-0.056602</td>\n",
       "    </tr>\n",
       "  </tbody>\n",
       "</table>\n",
       "</div>"
      ],
      "text/plain": [
       "        Mean Absolute Error  Root Mean Square Error  R Squared  \\\n",
       "gb                23.823479               48.591112   0.016902   \n",
       "ridge             23.955426               48.677943   0.013385   \n",
       "linear            23.956809               48.678319   0.013370   \n",
       "vr                23.941649               48.716293   0.011830   \n",
       "rf                24.043896               48.785907   0.009004   \n",
       "lasso             24.082465               48.883307   0.005043   \n",
       "xgb               24.202509               49.054208  -0.001926   \n",
       "dt                25.113700               50.340876  -0.055176   \n",
       "\n",
       "        Adjusted R Squared  \n",
       "gb                0.015573  \n",
       "ridge             0.012051  \n",
       "linear            0.012036  \n",
       "vr                0.010494  \n",
       "rf                0.007664  \n",
       "lasso             0.003698  \n",
       "xgb              -0.003281  \n",
       "dt               -0.056602  "
      ]
     },
     "execution_count": 22,
     "metadata": {},
     "output_type": "execute_result"
    }
   ],
   "source": [
    "model_comparison.sort_values('R Squared', ascending=False)"
   ]
  },
  {
   "cell_type": "code",
   "execution_count": null,
   "metadata": {},
   "outputs": [],
   "source": []
  },
  {
   "cell_type": "markdown",
   "metadata": {},
   "source": [
    "# Iteration 2"
   ]
  },
  {
   "cell_type": "code",
   "execution_count": 1,
   "metadata": {},
   "outputs": [],
   "source": [
    "import pickle\n",
    "\n",
    "with open(r'..\\..\\data\\v2\\df_train_step3_subset2.pickle','rb') as flight_data_file:\n",
    "     df_flights_TRAIN = pickle.load(flight_data_file)"
   ]
  },
  {
   "cell_type": "code",
   "execution_count": 2,
   "metadata": {},
   "outputs": [],
   "source": [
    "import pickle\n",
    "\n",
    "with open(r'..\\..\\data\\v2\\df_test_step3_subset2.pickle','rb') as flight_data_file:\n",
    "     df_flights_TEST = pickle.load(flight_data_file)"
   ]
  },
  {
   "cell_type": "code",
   "execution_count": 3,
   "metadata": {},
   "outputs": [
    {
     "data": {
      "text/plain": [
       "(73395, 36)"
      ]
     },
     "execution_count": 3,
     "metadata": {},
     "output_type": "execute_result"
    }
   ],
   "source": [
    "df_flights_TRAIN.shape"
   ]
  },
  {
   "cell_type": "code",
   "execution_count": 4,
   "metadata": {},
   "outputs": [
    {
     "data": {
      "text/plain": [
       "(24444, 36)"
      ]
     },
     "execution_count": 4,
     "metadata": {},
     "output_type": "execute_result"
    }
   ],
   "source": [
    "df_flights_TEST.shape"
   ]
  },
  {
   "cell_type": "code",
   "execution_count": 5,
   "metadata": {},
   "outputs": [],
   "source": [
    "X_train = df_flights_TRAIN.drop('arr_delay',axis=1).to_numpy()\n",
    "X_test = df_flights_TEST.drop('arr_delay',axis=1).to_numpy()\n",
    "y_train = df_flights_TRAIN['arr_delay'].to_numpy()\n",
    "y_test = df_flights_TEST['arr_delay'].to_numpy()"
   ]
  },
  {
   "cell_type": "code",
   "execution_count": 6,
   "metadata": {},
   "outputs": [
    {
     "name": "stdout",
     "output_type": "stream",
     "text": [
      "(73395, 35)\n",
      "(24444, 35)\n",
      "(73395,)\n",
      "(24444,)\n"
     ]
    }
   ],
   "source": [
    "print(X_train.shape)\n",
    "print(X_test.shape)\n",
    "print(y_train.shape)\n",
    "print(y_test.shape)"
   ]
  },
  {
   "cell_type": "code",
   "execution_count": 9,
   "metadata": {},
   "outputs": [
    {
     "data": {
      "text/html": [
       "<div>\n",
       "<style scoped>\n",
       "    .dataframe tbody tr th:only-of-type {\n",
       "        vertical-align: middle;\n",
       "    }\n",
       "\n",
       "    .dataframe tbody tr th {\n",
       "        vertical-align: top;\n",
       "    }\n",
       "\n",
       "    .dataframe thead th {\n",
       "        text-align: right;\n",
       "    }\n",
       "</style>\n",
       "<table border=\"1\" class=\"dataframe\">\n",
       "  <thead>\n",
       "    <tr style=\"text-align: right;\">\n",
       "      <th></th>\n",
       "      <th>Mean Absolute Error</th>\n",
       "      <th>Root Mean Square Error</th>\n",
       "      <th>R Squared</th>\n",
       "      <th>Adjusted R Squared</th>\n",
       "    </tr>\n",
       "  </thead>\n",
       "  <tbody>\n",
       "    <tr>\n",
       "      <th>linear</th>\n",
       "      <td>23.969509</td>\n",
       "      <td>48.589604</td>\n",
       "      <td>0.016963</td>\n",
       "      <td>0.015553</td>\n",
       "    </tr>\n",
       "  </tbody>\n",
       "</table>\n",
       "</div>"
      ],
      "text/plain": [
       "        Mean Absolute Error  Root Mean Square Error  R Squared  \\\n",
       "linear            23.969509               48.589604   0.016963   \n",
       "\n",
       "        Adjusted R Squared  \n",
       "linear            0.015553  "
      ]
     },
     "execution_count": 9,
     "metadata": {},
     "output_type": "execute_result"
    }
   ],
   "source": [
    "model_comparison_linear, reg = IFPE_Regression(X_train, y_train, X_test, y_test, regressor='linear', deg=None)\n",
    "model_comparison_linear"
   ]
  },
  {
   "cell_type": "code",
   "execution_count": 10,
   "metadata": {},
   "outputs": [
    {
     "data": {
      "text/html": [
       "<div>\n",
       "<style scoped>\n",
       "    .dataframe tbody tr th:only-of-type {\n",
       "        vertical-align: middle;\n",
       "    }\n",
       "\n",
       "    .dataframe tbody tr th {\n",
       "        vertical-align: top;\n",
       "    }\n",
       "\n",
       "    .dataframe thead th {\n",
       "        text-align: right;\n",
       "    }\n",
       "</style>\n",
       "<table border=\"1\" class=\"dataframe\">\n",
       "  <thead>\n",
       "    <tr style=\"text-align: right;\">\n",
       "      <th></th>\n",
       "      <th>Mean Absolute Error</th>\n",
       "      <th>Root Mean Square Error</th>\n",
       "      <th>R Squared</th>\n",
       "      <th>Adjusted R Squared</th>\n",
       "    </tr>\n",
       "  </thead>\n",
       "  <tbody>\n",
       "    <tr>\n",
       "      <th>ridge</th>\n",
       "      <td>23.962125</td>\n",
       "      <td>48.588495</td>\n",
       "      <td>0.017008</td>\n",
       "      <td>0.015598</td>\n",
       "    </tr>\n",
       "  </tbody>\n",
       "</table>\n",
       "</div>"
      ],
      "text/plain": [
       "       Mean Absolute Error  Root Mean Square Error  R Squared  \\\n",
       "ridge            23.962125               48.588495   0.017008   \n",
       "\n",
       "       Adjusted R Squared  \n",
       "ridge            0.015598  "
      ]
     },
     "execution_count": 10,
     "metadata": {},
     "output_type": "execute_result"
    }
   ],
   "source": [
    "model_comparison_ridge, reg = IFPE_Regression(X_train, y_train, X_test, y_test, regressor='ridge', deg=None)\n",
    "model_comparison_ridge"
   ]
  },
  {
   "cell_type": "code",
   "execution_count": 11,
   "metadata": {},
   "outputs": [
    {
     "data": {
      "text/html": [
       "<div>\n",
       "<style scoped>\n",
       "    .dataframe tbody tr th:only-of-type {\n",
       "        vertical-align: middle;\n",
       "    }\n",
       "\n",
       "    .dataframe tbody tr th {\n",
       "        vertical-align: top;\n",
       "    }\n",
       "\n",
       "    .dataframe thead th {\n",
       "        text-align: right;\n",
       "    }\n",
       "</style>\n",
       "<table border=\"1\" class=\"dataframe\">\n",
       "  <thead>\n",
       "    <tr style=\"text-align: right;\">\n",
       "      <th></th>\n",
       "      <th>Mean Absolute Error</th>\n",
       "      <th>Root Mean Square Error</th>\n",
       "      <th>R Squared</th>\n",
       "      <th>Adjusted R Squared</th>\n",
       "    </tr>\n",
       "  </thead>\n",
       "  <tbody>\n",
       "    <tr>\n",
       "      <th>lasso</th>\n",
       "      <td>24.042614</td>\n",
       "      <td>48.782128</td>\n",
       "      <td>0.009157</td>\n",
       "      <td>0.007736</td>\n",
       "    </tr>\n",
       "  </tbody>\n",
       "</table>\n",
       "</div>"
      ],
      "text/plain": [
       "       Mean Absolute Error  Root Mean Square Error  R Squared  \\\n",
       "lasso            24.042614               48.782128   0.009157   \n",
       "\n",
       "       Adjusted R Squared  \n",
       "lasso            0.007736  "
      ]
     },
     "execution_count": 11,
     "metadata": {},
     "output_type": "execute_result"
    }
   ],
   "source": [
    "model_comparison_lasso, reg = IFPE_Regression(X_train, y_train, X_test, y_test, regressor='lasso', deg=None)\n",
    "model_comparison_lasso"
   ]
  },
  {
   "cell_type": "code",
   "execution_count": 12,
   "metadata": {},
   "outputs": [
    {
     "data": {
      "text/html": [
       "<div>\n",
       "<style scoped>\n",
       "    .dataframe tbody tr th:only-of-type {\n",
       "        vertical-align: middle;\n",
       "    }\n",
       "\n",
       "    .dataframe tbody tr th {\n",
       "        vertical-align: top;\n",
       "    }\n",
       "\n",
       "    .dataframe thead th {\n",
       "        text-align: right;\n",
       "    }\n",
       "</style>\n",
       "<table border=\"1\" class=\"dataframe\">\n",
       "  <thead>\n",
       "    <tr style=\"text-align: right;\">\n",
       "      <th></th>\n",
       "      <th>Mean Absolute Error</th>\n",
       "      <th>Root Mean Square Error</th>\n",
       "      <th>R Squared</th>\n",
       "      <th>Adjusted R Squared</th>\n",
       "    </tr>\n",
       "  </thead>\n",
       "  <tbody>\n",
       "    <tr>\n",
       "      <th>polynomial</th>\n",
       "      <td>51417.101124</td>\n",
       "      <td>5.681681e+06</td>\n",
       "      <td>-1.344117e+10</td>\n",
       "      <td>-1.381766e+10</td>\n",
       "    </tr>\n",
       "  </tbody>\n",
       "</table>\n",
       "</div>"
      ],
      "text/plain": [
       "            Mean Absolute Error  Root Mean Square Error     R Squared  \\\n",
       "polynomial         51417.101124            5.681681e+06 -1.344117e+10   \n",
       "\n",
       "            Adjusted R Squared  \n",
       "polynomial       -1.381766e+10  "
      ]
     },
     "execution_count": 12,
     "metadata": {},
     "output_type": "execute_result"
    }
   ],
   "source": [
    "model_comparison_poly2,reg = IFPE_Regression(X_train, y_train, X_test, y_test, regressor='polynomial', deg=2)\n",
    "model_comparison_poly2"
   ]
  },
  {
   "cell_type": "code",
   "execution_count": 13,
   "metadata": {},
   "outputs": [],
   "source": [
    "# model_comparison_poly3 = IFPE_Regression(X_train, y_train, X_test, y_test, regressor='polynomial', deg=3)\n",
    "# model_comparison_poly3"
   ]
  },
  {
   "cell_type": "code",
   "execution_count": 14,
   "metadata": {},
   "outputs": [
    {
     "data": {
      "text/html": [
       "<div>\n",
       "<style scoped>\n",
       "    .dataframe tbody tr th:only-of-type {\n",
       "        vertical-align: middle;\n",
       "    }\n",
       "\n",
       "    .dataframe tbody tr th {\n",
       "        vertical-align: top;\n",
       "    }\n",
       "\n",
       "    .dataframe thead th {\n",
       "        text-align: right;\n",
       "    }\n",
       "</style>\n",
       "<table border=\"1\" class=\"dataframe\">\n",
       "  <thead>\n",
       "    <tr style=\"text-align: right;\">\n",
       "      <th></th>\n",
       "      <th>Mean Absolute Error</th>\n",
       "      <th>Root Mean Square Error</th>\n",
       "      <th>R Squared</th>\n",
       "      <th>Adjusted R Squared</th>\n",
       "    </tr>\n",
       "  </thead>\n",
       "  <tbody>\n",
       "    <tr>\n",
       "      <th>sgd</th>\n",
       "      <td>23.863371</td>\n",
       "      <td>48.616012</td>\n",
       "      <td>0.015894</td>\n",
       "      <td>0.014483</td>\n",
       "    </tr>\n",
       "  </tbody>\n",
       "</table>\n",
       "</div>"
      ],
      "text/plain": [
       "     Mean Absolute Error  Root Mean Square Error  R Squared  \\\n",
       "sgd            23.863371               48.616012   0.015894   \n",
       "\n",
       "     Adjusted R Squared  \n",
       "sgd            0.014483  "
      ]
     },
     "execution_count": 14,
     "metadata": {},
     "output_type": "execute_result"
    }
   ],
   "source": [
    "model_comparison_sgd, reg = IFPE_Regression(X_train, y_train, X_test, y_test, regressor='sgd', deg=None)\n",
    "model_comparison_sgd"
   ]
  },
  {
   "cell_type": "code",
   "execution_count": 15,
   "metadata": {},
   "outputs": [],
   "source": [
    "# model_comparison_svm = IFPE_Regression(X_train, y_train, X_test, y_test, regressor='svm', deg=None)\n",
    "# model_comparison_svm"
   ]
  },
  {
   "cell_type": "code",
   "execution_count": 16,
   "metadata": {},
   "outputs": [
    {
     "data": {
      "text/html": [
       "<div>\n",
       "<style scoped>\n",
       "    .dataframe tbody tr th:only-of-type {\n",
       "        vertical-align: middle;\n",
       "    }\n",
       "\n",
       "    .dataframe tbody tr th {\n",
       "        vertical-align: top;\n",
       "    }\n",
       "\n",
       "    .dataframe thead th {\n",
       "        text-align: right;\n",
       "    }\n",
       "</style>\n",
       "<table border=\"1\" class=\"dataframe\">\n",
       "  <thead>\n",
       "    <tr style=\"text-align: right;\">\n",
       "      <th></th>\n",
       "      <th>Mean Absolute Error</th>\n",
       "      <th>Root Mean Square Error</th>\n",
       "      <th>R Squared</th>\n",
       "      <th>Adjusted R Squared</th>\n",
       "    </tr>\n",
       "  </thead>\n",
       "  <tbody>\n",
       "    <tr>\n",
       "      <th>dt</th>\n",
       "      <td>28.822237</td>\n",
       "      <td>59.917053</td>\n",
       "      <td>-0.494804</td>\n",
       "      <td>-0.496947</td>\n",
       "    </tr>\n",
       "  </tbody>\n",
       "</table>\n",
       "</div>"
      ],
      "text/plain": [
       "    Mean Absolute Error  Root Mean Square Error  R Squared  Adjusted R Squared\n",
       "dt            28.822237               59.917053  -0.494804           -0.496947"
      ]
     },
     "execution_count": 16,
     "metadata": {},
     "output_type": "execute_result"
    }
   ],
   "source": [
    "model_comparison_dt, reg = IFPE_Regression(X_train, y_train, X_test, y_test, regressor='dt', deg=None)\n",
    "model_comparison_dt"
   ]
  },
  {
   "cell_type": "code",
   "execution_count": 17,
   "metadata": {},
   "outputs": [
    {
     "data": {
      "text/html": [
       "<div>\n",
       "<style scoped>\n",
       "    .dataframe tbody tr th:only-of-type {\n",
       "        vertical-align: middle;\n",
       "    }\n",
       "\n",
       "    .dataframe tbody tr th {\n",
       "        vertical-align: top;\n",
       "    }\n",
       "\n",
       "    .dataframe thead th {\n",
       "        text-align: right;\n",
       "    }\n",
       "</style>\n",
       "<table border=\"1\" class=\"dataframe\">\n",
       "  <thead>\n",
       "    <tr style=\"text-align: right;\">\n",
       "      <th></th>\n",
       "      <th>Mean Absolute Error</th>\n",
       "      <th>Root Mean Square Error</th>\n",
       "      <th>R Squared</th>\n",
       "      <th>Adjusted R Squared</th>\n",
       "    </tr>\n",
       "  </thead>\n",
       "  <tbody>\n",
       "    <tr>\n",
       "      <th>rf</th>\n",
       "      <td>24.025411</td>\n",
       "      <td>48.749677</td>\n",
       "      <td>0.010475</td>\n",
       "      <td>0.009056</td>\n",
       "    </tr>\n",
       "  </tbody>\n",
       "</table>\n",
       "</div>"
      ],
      "text/plain": [
       "    Mean Absolute Error  Root Mean Square Error  R Squared  Adjusted R Squared\n",
       "rf            24.025411               48.749677   0.010475            0.009056"
      ]
     },
     "execution_count": 17,
     "metadata": {},
     "output_type": "execute_result"
    }
   ],
   "source": [
    "model_comparison_rf, reg = IFPE_Regression(X_train, y_train, X_test, y_test, regressor='rf', deg=None)\n",
    "model_comparison_rf"
   ]
  },
  {
   "cell_type": "code",
   "execution_count": 18,
   "metadata": {},
   "outputs": [
    {
     "data": {
      "text/html": [
       "<div>\n",
       "<style scoped>\n",
       "    .dataframe tbody tr th:only-of-type {\n",
       "        vertical-align: middle;\n",
       "    }\n",
       "\n",
       "    .dataframe tbody tr th {\n",
       "        vertical-align: top;\n",
       "    }\n",
       "\n",
       "    .dataframe thead th {\n",
       "        text-align: right;\n",
       "    }\n",
       "</style>\n",
       "<table border=\"1\" class=\"dataframe\">\n",
       "  <thead>\n",
       "    <tr style=\"text-align: right;\">\n",
       "      <th></th>\n",
       "      <th>Mean Absolute Error</th>\n",
       "      <th>Root Mean Square Error</th>\n",
       "      <th>R Squared</th>\n",
       "      <th>Adjusted R Squared</th>\n",
       "    </tr>\n",
       "  </thead>\n",
       "  <tbody>\n",
       "    <tr>\n",
       "      <th>gb</th>\n",
       "      <td>23.744873</td>\n",
       "      <td>48.432294</td>\n",
       "      <td>0.023318</td>\n",
       "      <td>0.021917</td>\n",
       "    </tr>\n",
       "  </tbody>\n",
       "</table>\n",
       "</div>"
      ],
      "text/plain": [
       "    Mean Absolute Error  Root Mean Square Error  R Squared  Adjusted R Squared\n",
       "gb            23.744873               48.432294   0.023318            0.021917"
      ]
     },
     "execution_count": 18,
     "metadata": {},
     "output_type": "execute_result"
    }
   ],
   "source": [
    "model_comparison_gb, reg_gb = IFPE_Regression(X_train, y_train, X_test, y_test, regressor='gb', deg=None)\n",
    "model_comparison_gb"
   ]
  },
  {
   "cell_type": "code",
   "execution_count": 19,
   "metadata": {},
   "outputs": [],
   "source": [
    "with open(r'..\\..\\data\\v2\\reg_gb_iteration2.pickle','wb') as flight_data_file:\n",
    "     pickle.dump(reg_gb, flight_data_file)"
   ]
  },
  {
   "cell_type": "code",
   "execution_count": 21,
   "metadata": {},
   "outputs": [
    {
     "data": {
      "text/html": [
       "<div>\n",
       "<style scoped>\n",
       "    .dataframe tbody tr th:only-of-type {\n",
       "        vertical-align: middle;\n",
       "    }\n",
       "\n",
       "    .dataframe tbody tr th {\n",
       "        vertical-align: top;\n",
       "    }\n",
       "\n",
       "    .dataframe thead th {\n",
       "        text-align: right;\n",
       "    }\n",
       "</style>\n",
       "<table border=\"1\" class=\"dataframe\">\n",
       "  <thead>\n",
       "    <tr style=\"text-align: right;\">\n",
       "      <th></th>\n",
       "      <th>Mean Absolute Error</th>\n",
       "      <th>Root Mean Square Error</th>\n",
       "      <th>R Squared</th>\n",
       "      <th>Adjusted R Squared</th>\n",
       "    </tr>\n",
       "  </thead>\n",
       "  <tbody>\n",
       "    <tr>\n",
       "      <th>vr</th>\n",
       "      <td>24.032086</td>\n",
       "      <td>48.740535</td>\n",
       "      <td>0.010846</td>\n",
       "      <td>0.009428</td>\n",
       "    </tr>\n",
       "  </tbody>\n",
       "</table>\n",
       "</div>"
      ],
      "text/plain": [
       "    Mean Absolute Error  Root Mean Square Error  R Squared  Adjusted R Squared\n",
       "vr            24.032086               48.740535   0.010846            0.009428"
      ]
     },
     "execution_count": 21,
     "metadata": {},
     "output_type": "execute_result"
    }
   ],
   "source": [
    "model_comparison_vr, reg = IFPE_Regression(X_train, y_train, X_test, y_test, regressor='vr', deg=None)\n",
    "model_comparison_vr"
   ]
  },
  {
   "cell_type": "code",
   "execution_count": 22,
   "metadata": {},
   "outputs": [
    {
     "data": {
      "text/html": [
       "<div>\n",
       "<style scoped>\n",
       "    .dataframe tbody tr th:only-of-type {\n",
       "        vertical-align: middle;\n",
       "    }\n",
       "\n",
       "    .dataframe tbody tr th {\n",
       "        vertical-align: top;\n",
       "    }\n",
       "\n",
       "    .dataframe thead th {\n",
       "        text-align: right;\n",
       "    }\n",
       "</style>\n",
       "<table border=\"1\" class=\"dataframe\">\n",
       "  <thead>\n",
       "    <tr style=\"text-align: right;\">\n",
       "      <th></th>\n",
       "      <th>Mean Absolute Error</th>\n",
       "      <th>Root Mean Square Error</th>\n",
       "      <th>R Squared</th>\n",
       "      <th>Adjusted R Squared</th>\n",
       "    </tr>\n",
       "  </thead>\n",
       "  <tbody>\n",
       "    <tr>\n",
       "      <th>xgb</th>\n",
       "      <td>24.057127</td>\n",
       "      <td>48.90537</td>\n",
       "      <td>0.004144</td>\n",
       "      <td>0.002716</td>\n",
       "    </tr>\n",
       "  </tbody>\n",
       "</table>\n",
       "</div>"
      ],
      "text/plain": [
       "     Mean Absolute Error  Root Mean Square Error  R Squared  \\\n",
       "xgb            24.057127                48.90537   0.004144   \n",
       "\n",
       "     Adjusted R Squared  \n",
       "xgb            0.002716  "
      ]
     },
     "execution_count": 22,
     "metadata": {},
     "output_type": "execute_result"
    }
   ],
   "source": [
    "model_comparison_xgb, reg = IFPE_Regression(X_train, y_train, X_test, y_test, regressor='xgb', deg=None)\n",
    "model_comparison_xgb"
   ]
  },
  {
   "cell_type": "code",
   "execution_count": 23,
   "metadata": {},
   "outputs": [],
   "source": [
    "import pandas as pd\n",
    "model_comparison = pd.concat([model_comparison_linear,model_comparison_ridge,model_comparison_lasso,model_comparison_dt,model_comparison_rf,model_comparison_gb,model_comparison_vr,model_comparison_xgb])\n"
   ]
  },
  {
   "cell_type": "code",
   "execution_count": 24,
   "metadata": {},
   "outputs": [
    {
     "data": {
      "text/html": [
       "<div>\n",
       "<style scoped>\n",
       "    .dataframe tbody tr th:only-of-type {\n",
       "        vertical-align: middle;\n",
       "    }\n",
       "\n",
       "    .dataframe tbody tr th {\n",
       "        vertical-align: top;\n",
       "    }\n",
       "\n",
       "    .dataframe thead th {\n",
       "        text-align: right;\n",
       "    }\n",
       "</style>\n",
       "<table border=\"1\" class=\"dataframe\">\n",
       "  <thead>\n",
       "    <tr style=\"text-align: right;\">\n",
       "      <th></th>\n",
       "      <th>Mean Absolute Error</th>\n",
       "      <th>Root Mean Square Error</th>\n",
       "      <th>R Squared</th>\n",
       "      <th>Adjusted R Squared</th>\n",
       "    </tr>\n",
       "  </thead>\n",
       "  <tbody>\n",
       "    <tr>\n",
       "      <th>gb</th>\n",
       "      <td>23.744873</td>\n",
       "      <td>48.432294</td>\n",
       "      <td>0.023318</td>\n",
       "      <td>0.021917</td>\n",
       "    </tr>\n",
       "    <tr>\n",
       "      <th>ridge</th>\n",
       "      <td>23.962125</td>\n",
       "      <td>48.588495</td>\n",
       "      <td>0.017008</td>\n",
       "      <td>0.015598</td>\n",
       "    </tr>\n",
       "    <tr>\n",
       "      <th>linear</th>\n",
       "      <td>23.969509</td>\n",
       "      <td>48.589604</td>\n",
       "      <td>0.016963</td>\n",
       "      <td>0.015553</td>\n",
       "    </tr>\n",
       "    <tr>\n",
       "      <th>vr</th>\n",
       "      <td>24.032086</td>\n",
       "      <td>48.740535</td>\n",
       "      <td>0.010846</td>\n",
       "      <td>0.009428</td>\n",
       "    </tr>\n",
       "    <tr>\n",
       "      <th>rf</th>\n",
       "      <td>24.025411</td>\n",
       "      <td>48.749677</td>\n",
       "      <td>0.010475</td>\n",
       "      <td>0.009056</td>\n",
       "    </tr>\n",
       "    <tr>\n",
       "      <th>lasso</th>\n",
       "      <td>24.042614</td>\n",
       "      <td>48.782128</td>\n",
       "      <td>0.009157</td>\n",
       "      <td>0.007736</td>\n",
       "    </tr>\n",
       "    <tr>\n",
       "      <th>xgb</th>\n",
       "      <td>24.057127</td>\n",
       "      <td>48.905370</td>\n",
       "      <td>0.004144</td>\n",
       "      <td>0.002716</td>\n",
       "    </tr>\n",
       "    <tr>\n",
       "      <th>dt</th>\n",
       "      <td>28.822237</td>\n",
       "      <td>59.917053</td>\n",
       "      <td>-0.494804</td>\n",
       "      <td>-0.496947</td>\n",
       "    </tr>\n",
       "  </tbody>\n",
       "</table>\n",
       "</div>"
      ],
      "text/plain": [
       "        Mean Absolute Error  Root Mean Square Error  R Squared  \\\n",
       "gb                23.744873               48.432294   0.023318   \n",
       "ridge             23.962125               48.588495   0.017008   \n",
       "linear            23.969509               48.589604   0.016963   \n",
       "vr                24.032086               48.740535   0.010846   \n",
       "rf                24.025411               48.749677   0.010475   \n",
       "lasso             24.042614               48.782128   0.009157   \n",
       "xgb               24.057127               48.905370   0.004144   \n",
       "dt                28.822237               59.917053  -0.494804   \n",
       "\n",
       "        Adjusted R Squared  \n",
       "gb                0.021917  \n",
       "ridge             0.015598  \n",
       "linear            0.015553  \n",
       "vr                0.009428  \n",
       "rf                0.009056  \n",
       "lasso             0.007736  \n",
       "xgb               0.002716  \n",
       "dt               -0.496947  "
      ]
     },
     "execution_count": 24,
     "metadata": {},
     "output_type": "execute_result"
    }
   ],
   "source": [
    "model_comparison.sort_values('R Squared', ascending=False)"
   ]
  },
  {
   "cell_type": "markdown",
   "metadata": {},
   "source": [
    "# Iteration 3"
   ]
  },
  {
   "cell_type": "code",
   "execution_count": 44,
   "metadata": {},
   "outputs": [],
   "source": [
    "import pickle\n",
    "\n",
    "with open(r'..\\..\\data\\v2\\df_train_step3_subset3.pickle','rb') as flight_data_file:\n",
    "     df_flights_TRAIN = pickle.load(flight_data_file)"
   ]
  },
  {
   "cell_type": "code",
   "execution_count": 45,
   "metadata": {},
   "outputs": [],
   "source": [
    "import pickle\n",
    "\n",
    "with open(r'..\\..\\data\\v2\\df_test_step3_subset3.pickle','rb') as flight_data_file:\n",
    "     df_flights_TEST = pickle.load(flight_data_file)"
   ]
  },
  {
   "cell_type": "code",
   "execution_count": 46,
   "metadata": {},
   "outputs": [
    {
     "data": {
      "text/plain": [
       "(73395, 37)"
      ]
     },
     "execution_count": 46,
     "metadata": {},
     "output_type": "execute_result"
    }
   ],
   "source": [
    "df_flights_TRAIN.shape"
   ]
  },
  {
   "cell_type": "code",
   "execution_count": 47,
   "metadata": {},
   "outputs": [
    {
     "data": {
      "text/plain": [
       "(24444, 37)"
      ]
     },
     "execution_count": 47,
     "metadata": {},
     "output_type": "execute_result"
    }
   ],
   "source": [
    "df_flights_TEST.shape"
   ]
  },
  {
   "cell_type": "code",
   "execution_count": 48,
   "metadata": {},
   "outputs": [],
   "source": [
    "X_train = df_flights_TRAIN.drop('arr_delay',axis=1).to_numpy()\n",
    "X_test = df_flights_TEST.drop('arr_delay',axis=1).to_numpy()\n",
    "y_train = df_flights_TRAIN['arr_delay'].to_numpy()\n",
    "y_test = df_flights_TEST['arr_delay'].to_numpy()"
   ]
  },
  {
   "cell_type": "code",
   "execution_count": 49,
   "metadata": {},
   "outputs": [
    {
     "name": "stdout",
     "output_type": "stream",
     "text": [
      "(73395, 36)\n",
      "(24444, 36)\n",
      "(73395,)\n",
      "(24444,)\n"
     ]
    }
   ],
   "source": [
    "print(X_train.shape)\n",
    "print(X_test.shape)\n",
    "print(y_train.shape)\n",
    "print(y_test.shape)"
   ]
  },
  {
   "cell_type": "code",
   "execution_count": 50,
   "metadata": {},
   "outputs": [
    {
     "data": {
      "text/html": [
       "<div>\n",
       "<style scoped>\n",
       "    .dataframe tbody tr th:only-of-type {\n",
       "        vertical-align: middle;\n",
       "    }\n",
       "\n",
       "    .dataframe tbody tr th {\n",
       "        vertical-align: top;\n",
       "    }\n",
       "\n",
       "    .dataframe thead th {\n",
       "        text-align: right;\n",
       "    }\n",
       "</style>\n",
       "<table border=\"1\" class=\"dataframe\">\n",
       "  <thead>\n",
       "    <tr style=\"text-align: right;\">\n",
       "      <th></th>\n",
       "      <th>Mean Absolute Error</th>\n",
       "      <th>Root Mean Square Error</th>\n",
       "      <th>R Squared</th>\n",
       "      <th>Adjusted R Squared</th>\n",
       "    </tr>\n",
       "  </thead>\n",
       "  <tbody>\n",
       "    <tr>\n",
       "      <th>linear</th>\n",
       "      <td>25.364801</td>\n",
       "      <td>50.333921</td>\n",
       "      <td>-0.054884</td>\n",
       "      <td>-0.05644</td>\n",
       "    </tr>\n",
       "  </tbody>\n",
       "</table>\n",
       "</div>"
      ],
      "text/plain": [
       "        Mean Absolute Error  Root Mean Square Error  R Squared  \\\n",
       "linear            25.364801               50.333921  -0.054884   \n",
       "\n",
       "        Adjusted R Squared  \n",
       "linear            -0.05644  "
      ]
     },
     "execution_count": 50,
     "metadata": {},
     "output_type": "execute_result"
    }
   ],
   "source": [
    "model_comparison_linear, reg = IFPE_Regression(X_train, y_train, X_test, y_test, regressor='linear', deg=None)\n",
    "model_comparison_linear"
   ]
  },
  {
   "cell_type": "code",
   "execution_count": 51,
   "metadata": {},
   "outputs": [
    {
     "data": {
      "text/html": [
       "<div>\n",
       "<style scoped>\n",
       "    .dataframe tbody tr th:only-of-type {\n",
       "        vertical-align: middle;\n",
       "    }\n",
       "\n",
       "    .dataframe tbody tr th {\n",
       "        vertical-align: top;\n",
       "    }\n",
       "\n",
       "    .dataframe thead th {\n",
       "        text-align: right;\n",
       "    }\n",
       "</style>\n",
       "<table border=\"1\" class=\"dataframe\">\n",
       "  <thead>\n",
       "    <tr style=\"text-align: right;\">\n",
       "      <th></th>\n",
       "      <th>Mean Absolute Error</th>\n",
       "      <th>Root Mean Square Error</th>\n",
       "      <th>R Squared</th>\n",
       "      <th>Adjusted R Squared</th>\n",
       "    </tr>\n",
       "  </thead>\n",
       "  <tbody>\n",
       "    <tr>\n",
       "      <th>ridge</th>\n",
       "      <td>25.356243</td>\n",
       "      <td>50.334136</td>\n",
       "      <td>-0.054893</td>\n",
       "      <td>-0.056449</td>\n",
       "    </tr>\n",
       "  </tbody>\n",
       "</table>\n",
       "</div>"
      ],
      "text/plain": [
       "       Mean Absolute Error  Root Mean Square Error  R Squared  \\\n",
       "ridge            25.356243               50.334136  -0.054893   \n",
       "\n",
       "       Adjusted R Squared  \n",
       "ridge           -0.056449  "
      ]
     },
     "execution_count": 51,
     "metadata": {},
     "output_type": "execute_result"
    }
   ],
   "source": [
    "model_comparison_ridge, reg = IFPE_Regression(X_train, y_train, X_test, y_test, regressor='ridge', deg=None)\n",
    "model_comparison_ridge"
   ]
  },
  {
   "cell_type": "code",
   "execution_count": 52,
   "metadata": {},
   "outputs": [
    {
     "data": {
      "text/html": [
       "<div>\n",
       "<style scoped>\n",
       "    .dataframe tbody tr th:only-of-type {\n",
       "        vertical-align: middle;\n",
       "    }\n",
       "\n",
       "    .dataframe tbody tr th {\n",
       "        vertical-align: top;\n",
       "    }\n",
       "\n",
       "    .dataframe thead th {\n",
       "        text-align: right;\n",
       "    }\n",
       "</style>\n",
       "<table border=\"1\" class=\"dataframe\">\n",
       "  <thead>\n",
       "    <tr style=\"text-align: right;\">\n",
       "      <th></th>\n",
       "      <th>Mean Absolute Error</th>\n",
       "      <th>Root Mean Square Error</th>\n",
       "      <th>R Squared</th>\n",
       "      <th>Adjusted R Squared</th>\n",
       "    </tr>\n",
       "  </thead>\n",
       "  <tbody>\n",
       "    <tr>\n",
       "      <th>lasso</th>\n",
       "      <td>25.43727</td>\n",
       "      <td>50.548007</td>\n",
       "      <td>-0.063877</td>\n",
       "      <td>-0.065446</td>\n",
       "    </tr>\n",
       "  </tbody>\n",
       "</table>\n",
       "</div>"
      ],
      "text/plain": [
       "       Mean Absolute Error  Root Mean Square Error  R Squared  \\\n",
       "lasso             25.43727               50.548007  -0.063877   \n",
       "\n",
       "       Adjusted R Squared  \n",
       "lasso           -0.065446  "
      ]
     },
     "execution_count": 52,
     "metadata": {},
     "output_type": "execute_result"
    }
   ],
   "source": [
    "model_comparison_lasso, reg = IFPE_Regression(X_train, y_train, X_test, y_test, regressor='lasso', deg=None)\n",
    "model_comparison_lasso"
   ]
  },
  {
   "cell_type": "code",
   "execution_count": 53,
   "metadata": {},
   "outputs": [
    {
     "data": {
      "text/html": [
       "<div>\n",
       "<style scoped>\n",
       "    .dataframe tbody tr th:only-of-type {\n",
       "        vertical-align: middle;\n",
       "    }\n",
       "\n",
       "    .dataframe tbody tr th {\n",
       "        vertical-align: top;\n",
       "    }\n",
       "\n",
       "    .dataframe thead th {\n",
       "        text-align: right;\n",
       "    }\n",
       "</style>\n",
       "<table border=\"1\" class=\"dataframe\">\n",
       "  <thead>\n",
       "    <tr style=\"text-align: right;\">\n",
       "      <th></th>\n",
       "      <th>Mean Absolute Error</th>\n",
       "      <th>Root Mean Square Error</th>\n",
       "      <th>R Squared</th>\n",
       "      <th>Adjusted R Squared</th>\n",
       "    </tr>\n",
       "  </thead>\n",
       "  <tbody>\n",
       "    <tr>\n",
       "      <th>polynomial</th>\n",
       "      <td>116.546241</td>\n",
       "      <td>10095.907408</td>\n",
       "      <td>-42438.864657</td>\n",
       "      <td>-43695.613808</td>\n",
       "    </tr>\n",
       "  </tbody>\n",
       "</table>\n",
       "</div>"
      ],
      "text/plain": [
       "            Mean Absolute Error  Root Mean Square Error     R Squared  \\\n",
       "polynomial           116.546241            10095.907408 -42438.864657   \n",
       "\n",
       "            Adjusted R Squared  \n",
       "polynomial       -43695.613808  "
      ]
     },
     "execution_count": 53,
     "metadata": {},
     "output_type": "execute_result"
    }
   ],
   "source": [
    "model_comparison_poly2,reg = IFPE_Regression(X_train, y_train, X_test, y_test, regressor='polynomial', deg=2)\n",
    "model_comparison_poly2"
   ]
  },
  {
   "cell_type": "code",
   "execution_count": 54,
   "metadata": {},
   "outputs": [],
   "source": [
    "# model_comparison_poly3 = IFPE_Regression(X_train, y_train, X_test, y_test, regressor='polynomial', deg=3)\n",
    "# model_comparison_poly3"
   ]
  },
  {
   "cell_type": "code",
   "execution_count": 55,
   "metadata": {},
   "outputs": [
    {
     "data": {
      "text/html": [
       "<div>\n",
       "<style scoped>\n",
       "    .dataframe tbody tr th:only-of-type {\n",
       "        vertical-align: middle;\n",
       "    }\n",
       "\n",
       "    .dataframe tbody tr th {\n",
       "        vertical-align: top;\n",
       "    }\n",
       "\n",
       "    .dataframe thead th {\n",
       "        text-align: right;\n",
       "    }\n",
       "</style>\n",
       "<table border=\"1\" class=\"dataframe\">\n",
       "  <thead>\n",
       "    <tr style=\"text-align: right;\">\n",
       "      <th></th>\n",
       "      <th>Mean Absolute Error</th>\n",
       "      <th>Root Mean Square Error</th>\n",
       "      <th>R Squared</th>\n",
       "      <th>Adjusted R Squared</th>\n",
       "    </tr>\n",
       "  </thead>\n",
       "  <tbody>\n",
       "    <tr>\n",
       "      <th>sgd</th>\n",
       "      <td>24.556834</td>\n",
       "      <td>50.703545</td>\n",
       "      <td>-0.070434</td>\n",
       "      <td>-0.072013</td>\n",
       "    </tr>\n",
       "  </tbody>\n",
       "</table>\n",
       "</div>"
      ],
      "text/plain": [
       "     Mean Absolute Error  Root Mean Square Error  R Squared  \\\n",
       "sgd            24.556834               50.703545  -0.070434   \n",
       "\n",
       "     Adjusted R Squared  \n",
       "sgd           -0.072013  "
      ]
     },
     "execution_count": 55,
     "metadata": {},
     "output_type": "execute_result"
    }
   ],
   "source": [
    "model_comparison_sgd, reg = IFPE_Regression(X_train, y_train, X_test, y_test, regressor='sgd', deg=None)\n",
    "model_comparison_sgd"
   ]
  },
  {
   "cell_type": "code",
   "execution_count": 56,
   "metadata": {},
   "outputs": [],
   "source": [
    "# model_comparison_svm = IFPE_Regression(X_train, y_train, X_test, y_test, regressor='svm', deg=None)\n",
    "# model_comparison_svm"
   ]
  },
  {
   "cell_type": "code",
   "execution_count": 57,
   "metadata": {},
   "outputs": [
    {
     "data": {
      "text/html": [
       "<div>\n",
       "<style scoped>\n",
       "    .dataframe tbody tr th:only-of-type {\n",
       "        vertical-align: middle;\n",
       "    }\n",
       "\n",
       "    .dataframe tbody tr th {\n",
       "        vertical-align: top;\n",
       "    }\n",
       "\n",
       "    .dataframe thead th {\n",
       "        text-align: right;\n",
       "    }\n",
       "</style>\n",
       "<table border=\"1\" class=\"dataframe\">\n",
       "  <thead>\n",
       "    <tr style=\"text-align: right;\">\n",
       "      <th></th>\n",
       "      <th>Mean Absolute Error</th>\n",
       "      <th>Root Mean Square Error</th>\n",
       "      <th>R Squared</th>\n",
       "      <th>Adjusted R Squared</th>\n",
       "    </tr>\n",
       "  </thead>\n",
       "  <tbody>\n",
       "    <tr>\n",
       "      <th>dt</th>\n",
       "      <td>34.261506</td>\n",
       "      <td>71.285261</td>\n",
       "      <td>-1.11584</td>\n",
       "      <td>-1.118961</td>\n",
       "    </tr>\n",
       "  </tbody>\n",
       "</table>\n",
       "</div>"
      ],
      "text/plain": [
       "    Mean Absolute Error  Root Mean Square Error  R Squared  Adjusted R Squared\n",
       "dt            34.261506               71.285261   -1.11584           -1.118961"
      ]
     },
     "execution_count": 57,
     "metadata": {},
     "output_type": "execute_result"
    }
   ],
   "source": [
    "model_comparison_dt, reg = IFPE_Regression(X_train, y_train, X_test, y_test, regressor='dt', deg=None)\n",
    "model_comparison_dt"
   ]
  },
  {
   "cell_type": "code",
   "execution_count": 58,
   "metadata": {},
   "outputs": [
    {
     "data": {
      "text/html": [
       "<div>\n",
       "<style scoped>\n",
       "    .dataframe tbody tr th:only-of-type {\n",
       "        vertical-align: middle;\n",
       "    }\n",
       "\n",
       "    .dataframe tbody tr th {\n",
       "        vertical-align: top;\n",
       "    }\n",
       "\n",
       "    .dataframe thead th {\n",
       "        text-align: right;\n",
       "    }\n",
       "</style>\n",
       "<table border=\"1\" class=\"dataframe\">\n",
       "  <thead>\n",
       "    <tr style=\"text-align: right;\">\n",
       "      <th></th>\n",
       "      <th>Mean Absolute Error</th>\n",
       "      <th>Root Mean Square Error</th>\n",
       "      <th>R Squared</th>\n",
       "      <th>Adjusted R Squared</th>\n",
       "    </tr>\n",
       "  </thead>\n",
       "  <tbody>\n",
       "    <tr>\n",
       "      <th>rf</th>\n",
       "      <td>25.152021</td>\n",
       "      <td>50.058089</td>\n",
       "      <td>-0.043354</td>\n",
       "      <td>-0.044893</td>\n",
       "    </tr>\n",
       "  </tbody>\n",
       "</table>\n",
       "</div>"
      ],
      "text/plain": [
       "    Mean Absolute Error  Root Mean Square Error  R Squared  Adjusted R Squared\n",
       "rf            25.152021               50.058089  -0.043354           -0.044893"
      ]
     },
     "execution_count": 58,
     "metadata": {},
     "output_type": "execute_result"
    }
   ],
   "source": [
    "model_comparison_rf, reg = IFPE_Regression(X_train, y_train, X_test, y_test, regressor='rf', deg=None)\n",
    "model_comparison_rf"
   ]
  },
  {
   "cell_type": "code",
   "execution_count": 59,
   "metadata": {},
   "outputs": [
    {
     "data": {
      "text/html": [
       "<div>\n",
       "<style scoped>\n",
       "    .dataframe tbody tr th:only-of-type {\n",
       "        vertical-align: middle;\n",
       "    }\n",
       "\n",
       "    .dataframe tbody tr th {\n",
       "        vertical-align: top;\n",
       "    }\n",
       "\n",
       "    .dataframe thead th {\n",
       "        text-align: right;\n",
       "    }\n",
       "</style>\n",
       "<table border=\"1\" class=\"dataframe\">\n",
       "  <thead>\n",
       "    <tr style=\"text-align: right;\">\n",
       "      <th></th>\n",
       "      <th>Mean Absolute Error</th>\n",
       "      <th>Root Mean Square Error</th>\n",
       "      <th>R Squared</th>\n",
       "      <th>Adjusted R Squared</th>\n",
       "    </tr>\n",
       "  </thead>\n",
       "  <tbody>\n",
       "    <tr>\n",
       "      <th>gb</th>\n",
       "      <td>25.066499</td>\n",
       "      <td>50.313753</td>\n",
       "      <td>-0.054039</td>\n",
       "      <td>-0.055594</td>\n",
       "    </tr>\n",
       "  </tbody>\n",
       "</table>\n",
       "</div>"
      ],
      "text/plain": [
       "    Mean Absolute Error  Root Mean Square Error  R Squared  Adjusted R Squared\n",
       "gb            25.066499               50.313753  -0.054039           -0.055594"
      ]
     },
     "execution_count": 59,
     "metadata": {},
     "output_type": "execute_result"
    }
   ],
   "source": [
    "model_comparison_gb, reg_gb = IFPE_Regression(X_train, y_train, X_test, y_test, regressor='gb', deg=None)\n",
    "model_comparison_gb"
   ]
  },
  {
   "cell_type": "code",
   "execution_count": null,
   "metadata": {},
   "outputs": [],
   "source": [
    "# with open(r'..\\..\\data\\v2\\reg_gb_iteration2.pickle','wb') as flight_data_file:\n",
    "#      pickle.dump(reg_gb, flight_data_file)"
   ]
  },
  {
   "cell_type": "code",
   "execution_count": 60,
   "metadata": {},
   "outputs": [
    {
     "data": {
      "text/html": [
       "<div>\n",
       "<style scoped>\n",
       "    .dataframe tbody tr th:only-of-type {\n",
       "        vertical-align: middle;\n",
       "    }\n",
       "\n",
       "    .dataframe tbody tr th {\n",
       "        vertical-align: top;\n",
       "    }\n",
       "\n",
       "    .dataframe thead th {\n",
       "        text-align: right;\n",
       "    }\n",
       "</style>\n",
       "<table border=\"1\" class=\"dataframe\">\n",
       "  <thead>\n",
       "    <tr style=\"text-align: right;\">\n",
       "      <th></th>\n",
       "      <th>Mean Absolute Error</th>\n",
       "      <th>Root Mean Square Error</th>\n",
       "      <th>R Squared</th>\n",
       "      <th>Adjusted R Squared</th>\n",
       "    </tr>\n",
       "  </thead>\n",
       "  <tbody>\n",
       "    <tr>\n",
       "      <th>vr</th>\n",
       "      <td>25.523122</td>\n",
       "      <td>50.690409</td>\n",
       "      <td>-0.069879</td>\n",
       "      <td>-0.071458</td>\n",
       "    </tr>\n",
       "  </tbody>\n",
       "</table>\n",
       "</div>"
      ],
      "text/plain": [
       "    Mean Absolute Error  Root Mean Square Error  R Squared  Adjusted R Squared\n",
       "vr            25.523122               50.690409  -0.069879           -0.071458"
      ]
     },
     "execution_count": 60,
     "metadata": {},
     "output_type": "execute_result"
    }
   ],
   "source": [
    "model_comparison_vr, reg = IFPE_Regression(X_train, y_train, X_test, y_test, regressor='vr', deg=None)\n",
    "model_comparison_vr"
   ]
  },
  {
   "cell_type": "code",
   "execution_count": 61,
   "metadata": {},
   "outputs": [
    {
     "data": {
      "text/html": [
       "<div>\n",
       "<style scoped>\n",
       "    .dataframe tbody tr th:only-of-type {\n",
       "        vertical-align: middle;\n",
       "    }\n",
       "\n",
       "    .dataframe tbody tr th {\n",
       "        vertical-align: top;\n",
       "    }\n",
       "\n",
       "    .dataframe thead th {\n",
       "        text-align: right;\n",
       "    }\n",
       "</style>\n",
       "<table border=\"1\" class=\"dataframe\">\n",
       "  <thead>\n",
       "    <tr style=\"text-align: right;\">\n",
       "      <th></th>\n",
       "      <th>Mean Absolute Error</th>\n",
       "      <th>Root Mean Square Error</th>\n",
       "      <th>R Squared</th>\n",
       "      <th>Adjusted R Squared</th>\n",
       "    </tr>\n",
       "  </thead>\n",
       "  <tbody>\n",
       "    <tr>\n",
       "      <th>xgb</th>\n",
       "      <td>25.278288</td>\n",
       "      <td>52.106404</td>\n",
       "      <td>-0.130487</td>\n",
       "      <td>-0.132154</td>\n",
       "    </tr>\n",
       "  </tbody>\n",
       "</table>\n",
       "</div>"
      ],
      "text/plain": [
       "     Mean Absolute Error  Root Mean Square Error  R Squared  \\\n",
       "xgb            25.278288               52.106404  -0.130487   \n",
       "\n",
       "     Adjusted R Squared  \n",
       "xgb           -0.132154  "
      ]
     },
     "execution_count": 61,
     "metadata": {},
     "output_type": "execute_result"
    }
   ],
   "source": [
    "model_comparison_xgb, reg = IFPE_Regression(X_train, y_train, X_test, y_test, regressor='xgb', deg=None)\n",
    "model_comparison_xgb"
   ]
  },
  {
   "cell_type": "code",
   "execution_count": 62,
   "metadata": {},
   "outputs": [],
   "source": [
    "import pandas as pd\n",
    "model_comparison = pd.concat([model_comparison_linear,model_comparison_ridge,model_comparison_lasso,model_comparison_dt,model_comparison_rf,model_comparison_gb,model_comparison_vr,model_comparison_xgb])\n"
   ]
  },
  {
   "cell_type": "code",
   "execution_count": 63,
   "metadata": {},
   "outputs": [
    {
     "data": {
      "text/html": [
       "<div>\n",
       "<style scoped>\n",
       "    .dataframe tbody tr th:only-of-type {\n",
       "        vertical-align: middle;\n",
       "    }\n",
       "\n",
       "    .dataframe tbody tr th {\n",
       "        vertical-align: top;\n",
       "    }\n",
       "\n",
       "    .dataframe thead th {\n",
       "        text-align: right;\n",
       "    }\n",
       "</style>\n",
       "<table border=\"1\" class=\"dataframe\">\n",
       "  <thead>\n",
       "    <tr style=\"text-align: right;\">\n",
       "      <th></th>\n",
       "      <th>Mean Absolute Error</th>\n",
       "      <th>Root Mean Square Error</th>\n",
       "      <th>R Squared</th>\n",
       "      <th>Adjusted R Squared</th>\n",
       "    </tr>\n",
       "  </thead>\n",
       "  <tbody>\n",
       "    <tr>\n",
       "      <th>rf</th>\n",
       "      <td>25.152021</td>\n",
       "      <td>50.058089</td>\n",
       "      <td>-0.043354</td>\n",
       "      <td>-0.044893</td>\n",
       "    </tr>\n",
       "    <tr>\n",
       "      <th>gb</th>\n",
       "      <td>25.066499</td>\n",
       "      <td>50.313753</td>\n",
       "      <td>-0.054039</td>\n",
       "      <td>-0.055594</td>\n",
       "    </tr>\n",
       "    <tr>\n",
       "      <th>linear</th>\n",
       "      <td>25.364801</td>\n",
       "      <td>50.333921</td>\n",
       "      <td>-0.054884</td>\n",
       "      <td>-0.056440</td>\n",
       "    </tr>\n",
       "    <tr>\n",
       "      <th>ridge</th>\n",
       "      <td>25.356243</td>\n",
       "      <td>50.334136</td>\n",
       "      <td>-0.054893</td>\n",
       "      <td>-0.056449</td>\n",
       "    </tr>\n",
       "    <tr>\n",
       "      <th>lasso</th>\n",
       "      <td>25.437270</td>\n",
       "      <td>50.548007</td>\n",
       "      <td>-0.063877</td>\n",
       "      <td>-0.065446</td>\n",
       "    </tr>\n",
       "    <tr>\n",
       "      <th>vr</th>\n",
       "      <td>25.523122</td>\n",
       "      <td>50.690409</td>\n",
       "      <td>-0.069879</td>\n",
       "      <td>-0.071458</td>\n",
       "    </tr>\n",
       "    <tr>\n",
       "      <th>xgb</th>\n",
       "      <td>25.278288</td>\n",
       "      <td>52.106404</td>\n",
       "      <td>-0.130487</td>\n",
       "      <td>-0.132154</td>\n",
       "    </tr>\n",
       "    <tr>\n",
       "      <th>dt</th>\n",
       "      <td>34.261506</td>\n",
       "      <td>71.285261</td>\n",
       "      <td>-1.115840</td>\n",
       "      <td>-1.118961</td>\n",
       "    </tr>\n",
       "  </tbody>\n",
       "</table>\n",
       "</div>"
      ],
      "text/plain": [
       "        Mean Absolute Error  Root Mean Square Error  R Squared  \\\n",
       "rf                25.152021               50.058089  -0.043354   \n",
       "gb                25.066499               50.313753  -0.054039   \n",
       "linear            25.364801               50.333921  -0.054884   \n",
       "ridge             25.356243               50.334136  -0.054893   \n",
       "lasso             25.437270               50.548007  -0.063877   \n",
       "vr                25.523122               50.690409  -0.069879   \n",
       "xgb               25.278288               52.106404  -0.130487   \n",
       "dt                34.261506               71.285261  -1.115840   \n",
       "\n",
       "        Adjusted R Squared  \n",
       "rf               -0.044893  \n",
       "gb               -0.055594  \n",
       "linear           -0.056440  \n",
       "ridge            -0.056449  \n",
       "lasso            -0.065446  \n",
       "vr               -0.071458  \n",
       "xgb              -0.132154  \n",
       "dt               -1.118961  "
      ]
     },
     "execution_count": 63,
     "metadata": {},
     "output_type": "execute_result"
    }
   ],
   "source": [
    "model_comparison.sort_values('R Squared', ascending=False)"
   ]
  },
  {
   "cell_type": "code",
   "execution_count": null,
   "metadata": {},
   "outputs": [],
   "source": []
  }
 ],
 "metadata": {
  "kernelspec": {
   "display_name": "Python 3.9.13 64-bit",
   "language": "python",
   "name": "python3"
  },
  "language_info": {
   "codemirror_mode": {
    "name": "ipython",
    "version": 3
   },
   "file_extension": ".py",
   "mimetype": "text/x-python",
   "name": "python",
   "nbconvert_exporter": "python",
   "pygments_lexer": "ipython3",
   "version": "3.9.13"
  },
  "orig_nbformat": 4,
  "vscode": {
   "interpreter": {
    "hash": "11938c6bc6919ae2720b4d5011047913343b08a43b18698fd82dedb0d4417594"
   }
  }
 },
 "nbformat": 4,
 "nbformat_minor": 2
}
