{
 "cells": [
  {
   "cell_type": "code",
   "execution_count": 2,
   "metadata": {},
   "outputs": [],
   "source": [
    "import pandas as pandas\n",
    "import datetime\n",
    "import pickle\n",
    "import os\n",
    "os.chdir('..')"
   ]
  },
  {
   "cell_type": "code",
   "execution_count": null,
   "metadata": {},
   "outputs": [],
   "source": [
    "import pickle\n",
    "with open(r'data/flight_data_500K.pickle','rb') as flight:\n",
    "     df_flight = pickle.load(flight)\n",
    "with open(r'data/weather_dict.pickle','rb') as weather_data_file:\n",
    "     df_weather = pickle.load(weather_data_file)"
   ]
  },
  {
   "cell_type": "code",
   "execution_count": null,
   "metadata": {},
   "outputs": [],
   "source": [
    "df_flight['origin_state'] = df_flight['origin_city_name'].str[-2:]\n",
    "df_flight['dest_state'] = df_flight['dest_city_name'].str[-2:]\n",
    "df_flight.fl_date = pd.to_datetime(df_flight.fl_date)"
   ]
  },
  {
   "cell_type": "code",
   "execution_count": null,
   "metadata": {},
   "outputs": [],
   "source": [
    "t = pd.json_normalize(df_weather).apply(lambda x : x[0]['TCAT'])\n",
    "p = pd.json_normalize(df_weather).apply(lambda x : x[0]['PCAT'])"
   ]
  },
  {
   "cell_type": "code",
   "execution_count": null,
   "metadata": {},
   "outputs": [],
   "source": [
    "t = t.T.reset_index().set_axis(['TCAT' for _ in range(t.shape[1])], axis = 0).T\n",
    "t.columns = [t.columns, t.iloc[0]]\n",
    "t = t[1:]"
   ]
  },
  {
   "cell_type": "code",
   "execution_count": null,
   "metadata": {},
   "outputs": [],
   "source": [
    "p = p.T.reset_index().set_axis(['PCAT' for _ in range(p.shape[1])], axis = 0).T\n",
    "p.columns = [p.columns, p.iloc[0]]\n",
    "p = p[1:]"
   ]
  },
  {
   "cell_type": "code",
   "execution_count": null,
   "metadata": {},
   "outputs": [],
   "source": [
    "t = t.merge(p, left_index=True, right_index=True)\n",
    "a = (df_flight.fl_date.apply(lambda x : (x - datetime.timedelta(weeks = 1)).strftime('%Y%m%d')))\n",
    "c = a[0:1].apply(lambda x : t.iloc[:, t.columns.get_level_values(1)==x])[0].merge(df_flight, left_index = True, right_on='origin_state')\n",
    "c.columns = ['origin_TCAT', 'origin_PCAT'] + c.columns[2:].to_list()"
   ]
  },
  {
   "cell_type": "code",
   "execution_count": null,
   "metadata": {},
   "outputs": [],
   "source": [
    "c = a[0:1].apply(lambda x : t.iloc[:, t.columns.get_level_values(1)==x])[0].merge(c, right_on='dest_state', left_index=True)\n",
    "c.columns = ['dest_TCAT', 'dest_PCAT', 'origin_TCAT', 'origin_PCAT'] + c.columns[4:].to_list()\n",
    "c"
   ]
  },
  {
   "cell_type": "code",
   "execution_count": null,
   "metadata": {},
   "outputs": [],
   "source": [
    "import pickle\n",
    "flight_data_engineered6 = c[['dest_TCAT', 'dest_PCAT', 'origin_TCAT', 'origin_PCAT','arr_delay']]\n",
    "with open(r'data/flight_data_engineered6.pickle','xb') as weather_data_file:\n",
    "     pickle.dump(flight_data_engineered6, weather_data_file)"
   ]
  }
 ],
 "metadata": {
  "kernelspec": {
   "display_name": "Python 3.9.14 64-bit",
   "language": "python",
   "name": "python3"
  },
  "language_info": {
   "codemirror_mode": {
    "name": "ipython",
    "version": 3
   },
   "file_extension": ".py",
   "mimetype": "text/x-python",
   "name": "python",
   "nbconvert_exporter": "python",
   "pygments_lexer": "ipython3",
   "version": "3.9.14"
  },
  "orig_nbformat": 4,
  "vscode": {
   "interpreter": {
    "hash": "397704579725e15f5c7cb49fe5f0341eb7531c82d19f2c29d197e8b64ab5776b"
   }
  }
 },
 "nbformat": 4,
 "nbformat_minor": 2
}
