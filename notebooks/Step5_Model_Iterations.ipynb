{
 "cells": [
  {
   "cell_type": "code",
   "execution_count": 1,
   "metadata": {},
   "outputs": [],
   "source": [
    "import os\n",
    "os.chdir('..')\n",
    "from src.modules import connect_lhl, test_models"
   ]
  },
  {
   "cell_type": "markdown",
   "metadata": {},
   "source": [
    "# Test Iteration"
   ]
  },
  {
   "cell_type": "code",
   "execution_count": 10,
   "metadata": {},
   "outputs": [],
   "source": [
    "import numpy as np\n",
    "import pandas as pd\n",
    "from sklearn.datasets import make_regression"
   ]
  },
  {
   "cell_type": "code",
   "execution_count": 11,
   "metadata": {},
   "outputs": [
    {
     "data": {
      "image/png": "[encoded data removed]",
      "text/plain": [
       "<Figure size 640x480 with 1 Axes>"
      ]
     },
     "metadata": {},
     "output_type": "display_data"
    }
   ],
   "source": [
    "# generate regression dataset\n",
    "X, y = make_regression(n_samples=100, n_features=1, noise=0.1)\n",
    "\n",
    "from matplotlib import pyplot\n",
    "# generate regression dataset\n",
    "X, y = make_regression(n_samples=100, n_features=1, noise=0.1)\n",
    "\n",
    "# plot regression dataset\n",
    "pyplot.scatter(X,y)\n",
    "pyplot.show()"
   ]
  },
  {
   "cell_type": "code",
   "execution_count": 17,
   "metadata": {},
   "outputs": [],
   "source": [
    "test_iteration = test_models.test_models(X, target = y)\n",
    "test_iteration.create_models()\n",
    "test_iteration_output = test_iteration.run_models()"
   ]
  },
  {
   "cell_type": "code",
   "execution_count": 18,
   "metadata": {},
   "outputs": [
    {
     "data": {
      "text/html": [
       "<div>\n",
       "<style scoped>\n",
       "    .dataframe tbody tr th:only-of-type {\n",
       "        vertical-align: middle;\n",
       "    }\n",
       "\n",
       "    .dataframe tbody tr th {\n",
       "        vertical-align: top;\n",
       "    }\n",
       "\n",
       "    .dataframe thead th {\n",
       "        text-align: right;\n",
       "    }\n",
       "</style>\n",
       "<table border=\"1\" class=\"dataframe\">\n",
       "  <thead>\n",
       "    <tr style=\"text-align: right;\">\n",
       "      <th></th>\n",
       "      <th>MAE</th>\n",
       "      <th>RMSE</th>\n",
       "      <th>R2</th>\n",
       "      <th>ADJR2</th>\n",
       "    </tr>\n",
       "  </thead>\n",
       "  <tbody>\n",
       "    <tr>\n",
       "      <th>polynomial</th>\n",
       "      <td>0.073117</td>\n",
       "      <td>0.092189</td>\n",
       "      <td>0.999996</td>\n",
       "      <td>0.999996</td>\n",
       "    </tr>\n",
       "    <tr>\n",
       "      <th>linear</th>\n",
       "      <td>0.073181</td>\n",
       "      <td>0.092283</td>\n",
       "      <td>0.999996</td>\n",
       "      <td>0.999996</td>\n",
       "    </tr>\n",
       "    <tr>\n",
       "      <th>sgd</th>\n",
       "      <td>0.097081</td>\n",
       "      <td>0.125667</td>\n",
       "      <td>0.999993</td>\n",
       "      <td>0.999993</td>\n",
       "    </tr>\n",
       "    <tr>\n",
       "      <th>ridge</th>\n",
       "      <td>0.474960</td>\n",
       "      <td>0.656429</td>\n",
       "      <td>0.999800</td>\n",
       "      <td>0.999800</td>\n",
       "    </tr>\n",
       "    <tr>\n",
       "      <th>lasso</th>\n",
       "      <td>0.797842</td>\n",
       "      <td>1.108301</td>\n",
       "      <td>0.999430</td>\n",
       "      <td>0.999430</td>\n",
       "    </tr>\n",
       "    <tr>\n",
       "      <th>voting_r</th>\n",
       "      <td>1.448854</td>\n",
       "      <td>3.754154</td>\n",
       "      <td>0.993464</td>\n",
       "      <td>0.993464</td>\n",
       "    </tr>\n",
       "    <tr>\n",
       "      <th>d_tree</th>\n",
       "      <td>2.016445</td>\n",
       "      <td>5.253045</td>\n",
       "      <td>0.987203</td>\n",
       "      <td>0.987203</td>\n",
       "    </tr>\n",
       "    <tr>\n",
       "      <th>xgb</th>\n",
       "      <td>2.019125</td>\n",
       "      <td>5.254941</td>\n",
       "      <td>0.987194</td>\n",
       "      <td>0.987194</td>\n",
       "    </tr>\n",
       "    <tr>\n",
       "      <th>g_boost</th>\n",
       "      <td>2.017963</td>\n",
       "      <td>5.257984</td>\n",
       "      <td>0.987179</td>\n",
       "      <td>0.987179</td>\n",
       "    </tr>\n",
       "    <tr>\n",
       "      <th>r_forest</th>\n",
       "      <td>9.868576</td>\n",
       "      <td>15.480390</td>\n",
       "      <td>0.888868</td>\n",
       "      <td>0.888868</td>\n",
       "    </tr>\n",
       "    <tr>\n",
       "      <th>svr</th>\n",
       "      <td>20.312593</td>\n",
       "      <td>39.062570</td>\n",
       "      <td>0.292382</td>\n",
       "      <td>0.292382</td>\n",
       "    </tr>\n",
       "  </tbody>\n",
       "</table>\n",
       "</div>"
      ],
      "text/plain": [
       "                  MAE       RMSE        R2     ADJR2\n",
       "polynomial   0.073117   0.092189  0.999996  0.999996\n",
       "linear       0.073181   0.092283  0.999996  0.999996\n",
       "sgd          0.097081   0.125667  0.999993  0.999993\n",
       "ridge        0.474960   0.656429  0.999800  0.999800\n",
       "lasso        0.797842   1.108301  0.999430  0.999430\n",
       "voting_r     1.448854   3.754154  0.993464  0.993464\n",
       "d_tree       2.016445   5.253045  0.987203  0.987203\n",
       "xgb          2.019125   5.254941  0.987194  0.987194\n",
       "g_boost      2.017963   5.257984  0.987179  0.987179\n",
       "r_forest     9.868576  15.480390  0.888868  0.888868\n",
       "svr         20.312593  39.062570  0.292382  0.292382"
      ]
     },
     "execution_count": 18,
     "metadata": {},
     "output_type": "execute_result"
    }
   ],
   "source": [
    "test_iteration_output.sort_values('R2', ascending = False)"
   ]
  },
  {
   "cell_type": "code",
   "execution_count": null,
   "metadata": {},
   "outputs": [],
   "source": []
  }
 ],
 "metadata": {
  "kernelspec": {
   "display_name": "Python 3.9.13 64-bit",
   "language": "python",
   "name": "python3"
  },
  "language_info": {
   "codemirror_mode": {
    "name": "ipython",
    "version": 3
   },
   "file_extension": ".py",
   "mimetype": "text/x-python",
   "name": "python",
   "nbconvert_exporter": "python",
   "pygments_lexer": "ipython3",
   "version": "3.9.13"
  },
  "orig_nbformat": 4,
  "vscode": {
   "interpreter": {
    "hash": "11938c6bc6919ae2720b4d5011047913343b08a43b18698fd82dedb0d4417594"
   }
  }
 },
 "nbformat": 4,
 "nbformat_minor": 2
}
