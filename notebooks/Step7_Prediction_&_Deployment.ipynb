{
 "cells": [
  {
   "cell_type": "code",
   "execution_count": 5,
   "metadata": {},
   "outputs": [],
   "source": [
    "# import os\n",
    "# os.chdir('..')\n",
    "from src.modules import connect_lhl, test_models"
   ]
  },
  {
   "cell_type": "code",
   "execution_count": 6,
   "metadata": {},
   "outputs": [
    {
     "ename": "DatabaseError",
     "evalue": "Execution failed on sql 'SELECT SETSEED(0); SELECT * FROM flights_test WHERE flights_test.unique_carrier IN (SELECT op_unique_carrier FROM flights) ORDER BY RANDOM() LIMIT 100000;': column flights_test.unique_carrier does not exist\nLINE 1: ...LECT SETSEED(0); SELECT * FROM flights_test WHERE flights_te...\n                                                             ^\nHINT:  Perhaps you meant to reference the column \"flights_test.op_unique_carrier\".\n",
     "output_type": "error",
     "traceback": [
      "\u001b[1;31m---------------------------------------------------------------------------\u001b[0m",
      "\u001b[1;31mUndefinedColumn\u001b[0m                           Traceback (most recent call last)",
      "File \u001b[1;32m~\\AppData\\Roaming\\Python\\Python39\\site-packages\\pandas\\io\\sql.py:2019\u001b[0m, in \u001b[0;36mSQLiteDatabase.execute\u001b[1;34m(self, *args, **kwargs)\u001b[0m\n\u001b[0;32m   2018\u001b[0m \u001b[39mtry\u001b[39;00m:\n\u001b[1;32m-> 2019\u001b[0m     cur\u001b[39m.\u001b[39mexecute(\u001b[39m*\u001b[39margs, \u001b[39m*\u001b[39m\u001b[39m*\u001b[39mkwargs)\n\u001b[0;32m   2020\u001b[0m     \u001b[39mreturn\u001b[39;00m cur\n",
      "\u001b[1;31mUndefinedColumn\u001b[0m: column flights_test.unique_carrier does not exist\nLINE 1: ...LECT SETSEED(0); SELECT * FROM flights_test WHERE flights_te...\n                                                             ^\nHINT:  Perhaps you meant to reference the column \"flights_test.op_unique_carrier\".\n",
      "\nThe above exception was the direct cause of the following exception:\n",
      "\u001b[1;31mDatabaseError\u001b[0m                             Traceback (most recent call last)",
      "Cell \u001b[1;32mIn [6], line 3\u001b[0m\n\u001b[0;32m      1\u001b[0m conn \u001b[39m=\u001b[39m connect_lhl\u001b[39m.\u001b[39mlhl_delay_data(\u001b[39m'\u001b[39m\u001b[39mlhl-data-bootcamp.crzjul5qln0e.ca-central-1.rds.amazonaws.com\u001b[39m\u001b[39m'\u001b[39m,\u001b[39m'\u001b[39m\u001b[39mmid_term_project\u001b[39m\u001b[39m'\u001b[39m,\u001b[39m'\u001b[39m\u001b[39mlhl_student\u001b[39m\u001b[39m'\u001b[39m,\u001b[39m'\u001b[39m\u001b[39mlhl_student\u001b[39m\u001b[39m'\u001b[39m, \u001b[39m0\u001b[39m)\n\u001b[0;32m      2\u001b[0m conn\u001b[39m.\u001b[39mconnection()\n\u001b[1;32m----> 3\u001b[0m df \u001b[39m=\u001b[39m conn\u001b[39m.\u001b[39;49msample_table(\u001b[39m'\u001b[39;49m\u001b[39mflights_test\u001b[39;49m\u001b[39m'\u001b[39;49m, samples\u001b[39m=\u001b[39;49m\u001b[39m'\u001b[39;49m\u001b[39m100000\u001b[39;49m\u001b[39m'\u001b[39;49m)\n",
      "File \u001b[1;32mc:\\Users\\User\\Documents\\projects\\LHL_midterm_flight_delay\\src\\modules\\connect_lhl.py:51\u001b[0m, in \u001b[0;36mlhl_delay_data.sample_table\u001b[1;34m(self, table, samples)\u001b[0m\n\u001b[0;32m     48\u001b[0m     query \u001b[39m+\u001b[39m\u001b[39m=\u001b[39m \u001b[39mf\u001b[39m\u001b[39m'\u001b[39m\u001b[39mWHERE \u001b[39m\u001b[39m{\u001b[39;00mtable\u001b[39m}\u001b[39;00m\u001b[39m.unique_carrier IN (SELECT op_unique_carrier FROM flights) \u001b[39m\u001b[39m'\u001b[39m\n\u001b[0;32m     49\u001b[0m query \u001b[39m+\u001b[39m\u001b[39m=\u001b[39m \u001b[39mf\u001b[39m\u001b[39m'\u001b[39m\u001b[39mORDER BY RANDOM() LIMIT \u001b[39m\u001b[39m{\u001b[39;00msamples\u001b[39m}\u001b[39;00m\u001b[39m;\u001b[39m\u001b[39m'\u001b[39m\n\u001b[1;32m---> 51\u001b[0m df_return \u001b[39m=\u001b[39m sqlio\u001b[39m.\u001b[39;49mread_sql_query(query, \u001b[39mself\u001b[39;49m\u001b[39m.\u001b[39;49mconnection())\n\u001b[0;32m     53\u001b[0m \u001b[39mreturn\u001b[39;00m df_return\n",
      "File \u001b[1;32m~\\AppData\\Roaming\\Python\\Python39\\site-packages\\pandas\\io\\sql.py:398\u001b[0m, in \u001b[0;36mread_sql_query\u001b[1;34m(sql, con, index_col, coerce_float, params, parse_dates, chunksize, dtype)\u001b[0m\n\u001b[0;32m    340\u001b[0m \u001b[39m\"\"\"\u001b[39;00m\n\u001b[0;32m    341\u001b[0m \u001b[39mRead SQL query into a DataFrame.\u001b[39;00m\n\u001b[0;32m    342\u001b[0m \n\u001b[1;32m   (...)\u001b[0m\n\u001b[0;32m    395\u001b[0m \u001b[39mparameter will be converted to UTC.\u001b[39;00m\n\u001b[0;32m    396\u001b[0m \u001b[39m\"\"\"\u001b[39;00m\n\u001b[0;32m    397\u001b[0m pandas_sql \u001b[39m=\u001b[39m pandasSQL_builder(con)\n\u001b[1;32m--> 398\u001b[0m \u001b[39mreturn\u001b[39;00m pandas_sql\u001b[39m.\u001b[39;49mread_query(\n\u001b[0;32m    399\u001b[0m     sql,\n\u001b[0;32m    400\u001b[0m     index_col\u001b[39m=\u001b[39;49mindex_col,\n\u001b[0;32m    401\u001b[0m     params\u001b[39m=\u001b[39;49mparams,\n\u001b[0;32m    402\u001b[0m     coerce_float\u001b[39m=\u001b[39;49mcoerce_float,\n\u001b[0;32m    403\u001b[0m     parse_dates\u001b[39m=\u001b[39;49mparse_dates,\n\u001b[0;32m    404\u001b[0m     chunksize\u001b[39m=\u001b[39;49mchunksize,\n\u001b[0;32m    405\u001b[0m     dtype\u001b[39m=\u001b[39;49mdtype,\n\u001b[0;32m    406\u001b[0m )\n",
      "File \u001b[1;32m~\\AppData\\Roaming\\Python\\Python39\\site-packages\\pandas\\io\\sql.py:2079\u001b[0m, in \u001b[0;36mSQLiteDatabase.read_query\u001b[1;34m(self, sql, index_col, coerce_float, params, parse_dates, chunksize, dtype)\u001b[0m\n\u001b[0;32m   2067\u001b[0m \u001b[39mdef\u001b[39;00m \u001b[39mread_query\u001b[39m(\n\u001b[0;32m   2068\u001b[0m     \u001b[39mself\u001b[39m,\n\u001b[0;32m   2069\u001b[0m     sql,\n\u001b[1;32m   (...)\u001b[0m\n\u001b[0;32m   2075\u001b[0m     dtype: DtypeArg \u001b[39m|\u001b[39m \u001b[39mNone\u001b[39;00m \u001b[39m=\u001b[39m \u001b[39mNone\u001b[39;00m,\n\u001b[0;32m   2076\u001b[0m ) \u001b[39m-\u001b[39m\u001b[39m>\u001b[39m DataFrame \u001b[39m|\u001b[39m Iterator[DataFrame]:\n\u001b[0;32m   2078\u001b[0m     args \u001b[39m=\u001b[39m _convert_params(sql, params)\n\u001b[1;32m-> 2079\u001b[0m     cursor \u001b[39m=\u001b[39m \u001b[39mself\u001b[39;49m\u001b[39m.\u001b[39;49mexecute(\u001b[39m*\u001b[39;49margs)\n\u001b[0;32m   2080\u001b[0m     columns \u001b[39m=\u001b[39m [col_desc[\u001b[39m0\u001b[39m] \u001b[39mfor\u001b[39;00m col_desc \u001b[39min\u001b[39;00m cursor\u001b[39m.\u001b[39mdescription]\n\u001b[0;32m   2082\u001b[0m     \u001b[39mif\u001b[39;00m chunksize \u001b[39mis\u001b[39;00m \u001b[39mnot\u001b[39;00m \u001b[39mNone\u001b[39;00m:\n",
      "File \u001b[1;32m~\\AppData\\Roaming\\Python\\Python39\\site-packages\\pandas\\io\\sql.py:2031\u001b[0m, in \u001b[0;36mSQLiteDatabase.execute\u001b[1;34m(self, *args, **kwargs)\u001b[0m\n\u001b[0;32m   2028\u001b[0m     \u001b[39mraise\u001b[39;00m ex \u001b[39mfrom\u001b[39;00m \u001b[39minner_exc\u001b[39;00m\n\u001b[0;32m   2030\u001b[0m ex \u001b[39m=\u001b[39m DatabaseError(\u001b[39mf\u001b[39m\u001b[39m\"\u001b[39m\u001b[39mExecution failed on sql \u001b[39m\u001b[39m'\u001b[39m\u001b[39m{\u001b[39;00margs[\u001b[39m0\u001b[39m]\u001b[39m}\u001b[39;00m\u001b[39m'\u001b[39m\u001b[39m: \u001b[39m\u001b[39m{\u001b[39;00mexc\u001b[39m}\u001b[39;00m\u001b[39m\"\u001b[39m)\n\u001b[1;32m-> 2031\u001b[0m \u001b[39mraise\u001b[39;00m ex \u001b[39mfrom\u001b[39;00m \u001b[39mexc\u001b[39;00m\n",
      "\u001b[1;31mDatabaseError\u001b[0m: Execution failed on sql 'SELECT SETSEED(0); SELECT * FROM flights_test WHERE flights_test.unique_carrier IN (SELECT op_unique_carrier FROM flights) ORDER BY RANDOM() LIMIT 100000;': column flights_test.unique_carrier does not exist\nLINE 1: ...LECT SETSEED(0); SELECT * FROM flights_test WHERE flights_te...\n                                                             ^\nHINT:  Perhaps you meant to reference the column \"flights_test.op_unique_carrier\".\n"
     ]
    }
   ],
   "source": [
    "conn = connect_lhl.lhl_delay_data('lhl-data-bootcamp.crzjul5qln0e.ca-central-1.rds.amazonaws.com','mid_term_project','lhl_student','lhl_student', 0)\n",
    "conn.connection()\n",
    "df = conn.sample_table('flights_test', samples='100000')"
   ]
  },
  {
   "cell_type": "code",
   "execution_count": null,
   "metadata": {},
   "outputs": [],
   "source": []
  }
 ],
 "metadata": {
  "kernelspec": {
   "display_name": "Python 3.9.13 64-bit",
   "language": "python",
   "name": "python3"
  },
  "language_info": {
   "codemirror_mode": {
    "name": "ipython",
    "version": 3
   },
   "file_extension": ".py",
   "mimetype": "text/x-python",
   "name": "python",
   "nbconvert_exporter": "python",
   "pygments_lexer": "ipython3",
   "version": "3.9.13"
  },
  "orig_nbformat": 4,
  "vscode": {
   "interpreter": {
    "hash": "11938c6bc6919ae2720b4d5011047913343b08a43b18698fd82dedb0d4417594"
   }
  }
 },
 "nbformat": 4,
 "nbformat_minor": 2
}
