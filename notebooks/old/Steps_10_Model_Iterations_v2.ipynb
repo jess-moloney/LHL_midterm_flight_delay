{
 "cells": [
  {
   "cell_type": "code",
   "execution_count": 1,
   "metadata": {},
   "outputs": [],
   "source": [
    "def IFPE_Regression(X_train, y_train, X_test, y_test, regressor, deg=None):\n",
    "    \n",
    "    ### INSTANTIATE THE MODEL\n",
    "\n",
    "    ## LINEAR MODELS\n",
    "\n",
    "    # ordinary least squares\n",
    "    if regressor == 'linear':\n",
    "        from sklearn.linear_model import LinearRegression\n",
    "        reg = LinearRegression()\n",
    "    \n",
    "    # ridge regression\n",
    "    elif regressor == 'ridge':\n",
    "        from sklearn.linear_model import Ridge\n",
    "        reg = Ridge(random_state=0)\n",
    "\n",
    "    # lasso regression\n",
    "    elif regressor == 'lasso':\n",
    "        from sklearn.linear_model import Lasso\n",
    "        reg = Lasso(random_state=0)\n",
    "\n",
    "    # polynomial linear regression - need to add polynomial features first\n",
    "    # https://www.geeksforgeeks.org/python-implementation-of-polynomial-regression/\n",
    "    # https://scikit-learn.org/stable/modules/linear_model.html#polynomial-regression-extending-linear-models-with-basis-functions\n",
    "    elif regressor == 'polynomial':\n",
    "        from sklearn.linear_model import LinearRegression\n",
    "        from sklearn.preprocessing import PolynomialFeatures\n",
    "        poly = PolynomialFeatures(degree = deg)\n",
    "        X_poly_train = poly.fit_transform(X_train)\n",
    "        X_poly_test = poly.fit_transform(X_test)\n",
    "        X_train = X_poly_train\n",
    "        X_test = X_poly_test\n",
    "\n",
    "        # poly.fit(X_poly, y_train)\n",
    "        reg = LinearRegression()\n",
    "\n",
    "    # stochastic gradient descent\n",
    "    elif regressor == 'sgd':\n",
    "        from sklearn.linear_model import SGDRegressor\n",
    "        reg = SGDRegressor(random_state=0)\n",
    "    \n",
    "    ## SUPPORT VECTOR MACHINES\n",
    "\n",
    "    # SVM regression https://scikit-learn.org/stable/modules/svm.html#regression\n",
    "    elif regressor == 'svm':\n",
    "        from sklearn import svm\n",
    "        reg = svm.SVR()\n",
    "\n",
    "    ## DECISION TREES\n",
    "\n",
    "    # decision tree\n",
    "    elif regressor == 'dt':\n",
    "        from sklearn import tree\n",
    "        reg = tree.DecisionTreeRegressor(random_state=0)\n",
    "\n",
    "    ## ENSEMBLE METHODS\n",
    "\n",
    "    # random forest\n",
    "    elif regressor =='rf':\n",
    "        from sklearn.ensemble import RandomForestRegressor\n",
    "        reg = RandomForestRegressor(max_depth=2, random_state=0)\n",
    "\n",
    "    # gradient boost\n",
    "    elif regressor =='gb':\n",
    "        from sklearn.ensemble import GradientBoostingRegressor\n",
    "        reg = GradientBoostingRegressor(random_state=0)\n",
    "\n",
    "    # voting regressor\n",
    "    elif regressor =='vr':\n",
    "        from sklearn.ensemble import GradientBoostingRegressor\n",
    "        from sklearn.ensemble import RandomForestRegressor\n",
    "        from sklearn.linear_model import LinearRegression\n",
    "        from sklearn.ensemble import VotingRegressor\n",
    "        reg1 = GradientBoostingRegressor(random_state=1)\n",
    "        reg2 = RandomForestRegressor(random_state=1)\n",
    "        reg3 = LinearRegression()\n",
    "        reg = VotingRegressor(estimators=[('gb', reg1), ('rf', reg2), ('lr', reg3)])\n",
    "\n",
    "    # xgboost\n",
    "    elif regressor == 'xgb':\n",
    "        import xgboost as xgb\n",
    "        reg = xgb.XGBRegressor(objective ='reg:squarederror', random_state=0)\n",
    "\n",
    "\n",
    "\n",
    "    ### FIT THE MODEL\n",
    "\n",
    "    reg.fit(X_train, y_train)\n",
    "\n",
    "\n",
    "\n",
    "\n",
    "    ### PREDICT THE RESPONSE FOR THE TEST DATASET\n",
    "\n",
    "    y_pred = reg.predict(X_test)\n",
    "\n",
    "\n",
    "\n",
    "\n",
    "    ### EVALUATE THE MODEL\n",
    "\n",
    "    # Mean Absolute Error\n",
    "    from sklearn.metrics import mean_absolute_error\n",
    "    MAE = mean_absolute_error(y_test, y_pred)\n",
    "\n",
    "    # Root Mean Square Error\n",
    "    from sklearn.metrics import mean_squared_error\n",
    "    RMSE = mean_squared_error(y_test, y_pred, squared=False)\n",
    "\n",
    "    # r2\n",
    "    from sklearn.metrics import r2_score\n",
    "    r2 = r2_score(y_test, y_pred)\n",
    "\n",
    "    # Adjusted r2\n",
    "    n = len(X_test)\n",
    "    p = len(X_test[0,:])\n",
    "\n",
    "    Adj_r2 = 1-(1-r2)*(n-1)/(n-p-1)\n",
    "\n",
    "    ### COMPARE MODELS\n",
    "    \n",
    "    import pandas as pd\n",
    "    model_comparison = pd.DataFrame({\n",
    "        'Mean Absolute Error': MAE,\n",
    "        'Root Mean Square Error': RMSE,\n",
    "        'R Squared': r2,\n",
    "        'Adjusted R Squared': Adj_r2\n",
    "    }, index  = [str(regressor)])\n",
    "    \n",
    "    return model_comparison"
   ]
  },
  {
   "cell_type": "code",
   "execution_count": 2,
   "metadata": {},
   "outputs": [],
   "source": [
    "import pandas as pd\n",
    "import numpy as np\n",
    "import seaborn as sns\n",
    "from matplotlib import pyplot as plt\n",
    "sns.set() # Setting seaborn as default style even if use only matplotlib\n",
    "pd.set_option('display.max_rows', None)"
   ]
  },
  {
   "cell_type": "markdown",
   "metadata": {},
   "source": [
    "# Test"
   ]
  },
  {
   "cell_type": "code",
   "execution_count": 3,
   "metadata": {},
   "outputs": [],
   "source": [
    "import numpy as np\n",
    "import pandas as pd\n",
    "from sklearn.datasets import make_regression"
   ]
  },
  {
   "cell_type": "code",
   "execution_count": 4,
   "metadata": {},
   "outputs": [
    {
     "data": {
      "image/png": "[encoded data removed]",
      "text/plain": [
       "<Figure size 640x480 with 1 Axes>"
      ]
     },
     "metadata": {},
     "output_type": "display_data"
    }
   ],
   "source": [
    "# generate regression dataset\n",
    "X, y = make_regression(n_samples=100, n_features=1, noise=0.1)\n",
    "\n",
    "from matplotlib import pyplot\n",
    "# generate regression dataset\n",
    "X, y = make_regression(n_samples=100, n_features=1, noise=0.1)\n",
    "# plot regression dataset\n",
    "pyplot.scatter(X,y)\n",
    "pyplot.show()\n"
   ]
  },
  {
   "cell_type": "code",
   "execution_count": 5,
   "metadata": {},
   "outputs": [],
   "source": [
    "def split_data(data, target=None, percent_test=0.3, dtype='array'):\n",
    "    # Import train_test_split function\n",
    "    from sklearn.model_selection import train_test_split\n",
    "\n",
    "    # Split dataset into training set and test set\n",
    "    if dtype == 'array':      \n",
    "        X_train, X_test, y_train, y_test = train_test_split(data, target, test_size=percent_test,random_state=10)\n",
    "    \n",
    "        print(f'X_train shape: {X_train.shape}')\n",
    "        print(f'X_test shape: {X_test.shape}')\n",
    "        print(f'y_train shape: {y_train.shape}')\n",
    "        print(f'y_test shape: {y_test.shape}')\n",
    "    \n",
    "        return X_train, X_test, y_train, y_test\n",
    "    \n",
    "    if dtype == 'df':\n",
    "        df_train, df_test = train_test_split(data, test_size=percent_test,random_state=10)\n",
    "\n",
    "        print(f'df_train shape: {df_train.shape}')\n",
    "        print(f'df_test shape: {df_test.shape}')\n",
    "    \n",
    "        return df_train, df_test"
   ]
  },
  {
   "cell_type": "code",
   "execution_count": 6,
   "metadata": {},
   "outputs": [
    {
     "name": "stdout",
     "output_type": "stream",
     "text": [
      "X_train shape: (70, 1)\n",
      "X_test shape: (30, 1)\n",
      "y_train shape: (70,)\n",
      "y_test shape: (30,)\n"
     ]
    }
   ],
   "source": [
    "X_train, X_test, y_train, y_test = split_data(data=X, target=y)"
   ]
  },
  {
   "cell_type": "code",
   "execution_count": 7,
   "metadata": {},
   "outputs": [],
   "source": [
    "from sklearn.preprocessing import StandardScaler\n",
    "\n",
    "scaler = StandardScaler()"
   ]
  },
  {
   "cell_type": "code",
   "execution_count": 8,
   "metadata": {},
   "outputs": [
    {
     "data": {
      "text/html": [
       "<style>#sk-container-id-1 {color: black;background-color: white;}#sk-container-id-1 pre{padding: 0;}#sk-container-id-1 div.sk-toggleable {background-color: white;}#sk-container-id-1 label.sk-toggleable__label {cursor: pointer;display: block;width: 100%;margin-bottom: 0;padding: 0.3em;box-sizing: border-box;text-align: center;}#sk-container-id-1 label.sk-toggleable__label-arrow:before {content: \"▸\";float: left;margin-right: 0.25em;color: #696969;}#sk-container-id-1 label.sk-toggleable__label-arrow:hover:before {color: black;}#sk-container-id-1 div.sk-estimator:hover label.sk-toggleable__label-arrow:before {color: black;}#sk-container-id-1 div.sk-toggleable__content {max-height: 0;max-width: 0;overflow: hidden;text-align: left;background-color: #f0f8ff;}#sk-container-id-1 div.sk-toggleable__content pre {margin: 0.2em;color: black;border-radius: 0.25em;background-color: #f0f8ff;}#sk-container-id-1 input.sk-toggleable__control:checked~div.sk-toggleable__content {max-height: 200px;max-width: 100%;overflow: auto;}#sk-container-id-1 input.sk-toggleable__control:checked~label.sk-toggleable__label-arrow:before {content: \"▾\";}#sk-container-id-1 div.sk-estimator input.sk-toggleable__control:checked~label.sk-toggleable__label {background-color: #d4ebff;}#sk-container-id-1 div.sk-label input.sk-toggleable__control:checked~label.sk-toggleable__label {background-color: #d4ebff;}#sk-container-id-1 input.sk-hidden--visually {border: 0;clip: rect(1px 1px 1px 1px);clip: rect(1px, 1px, 1px, 1px);height: 1px;margin: -1px;overflow: hidden;padding: 0;position: absolute;width: 1px;}#sk-container-id-1 div.sk-estimator {font-family: monospace;background-color: #f0f8ff;border: 1px dotted black;border-radius: 0.25em;box-sizing: border-box;margin-bottom: 0.5em;}#sk-container-id-1 div.sk-estimator:hover {background-color: #d4ebff;}#sk-container-id-1 div.sk-parallel-item::after {content: \"\";width: 100%;border-bottom: 1px solid gray;flex-grow: 1;}#sk-container-id-1 div.sk-label:hover label.sk-toggleable__label {background-color: #d4ebff;}#sk-container-id-1 div.sk-serial::before {content: \"\";position: absolute;border-left: 1px solid gray;box-sizing: border-box;top: 0;bottom: 0;left: 50%;z-index: 0;}#sk-container-id-1 div.sk-serial {display: flex;flex-direction: column;align-items: center;background-color: white;padding-right: 0.2em;padding-left: 0.2em;position: relative;}#sk-container-id-1 div.sk-item {position: relative;z-index: 1;}#sk-container-id-1 div.sk-parallel {display: flex;align-items: stretch;justify-content: center;background-color: white;position: relative;}#sk-container-id-1 div.sk-item::before, #sk-container-id-1 div.sk-parallel-item::before {content: \"\";position: absolute;border-left: 1px solid gray;box-sizing: border-box;top: 0;bottom: 0;left: 50%;z-index: -1;}#sk-container-id-1 div.sk-parallel-item {display: flex;flex-direction: column;z-index: 1;position: relative;background-color: white;}#sk-container-id-1 div.sk-parallel-item:first-child::after {align-self: flex-end;width: 50%;}#sk-container-id-1 div.sk-parallel-item:last-child::after {align-self: flex-start;width: 50%;}#sk-container-id-1 div.sk-parallel-item:only-child::after {width: 0;}#sk-container-id-1 div.sk-dashed-wrapped {border: 1px dashed gray;margin: 0 0.4em 0.5em 0.4em;box-sizing: border-box;padding-bottom: 0.4em;background-color: white;}#sk-container-id-1 div.sk-label label {font-family: monospace;font-weight: bold;display: inline-block;line-height: 1.2em;}#sk-container-id-1 div.sk-label-container {text-align: center;}#sk-container-id-1 div.sk-container {/* jupyter's `normalize.less` sets `[hidden] { display: none; }` but bootstrap.min.css set `[hidden] { display: none !important; }` so we also need the `!important` here to be able to override the default hidden behavior on the sphinx rendered scikit-learn.org. See: https://github.com/scikit-learn/scikit-learn/issues/21755 */display: inline-block !important;position: relative;}#sk-container-id-1 div.sk-text-repr-fallback {display: none;}</style><div id=\"sk-container-id-1\" class=\"sk-top-container\"><div class=\"sk-text-repr-fallback\"><pre>StandardScaler()</pre><b>In a Jupyter environment, please rerun this cell to show the HTML representation or trust the notebook. <br />On GitHub, the HTML representation is unable to render, please try loading this page with nbviewer.org.</b></div><div class=\"sk-container\" hidden><div class=\"sk-item\"><div class=\"sk-estimator sk-toggleable\"><input class=\"sk-toggleable__control sk-hidden--visually\" id=\"sk-estimator-id-1\" type=\"checkbox\" checked><label for=\"sk-estimator-id-1\" class=\"sk-toggleable__label sk-toggleable__label-arrow\">StandardScaler</label><div class=\"sk-toggleable__content\"><pre>StandardScaler()</pre></div></div></div></div></div>"
      ],
      "text/plain": [
       "StandardScaler()"
      ]
     },
     "execution_count": 8,
     "metadata": {},
     "output_type": "execute_result"
    }
   ],
   "source": [
    "scaler.fit(X_train)"
   ]
  },
  {
   "cell_type": "code",
   "execution_count": 9,
   "metadata": {},
   "outputs": [],
   "source": [
    "X_train_scaled = scaler.transform(X_train)\n",
    "X_test_scaled = scaler.transform(X_test)"
   ]
  },
  {
   "cell_type": "code",
   "execution_count": 10,
   "metadata": {},
   "outputs": [
    {
     "data": {
      "text/html": [
       "<div>\n",
       "<style scoped>\n",
       "    .dataframe tbody tr th:only-of-type {\n",
       "        vertical-align: middle;\n",
       "    }\n",
       "\n",
       "    .dataframe tbody tr th {\n",
       "        vertical-align: top;\n",
       "    }\n",
       "\n",
       "    .dataframe thead th {\n",
       "        text-align: right;\n",
       "    }\n",
       "</style>\n",
       "<table border=\"1\" class=\"dataframe\">\n",
       "  <thead>\n",
       "    <tr style=\"text-align: right;\">\n",
       "      <th></th>\n",
       "      <th>Mean Absolute Error</th>\n",
       "      <th>Root Mean Square Error</th>\n",
       "      <th>R Squared</th>\n",
       "      <th>Adjusted R Squared</th>\n",
       "    </tr>\n",
       "  </thead>\n",
       "  <tbody>\n",
       "    <tr>\n",
       "      <th>linear</th>\n",
       "      <td>0.094181</td>\n",
       "      <td>0.124682</td>\n",
       "      <td>0.999931</td>\n",
       "      <td>0.999928</td>\n",
       "    </tr>\n",
       "  </tbody>\n",
       "</table>\n",
       "</div>"
      ],
      "text/plain": [
       "        Mean Absolute Error  Root Mean Square Error  R Squared  \\\n",
       "linear             0.094181                0.124682   0.999931   \n",
       "\n",
       "        Adjusted R Squared  \n",
       "linear            0.999928  "
      ]
     },
     "execution_count": 10,
     "metadata": {},
     "output_type": "execute_result"
    }
   ],
   "source": [
    "model_comparison_linear = IFPE_Regression(X_train_scaled, y_train, X_test_scaled, y_test, regressor='linear', deg=None)\n",
    "model_comparison_linear"
   ]
  },
  {
   "cell_type": "code",
   "execution_count": 11,
   "metadata": {},
   "outputs": [
    {
     "data": {
      "text/html": [
       "<div>\n",
       "<style scoped>\n",
       "    .dataframe tbody tr th:only-of-type {\n",
       "        vertical-align: middle;\n",
       "    }\n",
       "\n",
       "    .dataframe tbody tr th {\n",
       "        vertical-align: top;\n",
       "    }\n",
       "\n",
       "    .dataframe thead th {\n",
       "        text-align: right;\n",
       "    }\n",
       "</style>\n",
       "<table border=\"1\" class=\"dataframe\">\n",
       "  <thead>\n",
       "    <tr style=\"text-align: right;\">\n",
       "      <th></th>\n",
       "      <th>Mean Absolute Error</th>\n",
       "      <th>Root Mean Square Error</th>\n",
       "      <th>R Squared</th>\n",
       "      <th>Adjusted R Squared</th>\n",
       "    </tr>\n",
       "  </thead>\n",
       "  <tbody>\n",
       "    <tr>\n",
       "      <th>ridge</th>\n",
       "      <td>0.170627</td>\n",
       "      <td>0.235372</td>\n",
       "      <td>0.999754</td>\n",
       "      <td>0.999745</td>\n",
       "    </tr>\n",
       "  </tbody>\n",
       "</table>\n",
       "</div>"
      ],
      "text/plain": [
       "       Mean Absolute Error  Root Mean Square Error  R Squared  \\\n",
       "ridge             0.170627                0.235372   0.999754   \n",
       "\n",
       "       Adjusted R Squared  \n",
       "ridge            0.999745  "
      ]
     },
     "execution_count": 11,
     "metadata": {},
     "output_type": "execute_result"
    }
   ],
   "source": [
    "\n",
    "model_comparison_ridge = IFPE_Regression(X_train_scaled, y_train, X_test_scaled, y_test, regressor='ridge', deg=None)\n",
    "model_comparison_ridge"
   ]
  },
  {
   "cell_type": "code",
   "execution_count": 12,
   "metadata": {},
   "outputs": [
    {
     "data": {
      "text/html": [
       "<div>\n",
       "<style scoped>\n",
       "    .dataframe tbody tr th:only-of-type {\n",
       "        vertical-align: middle;\n",
       "    }\n",
       "\n",
       "    .dataframe tbody tr th {\n",
       "        vertical-align: top;\n",
       "    }\n",
       "\n",
       "    .dataframe thead th {\n",
       "        text-align: right;\n",
       "    }\n",
       "</style>\n",
       "<table border=\"1\" class=\"dataframe\">\n",
       "  <thead>\n",
       "    <tr style=\"text-align: right;\">\n",
       "      <th></th>\n",
       "      <th>Mean Absolute Error</th>\n",
       "      <th>Root Mean Square Error</th>\n",
       "      <th>R Squared</th>\n",
       "      <th>Adjusted R Squared</th>\n",
       "    </tr>\n",
       "  </thead>\n",
       "  <tbody>\n",
       "    <tr>\n",
       "      <th>lasso</th>\n",
       "      <td>0.773287</td>\n",
       "      <td>0.992369</td>\n",
       "      <td>0.995621</td>\n",
       "      <td>0.995465</td>\n",
       "    </tr>\n",
       "  </tbody>\n",
       "</table>\n",
       "</div>"
      ],
      "text/plain": [
       "       Mean Absolute Error  Root Mean Square Error  R Squared  \\\n",
       "lasso             0.773287                0.992369   0.995621   \n",
       "\n",
       "       Adjusted R Squared  \n",
       "lasso            0.995465  "
      ]
     },
     "execution_count": 12,
     "metadata": {},
     "output_type": "execute_result"
    }
   ],
   "source": [
    "model_comparison_lasso = IFPE_Regression(X_train_scaled, y_train, X_test_scaled, y_test, regressor='lasso', deg=None)\n",
    "model_comparison_lasso"
   ]
  },
  {
   "cell_type": "code",
   "execution_count": 13,
   "metadata": {},
   "outputs": [
    {
     "data": {
      "text/html": [
       "<div>\n",
       "<style scoped>\n",
       "    .dataframe tbody tr th:only-of-type {\n",
       "        vertical-align: middle;\n",
       "    }\n",
       "\n",
       "    .dataframe tbody tr th {\n",
       "        vertical-align: top;\n",
       "    }\n",
       "\n",
       "    .dataframe thead th {\n",
       "        text-align: right;\n",
       "    }\n",
       "</style>\n",
       "<table border=\"1\" class=\"dataframe\">\n",
       "  <thead>\n",
       "    <tr style=\"text-align: right;\">\n",
       "      <th></th>\n",
       "      <th>Mean Absolute Error</th>\n",
       "      <th>Root Mean Square Error</th>\n",
       "      <th>R Squared</th>\n",
       "      <th>Adjusted R Squared</th>\n",
       "    </tr>\n",
       "  </thead>\n",
       "  <tbody>\n",
       "    <tr>\n",
       "      <th>polynomial</th>\n",
       "      <td>0.093801</td>\n",
       "      <td>0.124337</td>\n",
       "      <td>0.999931</td>\n",
       "      <td>0.999923</td>\n",
       "    </tr>\n",
       "  </tbody>\n",
       "</table>\n",
       "</div>"
      ],
      "text/plain": [
       "            Mean Absolute Error  Root Mean Square Error  R Squared  \\\n",
       "polynomial             0.093801                0.124337   0.999931   \n",
       "\n",
       "            Adjusted R Squared  \n",
       "polynomial            0.999923  "
      ]
     },
     "execution_count": 13,
     "metadata": {},
     "output_type": "execute_result"
    }
   ],
   "source": [
    "model_comparison_poly2 = IFPE_Regression(X_train_scaled, y_train, X_test_scaled, y_test, regressor='polynomial', deg=2)\n",
    "model_comparison_poly2"
   ]
  },
  {
   "cell_type": "code",
   "execution_count": 14,
   "metadata": {},
   "outputs": [
    {
     "data": {
      "text/html": [
       "<div>\n",
       "<style scoped>\n",
       "    .dataframe tbody tr th:only-of-type {\n",
       "        vertical-align: middle;\n",
       "    }\n",
       "\n",
       "    .dataframe tbody tr th {\n",
       "        vertical-align: top;\n",
       "    }\n",
       "\n",
       "    .dataframe thead th {\n",
       "        text-align: right;\n",
       "    }\n",
       "</style>\n",
       "<table border=\"1\" class=\"dataframe\">\n",
       "  <thead>\n",
       "    <tr style=\"text-align: right;\">\n",
       "      <th></th>\n",
       "      <th>Mean Absolute Error</th>\n",
       "      <th>Root Mean Square Error</th>\n",
       "      <th>R Squared</th>\n",
       "      <th>Adjusted R Squared</th>\n",
       "    </tr>\n",
       "  </thead>\n",
       "  <tbody>\n",
       "    <tr>\n",
       "      <th>polynomial</th>\n",
       "      <td>0.093506</td>\n",
       "      <td>0.124019</td>\n",
       "      <td>0.999932</td>\n",
       "      <td>0.999921</td>\n",
       "    </tr>\n",
       "  </tbody>\n",
       "</table>\n",
       "</div>"
      ],
      "text/plain": [
       "            Mean Absolute Error  Root Mean Square Error  R Squared  \\\n",
       "polynomial             0.093506                0.124019   0.999932   \n",
       "\n",
       "            Adjusted R Squared  \n",
       "polynomial            0.999921  "
      ]
     },
     "execution_count": 14,
     "metadata": {},
     "output_type": "execute_result"
    }
   ],
   "source": [
    "model_comparison_poly3 = IFPE_Regression(X_train, y_train, X_test, y_test, regressor='polynomial', deg=3)\n",
    "model_comparison_poly3"
   ]
  },
  {
   "cell_type": "code",
   "execution_count": 15,
   "metadata": {},
   "outputs": [
    {
     "data": {
      "text/html": [
       "<div>\n",
       "<style scoped>\n",
       "    .dataframe tbody tr th:only-of-type {\n",
       "        vertical-align: middle;\n",
       "    }\n",
       "\n",
       "    .dataframe tbody tr th {\n",
       "        vertical-align: top;\n",
       "    }\n",
       "\n",
       "    .dataframe thead th {\n",
       "        text-align: right;\n",
       "    }\n",
       "</style>\n",
       "<table border=\"1\" class=\"dataframe\">\n",
       "  <thead>\n",
       "    <tr style=\"text-align: right;\">\n",
       "      <th></th>\n",
       "      <th>Mean Absolute Error</th>\n",
       "      <th>Root Mean Square Error</th>\n",
       "      <th>R Squared</th>\n",
       "      <th>Adjusted R Squared</th>\n",
       "    </tr>\n",
       "  </thead>\n",
       "  <tbody>\n",
       "    <tr>\n",
       "      <th>sgd</th>\n",
       "      <td>0.104476</td>\n",
       "      <td>0.13421</td>\n",
       "      <td>0.99992</td>\n",
       "      <td>0.999917</td>\n",
       "    </tr>\n",
       "  </tbody>\n",
       "</table>\n",
       "</div>"
      ],
      "text/plain": [
       "     Mean Absolute Error  Root Mean Square Error  R Squared  \\\n",
       "sgd             0.104476                 0.13421    0.99992   \n",
       "\n",
       "     Adjusted R Squared  \n",
       "sgd            0.999917  "
      ]
     },
     "execution_count": 15,
     "metadata": {},
     "output_type": "execute_result"
    }
   ],
   "source": [
    "model_comparison_sgd = IFPE_Regression(X_train_scaled, y_train, X_test_scaled, y_test, regressor='sgd', deg=None)\n",
    "model_comparison_sgd"
   ]
  },
  {
   "cell_type": "code",
   "execution_count": 16,
   "metadata": {},
   "outputs": [
    {
     "data": {
      "text/html": [
       "<div>\n",
       "<style scoped>\n",
       "    .dataframe tbody tr th:only-of-type {\n",
       "        vertical-align: middle;\n",
       "    }\n",
       "\n",
       "    .dataframe tbody tr th {\n",
       "        vertical-align: top;\n",
       "    }\n",
       "\n",
       "    .dataframe thead th {\n",
       "        text-align: right;\n",
       "    }\n",
       "</style>\n",
       "<table border=\"1\" class=\"dataframe\">\n",
       "  <thead>\n",
       "    <tr style=\"text-align: right;\">\n",
       "      <th></th>\n",
       "      <th>Mean Absolute Error</th>\n",
       "      <th>Root Mean Square Error</th>\n",
       "      <th>R Squared</th>\n",
       "      <th>Adjusted R Squared</th>\n",
       "    </tr>\n",
       "  </thead>\n",
       "  <tbody>\n",
       "    <tr>\n",
       "      <th>svm</th>\n",
       "      <td>4.131387</td>\n",
       "      <td>8.861258</td>\n",
       "      <td>0.650841</td>\n",
       "      <td>0.638371</td>\n",
       "    </tr>\n",
       "  </tbody>\n",
       "</table>\n",
       "</div>"
      ],
      "text/plain": [
       "     Mean Absolute Error  Root Mean Square Error  R Squared  \\\n",
       "svm             4.131387                8.861258   0.650841   \n",
       "\n",
       "     Adjusted R Squared  \n",
       "svm            0.638371  "
      ]
     },
     "execution_count": 16,
     "metadata": {},
     "output_type": "execute_result"
    }
   ],
   "source": [
    "model_comparison_svm = IFPE_Regression(X_train, y_train, X_test, y_test, regressor='svm', deg=None)\n",
    "model_comparison_svm"
   ]
  },
  {
   "cell_type": "code",
   "execution_count": 17,
   "metadata": {},
   "outputs": [
    {
     "data": {
      "text/html": [
       "<div>\n",
       "<style scoped>\n",
       "    .dataframe tbody tr th:only-of-type {\n",
       "        vertical-align: middle;\n",
       "    }\n",
       "\n",
       "    .dataframe tbody tr th {\n",
       "        vertical-align: top;\n",
       "    }\n",
       "\n",
       "    .dataframe thead th {\n",
       "        text-align: right;\n",
       "    }\n",
       "</style>\n",
       "<table border=\"1\" class=\"dataframe\">\n",
       "  <thead>\n",
       "    <tr style=\"text-align: right;\">\n",
       "      <th></th>\n",
       "      <th>Mean Absolute Error</th>\n",
       "      <th>Root Mean Square Error</th>\n",
       "      <th>R Squared</th>\n",
       "      <th>Adjusted R Squared</th>\n",
       "    </tr>\n",
       "  </thead>\n",
       "  <tbody>\n",
       "    <tr>\n",
       "      <th>dt</th>\n",
       "      <td>0.765486</td>\n",
       "      <td>1.266482</td>\n",
       "      <td>0.992868</td>\n",
       "      <td>0.992613</td>\n",
       "    </tr>\n",
       "  </tbody>\n",
       "</table>\n",
       "</div>"
      ],
      "text/plain": [
       "    Mean Absolute Error  Root Mean Square Error  R Squared  Adjusted R Squared\n",
       "dt             0.765486                1.266482   0.992868            0.992613"
      ]
     },
     "execution_count": 17,
     "metadata": {},
     "output_type": "execute_result"
    }
   ],
   "source": [
    "model_comparison_dt = IFPE_Regression(X_train_scaled, y_train, X_test_scaled, y_test, regressor='dt', deg=None)\n",
    "model_comparison_dt"
   ]
  },
  {
   "cell_type": "code",
   "execution_count": 18,
   "metadata": {},
   "outputs": [
    {
     "data": {
      "text/html": [
       "<div>\n",
       "<style scoped>\n",
       "    .dataframe tbody tr th:only-of-type {\n",
       "        vertical-align: middle;\n",
       "    }\n",
       "\n",
       "    .dataframe tbody tr th {\n",
       "        vertical-align: top;\n",
       "    }\n",
       "\n",
       "    .dataframe thead th {\n",
       "        text-align: right;\n",
       "    }\n",
       "</style>\n",
       "<table border=\"1\" class=\"dataframe\">\n",
       "  <thead>\n",
       "    <tr style=\"text-align: right;\">\n",
       "      <th></th>\n",
       "      <th>Mean Absolute Error</th>\n",
       "      <th>Root Mean Square Error</th>\n",
       "      <th>R Squared</th>\n",
       "      <th>Adjusted R Squared</th>\n",
       "    </tr>\n",
       "  </thead>\n",
       "  <tbody>\n",
       "    <tr>\n",
       "      <th>rf</th>\n",
       "      <td>2.449235</td>\n",
       "      <td>3.424274</td>\n",
       "      <td>0.94786</td>\n",
       "      <td>0.945998</td>\n",
       "    </tr>\n",
       "  </tbody>\n",
       "</table>\n",
       "</div>"
      ],
      "text/plain": [
       "    Mean Absolute Error  Root Mean Square Error  R Squared  Adjusted R Squared\n",
       "rf             2.449235                3.424274    0.94786            0.945998"
      ]
     },
     "execution_count": 18,
     "metadata": {},
     "output_type": "execute_result"
    }
   ],
   "source": [
    "model_comparison_rf = IFPE_Regression(X_train_scaled, y_train, X_test_scaled, y_test, regressor='rf', deg=None)\n",
    "model_comparison_rf"
   ]
  },
  {
   "cell_type": "code",
   "execution_count": 19,
   "metadata": {},
   "outputs": [
    {
     "data": {
      "text/html": [
       "<div>\n",
       "<style scoped>\n",
       "    .dataframe tbody tr th:only-of-type {\n",
       "        vertical-align: middle;\n",
       "    }\n",
       "\n",
       "    .dataframe tbody tr th {\n",
       "        vertical-align: top;\n",
       "    }\n",
       "\n",
       "    .dataframe thead th {\n",
       "        text-align: right;\n",
       "    }\n",
       "</style>\n",
       "<table border=\"1\" class=\"dataframe\">\n",
       "  <thead>\n",
       "    <tr style=\"text-align: right;\">\n",
       "      <th></th>\n",
       "      <th>Mean Absolute Error</th>\n",
       "      <th>Root Mean Square Error</th>\n",
       "      <th>R Squared</th>\n",
       "      <th>Adjusted R Squared</th>\n",
       "    </tr>\n",
       "  </thead>\n",
       "  <tbody>\n",
       "    <tr>\n",
       "      <th>gb</th>\n",
       "      <td>0.765332</td>\n",
       "      <td>1.266041</td>\n",
       "      <td>0.992873</td>\n",
       "      <td>0.992618</td>\n",
       "    </tr>\n",
       "  </tbody>\n",
       "</table>\n",
       "</div>"
      ],
      "text/plain": [
       "    Mean Absolute Error  Root Mean Square Error  R Squared  Adjusted R Squared\n",
       "gb             0.765332                1.266041   0.992873            0.992618"
      ]
     },
     "execution_count": 19,
     "metadata": {},
     "output_type": "execute_result"
    }
   ],
   "source": [
    "model_comparison_gb = IFPE_Regression(X_train_scaled, y_train, X_test_scaled, y_test, regressor='gb', deg=None)\n",
    "model_comparison_gb"
   ]
  },
  {
   "cell_type": "code",
   "execution_count": 20,
   "metadata": {},
   "outputs": [
    {
     "data": {
      "text/html": [
       "<div>\n",
       "<style scoped>\n",
       "    .dataframe tbody tr th:only-of-type {\n",
       "        vertical-align: middle;\n",
       "    }\n",
       "\n",
       "    .dataframe tbody tr th {\n",
       "        vertical-align: top;\n",
       "    }\n",
       "\n",
       "    .dataframe thead th {\n",
       "        text-align: right;\n",
       "    }\n",
       "</style>\n",
       "<table border=\"1\" class=\"dataframe\">\n",
       "  <thead>\n",
       "    <tr style=\"text-align: right;\">\n",
       "      <th></th>\n",
       "      <th>Mean Absolute Error</th>\n",
       "      <th>Root Mean Square Error</th>\n",
       "      <th>R Squared</th>\n",
       "      <th>Adjusted R Squared</th>\n",
       "    </tr>\n",
       "  </thead>\n",
       "  <tbody>\n",
       "    <tr>\n",
       "      <th>vr</th>\n",
       "      <td>0.40851</td>\n",
       "      <td>0.630533</td>\n",
       "      <td>0.998232</td>\n",
       "      <td>0.998169</td>\n",
       "    </tr>\n",
       "  </tbody>\n",
       "</table>\n",
       "</div>"
      ],
      "text/plain": [
       "    Mean Absolute Error  Root Mean Square Error  R Squared  Adjusted R Squared\n",
       "vr              0.40851                0.630533   0.998232            0.998169"
      ]
     },
     "execution_count": 20,
     "metadata": {},
     "output_type": "execute_result"
    }
   ],
   "source": [
    "model_comparison_vr = IFPE_Regression(X_train_scaled, y_train, X_test_scaled, y_test, regressor='vr', deg=None)\n",
    "model_comparison_vr"
   ]
  },
  {
   "cell_type": "code",
   "execution_count": 21,
   "metadata": {},
   "outputs": [
    {
     "data": {
      "text/html": [
       "<div>\n",
       "<style scoped>\n",
       "    .dataframe tbody tr th:only-of-type {\n",
       "        vertical-align: middle;\n",
       "    }\n",
       "\n",
       "    .dataframe tbody tr th {\n",
       "        vertical-align: top;\n",
       "    }\n",
       "\n",
       "    .dataframe thead th {\n",
       "        text-align: right;\n",
       "    }\n",
       "</style>\n",
       "<table border=\"1\" class=\"dataframe\">\n",
       "  <thead>\n",
       "    <tr style=\"text-align: right;\">\n",
       "      <th></th>\n",
       "      <th>Mean Absolute Error</th>\n",
       "      <th>Root Mean Square Error</th>\n",
       "      <th>R Squared</th>\n",
       "      <th>Adjusted R Squared</th>\n",
       "    </tr>\n",
       "  </thead>\n",
       "  <tbody>\n",
       "    <tr>\n",
       "      <th>xgb</th>\n",
       "      <td>0.765321</td>\n",
       "      <td>1.265948</td>\n",
       "      <td>0.992874</td>\n",
       "      <td>0.992619</td>\n",
       "    </tr>\n",
       "  </tbody>\n",
       "</table>\n",
       "</div>"
      ],
      "text/plain": [
       "     Mean Absolute Error  Root Mean Square Error  R Squared  \\\n",
       "xgb             0.765321                1.265948   0.992874   \n",
       "\n",
       "     Adjusted R Squared  \n",
       "xgb            0.992619  "
      ]
     },
     "execution_count": 21,
     "metadata": {},
     "output_type": "execute_result"
    }
   ],
   "source": [
    "model_comparison_xgb = IFPE_Regression(X_train_scaled, y_train, X_test_scaled, y_test, regressor='xgb', deg=None)\n",
    "model_comparison_xgb"
   ]
  },
  {
   "cell_type": "code",
   "execution_count": 22,
   "metadata": {},
   "outputs": [],
   "source": [
    "model_comparison = pd.concat([model_comparison_linear,model_comparison_ridge,model_comparison_lasso,model_comparison_poly2,model_comparison_poly3,model_comparison_sgd,model_comparison_dt,model_comparison_rf,model_comparison_gb,model_comparison_vr,model_comparison_xgb])\n"
   ]
  },
  {
   "cell_type": "code",
   "execution_count": 23,
   "metadata": {},
   "outputs": [
    {
     "data": {
      "text/html": [
       "<div>\n",
       "<style scoped>\n",
       "    .dataframe tbody tr th:only-of-type {\n",
       "        vertical-align: middle;\n",
       "    }\n",
       "\n",
       "    .dataframe tbody tr th {\n",
       "        vertical-align: top;\n",
       "    }\n",
       "\n",
       "    .dataframe thead th {\n",
       "        text-align: right;\n",
       "    }\n",
       "</style>\n",
       "<table border=\"1\" class=\"dataframe\">\n",
       "  <thead>\n",
       "    <tr style=\"text-align: right;\">\n",
       "      <th></th>\n",
       "      <th>Mean Absolute Error</th>\n",
       "      <th>Root Mean Square Error</th>\n",
       "      <th>R Squared</th>\n",
       "      <th>Adjusted R Squared</th>\n",
       "    </tr>\n",
       "  </thead>\n",
       "  <tbody>\n",
       "    <tr>\n",
       "      <th>polynomial</th>\n",
       "      <td>0.093506</td>\n",
       "      <td>0.124019</td>\n",
       "      <td>0.999932</td>\n",
       "      <td>0.999921</td>\n",
       "    </tr>\n",
       "    <tr>\n",
       "      <th>polynomial</th>\n",
       "      <td>0.093801</td>\n",
       "      <td>0.124337</td>\n",
       "      <td>0.999931</td>\n",
       "      <td>0.999923</td>\n",
       "    </tr>\n",
       "    <tr>\n",
       "      <th>linear</th>\n",
       "      <td>0.094181</td>\n",
       "      <td>0.124682</td>\n",
       "      <td>0.999931</td>\n",
       "      <td>0.999928</td>\n",
       "    </tr>\n",
       "    <tr>\n",
       "      <th>sgd</th>\n",
       "      <td>0.104476</td>\n",
       "      <td>0.134210</td>\n",
       "      <td>0.999920</td>\n",
       "      <td>0.999917</td>\n",
       "    </tr>\n",
       "    <tr>\n",
       "      <th>ridge</th>\n",
       "      <td>0.170627</td>\n",
       "      <td>0.235372</td>\n",
       "      <td>0.999754</td>\n",
       "      <td>0.999745</td>\n",
       "    </tr>\n",
       "    <tr>\n",
       "      <th>vr</th>\n",
       "      <td>0.408510</td>\n",
       "      <td>0.630533</td>\n",
       "      <td>0.998232</td>\n",
       "      <td>0.998169</td>\n",
       "    </tr>\n",
       "    <tr>\n",
       "      <th>lasso</th>\n",
       "      <td>0.773287</td>\n",
       "      <td>0.992369</td>\n",
       "      <td>0.995621</td>\n",
       "      <td>0.995465</td>\n",
       "    </tr>\n",
       "    <tr>\n",
       "      <th>xgb</th>\n",
       "      <td>0.765321</td>\n",
       "      <td>1.265948</td>\n",
       "      <td>0.992874</td>\n",
       "      <td>0.992619</td>\n",
       "    </tr>\n",
       "    <tr>\n",
       "      <th>gb</th>\n",
       "      <td>0.765332</td>\n",
       "      <td>1.266041</td>\n",
       "      <td>0.992873</td>\n",
       "      <td>0.992618</td>\n",
       "    </tr>\n",
       "    <tr>\n",
       "      <th>dt</th>\n",
       "      <td>0.765486</td>\n",
       "      <td>1.266482</td>\n",
       "      <td>0.992868</td>\n",
       "      <td>0.992613</td>\n",
       "    </tr>\n",
       "    <tr>\n",
       "      <th>rf</th>\n",
       "      <td>2.449235</td>\n",
       "      <td>3.424274</td>\n",
       "      <td>0.947860</td>\n",
       "      <td>0.945998</td>\n",
       "    </tr>\n",
       "  </tbody>\n",
       "</table>\n",
       "</div>"
      ],
      "text/plain": [
       "            Mean Absolute Error  Root Mean Square Error  R Squared  \\\n",
       "polynomial             0.093506                0.124019   0.999932   \n",
       "polynomial             0.093801                0.124337   0.999931   \n",
       "linear                 0.094181                0.124682   0.999931   \n",
       "sgd                    0.104476                0.134210   0.999920   \n",
       "ridge                  0.170627                0.235372   0.999754   \n",
       "vr                     0.408510                0.630533   0.998232   \n",
       "lasso                  0.773287                0.992369   0.995621   \n",
       "xgb                    0.765321                1.265948   0.992874   \n",
       "gb                     0.765332                1.266041   0.992873   \n",
       "dt                     0.765486                1.266482   0.992868   \n",
       "rf                     2.449235                3.424274   0.947860   \n",
       "\n",
       "            Adjusted R Squared  \n",
       "polynomial            0.999921  \n",
       "polynomial            0.999923  \n",
       "linear                0.999928  \n",
       "sgd                   0.999917  \n",
       "ridge                 0.999745  \n",
       "vr                    0.998169  \n",
       "lasso                 0.995465  \n",
       "xgb                   0.992619  \n",
       "gb                    0.992618  \n",
       "dt                    0.992613  \n",
       "rf                    0.945998  "
      ]
     },
     "execution_count": 23,
     "metadata": {},
     "output_type": "execute_result"
    }
   ],
   "source": [
    "test = model_comparison.sort_values('R Squared', ascending=False)\n",
    "test"
   ]
  },
  {
   "cell_type": "markdown",
   "metadata": {},
   "source": [
    "# Iteration 1"
   ]
  },
  {
   "cell_type": "code",
   "execution_count": 24,
   "metadata": {},
   "outputs": [],
   "source": [
    "import pickle\n",
    "\n",
    "with open('iteration1.pickle','rb') as flight_data_file:\n",
    "     df_flights = pickle.load(flight_data_file)"
   ]
  },
  {
   "cell_type": "code",
   "execution_count": 25,
   "metadata": {},
   "outputs": [
    {
     "data": {
      "text/html": [
       "<div>\n",
       "<style scoped>\n",
       "    .dataframe tbody tr th:only-of-type {\n",
       "        vertical-align: middle;\n",
       "    }\n",
       "\n",
       "    .dataframe tbody tr th {\n",
       "        vertical-align: top;\n",
       "    }\n",
       "\n",
       "    .dataframe thead th {\n",
       "        text-align: right;\n",
       "    }\n",
       "</style>\n",
       "<table border=\"1\" class=\"dataframe\">\n",
       "  <thead>\n",
       "    <tr style=\"text-align: right;\">\n",
       "      <th></th>\n",
       "      <th>arr_delay</th>\n",
       "      <th>season_Fall</th>\n",
       "      <th>season_Spring</th>\n",
       "      <th>season_Summer</th>\n",
       "      <th>season_Winter</th>\n",
       "    </tr>\n",
       "  </thead>\n",
       "  <tbody>\n",
       "    <tr>\n",
       "      <th>0</th>\n",
       "      <td>19.0</td>\n",
       "      <td>0</td>\n",
       "      <td>0</td>\n",
       "      <td>0</td>\n",
       "      <td>1</td>\n",
       "    </tr>\n",
       "    <tr>\n",
       "      <th>1</th>\n",
       "      <td>46.0</td>\n",
       "      <td>0</td>\n",
       "      <td>0</td>\n",
       "      <td>0</td>\n",
       "      <td>1</td>\n",
       "    </tr>\n",
       "    <tr>\n",
       "      <th>2</th>\n",
       "      <td>-9.0</td>\n",
       "      <td>0</td>\n",
       "      <td>0</td>\n",
       "      <td>0</td>\n",
       "      <td>1</td>\n",
       "    </tr>\n",
       "    <tr>\n",
       "      <th>3</th>\n",
       "      <td>-3.0</td>\n",
       "      <td>0</td>\n",
       "      <td>0</td>\n",
       "      <td>0</td>\n",
       "      <td>1</td>\n",
       "    </tr>\n",
       "    <tr>\n",
       "      <th>4</th>\n",
       "      <td>37.0</td>\n",
       "      <td>0</td>\n",
       "      <td>0</td>\n",
       "      <td>0</td>\n",
       "      <td>1</td>\n",
       "    </tr>\n",
       "  </tbody>\n",
       "</table>\n",
       "</div>"
      ],
      "text/plain": [
       "   arr_delay  season_Fall  season_Spring  season_Summer  season_Winter\n",
       "0       19.0            0              0              0              1\n",
       "1       46.0            0              0              0              1\n",
       "2       -9.0            0              0              0              1\n",
       "3       -3.0            0              0              0              1\n",
       "4       37.0            0              0              0              1"
      ]
     },
     "execution_count": 25,
     "metadata": {},
     "output_type": "execute_result"
    }
   ],
   "source": [
    "df_flights.head()"
   ]
  },
  {
   "cell_type": "code",
   "execution_count": 26,
   "metadata": {},
   "outputs": [],
   "source": [
    "X = df_flights.drop('arr_delay',axis=1).to_numpy()\n",
    "y = df_flights['arr_delay'].to_numpy()"
   ]
  },
  {
   "cell_type": "code",
   "execution_count": 27,
   "metadata": {},
   "outputs": [],
   "source": [
    "def split_data(data, target=None, percent_test=0.3, dtype='array'):\n",
    "    # Import train_test_split function\n",
    "    from sklearn.model_selection import train_test_split\n",
    "\n",
    "    # Split dataset into training set and test set\n",
    "    if dtype == 'array':      \n",
    "        X_train, X_test, y_train, y_test = train_test_split(data, target, test_size=percent_test,random_state=10)\n",
    "    \n",
    "        print(f'X_train shape: {X_train.shape}')\n",
    "        print(f'X_test shape: {X_test.shape}')\n",
    "        print(f'y_train shape: {y_train.shape}')\n",
    "        print(f'y_test shape: {y_test.shape}')\n",
    "    \n",
    "        return X_train, X_test, y_train, y_test\n",
    "    \n",
    "    if dtype == 'df':\n",
    "        df_train, df_test = train_test_split(data, test_size=percent_test,random_state=10)\n",
    "\n",
    "        print(f'df_train shape: {df_train.shape}')\n",
    "        print(f'df_test shape: {df_test.shape}')\n",
    "    \n",
    "        return df_train, df_test"
   ]
  },
  {
   "cell_type": "code",
   "execution_count": 28,
   "metadata": {},
   "outputs": [
    {
     "name": "stdout",
     "output_type": "stream",
     "text": [
      "X_train shape: (65186, 4)\n",
      "X_test shape: (27937, 4)\n",
      "y_train shape: (65186,)\n",
      "y_test shape: (27937,)\n"
     ]
    }
   ],
   "source": [
    "X_train, X_test, y_train, y_test = split_data(data=X, target=y)"
   ]
  },
  {
   "cell_type": "code",
   "execution_count": 29,
   "metadata": {},
   "outputs": [
    {
     "data": {
      "text/html": [
       "<div>\n",
       "<style scoped>\n",
       "    .dataframe tbody tr th:only-of-type {\n",
       "        vertical-align: middle;\n",
       "    }\n",
       "\n",
       "    .dataframe tbody tr th {\n",
       "        vertical-align: top;\n",
       "    }\n",
       "\n",
       "    .dataframe thead th {\n",
       "        text-align: right;\n",
       "    }\n",
       "</style>\n",
       "<table border=\"1\" class=\"dataframe\">\n",
       "  <thead>\n",
       "    <tr style=\"text-align: right;\">\n",
       "      <th></th>\n",
       "      <th>Mean Absolute Error</th>\n",
       "      <th>Root Mean Square Error</th>\n",
       "      <th>R Squared</th>\n",
       "      <th>Adjusted R Squared</th>\n",
       "    </tr>\n",
       "  </thead>\n",
       "  <tbody>\n",
       "    <tr>\n",
       "      <th>linear</th>\n",
       "      <td>18.483872</td>\n",
       "      <td>27.830069</td>\n",
       "      <td>0.003057</td>\n",
       "      <td>0.002914</td>\n",
       "    </tr>\n",
       "  </tbody>\n",
       "</table>\n",
       "</div>"
      ],
      "text/plain": [
       "        Mean Absolute Error  Root Mean Square Error  R Squared  \\\n",
       "linear            18.483872               27.830069   0.003057   \n",
       "\n",
       "        Adjusted R Squared  \n",
       "linear            0.002914  "
      ]
     },
     "execution_count": 29,
     "metadata": {},
     "output_type": "execute_result"
    }
   ],
   "source": [
    "model_comparison_linear = IFPE_Regression(X_train, y_train, X_test, y_test, regressor='linear', deg=None)\n",
    "model_comparison_linear"
   ]
  },
  {
   "cell_type": "code",
   "execution_count": 30,
   "metadata": {},
   "outputs": [
    {
     "data": {
      "text/html": [
       "<div>\n",
       "<style scoped>\n",
       "    .dataframe tbody tr th:only-of-type {\n",
       "        vertical-align: middle;\n",
       "    }\n",
       "\n",
       "    .dataframe tbody tr th {\n",
       "        vertical-align: top;\n",
       "    }\n",
       "\n",
       "    .dataframe thead th {\n",
       "        text-align: right;\n",
       "    }\n",
       "</style>\n",
       "<table border=\"1\" class=\"dataframe\">\n",
       "  <thead>\n",
       "    <tr style=\"text-align: right;\">\n",
       "      <th></th>\n",
       "      <th>Mean Absolute Error</th>\n",
       "      <th>Root Mean Square Error</th>\n",
       "      <th>R Squared</th>\n",
       "      <th>Adjusted R Squared</th>\n",
       "    </tr>\n",
       "  </thead>\n",
       "  <tbody>\n",
       "    <tr>\n",
       "      <th>ridge</th>\n",
       "      <td>18.484614</td>\n",
       "      <td>27.830188</td>\n",
       "      <td>0.003048</td>\n",
       "      <td>0.002905</td>\n",
       "    </tr>\n",
       "  </tbody>\n",
       "</table>\n",
       "</div>"
      ],
      "text/plain": [
       "       Mean Absolute Error  Root Mean Square Error  R Squared  \\\n",
       "ridge            18.484614               27.830188   0.003048   \n",
       "\n",
       "       Adjusted R Squared  \n",
       "ridge            0.002905  "
      ]
     },
     "execution_count": 30,
     "metadata": {},
     "output_type": "execute_result"
    }
   ],
   "source": [
    "model_comparison_ridge = IFPE_Regression(X_train, y_train, X_test, y_test, regressor='ridge', deg=None)\n",
    "model_comparison_ridge"
   ]
  },
  {
   "cell_type": "code",
   "execution_count": 31,
   "metadata": {},
   "outputs": [
    {
     "data": {
      "text/html": [
       "<div>\n",
       "<style scoped>\n",
       "    .dataframe tbody tr th:only-of-type {\n",
       "        vertical-align: middle;\n",
       "    }\n",
       "\n",
       "    .dataframe tbody tr th {\n",
       "        vertical-align: top;\n",
       "    }\n",
       "\n",
       "    .dataframe thead th {\n",
       "        text-align: right;\n",
       "    }\n",
       "</style>\n",
       "<table border=\"1\" class=\"dataframe\">\n",
       "  <thead>\n",
       "    <tr style=\"text-align: right;\">\n",
       "      <th></th>\n",
       "      <th>Mean Absolute Error</th>\n",
       "      <th>Root Mean Square Error</th>\n",
       "      <th>R Squared</th>\n",
       "      <th>Adjusted R Squared</th>\n",
       "    </tr>\n",
       "  </thead>\n",
       "  <tbody>\n",
       "    <tr>\n",
       "      <th>lasso</th>\n",
       "      <td>18.491265</td>\n",
       "      <td>27.872768</td>\n",
       "      <td>-0.000005</td>\n",
       "      <td>-0.000148</td>\n",
       "    </tr>\n",
       "  </tbody>\n",
       "</table>\n",
       "</div>"
      ],
      "text/plain": [
       "       Mean Absolute Error  Root Mean Square Error  R Squared  \\\n",
       "lasso            18.491265               27.872768  -0.000005   \n",
       "\n",
       "       Adjusted R Squared  \n",
       "lasso           -0.000148  "
      ]
     },
     "execution_count": 31,
     "metadata": {},
     "output_type": "execute_result"
    }
   ],
   "source": [
    "model_comparison_lasso = IFPE_Regression(X_train, y_train, X_test, y_test, regressor='lasso', deg=None)\n",
    "model_comparison_lasso"
   ]
  },
  {
   "cell_type": "code",
   "execution_count": 32,
   "metadata": {},
   "outputs": [
    {
     "data": {
      "text/html": [
       "<div>\n",
       "<style scoped>\n",
       "    .dataframe tbody tr th:only-of-type {\n",
       "        vertical-align: middle;\n",
       "    }\n",
       "\n",
       "    .dataframe tbody tr th {\n",
       "        vertical-align: top;\n",
       "    }\n",
       "\n",
       "    .dataframe thead th {\n",
       "        text-align: right;\n",
       "    }\n",
       "</style>\n",
       "<table border=\"1\" class=\"dataframe\">\n",
       "  <thead>\n",
       "    <tr style=\"text-align: right;\">\n",
       "      <th></th>\n",
       "      <th>Mean Absolute Error</th>\n",
       "      <th>Root Mean Square Error</th>\n",
       "      <th>R Squared</th>\n",
       "      <th>Adjusted R Squared</th>\n",
       "    </tr>\n",
       "  </thead>\n",
       "  <tbody>\n",
       "    <tr>\n",
       "      <th>polynomial</th>\n",
       "      <td>18.484214</td>\n",
       "      <td>27.830056</td>\n",
       "      <td>0.003057</td>\n",
       "      <td>0.002522</td>\n",
       "    </tr>\n",
       "  </tbody>\n",
       "</table>\n",
       "</div>"
      ],
      "text/plain": [
       "            Mean Absolute Error  Root Mean Square Error  R Squared  \\\n",
       "polynomial            18.484214               27.830056   0.003057   \n",
       "\n",
       "            Adjusted R Squared  \n",
       "polynomial            0.002522  "
      ]
     },
     "execution_count": 32,
     "metadata": {},
     "output_type": "execute_result"
    }
   ],
   "source": [
    "model_comparison_poly2 = IFPE_Regression(X_train, y_train, X_test, y_test, regressor='polynomial', deg=2)\n",
    "model_comparison_poly2"
   ]
  },
  {
   "cell_type": "code",
   "execution_count": 33,
   "metadata": {},
   "outputs": [
    {
     "data": {
      "text/html": [
       "<div>\n",
       "<style scoped>\n",
       "    .dataframe tbody tr th:only-of-type {\n",
       "        vertical-align: middle;\n",
       "    }\n",
       "\n",
       "    .dataframe tbody tr th {\n",
       "        vertical-align: top;\n",
       "    }\n",
       "\n",
       "    .dataframe thead th {\n",
       "        text-align: right;\n",
       "    }\n",
       "</style>\n",
       "<table border=\"1\" class=\"dataframe\">\n",
       "  <thead>\n",
       "    <tr style=\"text-align: right;\">\n",
       "      <th></th>\n",
       "      <th>Mean Absolute Error</th>\n",
       "      <th>Root Mean Square Error</th>\n",
       "      <th>R Squared</th>\n",
       "      <th>Adjusted R Squared</th>\n",
       "    </tr>\n",
       "  </thead>\n",
       "  <tbody>\n",
       "    <tr>\n",
       "      <th>polynomial</th>\n",
       "      <td>18.484221</td>\n",
       "      <td>27.830056</td>\n",
       "      <td>0.003057</td>\n",
       "      <td>0.001807</td>\n",
       "    </tr>\n",
       "  </tbody>\n",
       "</table>\n",
       "</div>"
      ],
      "text/plain": [
       "            Mean Absolute Error  Root Mean Square Error  R Squared  \\\n",
       "polynomial            18.484221               27.830056   0.003057   \n",
       "\n",
       "            Adjusted R Squared  \n",
       "polynomial            0.001807  "
      ]
     },
     "execution_count": 33,
     "metadata": {},
     "output_type": "execute_result"
    }
   ],
   "source": [
    "model_comparison_poly3 = IFPE_Regression(X_train, y_train, X_test, y_test, regressor='polynomial', deg=3)\n",
    "model_comparison_poly3"
   ]
  },
  {
   "cell_type": "code",
   "execution_count": 34,
   "metadata": {},
   "outputs": [
    {
     "data": {
      "text/html": [
       "<div>\n",
       "<style scoped>\n",
       "    .dataframe tbody tr th:only-of-type {\n",
       "        vertical-align: middle;\n",
       "    }\n",
       "\n",
       "    .dataframe tbody tr th {\n",
       "        vertical-align: top;\n",
       "    }\n",
       "\n",
       "    .dataframe thead th {\n",
       "        text-align: right;\n",
       "    }\n",
       "</style>\n",
       "<table border=\"1\" class=\"dataframe\">\n",
       "  <thead>\n",
       "    <tr style=\"text-align: right;\">\n",
       "      <th></th>\n",
       "      <th>Mean Absolute Error</th>\n",
       "      <th>Root Mean Square Error</th>\n",
       "      <th>R Squared</th>\n",
       "      <th>Adjusted R Squared</th>\n",
       "    </tr>\n",
       "  </thead>\n",
       "  <tbody>\n",
       "    <tr>\n",
       "      <th>sgd</th>\n",
       "      <td>18.440142</td>\n",
       "      <td>27.831247</td>\n",
       "      <td>0.002972</td>\n",
       "      <td>0.002829</td>\n",
       "    </tr>\n",
       "  </tbody>\n",
       "</table>\n",
       "</div>"
      ],
      "text/plain": [
       "     Mean Absolute Error  Root Mean Square Error  R Squared  \\\n",
       "sgd            18.440142               27.831247   0.002972   \n",
       "\n",
       "     Adjusted R Squared  \n",
       "sgd            0.002829  "
      ]
     },
     "execution_count": 34,
     "metadata": {},
     "output_type": "execute_result"
    }
   ],
   "source": [
    "model_comparison_sgd = IFPE_Regression(X_train, y_train, X_test, y_test, regressor='sgd', deg=None)\n",
    "model_comparison_sgd"
   ]
  },
  {
   "cell_type": "code",
   "execution_count": 35,
   "metadata": {},
   "outputs": [],
   "source": [
    "# model_comparison_svm = IFPE_Regression(X_train, y_train, X_test, y_test, regressor='svm', deg=None)\n",
    "# model_comparison_svm"
   ]
  },
  {
   "cell_type": "code",
   "execution_count": 36,
   "metadata": {},
   "outputs": [
    {
     "data": {
      "text/html": [
       "<div>\n",
       "<style scoped>\n",
       "    .dataframe tbody tr th:only-of-type {\n",
       "        vertical-align: middle;\n",
       "    }\n",
       "\n",
       "    .dataframe tbody tr th {\n",
       "        vertical-align: top;\n",
       "    }\n",
       "\n",
       "    .dataframe thead th {\n",
       "        text-align: right;\n",
       "    }\n",
       "</style>\n",
       "<table border=\"1\" class=\"dataframe\">\n",
       "  <thead>\n",
       "    <tr style=\"text-align: right;\">\n",
       "      <th></th>\n",
       "      <th>Mean Absolute Error</th>\n",
       "      <th>Root Mean Square Error</th>\n",
       "      <th>R Squared</th>\n",
       "      <th>Adjusted R Squared</th>\n",
       "    </tr>\n",
       "  </thead>\n",
       "  <tbody>\n",
       "    <tr>\n",
       "      <th>dt</th>\n",
       "      <td>18.484617</td>\n",
       "      <td>27.830189</td>\n",
       "      <td>0.003048</td>\n",
       "      <td>0.002905</td>\n",
       "    </tr>\n",
       "  </tbody>\n",
       "</table>\n",
       "</div>"
      ],
      "text/plain": [
       "    Mean Absolute Error  Root Mean Square Error  R Squared  Adjusted R Squared\n",
       "dt            18.484617               27.830189   0.003048            0.002905"
      ]
     },
     "execution_count": 36,
     "metadata": {},
     "output_type": "execute_result"
    }
   ],
   "source": [
    "model_comparison_dt = IFPE_Regression(X_train, y_train, X_test, y_test, regressor='dt', deg=None)\n",
    "model_comparison_dt"
   ]
  },
  {
   "cell_type": "code",
   "execution_count": 37,
   "metadata": {},
   "outputs": [
    {
     "data": {
      "text/html": [
       "<div>\n",
       "<style scoped>\n",
       "    .dataframe tbody tr th:only-of-type {\n",
       "        vertical-align: middle;\n",
       "    }\n",
       "\n",
       "    .dataframe tbody tr th {\n",
       "        vertical-align: top;\n",
       "    }\n",
       "\n",
       "    .dataframe thead th {\n",
       "        text-align: right;\n",
       "    }\n",
       "</style>\n",
       "<table border=\"1\" class=\"dataframe\">\n",
       "  <thead>\n",
       "    <tr style=\"text-align: right;\">\n",
       "      <th></th>\n",
       "      <th>Mean Absolute Error</th>\n",
       "      <th>Root Mean Square Error</th>\n",
       "      <th>R Squared</th>\n",
       "      <th>Adjusted R Squared</th>\n",
       "    </tr>\n",
       "  </thead>\n",
       "  <tbody>\n",
       "    <tr>\n",
       "      <th>rf</th>\n",
       "      <td>18.485452</td>\n",
       "      <td>27.830672</td>\n",
       "      <td>0.003013</td>\n",
       "      <td>0.002871</td>\n",
       "    </tr>\n",
       "  </tbody>\n",
       "</table>\n",
       "</div>"
      ],
      "text/plain": [
       "    Mean Absolute Error  Root Mean Square Error  R Squared  Adjusted R Squared\n",
       "rf            18.485452               27.830672   0.003013            0.002871"
      ]
     },
     "execution_count": 37,
     "metadata": {},
     "output_type": "execute_result"
    }
   ],
   "source": [
    "model_comparison_rf = IFPE_Regression(X_train, y_train, X_test, y_test, regressor='rf', deg=None)\n",
    "model_comparison_rf"
   ]
  },
  {
   "cell_type": "code",
   "execution_count": 38,
   "metadata": {},
   "outputs": [
    {
     "data": {
      "text/html": [
       "<div>\n",
       "<style scoped>\n",
       "    .dataframe tbody tr th:only-of-type {\n",
       "        vertical-align: middle;\n",
       "    }\n",
       "\n",
       "    .dataframe tbody tr th {\n",
       "        vertical-align: top;\n",
       "    }\n",
       "\n",
       "    .dataframe thead th {\n",
       "        text-align: right;\n",
       "    }\n",
       "</style>\n",
       "<table border=\"1\" class=\"dataframe\">\n",
       "  <thead>\n",
       "    <tr style=\"text-align: right;\">\n",
       "      <th></th>\n",
       "      <th>Mean Absolute Error</th>\n",
       "      <th>Root Mean Square Error</th>\n",
       "      <th>R Squared</th>\n",
       "      <th>Adjusted R Squared</th>\n",
       "    </tr>\n",
       "  </thead>\n",
       "  <tbody>\n",
       "    <tr>\n",
       "      <th>gb</th>\n",
       "      <td>18.484616</td>\n",
       "      <td>27.830189</td>\n",
       "      <td>0.003048</td>\n",
       "      <td>0.002905</td>\n",
       "    </tr>\n",
       "  </tbody>\n",
       "</table>\n",
       "</div>"
      ],
      "text/plain": [
       "    Mean Absolute Error  Root Mean Square Error  R Squared  Adjusted R Squared\n",
       "gb            18.484616               27.830189   0.003048            0.002905"
      ]
     },
     "execution_count": 38,
     "metadata": {},
     "output_type": "execute_result"
    }
   ],
   "source": [
    "model_comparison_gb = IFPE_Regression(X_train, y_train, X_test, y_test, regressor='gb', deg=None)\n",
    "model_comparison_gb"
   ]
  },
  {
   "cell_type": "code",
   "execution_count": 39,
   "metadata": {},
   "outputs": [
    {
     "data": {
      "text/html": [
       "<div>\n",
       "<style scoped>\n",
       "    .dataframe tbody tr th:only-of-type {\n",
       "        vertical-align: middle;\n",
       "    }\n",
       "\n",
       "    .dataframe tbody tr th {\n",
       "        vertical-align: top;\n",
       "    }\n",
       "\n",
       "    .dataframe thead th {\n",
       "        text-align: right;\n",
       "    }\n",
       "</style>\n",
       "<table border=\"1\" class=\"dataframe\">\n",
       "  <thead>\n",
       "    <tr style=\"text-align: right;\">\n",
       "      <th></th>\n",
       "      <th>Mean Absolute Error</th>\n",
       "      <th>Root Mean Square Error</th>\n",
       "      <th>R Squared</th>\n",
       "      <th>Adjusted R Squared</th>\n",
       "    </tr>\n",
       "  </thead>\n",
       "  <tbody>\n",
       "    <tr>\n",
       "      <th>vr</th>\n",
       "      <td>18.483587</td>\n",
       "      <td>27.830115</td>\n",
       "      <td>0.003053</td>\n",
       "      <td>0.00291</td>\n",
       "    </tr>\n",
       "  </tbody>\n",
       "</table>\n",
       "</div>"
      ],
      "text/plain": [
       "    Mean Absolute Error  Root Mean Square Error  R Squared  Adjusted R Squared\n",
       "vr            18.483587               27.830115   0.003053             0.00291"
      ]
     },
     "execution_count": 39,
     "metadata": {},
     "output_type": "execute_result"
    }
   ],
   "source": [
    "model_comparison_vr = IFPE_Regression(X_train, y_train, X_test, y_test, regressor='vr', deg=None)\n",
    "model_comparison_vr"
   ]
  },
  {
   "cell_type": "code",
   "execution_count": 40,
   "metadata": {},
   "outputs": [
    {
     "data": {
      "text/html": [
       "<div>\n",
       "<style scoped>\n",
       "    .dataframe tbody tr th:only-of-type {\n",
       "        vertical-align: middle;\n",
       "    }\n",
       "\n",
       "    .dataframe tbody tr th {\n",
       "        vertical-align: top;\n",
       "    }\n",
       "\n",
       "    .dataframe thead th {\n",
       "        text-align: right;\n",
       "    }\n",
       "</style>\n",
       "<table border=\"1\" class=\"dataframe\">\n",
       "  <thead>\n",
       "    <tr style=\"text-align: right;\">\n",
       "      <th></th>\n",
       "      <th>Mean Absolute Error</th>\n",
       "      <th>Root Mean Square Error</th>\n",
       "      <th>R Squared</th>\n",
       "      <th>Adjusted R Squared</th>\n",
       "    </tr>\n",
       "  </thead>\n",
       "  <tbody>\n",
       "    <tr>\n",
       "      <th>xgb</th>\n",
       "      <td>18.484617</td>\n",
       "      <td>27.830189</td>\n",
       "      <td>0.003048</td>\n",
       "      <td>0.002905</td>\n",
       "    </tr>\n",
       "  </tbody>\n",
       "</table>\n",
       "</div>"
      ],
      "text/plain": [
       "     Mean Absolute Error  Root Mean Square Error  R Squared  \\\n",
       "xgb            18.484617               27.830189   0.003048   \n",
       "\n",
       "     Adjusted R Squared  \n",
       "xgb            0.002905  "
      ]
     },
     "execution_count": 40,
     "metadata": {},
     "output_type": "execute_result"
    }
   ],
   "source": [
    "model_comparison_xgb = IFPE_Regression(X_train, y_train, X_test, y_test, regressor='xgb', deg=None)\n",
    "model_comparison_xgb"
   ]
  },
  {
   "cell_type": "code",
   "execution_count": 41,
   "metadata": {},
   "outputs": [],
   "source": [
    "model_comparison = pd.concat([model_comparison_linear,model_comparison_ridge,model_comparison_lasso,model_comparison_poly2,model_comparison_poly3,model_comparison_sgd,model_comparison_dt,model_comparison_rf,model_comparison_gb,model_comparison_vr,model_comparison_xgb])\n"
   ]
  },
  {
   "cell_type": "code",
   "execution_count": 42,
   "metadata": {},
   "outputs": [
    {
     "data": {
      "text/html": [
       "<div>\n",
       "<style scoped>\n",
       "    .dataframe tbody tr th:only-of-type {\n",
       "        vertical-align: middle;\n",
       "    }\n",
       "\n",
       "    .dataframe tbody tr th {\n",
       "        vertical-align: top;\n",
       "    }\n",
       "\n",
       "    .dataframe thead th {\n",
       "        text-align: right;\n",
       "    }\n",
       "</style>\n",
       "<table border=\"1\" class=\"dataframe\">\n",
       "  <thead>\n",
       "    <tr style=\"text-align: right;\">\n",
       "      <th></th>\n",
       "      <th>Mean Absolute Error</th>\n",
       "      <th>Root Mean Square Error</th>\n",
       "      <th>R Squared</th>\n",
       "      <th>Adjusted R Squared</th>\n",
       "    </tr>\n",
       "  </thead>\n",
       "  <tbody>\n",
       "    <tr>\n",
       "      <th>polynomial</th>\n",
       "      <td>18.484214</td>\n",
       "      <td>27.830056</td>\n",
       "      <td>0.003057</td>\n",
       "      <td>0.002522</td>\n",
       "    </tr>\n",
       "    <tr>\n",
       "      <th>polynomial</th>\n",
       "      <td>18.484221</td>\n",
       "      <td>27.830056</td>\n",
       "      <td>0.003057</td>\n",
       "      <td>0.001807</td>\n",
       "    </tr>\n",
       "    <tr>\n",
       "      <th>linear</th>\n",
       "      <td>18.483872</td>\n",
       "      <td>27.830069</td>\n",
       "      <td>0.003057</td>\n",
       "      <td>0.002914</td>\n",
       "    </tr>\n",
       "    <tr>\n",
       "      <th>vr</th>\n",
       "      <td>18.483587</td>\n",
       "      <td>27.830115</td>\n",
       "      <td>0.003053</td>\n",
       "      <td>0.002910</td>\n",
       "    </tr>\n",
       "    <tr>\n",
       "      <th>ridge</th>\n",
       "      <td>18.484614</td>\n",
       "      <td>27.830188</td>\n",
       "      <td>0.003048</td>\n",
       "      <td>0.002905</td>\n",
       "    </tr>\n",
       "    <tr>\n",
       "      <th>gb</th>\n",
       "      <td>18.484616</td>\n",
       "      <td>27.830189</td>\n",
       "      <td>0.003048</td>\n",
       "      <td>0.002905</td>\n",
       "    </tr>\n",
       "    <tr>\n",
       "      <th>xgb</th>\n",
       "      <td>18.484617</td>\n",
       "      <td>27.830189</td>\n",
       "      <td>0.003048</td>\n",
       "      <td>0.002905</td>\n",
       "    </tr>\n",
       "    <tr>\n",
       "      <th>dt</th>\n",
       "      <td>18.484617</td>\n",
       "      <td>27.830189</td>\n",
       "      <td>0.003048</td>\n",
       "      <td>0.002905</td>\n",
       "    </tr>\n",
       "    <tr>\n",
       "      <th>rf</th>\n",
       "      <td>18.485452</td>\n",
       "      <td>27.830672</td>\n",
       "      <td>0.003013</td>\n",
       "      <td>0.002871</td>\n",
       "    </tr>\n",
       "    <tr>\n",
       "      <th>sgd</th>\n",
       "      <td>18.440142</td>\n",
       "      <td>27.831247</td>\n",
       "      <td>0.002972</td>\n",
       "      <td>0.002829</td>\n",
       "    </tr>\n",
       "    <tr>\n",
       "      <th>lasso</th>\n",
       "      <td>18.491265</td>\n",
       "      <td>27.872768</td>\n",
       "      <td>-0.000005</td>\n",
       "      <td>-0.000148</td>\n",
       "    </tr>\n",
       "  </tbody>\n",
       "</table>\n",
       "</div>"
      ],
      "text/plain": [
       "            Mean Absolute Error  Root Mean Square Error  R Squared  \\\n",
       "polynomial            18.484214               27.830056   0.003057   \n",
       "polynomial            18.484221               27.830056   0.003057   \n",
       "linear                18.483872               27.830069   0.003057   \n",
       "vr                    18.483587               27.830115   0.003053   \n",
       "ridge                 18.484614               27.830188   0.003048   \n",
       "gb                    18.484616               27.830189   0.003048   \n",
       "xgb                   18.484617               27.830189   0.003048   \n",
       "dt                    18.484617               27.830189   0.003048   \n",
       "rf                    18.485452               27.830672   0.003013   \n",
       "sgd                   18.440142               27.831247   0.002972   \n",
       "lasso                 18.491265               27.872768  -0.000005   \n",
       "\n",
       "            Adjusted R Squared  \n",
       "polynomial            0.002522  \n",
       "polynomial            0.001807  \n",
       "linear                0.002914  \n",
       "vr                    0.002910  \n",
       "ridge                 0.002905  \n",
       "gb                    0.002905  \n",
       "xgb                   0.002905  \n",
       "dt                    0.002905  \n",
       "rf                    0.002871  \n",
       "sgd                   0.002829  \n",
       "lasso                -0.000148  "
      ]
     },
     "execution_count": 42,
     "metadata": {},
     "output_type": "execute_result"
    }
   ],
   "source": [
    "model_comparison.sort_values('R Squared', ascending=False)"
   ]
  },
  {
   "cell_type": "markdown",
   "metadata": {},
   "source": [
    "# Iteration 2"
   ]
  },
  {
   "cell_type": "code",
   "execution_count": 45,
   "metadata": {},
   "outputs": [],
   "source": [
    "import pickle\n",
    "\n",
    "with open('iteration2.pickle','rb') as flight_data_file:\n",
    "     df_flights = pickle.load(flight_data_file)"
   ]
  },
  {
   "cell_type": "code",
   "execution_count": 46,
   "metadata": {},
   "outputs": [
    {
     "data": {
      "text/html": [
       "<div>\n",
       "<style scoped>\n",
       "    .dataframe tbody tr th:only-of-type {\n",
       "        vertical-align: middle;\n",
       "    }\n",
       "\n",
       "    .dataframe tbody tr th {\n",
       "        vertical-align: top;\n",
       "    }\n",
       "\n",
       "    .dataframe thead th {\n",
       "        text-align: right;\n",
       "    }\n",
       "</style>\n",
       "<table border=\"1\" class=\"dataframe\">\n",
       "  <thead>\n",
       "    <tr style=\"text-align: right;\">\n",
       "      <th></th>\n",
       "      <th>arr_delay</th>\n",
       "      <th>season_Fall</th>\n",
       "      <th>season_Spring</th>\n",
       "      <th>season_Summer</th>\n",
       "      <th>season_Winter</th>\n",
       "      <th>crs_dep_time_of_day_early morning</th>\n",
       "      <th>crs_dep_time_of_day_late morning</th>\n",
       "      <th>crs_dep_time_of_day_midday</th>\n",
       "      <th>crs_dep_time_of_day_late afternoon</th>\n",
       "      <th>crs_dep_time_of_day_evening</th>\n",
       "    </tr>\n",
       "  </thead>\n",
       "  <tbody>\n",
       "    <tr>\n",
       "      <th>0</th>\n",
       "      <td>19.0</td>\n",
       "      <td>0</td>\n",
       "      <td>0</td>\n",
       "      <td>0</td>\n",
       "      <td>1</td>\n",
       "      <td>0</td>\n",
       "      <td>0</td>\n",
       "      <td>0</td>\n",
       "      <td>1</td>\n",
       "      <td>0</td>\n",
       "    </tr>\n",
       "    <tr>\n",
       "      <th>1</th>\n",
       "      <td>46.0</td>\n",
       "      <td>0</td>\n",
       "      <td>0</td>\n",
       "      <td>0</td>\n",
       "      <td>1</td>\n",
       "      <td>0</td>\n",
       "      <td>0</td>\n",
       "      <td>0</td>\n",
       "      <td>0</td>\n",
       "      <td>1</td>\n",
       "    </tr>\n",
       "    <tr>\n",
       "      <th>2</th>\n",
       "      <td>-9.0</td>\n",
       "      <td>0</td>\n",
       "      <td>0</td>\n",
       "      <td>0</td>\n",
       "      <td>1</td>\n",
       "      <td>0</td>\n",
       "      <td>1</td>\n",
       "      <td>0</td>\n",
       "      <td>0</td>\n",
       "      <td>0</td>\n",
       "    </tr>\n",
       "    <tr>\n",
       "      <th>3</th>\n",
       "      <td>-3.0</td>\n",
       "      <td>0</td>\n",
       "      <td>0</td>\n",
       "      <td>0</td>\n",
       "      <td>1</td>\n",
       "      <td>0</td>\n",
       "      <td>1</td>\n",
       "      <td>0</td>\n",
       "      <td>0</td>\n",
       "      <td>0</td>\n",
       "    </tr>\n",
       "    <tr>\n",
       "      <th>4</th>\n",
       "      <td>37.0</td>\n",
       "      <td>0</td>\n",
       "      <td>0</td>\n",
       "      <td>0</td>\n",
       "      <td>1</td>\n",
       "      <td>0</td>\n",
       "      <td>0</td>\n",
       "      <td>0</td>\n",
       "      <td>1</td>\n",
       "      <td>0</td>\n",
       "    </tr>\n",
       "  </tbody>\n",
       "</table>\n",
       "</div>"
      ],
      "text/plain": [
       "   arr_delay  season_Fall  season_Spring  season_Summer  season_Winter  \\\n",
       "0       19.0            0              0              0              1   \n",
       "1       46.0            0              0              0              1   \n",
       "2       -9.0            0              0              0              1   \n",
       "3       -3.0            0              0              0              1   \n",
       "4       37.0            0              0              0              1   \n",
       "\n",
       "   crs_dep_time_of_day_early morning  crs_dep_time_of_day_late morning  \\\n",
       "0                                  0                                 0   \n",
       "1                                  0                                 0   \n",
       "2                                  0                                 1   \n",
       "3                                  0                                 1   \n",
       "4                                  0                                 0   \n",
       "\n",
       "   crs_dep_time_of_day_midday  crs_dep_time_of_day_late afternoon  \\\n",
       "0                           0                                   1   \n",
       "1                           0                                   0   \n",
       "2                           0                                   0   \n",
       "3                           0                                   0   \n",
       "4                           0                                   1   \n",
       "\n",
       "   crs_dep_time_of_day_evening  \n",
       "0                            0  \n",
       "1                            1  \n",
       "2                            0  \n",
       "3                            0  \n",
       "4                            0  "
      ]
     },
     "execution_count": 46,
     "metadata": {},
     "output_type": "execute_result"
    }
   ],
   "source": [
    "df_flights.head()"
   ]
  },
  {
   "cell_type": "code",
   "execution_count": 47,
   "metadata": {},
   "outputs": [],
   "source": [
    "X = df_flights.drop('arr_delay',axis=1).to_numpy()\n",
    "y = df_flights['arr_delay'].to_numpy()"
   ]
  },
  {
   "cell_type": "code",
   "execution_count": 48,
   "metadata": {},
   "outputs": [],
   "source": [
    "def split_data(data, target=None, percent_test=0.3, dtype='array'):\n",
    "    # Import train_test_split function\n",
    "    from sklearn.model_selection import train_test_split\n",
    "\n",
    "    # Split dataset into training set and test set\n",
    "    if dtype == 'array':      \n",
    "        X_train, X_test, y_train, y_test = train_test_split(data, target, test_size=percent_test,random_state=10)\n",
    "    \n",
    "        print(f'X_train shape: {X_train.shape}')\n",
    "        print(f'X_test shape: {X_test.shape}')\n",
    "        print(f'y_train shape: {y_train.shape}')\n",
    "        print(f'y_test shape: {y_test.shape}')\n",
    "    \n",
    "        return X_train, X_test, y_train, y_test\n",
    "    \n",
    "    if dtype == 'df':\n",
    "        df_train, df_test = train_test_split(data, test_size=percent_test,random_state=10)\n",
    "\n",
    "        print(f'df_train shape: {df_train.shape}')\n",
    "        print(f'df_test shape: {df_test.shape}')\n",
    "    \n",
    "        return df_train, df_test"
   ]
  },
  {
   "cell_type": "code",
   "execution_count": 49,
   "metadata": {},
   "outputs": [
    {
     "name": "stdout",
     "output_type": "stream",
     "text": [
      "X_train shape: (65186, 9)\n",
      "X_test shape: (27937, 9)\n",
      "y_train shape: (65186,)\n",
      "y_test shape: (27937,)\n"
     ]
    }
   ],
   "source": [
    "X_train, X_test, y_train, y_test = split_data(data=X, target=y)"
   ]
  },
  {
   "cell_type": "code",
   "execution_count": 50,
   "metadata": {},
   "outputs": [],
   "source": [
    "from sklearn.preprocessing import StandardScaler\n",
    "\n",
    "scaler = StandardScaler()"
   ]
  },
  {
   "cell_type": "code",
   "execution_count": 51,
   "metadata": {},
   "outputs": [
    {
     "data": {
      "text/html": [
       "<style>#sk-container-id-3 {color: black;background-color: white;}#sk-container-id-3 pre{padding: 0;}#sk-container-id-3 div.sk-toggleable {background-color: white;}#sk-container-id-3 label.sk-toggleable__label {cursor: pointer;display: block;width: 100%;margin-bottom: 0;padding: 0.3em;box-sizing: border-box;text-align: center;}#sk-container-id-3 label.sk-toggleable__label-arrow:before {content: \"▸\";float: left;margin-right: 0.25em;color: #696969;}#sk-container-id-3 label.sk-toggleable__label-arrow:hover:before {color: black;}#sk-container-id-3 div.sk-estimator:hover label.sk-toggleable__label-arrow:before {color: black;}#sk-container-id-3 div.sk-toggleable__content {max-height: 0;max-width: 0;overflow: hidden;text-align: left;background-color: #f0f8ff;}#sk-container-id-3 div.sk-toggleable__content pre {margin: 0.2em;color: black;border-radius: 0.25em;background-color: #f0f8ff;}#sk-container-id-3 input.sk-toggleable__control:checked~div.sk-toggleable__content {max-height: 200px;max-width: 100%;overflow: auto;}#sk-container-id-3 input.sk-toggleable__control:checked~label.sk-toggleable__label-arrow:before {content: \"▾\";}#sk-container-id-3 div.sk-estimator input.sk-toggleable__control:checked~label.sk-toggleable__label {background-color: #d4ebff;}#sk-container-id-3 div.sk-label input.sk-toggleable__control:checked~label.sk-toggleable__label {background-color: #d4ebff;}#sk-container-id-3 input.sk-hidden--visually {border: 0;clip: rect(1px 1px 1px 1px);clip: rect(1px, 1px, 1px, 1px);height: 1px;margin: -1px;overflow: hidden;padding: 0;position: absolute;width: 1px;}#sk-container-id-3 div.sk-estimator {font-family: monospace;background-color: #f0f8ff;border: 1px dotted black;border-radius: 0.25em;box-sizing: border-box;margin-bottom: 0.5em;}#sk-container-id-3 div.sk-estimator:hover {background-color: #d4ebff;}#sk-container-id-3 div.sk-parallel-item::after {content: \"\";width: 100%;border-bottom: 1px solid gray;flex-grow: 1;}#sk-container-id-3 div.sk-label:hover label.sk-toggleable__label {background-color: #d4ebff;}#sk-container-id-3 div.sk-serial::before {content: \"\";position: absolute;border-left: 1px solid gray;box-sizing: border-box;top: 0;bottom: 0;left: 50%;z-index: 0;}#sk-container-id-3 div.sk-serial {display: flex;flex-direction: column;align-items: center;background-color: white;padding-right: 0.2em;padding-left: 0.2em;position: relative;}#sk-container-id-3 div.sk-item {position: relative;z-index: 1;}#sk-container-id-3 div.sk-parallel {display: flex;align-items: stretch;justify-content: center;background-color: white;position: relative;}#sk-container-id-3 div.sk-item::before, #sk-container-id-3 div.sk-parallel-item::before {content: \"\";position: absolute;border-left: 1px solid gray;box-sizing: border-box;top: 0;bottom: 0;left: 50%;z-index: -1;}#sk-container-id-3 div.sk-parallel-item {display: flex;flex-direction: column;z-index: 1;position: relative;background-color: white;}#sk-container-id-3 div.sk-parallel-item:first-child::after {align-self: flex-end;width: 50%;}#sk-container-id-3 div.sk-parallel-item:last-child::after {align-self: flex-start;width: 50%;}#sk-container-id-3 div.sk-parallel-item:only-child::after {width: 0;}#sk-container-id-3 div.sk-dashed-wrapped {border: 1px dashed gray;margin: 0 0.4em 0.5em 0.4em;box-sizing: border-box;padding-bottom: 0.4em;background-color: white;}#sk-container-id-3 div.sk-label label {font-family: monospace;font-weight: bold;display: inline-block;line-height: 1.2em;}#sk-container-id-3 div.sk-label-container {text-align: center;}#sk-container-id-3 div.sk-container {/* jupyter's `normalize.less` sets `[hidden] { display: none; }` but bootstrap.min.css set `[hidden] { display: none !important; }` so we also need the `!important` here to be able to override the default hidden behavior on the sphinx rendered scikit-learn.org. See: https://github.com/scikit-learn/scikit-learn/issues/21755 */display: inline-block !important;position: relative;}#sk-container-id-3 div.sk-text-repr-fallback {display: none;}</style><div id=\"sk-container-id-3\" class=\"sk-top-container\"><div class=\"sk-text-repr-fallback\"><pre>StandardScaler()</pre><b>In a Jupyter environment, please rerun this cell to show the HTML representation or trust the notebook. <br />On GitHub, the HTML representation is unable to render, please try loading this page with nbviewer.org.</b></div><div class=\"sk-container\" hidden><div class=\"sk-item\"><div class=\"sk-estimator sk-toggleable\"><input class=\"sk-toggleable__control sk-hidden--visually\" id=\"sk-estimator-id-3\" type=\"checkbox\" checked><label for=\"sk-estimator-id-3\" class=\"sk-toggleable__label sk-toggleable__label-arrow\">StandardScaler</label><div class=\"sk-toggleable__content\"><pre>StandardScaler()</pre></div></div></div></div></div>"
      ],
      "text/plain": [
       "StandardScaler()"
      ]
     },
     "execution_count": 51,
     "metadata": {},
     "output_type": "execute_result"
    }
   ],
   "source": [
    "scaler.fit(X_train)"
   ]
  },
  {
   "cell_type": "code",
   "execution_count": 52,
   "metadata": {},
   "outputs": [],
   "source": [
    "X_train_scaled = scaler.transform(X_train)\n",
    "X_test_scaled = scaler.transform(X_test)"
   ]
  },
  {
   "cell_type": "code",
   "execution_count": 53,
   "metadata": {},
   "outputs": [],
   "source": [
    "X_train_scaled_df = pd.DataFrame(X_train_scaled, columns=df_flights.drop('arr_delay',axis=1).columns)"
   ]
  },
  {
   "cell_type": "code",
   "execution_count": 54,
   "metadata": {},
   "outputs": [
    {
     "data": {
      "text/html": [
       "<div>\n",
       "<style scoped>\n",
       "    .dataframe tbody tr th:only-of-type {\n",
       "        vertical-align: middle;\n",
       "    }\n",
       "\n",
       "    .dataframe tbody tr th {\n",
       "        vertical-align: top;\n",
       "    }\n",
       "\n",
       "    .dataframe thead th {\n",
       "        text-align: right;\n",
       "    }\n",
       "</style>\n",
       "<table border=\"1\" class=\"dataframe\">\n",
       "  <thead>\n",
       "    <tr style=\"text-align: right;\">\n",
       "      <th></th>\n",
       "      <th>season_Fall</th>\n",
       "      <th>season_Spring</th>\n",
       "      <th>season_Summer</th>\n",
       "      <th>season_Winter</th>\n",
       "      <th>crs_dep_time_of_day_early morning</th>\n",
       "      <th>crs_dep_time_of_day_late morning</th>\n",
       "      <th>crs_dep_time_of_day_midday</th>\n",
       "      <th>crs_dep_time_of_day_late afternoon</th>\n",
       "      <th>crs_dep_time_of_day_evening</th>\n",
       "    </tr>\n",
       "  </thead>\n",
       "  <tbody>\n",
       "    <tr>\n",
       "      <th>0</th>\n",
       "      <td>-0.587164</td>\n",
       "      <td>-0.572780</td>\n",
       "      <td>1.681047</td>\n",
       "      <td>-0.554585</td>\n",
       "      <td>-0.163045</td>\n",
       "      <td>1.419780</td>\n",
       "      <td>-0.663422</td>\n",
       "      <td>-0.625957</td>\n",
       "      <td>-0.24213</td>\n",
       "    </tr>\n",
       "    <tr>\n",
       "      <th>1</th>\n",
       "      <td>1.703100</td>\n",
       "      <td>-0.572780</td>\n",
       "      <td>-0.594867</td>\n",
       "      <td>-0.554585</td>\n",
       "      <td>-0.163045</td>\n",
       "      <td>-0.704334</td>\n",
       "      <td>-0.663422</td>\n",
       "      <td>1.597553</td>\n",
       "      <td>-0.24213</td>\n",
       "    </tr>\n",
       "    <tr>\n",
       "      <th>2</th>\n",
       "      <td>-0.587164</td>\n",
       "      <td>1.745871</td>\n",
       "      <td>-0.594867</td>\n",
       "      <td>-0.554585</td>\n",
       "      <td>-0.163045</td>\n",
       "      <td>-0.704334</td>\n",
       "      <td>-0.663422</td>\n",
       "      <td>1.597553</td>\n",
       "      <td>-0.24213</td>\n",
       "    </tr>\n",
       "    <tr>\n",
       "      <th>3</th>\n",
       "      <td>-0.587164</td>\n",
       "      <td>1.745871</td>\n",
       "      <td>-0.594867</td>\n",
       "      <td>-0.554585</td>\n",
       "      <td>-0.163045</td>\n",
       "      <td>1.419780</td>\n",
       "      <td>-0.663422</td>\n",
       "      <td>-0.625957</td>\n",
       "      <td>-0.24213</td>\n",
       "    </tr>\n",
       "    <tr>\n",
       "      <th>4</th>\n",
       "      <td>-0.587164</td>\n",
       "      <td>-0.572780</td>\n",
       "      <td>-0.594867</td>\n",
       "      <td>1.803151</td>\n",
       "      <td>-0.163045</td>\n",
       "      <td>1.419780</td>\n",
       "      <td>-0.663422</td>\n",
       "      <td>-0.625957</td>\n",
       "      <td>-0.24213</td>\n",
       "    </tr>\n",
       "  </tbody>\n",
       "</table>\n",
       "</div>"
      ],
      "text/plain": [
       "   season_Fall  season_Spring  season_Summer  season_Winter  \\\n",
       "0    -0.587164      -0.572780       1.681047      -0.554585   \n",
       "1     1.703100      -0.572780      -0.594867      -0.554585   \n",
       "2    -0.587164       1.745871      -0.594867      -0.554585   \n",
       "3    -0.587164       1.745871      -0.594867      -0.554585   \n",
       "4    -0.587164      -0.572780      -0.594867       1.803151   \n",
       "\n",
       "   crs_dep_time_of_day_early morning  crs_dep_time_of_day_late morning  \\\n",
       "0                          -0.163045                          1.419780   \n",
       "1                          -0.163045                         -0.704334   \n",
       "2                          -0.163045                         -0.704334   \n",
       "3                          -0.163045                          1.419780   \n",
       "4                          -0.163045                          1.419780   \n",
       "\n",
       "   crs_dep_time_of_day_midday  crs_dep_time_of_day_late afternoon  \\\n",
       "0                   -0.663422                           -0.625957   \n",
       "1                   -0.663422                            1.597553   \n",
       "2                   -0.663422                            1.597553   \n",
       "3                   -0.663422                           -0.625957   \n",
       "4                   -0.663422                           -0.625957   \n",
       "\n",
       "   crs_dep_time_of_day_evening  \n",
       "0                     -0.24213  \n",
       "1                     -0.24213  \n",
       "2                     -0.24213  \n",
       "3                     -0.24213  \n",
       "4                     -0.24213  "
      ]
     },
     "execution_count": 54,
     "metadata": {},
     "output_type": "execute_result"
    }
   ],
   "source": [
    "X_train_scaled_df.head()"
   ]
  },
  {
   "cell_type": "code",
   "execution_count": 55,
   "metadata": {},
   "outputs": [
    {
     "data": {
      "text/html": [
       "<div>\n",
       "<style scoped>\n",
       "    .dataframe tbody tr th:only-of-type {\n",
       "        vertical-align: middle;\n",
       "    }\n",
       "\n",
       "    .dataframe tbody tr th {\n",
       "        vertical-align: top;\n",
       "    }\n",
       "\n",
       "    .dataframe thead th {\n",
       "        text-align: right;\n",
       "    }\n",
       "</style>\n",
       "<table border=\"1\" class=\"dataframe\">\n",
       "  <thead>\n",
       "    <tr style=\"text-align: right;\">\n",
       "      <th></th>\n",
       "      <th>Mean Absolute Error</th>\n",
       "      <th>Root Mean Square Error</th>\n",
       "      <th>R Squared</th>\n",
       "      <th>Adjusted R Squared</th>\n",
       "    </tr>\n",
       "  </thead>\n",
       "  <tbody>\n",
       "    <tr>\n",
       "      <th>linear</th>\n",
       "      <td>18.339916</td>\n",
       "      <td>27.601299</td>\n",
       "      <td>0.019379</td>\n",
       "      <td>0.019063</td>\n",
       "    </tr>\n",
       "  </tbody>\n",
       "</table>\n",
       "</div>"
      ],
      "text/plain": [
       "        Mean Absolute Error  Root Mean Square Error  R Squared  \\\n",
       "linear            18.339916               27.601299   0.019379   \n",
       "\n",
       "        Adjusted R Squared  \n",
       "linear            0.019063  "
      ]
     },
     "execution_count": 55,
     "metadata": {},
     "output_type": "execute_result"
    }
   ],
   "source": [
    "model_comparison_linear = IFPE_Regression(X_train_scaled, y_train, X_test_scaled, y_test, regressor='linear', deg=None)\n",
    "model_comparison_linear"
   ]
  },
  {
   "cell_type": "code",
   "execution_count": 56,
   "metadata": {},
   "outputs": [
    {
     "data": {
      "text/html": [
       "<div>\n",
       "<style scoped>\n",
       "    .dataframe tbody tr th:only-of-type {\n",
       "        vertical-align: middle;\n",
       "    }\n",
       "\n",
       "    .dataframe tbody tr th {\n",
       "        vertical-align: top;\n",
       "    }\n",
       "\n",
       "    .dataframe thead th {\n",
       "        text-align: right;\n",
       "    }\n",
       "</style>\n",
       "<table border=\"1\" class=\"dataframe\">\n",
       "  <thead>\n",
       "    <tr style=\"text-align: right;\">\n",
       "      <th></th>\n",
       "      <th>Mean Absolute Error</th>\n",
       "      <th>Root Mean Square Error</th>\n",
       "      <th>R Squared</th>\n",
       "      <th>Adjusted R Squared</th>\n",
       "    </tr>\n",
       "  </thead>\n",
       "  <tbody>\n",
       "    <tr>\n",
       "      <th>ridge</th>\n",
       "      <td>18.341577</td>\n",
       "      <td>27.601991</td>\n",
       "      <td>0.01933</td>\n",
       "      <td>0.019014</td>\n",
       "    </tr>\n",
       "  </tbody>\n",
       "</table>\n",
       "</div>"
      ],
      "text/plain": [
       "       Mean Absolute Error  Root Mean Square Error  R Squared  \\\n",
       "ridge            18.341577               27.601991    0.01933   \n",
       "\n",
       "       Adjusted R Squared  \n",
       "ridge            0.019014  "
      ]
     },
     "execution_count": 56,
     "metadata": {},
     "output_type": "execute_result"
    }
   ],
   "source": [
    "model_comparison_ridge = IFPE_Regression(X_train_scaled, y_train, X_test_scaled, y_test, regressor='ridge', deg=None)\n",
    "model_comparison_ridge"
   ]
  },
  {
   "cell_type": "code",
   "execution_count": 57,
   "metadata": {},
   "outputs": [
    {
     "data": {
      "text/html": [
       "<div>\n",
       "<style scoped>\n",
       "    .dataframe tbody tr th:only-of-type {\n",
       "        vertical-align: middle;\n",
       "    }\n",
       "\n",
       "    .dataframe tbody tr th {\n",
       "        vertical-align: top;\n",
       "    }\n",
       "\n",
       "    .dataframe thead th {\n",
       "        text-align: right;\n",
       "    }\n",
       "</style>\n",
       "<table border=\"1\" class=\"dataframe\">\n",
       "  <thead>\n",
       "    <tr style=\"text-align: right;\">\n",
       "      <th></th>\n",
       "      <th>Mean Absolute Error</th>\n",
       "      <th>Root Mean Square Error</th>\n",
       "      <th>R Squared</th>\n",
       "      <th>Adjusted R Squared</th>\n",
       "    </tr>\n",
       "  </thead>\n",
       "  <tbody>\n",
       "    <tr>\n",
       "      <th>lasso</th>\n",
       "      <td>18.34605</td>\n",
       "      <td>27.665254</td>\n",
       "      <td>0.01483</td>\n",
       "      <td>0.014512</td>\n",
       "    </tr>\n",
       "  </tbody>\n",
       "</table>\n",
       "</div>"
      ],
      "text/plain": [
       "       Mean Absolute Error  Root Mean Square Error  R Squared  \\\n",
       "lasso             18.34605               27.665254    0.01483   \n",
       "\n",
       "       Adjusted R Squared  \n",
       "lasso            0.014512  "
      ]
     },
     "execution_count": 57,
     "metadata": {},
     "output_type": "execute_result"
    }
   ],
   "source": [
    "model_comparison_lasso = IFPE_Regression(X_train_scaled, y_train, X_test_scaled, y_test, regressor='lasso', deg=None)\n",
    "model_comparison_lasso"
   ]
  },
  {
   "cell_type": "code",
   "execution_count": 58,
   "metadata": {},
   "outputs": [
    {
     "data": {
      "text/html": [
       "<div>\n",
       "<style scoped>\n",
       "    .dataframe tbody tr th:only-of-type {\n",
       "        vertical-align: middle;\n",
       "    }\n",
       "\n",
       "    .dataframe tbody tr th {\n",
       "        vertical-align: top;\n",
       "    }\n",
       "\n",
       "    .dataframe thead th {\n",
       "        text-align: right;\n",
       "    }\n",
       "</style>\n",
       "<table border=\"1\" class=\"dataframe\">\n",
       "  <thead>\n",
       "    <tr style=\"text-align: right;\">\n",
       "      <th></th>\n",
       "      <th>Mean Absolute Error</th>\n",
       "      <th>Root Mean Square Error</th>\n",
       "      <th>R Squared</th>\n",
       "      <th>Adjusted R Squared</th>\n",
       "    </tr>\n",
       "  </thead>\n",
       "  <tbody>\n",
       "    <tr>\n",
       "      <th>polynomial</th>\n",
       "      <td>18.312436</td>\n",
       "      <td>27.586304</td>\n",
       "      <td>0.020445</td>\n",
       "      <td>0.018512</td>\n",
       "    </tr>\n",
       "  </tbody>\n",
       "</table>\n",
       "</div>"
      ],
      "text/plain": [
       "            Mean Absolute Error  Root Mean Square Error  R Squared  \\\n",
       "polynomial            18.312436               27.586304   0.020445   \n",
       "\n",
       "            Adjusted R Squared  \n",
       "polynomial            0.018512  "
      ]
     },
     "execution_count": 58,
     "metadata": {},
     "output_type": "execute_result"
    }
   ],
   "source": [
    "model_comparison_poly2 = IFPE_Regression(X_train_scaled, y_train, X_test_scaled, y_test, regressor='polynomial', deg=2)\n",
    "model_comparison_poly2"
   ]
  },
  {
   "cell_type": "code",
   "execution_count": 59,
   "metadata": {},
   "outputs": [
    {
     "data": {
      "text/html": [
       "<div>\n",
       "<style scoped>\n",
       "    .dataframe tbody tr th:only-of-type {\n",
       "        vertical-align: middle;\n",
       "    }\n",
       "\n",
       "    .dataframe tbody tr th {\n",
       "        vertical-align: top;\n",
       "    }\n",
       "\n",
       "    .dataframe thead th {\n",
       "        text-align: right;\n",
       "    }\n",
       "</style>\n",
       "<table border=\"1\" class=\"dataframe\">\n",
       "  <thead>\n",
       "    <tr style=\"text-align: right;\">\n",
       "      <th></th>\n",
       "      <th>Mean Absolute Error</th>\n",
       "      <th>Root Mean Square Error</th>\n",
       "      <th>R Squared</th>\n",
       "      <th>Adjusted R Squared</th>\n",
       "    </tr>\n",
       "  </thead>\n",
       "  <tbody>\n",
       "    <tr>\n",
       "      <th>polynomial</th>\n",
       "      <td>18.319485</td>\n",
       "      <td>27.587014</td>\n",
       "      <td>0.020394</td>\n",
       "      <td>0.012618</td>\n",
       "    </tr>\n",
       "  </tbody>\n",
       "</table>\n",
       "</div>"
      ],
      "text/plain": [
       "            Mean Absolute Error  Root Mean Square Error  R Squared  \\\n",
       "polynomial            18.319485               27.587014   0.020394   \n",
       "\n",
       "            Adjusted R Squared  \n",
       "polynomial            0.012618  "
      ]
     },
     "execution_count": 59,
     "metadata": {},
     "output_type": "execute_result"
    }
   ],
   "source": [
    "model_comparison_poly3 = IFPE_Regression(X_train, y_train, X_test, y_test, regressor='polynomial', deg=3)\n",
    "model_comparison_poly3"
   ]
  },
  {
   "cell_type": "code",
   "execution_count": 60,
   "metadata": {},
   "outputs": [
    {
     "data": {
      "text/html": [
       "<div>\n",
       "<style scoped>\n",
       "    .dataframe tbody tr th:only-of-type {\n",
       "        vertical-align: middle;\n",
       "    }\n",
       "\n",
       "    .dataframe tbody tr th {\n",
       "        vertical-align: top;\n",
       "    }\n",
       "\n",
       "    .dataframe thead th {\n",
       "        text-align: right;\n",
       "    }\n",
       "</style>\n",
       "<table border=\"1\" class=\"dataframe\">\n",
       "  <thead>\n",
       "    <tr style=\"text-align: right;\">\n",
       "      <th></th>\n",
       "      <th>Mean Absolute Error</th>\n",
       "      <th>Root Mean Square Error</th>\n",
       "      <th>R Squared</th>\n",
       "      <th>Adjusted R Squared</th>\n",
       "    </tr>\n",
       "  </thead>\n",
       "  <tbody>\n",
       "    <tr>\n",
       "      <th>sgd</th>\n",
       "      <td>18.211465</td>\n",
       "      <td>27.618035</td>\n",
       "      <td>0.01819</td>\n",
       "      <td>0.017873</td>\n",
       "    </tr>\n",
       "  </tbody>\n",
       "</table>\n",
       "</div>"
      ],
      "text/plain": [
       "     Mean Absolute Error  Root Mean Square Error  R Squared  \\\n",
       "sgd            18.211465               27.618035    0.01819   \n",
       "\n",
       "     Adjusted R Squared  \n",
       "sgd            0.017873  "
      ]
     },
     "execution_count": 60,
     "metadata": {},
     "output_type": "execute_result"
    }
   ],
   "source": [
    "model_comparison_sgd = IFPE_Regression(X_train_scaled, y_train, X_test_scaled, y_test, regressor='sgd', deg=None)\n",
    "model_comparison_sgd"
   ]
  },
  {
   "cell_type": "code",
   "execution_count": 61,
   "metadata": {},
   "outputs": [],
   "source": [
    "# model_comparison_svm = IFPE_Regression(X_train, y_train, X_test, y_test, regressor='svm', deg=None)\n",
    "# model_comparison_svm"
   ]
  },
  {
   "cell_type": "code",
   "execution_count": 62,
   "metadata": {},
   "outputs": [
    {
     "data": {
      "text/html": [
       "<div>\n",
       "<style scoped>\n",
       "    .dataframe tbody tr th:only-of-type {\n",
       "        vertical-align: middle;\n",
       "    }\n",
       "\n",
       "    .dataframe tbody tr th {\n",
       "        vertical-align: top;\n",
       "    }\n",
       "\n",
       "    .dataframe thead th {\n",
       "        text-align: right;\n",
       "    }\n",
       "</style>\n",
       "<table border=\"1\" class=\"dataframe\">\n",
       "  <thead>\n",
       "    <tr style=\"text-align: right;\">\n",
       "      <th></th>\n",
       "      <th>Mean Absolute Error</th>\n",
       "      <th>Root Mean Square Error</th>\n",
       "      <th>R Squared</th>\n",
       "      <th>Adjusted R Squared</th>\n",
       "    </tr>\n",
       "  </thead>\n",
       "  <tbody>\n",
       "    <tr>\n",
       "      <th>dt</th>\n",
       "      <td>18.317469</td>\n",
       "      <td>27.586332</td>\n",
       "      <td>0.020443</td>\n",
       "      <td>0.020127</td>\n",
       "    </tr>\n",
       "  </tbody>\n",
       "</table>\n",
       "</div>"
      ],
      "text/plain": [
       "    Mean Absolute Error  Root Mean Square Error  R Squared  Adjusted R Squared\n",
       "dt            18.317469               27.586332   0.020443            0.020127"
      ]
     },
     "execution_count": 62,
     "metadata": {},
     "output_type": "execute_result"
    }
   ],
   "source": [
    "model_comparison_dt = IFPE_Regression(X_train_scaled, y_train, X_test_scaled, y_test, regressor='dt', deg=None)\n",
    "model_comparison_dt"
   ]
  },
  {
   "cell_type": "code",
   "execution_count": 63,
   "metadata": {},
   "outputs": [
    {
     "data": {
      "text/html": [
       "<div>\n",
       "<style scoped>\n",
       "    .dataframe tbody tr th:only-of-type {\n",
       "        vertical-align: middle;\n",
       "    }\n",
       "\n",
       "    .dataframe tbody tr th {\n",
       "        vertical-align: top;\n",
       "    }\n",
       "\n",
       "    .dataframe thead th {\n",
       "        text-align: right;\n",
       "    }\n",
       "</style>\n",
       "<table border=\"1\" class=\"dataframe\">\n",
       "  <thead>\n",
       "    <tr style=\"text-align: right;\">\n",
       "      <th></th>\n",
       "      <th>Mean Absolute Error</th>\n",
       "      <th>Root Mean Square Error</th>\n",
       "      <th>R Squared</th>\n",
       "      <th>Adjusted R Squared</th>\n",
       "    </tr>\n",
       "  </thead>\n",
       "  <tbody>\n",
       "    <tr>\n",
       "      <th>rf</th>\n",
       "      <td>18.362236</td>\n",
       "      <td>27.651312</td>\n",
       "      <td>0.015823</td>\n",
       "      <td>0.015505</td>\n",
       "    </tr>\n",
       "  </tbody>\n",
       "</table>\n",
       "</div>"
      ],
      "text/plain": [
       "    Mean Absolute Error  Root Mean Square Error  R Squared  Adjusted R Squared\n",
       "rf            18.362236               27.651312   0.015823            0.015505"
      ]
     },
     "execution_count": 63,
     "metadata": {},
     "output_type": "execute_result"
    }
   ],
   "source": [
    "model_comparison_rf = IFPE_Regression(X_train_scaled, y_train, X_test_scaled, y_test, regressor='rf', deg=None)\n",
    "model_comparison_rf"
   ]
  },
  {
   "cell_type": "code",
   "execution_count": 64,
   "metadata": {},
   "outputs": [
    {
     "data": {
      "text/html": [
       "<div>\n",
       "<style scoped>\n",
       "    .dataframe tbody tr th:only-of-type {\n",
       "        vertical-align: middle;\n",
       "    }\n",
       "\n",
       "    .dataframe tbody tr th {\n",
       "        vertical-align: top;\n",
       "    }\n",
       "\n",
       "    .dataframe thead th {\n",
       "        text-align: right;\n",
       "    }\n",
       "</style>\n",
       "<table border=\"1\" class=\"dataframe\">\n",
       "  <thead>\n",
       "    <tr style=\"text-align: right;\">\n",
       "      <th></th>\n",
       "      <th>Mean Absolute Error</th>\n",
       "      <th>Root Mean Square Error</th>\n",
       "      <th>R Squared</th>\n",
       "      <th>Adjusted R Squared</th>\n",
       "    </tr>\n",
       "  </thead>\n",
       "  <tbody>\n",
       "    <tr>\n",
       "      <th>gb</th>\n",
       "      <td>18.317293</td>\n",
       "      <td>27.585999</td>\n",
       "      <td>0.020466</td>\n",
       "      <td>0.020151</td>\n",
       "    </tr>\n",
       "  </tbody>\n",
       "</table>\n",
       "</div>"
      ],
      "text/plain": [
       "    Mean Absolute Error  Root Mean Square Error  R Squared  Adjusted R Squared\n",
       "gb            18.317293               27.585999   0.020466            0.020151"
      ]
     },
     "execution_count": 64,
     "metadata": {},
     "output_type": "execute_result"
    }
   ],
   "source": [
    "model_comparison_gb = IFPE_Regression(X_train_scaled, y_train, X_test_scaled, y_test, regressor='gb', deg=None)\n",
    "model_comparison_gb"
   ]
  },
  {
   "cell_type": "code",
   "execution_count": 65,
   "metadata": {},
   "outputs": [
    {
     "data": {
      "text/html": [
       "<div>\n",
       "<style scoped>\n",
       "    .dataframe tbody tr th:only-of-type {\n",
       "        vertical-align: middle;\n",
       "    }\n",
       "\n",
       "    .dataframe tbody tr th {\n",
       "        vertical-align: top;\n",
       "    }\n",
       "\n",
       "    .dataframe thead th {\n",
       "        text-align: right;\n",
       "    }\n",
       "</style>\n",
       "<table border=\"1\" class=\"dataframe\">\n",
       "  <thead>\n",
       "    <tr style=\"text-align: right;\">\n",
       "      <th></th>\n",
       "      <th>Mean Absolute Error</th>\n",
       "      <th>Root Mean Square Error</th>\n",
       "      <th>R Squared</th>\n",
       "      <th>Adjusted R Squared</th>\n",
       "    </tr>\n",
       "  </thead>\n",
       "  <tbody>\n",
       "    <tr>\n",
       "      <th>vr</th>\n",
       "      <td>18.31885</td>\n",
       "      <td>27.585712</td>\n",
       "      <td>0.020487</td>\n",
       "      <td>0.020171</td>\n",
       "    </tr>\n",
       "  </tbody>\n",
       "</table>\n",
       "</div>"
      ],
      "text/plain": [
       "    Mean Absolute Error  Root Mean Square Error  R Squared  Adjusted R Squared\n",
       "vr             18.31885               27.585712   0.020487            0.020171"
      ]
     },
     "execution_count": 65,
     "metadata": {},
     "output_type": "execute_result"
    }
   ],
   "source": [
    "model_comparison_vr = IFPE_Regression(X_train_scaled, y_train, X_test_scaled, y_test, regressor='vr', deg=None)\n",
    "model_comparison_vr"
   ]
  },
  {
   "cell_type": "code",
   "execution_count": 66,
   "metadata": {},
   "outputs": [
    {
     "data": {
      "text/html": [
       "<div>\n",
       "<style scoped>\n",
       "    .dataframe tbody tr th:only-of-type {\n",
       "        vertical-align: middle;\n",
       "    }\n",
       "\n",
       "    .dataframe tbody tr th {\n",
       "        vertical-align: top;\n",
       "    }\n",
       "\n",
       "    .dataframe thead th {\n",
       "        text-align: right;\n",
       "    }\n",
       "</style>\n",
       "<table border=\"1\" class=\"dataframe\">\n",
       "  <thead>\n",
       "    <tr style=\"text-align: right;\">\n",
       "      <th></th>\n",
       "      <th>Mean Absolute Error</th>\n",
       "      <th>Root Mean Square Error</th>\n",
       "      <th>R Squared</th>\n",
       "      <th>Adjusted R Squared</th>\n",
       "    </tr>\n",
       "  </thead>\n",
       "  <tbody>\n",
       "    <tr>\n",
       "      <th>xgb</th>\n",
       "      <td>18.317469</td>\n",
       "      <td>27.586331</td>\n",
       "      <td>0.020443</td>\n",
       "      <td>0.020127</td>\n",
       "    </tr>\n",
       "  </tbody>\n",
       "</table>\n",
       "</div>"
      ],
      "text/plain": [
       "     Mean Absolute Error  Root Mean Square Error  R Squared  \\\n",
       "xgb            18.317469               27.586331   0.020443   \n",
       "\n",
       "     Adjusted R Squared  \n",
       "xgb            0.020127  "
      ]
     },
     "execution_count": 66,
     "metadata": {},
     "output_type": "execute_result"
    }
   ],
   "source": [
    "model_comparison_xgb = IFPE_Regression(X_train_scaled, y_train, X_test_scaled, y_test, regressor='xgb', deg=None)\n",
    "model_comparison_xgb"
   ]
  },
  {
   "cell_type": "code",
   "execution_count": 67,
   "metadata": {},
   "outputs": [],
   "source": [
    "model_comparison = pd.concat([model_comparison_linear,model_comparison_ridge,model_comparison_lasso,model_comparison_poly2,model_comparison_poly3,model_comparison_sgd,model_comparison_dt,model_comparison_rf,model_comparison_gb,model_comparison_vr,model_comparison_xgb])\n"
   ]
  },
  {
   "cell_type": "code",
   "execution_count": 68,
   "metadata": {},
   "outputs": [
    {
     "data": {
      "text/html": [
       "<div>\n",
       "<style scoped>\n",
       "    .dataframe tbody tr th:only-of-type {\n",
       "        vertical-align: middle;\n",
       "    }\n",
       "\n",
       "    .dataframe tbody tr th {\n",
       "        vertical-align: top;\n",
       "    }\n",
       "\n",
       "    .dataframe thead th {\n",
       "        text-align: right;\n",
       "    }\n",
       "</style>\n",
       "<table border=\"1\" class=\"dataframe\">\n",
       "  <thead>\n",
       "    <tr style=\"text-align: right;\">\n",
       "      <th></th>\n",
       "      <th>Mean Absolute Error</th>\n",
       "      <th>Root Mean Square Error</th>\n",
       "      <th>R Squared</th>\n",
       "      <th>Adjusted R Squared</th>\n",
       "    </tr>\n",
       "  </thead>\n",
       "  <tbody>\n",
       "    <tr>\n",
       "      <th>vr</th>\n",
       "      <td>18.318850</td>\n",
       "      <td>27.585712</td>\n",
       "      <td>0.020487</td>\n",
       "      <td>0.020171</td>\n",
       "    </tr>\n",
       "    <tr>\n",
       "      <th>gb</th>\n",
       "      <td>18.317293</td>\n",
       "      <td>27.585999</td>\n",
       "      <td>0.020466</td>\n",
       "      <td>0.020151</td>\n",
       "    </tr>\n",
       "    <tr>\n",
       "      <th>polynomial</th>\n",
       "      <td>18.312436</td>\n",
       "      <td>27.586304</td>\n",
       "      <td>0.020445</td>\n",
       "      <td>0.018512</td>\n",
       "    </tr>\n",
       "    <tr>\n",
       "      <th>xgb</th>\n",
       "      <td>18.317469</td>\n",
       "      <td>27.586331</td>\n",
       "      <td>0.020443</td>\n",
       "      <td>0.020127</td>\n",
       "    </tr>\n",
       "    <tr>\n",
       "      <th>dt</th>\n",
       "      <td>18.317469</td>\n",
       "      <td>27.586332</td>\n",
       "      <td>0.020443</td>\n",
       "      <td>0.020127</td>\n",
       "    </tr>\n",
       "    <tr>\n",
       "      <th>polynomial</th>\n",
       "      <td>18.319485</td>\n",
       "      <td>27.587014</td>\n",
       "      <td>0.020394</td>\n",
       "      <td>0.012618</td>\n",
       "    </tr>\n",
       "    <tr>\n",
       "      <th>linear</th>\n",
       "      <td>18.339916</td>\n",
       "      <td>27.601299</td>\n",
       "      <td>0.019379</td>\n",
       "      <td>0.019063</td>\n",
       "    </tr>\n",
       "    <tr>\n",
       "      <th>ridge</th>\n",
       "      <td>18.341577</td>\n",
       "      <td>27.601991</td>\n",
       "      <td>0.019330</td>\n",
       "      <td>0.019014</td>\n",
       "    </tr>\n",
       "    <tr>\n",
       "      <th>sgd</th>\n",
       "      <td>18.211465</td>\n",
       "      <td>27.618035</td>\n",
       "      <td>0.018190</td>\n",
       "      <td>0.017873</td>\n",
       "    </tr>\n",
       "    <tr>\n",
       "      <th>rf</th>\n",
       "      <td>18.362236</td>\n",
       "      <td>27.651312</td>\n",
       "      <td>0.015823</td>\n",
       "      <td>0.015505</td>\n",
       "    </tr>\n",
       "    <tr>\n",
       "      <th>lasso</th>\n",
       "      <td>18.346050</td>\n",
       "      <td>27.665254</td>\n",
       "      <td>0.014830</td>\n",
       "      <td>0.014512</td>\n",
       "    </tr>\n",
       "  </tbody>\n",
       "</table>\n",
       "</div>"
      ],
      "text/plain": [
       "            Mean Absolute Error  Root Mean Square Error  R Squared  \\\n",
       "vr                    18.318850               27.585712   0.020487   \n",
       "gb                    18.317293               27.585999   0.020466   \n",
       "polynomial            18.312436               27.586304   0.020445   \n",
       "xgb                   18.317469               27.586331   0.020443   \n",
       "dt                    18.317469               27.586332   0.020443   \n",
       "polynomial            18.319485               27.587014   0.020394   \n",
       "linear                18.339916               27.601299   0.019379   \n",
       "ridge                 18.341577               27.601991   0.019330   \n",
       "sgd                   18.211465               27.618035   0.018190   \n",
       "rf                    18.362236               27.651312   0.015823   \n",
       "lasso                 18.346050               27.665254   0.014830   \n",
       "\n",
       "            Adjusted R Squared  \n",
       "vr                    0.020171  \n",
       "gb                    0.020151  \n",
       "polynomial            0.018512  \n",
       "xgb                   0.020127  \n",
       "dt                    0.020127  \n",
       "polynomial            0.012618  \n",
       "linear                0.019063  \n",
       "ridge                 0.019014  \n",
       "sgd                   0.017873  \n",
       "rf                    0.015505  \n",
       "lasso                 0.014512  "
      ]
     },
     "execution_count": 68,
     "metadata": {},
     "output_type": "execute_result"
    }
   ],
   "source": [
    "iteration2 = model_comparison.sort_values('R Squared', ascending=False)\n",
    "iteration2"
   ]
  },
  {
   "cell_type": "code",
   "execution_count": null,
   "metadata": {},
   "outputs": [],
   "source": []
  },
  {
   "cell_type": "markdown",
   "metadata": {},
   "source": [
    "# Iteration 3"
   ]
  },
  {
   "cell_type": "code",
   "execution_count": 69,
   "metadata": {},
   "outputs": [],
   "source": [
    "import pickle\n",
    "\n",
    "with open('iteration3.pickle','rb') as flight_data_file:\n",
    "     df_flights = pickle.load(flight_data_file)"
   ]
  },
  {
   "cell_type": "code",
   "execution_count": 70,
   "metadata": {},
   "outputs": [
    {
     "data": {
      "text/html": [
       "<div>\n",
       "<style scoped>\n",
       "    .dataframe tbody tr th:only-of-type {\n",
       "        vertical-align: middle;\n",
       "    }\n",
       "\n",
       "    .dataframe tbody tr th {\n",
       "        vertical-align: top;\n",
       "    }\n",
       "\n",
       "    .dataframe thead th {\n",
       "        text-align: right;\n",
       "    }\n",
       "</style>\n",
       "<table border=\"1\" class=\"dataframe\">\n",
       "  <thead>\n",
       "    <tr style=\"text-align: right;\">\n",
       "      <th></th>\n",
       "      <th>arr_delay</th>\n",
       "      <th>season_Fall</th>\n",
       "      <th>season_Spring</th>\n",
       "      <th>season_Summer</th>\n",
       "      <th>season_Winter</th>\n",
       "      <th>crs_dep_time_of_day_early morning</th>\n",
       "      <th>crs_dep_time_of_day_late morning</th>\n",
       "      <th>crs_dep_time_of_day_midday</th>\n",
       "      <th>crs_dep_time_of_day_late afternoon</th>\n",
       "      <th>crs_dep_time_of_day_evening</th>\n",
       "      <th>crs_arr_time_of_day_early morning</th>\n",
       "      <th>crs_arr_time_of_day_late morning</th>\n",
       "      <th>crs_arr_time_of_day_midday</th>\n",
       "      <th>crs_arr_time_of_day_late afternoon</th>\n",
       "      <th>crs_arr_time_of_day_evening</th>\n",
       "    </tr>\n",
       "  </thead>\n",
       "  <tbody>\n",
       "    <tr>\n",
       "      <th>0</th>\n",
       "      <td>19.0</td>\n",
       "      <td>0</td>\n",
       "      <td>0</td>\n",
       "      <td>0</td>\n",
       "      <td>1</td>\n",
       "      <td>0</td>\n",
       "      <td>0</td>\n",
       "      <td>0</td>\n",
       "      <td>1</td>\n",
       "      <td>0</td>\n",
       "      <td>0</td>\n",
       "      <td>0</td>\n",
       "      <td>0</td>\n",
       "      <td>0</td>\n",
       "      <td>1</td>\n",
       "    </tr>\n",
       "    <tr>\n",
       "      <th>1</th>\n",
       "      <td>46.0</td>\n",
       "      <td>0</td>\n",
       "      <td>0</td>\n",
       "      <td>0</td>\n",
       "      <td>1</td>\n",
       "      <td>0</td>\n",
       "      <td>0</td>\n",
       "      <td>0</td>\n",
       "      <td>0</td>\n",
       "      <td>1</td>\n",
       "      <td>0</td>\n",
       "      <td>0</td>\n",
       "      <td>1</td>\n",
       "      <td>0</td>\n",
       "      <td>0</td>\n",
       "    </tr>\n",
       "    <tr>\n",
       "      <th>2</th>\n",
       "      <td>-9.0</td>\n",
       "      <td>0</td>\n",
       "      <td>0</td>\n",
       "      <td>0</td>\n",
       "      <td>1</td>\n",
       "      <td>0</td>\n",
       "      <td>1</td>\n",
       "      <td>0</td>\n",
       "      <td>0</td>\n",
       "      <td>0</td>\n",
       "      <td>0</td>\n",
       "      <td>0</td>\n",
       "      <td>1</td>\n",
       "      <td>0</td>\n",
       "      <td>0</td>\n",
       "    </tr>\n",
       "    <tr>\n",
       "      <th>3</th>\n",
       "      <td>-3.0</td>\n",
       "      <td>0</td>\n",
       "      <td>0</td>\n",
       "      <td>0</td>\n",
       "      <td>1</td>\n",
       "      <td>0</td>\n",
       "      <td>1</td>\n",
       "      <td>0</td>\n",
       "      <td>0</td>\n",
       "      <td>0</td>\n",
       "      <td>0</td>\n",
       "      <td>1</td>\n",
       "      <td>0</td>\n",
       "      <td>0</td>\n",
       "      <td>0</td>\n",
       "    </tr>\n",
       "    <tr>\n",
       "      <th>4</th>\n",
       "      <td>37.0</td>\n",
       "      <td>0</td>\n",
       "      <td>0</td>\n",
       "      <td>0</td>\n",
       "      <td>1</td>\n",
       "      <td>0</td>\n",
       "      <td>0</td>\n",
       "      <td>0</td>\n",
       "      <td>1</td>\n",
       "      <td>0</td>\n",
       "      <td>0</td>\n",
       "      <td>0</td>\n",
       "      <td>0</td>\n",
       "      <td>1</td>\n",
       "      <td>0</td>\n",
       "    </tr>\n",
       "  </tbody>\n",
       "</table>\n",
       "</div>"
      ],
      "text/plain": [
       "   arr_delay  season_Fall  season_Spring  season_Summer  season_Winter  \\\n",
       "0       19.0            0              0              0              1   \n",
       "1       46.0            0              0              0              1   \n",
       "2       -9.0            0              0              0              1   \n",
       "3       -3.0            0              0              0              1   \n",
       "4       37.0            0              0              0              1   \n",
       "\n",
       "   crs_dep_time_of_day_early morning  crs_dep_time_of_day_late morning  \\\n",
       "0                                  0                                 0   \n",
       "1                                  0                                 0   \n",
       "2                                  0                                 1   \n",
       "3                                  0                                 1   \n",
       "4                                  0                                 0   \n",
       "\n",
       "   crs_dep_time_of_day_midday  crs_dep_time_of_day_late afternoon  \\\n",
       "0                           0                                   1   \n",
       "1                           0                                   0   \n",
       "2                           0                                   0   \n",
       "3                           0                                   0   \n",
       "4                           0                                   1   \n",
       "\n",
       "   crs_dep_time_of_day_evening  crs_arr_time_of_day_early morning  \\\n",
       "0                            0                                  0   \n",
       "1                            1                                  0   \n",
       "2                            0                                  0   \n",
       "3                            0                                  0   \n",
       "4                            0                                  0   \n",
       "\n",
       "   crs_arr_time_of_day_late morning  crs_arr_time_of_day_midday  \\\n",
       "0                                 0                           0   \n",
       "1                                 0                           1   \n",
       "2                                 0                           1   \n",
       "3                                 1                           0   \n",
       "4                                 0                           0   \n",
       "\n",
       "   crs_arr_time_of_day_late afternoon  crs_arr_time_of_day_evening  \n",
       "0                                   0                            1  \n",
       "1                                   0                            0  \n",
       "2                                   0                            0  \n",
       "3                                   0                            0  \n",
       "4                                   1                            0  "
      ]
     },
     "execution_count": 70,
     "metadata": {},
     "output_type": "execute_result"
    }
   ],
   "source": [
    "df_flights.head()"
   ]
  },
  {
   "cell_type": "code",
   "execution_count": 71,
   "metadata": {},
   "outputs": [],
   "source": [
    "X = df_flights.drop('arr_delay',axis=1).to_numpy()\n",
    "y = df_flights['arr_delay'].to_numpy()"
   ]
  },
  {
   "cell_type": "code",
   "execution_count": 72,
   "metadata": {},
   "outputs": [],
   "source": [
    "def split_data(data, target=None, percent_test=0.3, dtype='array'):\n",
    "    # Import train_test_split function\n",
    "    from sklearn.model_selection import train_test_split\n",
    "\n",
    "    # Split dataset into training set and test set\n",
    "    if dtype == 'array':      \n",
    "        X_train, X_test, y_train, y_test = train_test_split(data, target, test_size=percent_test,random_state=10)\n",
    "    \n",
    "        print(f'X_train shape: {X_train.shape}')\n",
    "        print(f'X_test shape: {X_test.shape}')\n",
    "        print(f'y_train shape: {y_train.shape}')\n",
    "        print(f'y_test shape: {y_test.shape}')\n",
    "    \n",
    "        return X_train, X_test, y_train, y_test\n",
    "    \n",
    "    if dtype == 'df':\n",
    "        df_train, df_test = train_test_split(data, test_size=percent_test,random_state=10)\n",
    "\n",
    "        print(f'df_train shape: {df_train.shape}')\n",
    "        print(f'df_test shape: {df_test.shape}')\n",
    "    \n",
    "        return df_train, df_test"
   ]
  },
  {
   "cell_type": "code",
   "execution_count": 73,
   "metadata": {},
   "outputs": [
    {
     "name": "stdout",
     "output_type": "stream",
     "text": [
      "X_train shape: (65186, 14)\n",
      "X_test shape: (27937, 14)\n",
      "y_train shape: (65186,)\n",
      "y_test shape: (27937,)\n"
     ]
    }
   ],
   "source": [
    "X_train, X_test, y_train, y_test = split_data(data=X, target=y)"
   ]
  },
  {
   "cell_type": "code",
   "execution_count": 74,
   "metadata": {},
   "outputs": [],
   "source": [
    "from sklearn.preprocessing import StandardScaler\n",
    "\n",
    "scaler = StandardScaler()"
   ]
  },
  {
   "cell_type": "code",
   "execution_count": 75,
   "metadata": {},
   "outputs": [
    {
     "data": {
      "text/html": [
       "<style>#sk-container-id-4 {color: black;background-color: white;}#sk-container-id-4 pre{padding: 0;}#sk-container-id-4 div.sk-toggleable {background-color: white;}#sk-container-id-4 label.sk-toggleable__label {cursor: pointer;display: block;width: 100%;margin-bottom: 0;padding: 0.3em;box-sizing: border-box;text-align: center;}#sk-container-id-4 label.sk-toggleable__label-arrow:before {content: \"▸\";float: left;margin-right: 0.25em;color: #696969;}#sk-container-id-4 label.sk-toggleable__label-arrow:hover:before {color: black;}#sk-container-id-4 div.sk-estimator:hover label.sk-toggleable__label-arrow:before {color: black;}#sk-container-id-4 div.sk-toggleable__content {max-height: 0;max-width: 0;overflow: hidden;text-align: left;background-color: #f0f8ff;}#sk-container-id-4 div.sk-toggleable__content pre {margin: 0.2em;color: black;border-radius: 0.25em;background-color: #f0f8ff;}#sk-container-id-4 input.sk-toggleable__control:checked~div.sk-toggleable__content {max-height: 200px;max-width: 100%;overflow: auto;}#sk-container-id-4 input.sk-toggleable__control:checked~label.sk-toggleable__label-arrow:before {content: \"▾\";}#sk-container-id-4 div.sk-estimator input.sk-toggleable__control:checked~label.sk-toggleable__label {background-color: #d4ebff;}#sk-container-id-4 div.sk-label input.sk-toggleable__control:checked~label.sk-toggleable__label {background-color: #d4ebff;}#sk-container-id-4 input.sk-hidden--visually {border: 0;clip: rect(1px 1px 1px 1px);clip: rect(1px, 1px, 1px, 1px);height: 1px;margin: -1px;overflow: hidden;padding: 0;position: absolute;width: 1px;}#sk-container-id-4 div.sk-estimator {font-family: monospace;background-color: #f0f8ff;border: 1px dotted black;border-radius: 0.25em;box-sizing: border-box;margin-bottom: 0.5em;}#sk-container-id-4 div.sk-estimator:hover {background-color: #d4ebff;}#sk-container-id-4 div.sk-parallel-item::after {content: \"\";width: 100%;border-bottom: 1px solid gray;flex-grow: 1;}#sk-container-id-4 div.sk-label:hover label.sk-toggleable__label {background-color: #d4ebff;}#sk-container-id-4 div.sk-serial::before {content: \"\";position: absolute;border-left: 1px solid gray;box-sizing: border-box;top: 0;bottom: 0;left: 50%;z-index: 0;}#sk-container-id-4 div.sk-serial {display: flex;flex-direction: column;align-items: center;background-color: white;padding-right: 0.2em;padding-left: 0.2em;position: relative;}#sk-container-id-4 div.sk-item {position: relative;z-index: 1;}#sk-container-id-4 div.sk-parallel {display: flex;align-items: stretch;justify-content: center;background-color: white;position: relative;}#sk-container-id-4 div.sk-item::before, #sk-container-id-4 div.sk-parallel-item::before {content: \"\";position: absolute;border-left: 1px solid gray;box-sizing: border-box;top: 0;bottom: 0;left: 50%;z-index: -1;}#sk-container-id-4 div.sk-parallel-item {display: flex;flex-direction: column;z-index: 1;position: relative;background-color: white;}#sk-container-id-4 div.sk-parallel-item:first-child::after {align-self: flex-end;width: 50%;}#sk-container-id-4 div.sk-parallel-item:last-child::after {align-self: flex-start;width: 50%;}#sk-container-id-4 div.sk-parallel-item:only-child::after {width: 0;}#sk-container-id-4 div.sk-dashed-wrapped {border: 1px dashed gray;margin: 0 0.4em 0.5em 0.4em;box-sizing: border-box;padding-bottom: 0.4em;background-color: white;}#sk-container-id-4 div.sk-label label {font-family: monospace;font-weight: bold;display: inline-block;line-height: 1.2em;}#sk-container-id-4 div.sk-label-container {text-align: center;}#sk-container-id-4 div.sk-container {/* jupyter's `normalize.less` sets `[hidden] { display: none; }` but bootstrap.min.css set `[hidden] { display: none !important; }` so we also need the `!important` here to be able to override the default hidden behavior on the sphinx rendered scikit-learn.org. See: https://github.com/scikit-learn/scikit-learn/issues/21755 */display: inline-block !important;position: relative;}#sk-container-id-4 div.sk-text-repr-fallback {display: none;}</style><div id=\"sk-container-id-4\" class=\"sk-top-container\"><div class=\"sk-text-repr-fallback\"><pre>StandardScaler()</pre><b>In a Jupyter environment, please rerun this cell to show the HTML representation or trust the notebook. <br />On GitHub, the HTML representation is unable to render, please try loading this page with nbviewer.org.</b></div><div class=\"sk-container\" hidden><div class=\"sk-item\"><div class=\"sk-estimator sk-toggleable\"><input class=\"sk-toggleable__control sk-hidden--visually\" id=\"sk-estimator-id-4\" type=\"checkbox\" checked><label for=\"sk-estimator-id-4\" class=\"sk-toggleable__label sk-toggleable__label-arrow\">StandardScaler</label><div class=\"sk-toggleable__content\"><pre>StandardScaler()</pre></div></div></div></div></div>"
      ],
      "text/plain": [
       "StandardScaler()"
      ]
     },
     "execution_count": 75,
     "metadata": {},
     "output_type": "execute_result"
    }
   ],
   "source": [
    "scaler.fit(X_train)"
   ]
  },
  {
   "cell_type": "code",
   "execution_count": 76,
   "metadata": {},
   "outputs": [],
   "source": [
    "X_train_scaled = scaler.transform(X_train)\n",
    "X_test_scaled = scaler.transform(X_test)"
   ]
  },
  {
   "cell_type": "code",
   "execution_count": 77,
   "metadata": {},
   "outputs": [],
   "source": [
    "X_train_scaled_df = pd.DataFrame(X_train_scaled, columns=df_flights.drop('arr_delay',axis=1).columns)"
   ]
  },
  {
   "cell_type": "code",
   "execution_count": 78,
   "metadata": {},
   "outputs": [
    {
     "data": {
      "text/html": [
       "<div>\n",
       "<style scoped>\n",
       "    .dataframe tbody tr th:only-of-type {\n",
       "        vertical-align: middle;\n",
       "    }\n",
       "\n",
       "    .dataframe tbody tr th {\n",
       "        vertical-align: top;\n",
       "    }\n",
       "\n",
       "    .dataframe thead th {\n",
       "        text-align: right;\n",
       "    }\n",
       "</style>\n",
       "<table border=\"1\" class=\"dataframe\">\n",
       "  <thead>\n",
       "    <tr style=\"text-align: right;\">\n",
       "      <th></th>\n",
       "      <th>season_Fall</th>\n",
       "      <th>season_Spring</th>\n",
       "      <th>season_Summer</th>\n",
       "      <th>season_Winter</th>\n",
       "      <th>crs_dep_time_of_day_early morning</th>\n",
       "      <th>crs_dep_time_of_day_late morning</th>\n",
       "      <th>crs_dep_time_of_day_midday</th>\n",
       "      <th>crs_dep_time_of_day_late afternoon</th>\n",
       "      <th>crs_dep_time_of_day_evening</th>\n",
       "      <th>crs_arr_time_of_day_early morning</th>\n",
       "      <th>crs_arr_time_of_day_late morning</th>\n",
       "      <th>crs_arr_time_of_day_midday</th>\n",
       "      <th>crs_arr_time_of_day_late afternoon</th>\n",
       "      <th>crs_arr_time_of_day_evening</th>\n",
       "    </tr>\n",
       "  </thead>\n",
       "  <tbody>\n",
       "    <tr>\n",
       "      <th>0</th>\n",
       "      <td>-0.587164</td>\n",
       "      <td>-0.572780</td>\n",
       "      <td>1.681047</td>\n",
       "      <td>-0.554585</td>\n",
       "      <td>-0.163045</td>\n",
       "      <td>1.419780</td>\n",
       "      <td>-0.663422</td>\n",
       "      <td>-0.625957</td>\n",
       "      <td>-0.24213</td>\n",
       "      <td>-0.118121</td>\n",
       "      <td>1.847460</td>\n",
       "      <td>-0.661600</td>\n",
       "      <td>-0.661552</td>\n",
       "      <td>-0.421349</td>\n",
       "    </tr>\n",
       "    <tr>\n",
       "      <th>1</th>\n",
       "      <td>1.703100</td>\n",
       "      <td>-0.572780</td>\n",
       "      <td>-0.594867</td>\n",
       "      <td>-0.554585</td>\n",
       "      <td>-0.163045</td>\n",
       "      <td>-0.704334</td>\n",
       "      <td>-0.663422</td>\n",
       "      <td>1.597553</td>\n",
       "      <td>-0.24213</td>\n",
       "      <td>-0.118121</td>\n",
       "      <td>-0.541284</td>\n",
       "      <td>-0.661600</td>\n",
       "      <td>1.511596</td>\n",
       "      <td>-0.421349</td>\n",
       "    </tr>\n",
       "    <tr>\n",
       "      <th>2</th>\n",
       "      <td>-0.587164</td>\n",
       "      <td>1.745871</td>\n",
       "      <td>-0.594867</td>\n",
       "      <td>-0.554585</td>\n",
       "      <td>-0.163045</td>\n",
       "      <td>-0.704334</td>\n",
       "      <td>-0.663422</td>\n",
       "      <td>1.597553</td>\n",
       "      <td>-0.24213</td>\n",
       "      <td>-0.118121</td>\n",
       "      <td>-0.541284</td>\n",
       "      <td>-0.661600</td>\n",
       "      <td>1.511596</td>\n",
       "      <td>-0.421349</td>\n",
       "    </tr>\n",
       "    <tr>\n",
       "      <th>3</th>\n",
       "      <td>-0.587164</td>\n",
       "      <td>1.745871</td>\n",
       "      <td>-0.594867</td>\n",
       "      <td>-0.554585</td>\n",
       "      <td>-0.163045</td>\n",
       "      <td>1.419780</td>\n",
       "      <td>-0.663422</td>\n",
       "      <td>-0.625957</td>\n",
       "      <td>-0.24213</td>\n",
       "      <td>-0.118121</td>\n",
       "      <td>-0.541284</td>\n",
       "      <td>-0.661600</td>\n",
       "      <td>1.511596</td>\n",
       "      <td>-0.421349</td>\n",
       "    </tr>\n",
       "    <tr>\n",
       "      <th>4</th>\n",
       "      <td>-0.587164</td>\n",
       "      <td>-0.572780</td>\n",
       "      <td>-0.594867</td>\n",
       "      <td>1.803151</td>\n",
       "      <td>-0.163045</td>\n",
       "      <td>1.419780</td>\n",
       "      <td>-0.663422</td>\n",
       "      <td>-0.625957</td>\n",
       "      <td>-0.24213</td>\n",
       "      <td>-0.118121</td>\n",
       "      <td>-0.541284</td>\n",
       "      <td>1.511486</td>\n",
       "      <td>-0.661552</td>\n",
       "      <td>-0.421349</td>\n",
       "    </tr>\n",
       "  </tbody>\n",
       "</table>\n",
       "</div>"
      ],
      "text/plain": [
       "   season_Fall  season_Spring  season_Summer  season_Winter  \\\n",
       "0    -0.587164      -0.572780       1.681047      -0.554585   \n",
       "1     1.703100      -0.572780      -0.594867      -0.554585   \n",
       "2    -0.587164       1.745871      -0.594867      -0.554585   \n",
       "3    -0.587164       1.745871      -0.594867      -0.554585   \n",
       "4    -0.587164      -0.572780      -0.594867       1.803151   \n",
       "\n",
       "   crs_dep_time_of_day_early morning  crs_dep_time_of_day_late morning  \\\n",
       "0                          -0.163045                          1.419780   \n",
       "1                          -0.163045                         -0.704334   \n",
       "2                          -0.163045                         -0.704334   \n",
       "3                          -0.163045                          1.419780   \n",
       "4                          -0.163045                          1.419780   \n",
       "\n",
       "   crs_dep_time_of_day_midday  crs_dep_time_of_day_late afternoon  \\\n",
       "0                   -0.663422                           -0.625957   \n",
       "1                   -0.663422                            1.597553   \n",
       "2                   -0.663422                            1.597553   \n",
       "3                   -0.663422                           -0.625957   \n",
       "4                   -0.663422                           -0.625957   \n",
       "\n",
       "   crs_dep_time_of_day_evening  crs_arr_time_of_day_early morning  \\\n",
       "0                     -0.24213                          -0.118121   \n",
       "1                     -0.24213                          -0.118121   \n",
       "2                     -0.24213                          -0.118121   \n",
       "3                     -0.24213                          -0.118121   \n",
       "4                     -0.24213                          -0.118121   \n",
       "\n",
       "   crs_arr_time_of_day_late morning  crs_arr_time_of_day_midday  \\\n",
       "0                          1.847460                   -0.661600   \n",
       "1                         -0.541284                   -0.661600   \n",
       "2                         -0.541284                   -0.661600   \n",
       "3                         -0.541284                   -0.661600   \n",
       "4                         -0.541284                    1.511486   \n",
       "\n",
       "   crs_arr_time_of_day_late afternoon  crs_arr_time_of_day_evening  \n",
       "0                           -0.661552                    -0.421349  \n",
       "1                            1.511596                    -0.421349  \n",
       "2                            1.511596                    -0.421349  \n",
       "3                            1.511596                    -0.421349  \n",
       "4                           -0.661552                    -0.421349  "
      ]
     },
     "execution_count": 78,
     "metadata": {},
     "output_type": "execute_result"
    }
   ],
   "source": [
    "X_train_scaled_df.head()"
   ]
  },
  {
   "cell_type": "code",
   "execution_count": 79,
   "metadata": {},
   "outputs": [
    {
     "data": {
      "text/plain": [
       "<AxesSubplot: >"
      ]
     },
     "execution_count": 79,
     "metadata": {},
     "output_type": "execute_result"
    },
    {
     "data": {
      "image/png": "[encoded data removed]",
      "text/plain": [
       "<Figure size 640x480 with 1 Axes>"
      ]
     },
     "metadata": {},
     "output_type": "display_data"
    }
   ],
   "source": [
    "X_train_scaled_df.boxplot(vert=False)"
   ]
  },
  {
   "cell_type": "code",
   "execution_count": 80,
   "metadata": {},
   "outputs": [
    {
     "data": {
      "text/html": [
       "<div>\n",
       "<style scoped>\n",
       "    .dataframe tbody tr th:only-of-type {\n",
       "        vertical-align: middle;\n",
       "    }\n",
       "\n",
       "    .dataframe tbody tr th {\n",
       "        vertical-align: top;\n",
       "    }\n",
       "\n",
       "    .dataframe thead th {\n",
       "        text-align: right;\n",
       "    }\n",
       "</style>\n",
       "<table border=\"1\" class=\"dataframe\">\n",
       "  <thead>\n",
       "    <tr style=\"text-align: right;\">\n",
       "      <th></th>\n",
       "      <th>Mean Absolute Error</th>\n",
       "      <th>Root Mean Square Error</th>\n",
       "      <th>R Squared</th>\n",
       "      <th>Adjusted R Squared</th>\n",
       "    </tr>\n",
       "  </thead>\n",
       "  <tbody>\n",
       "    <tr>\n",
       "      <th>linear</th>\n",
       "      <td>18.329323</td>\n",
       "      <td>27.585897</td>\n",
       "      <td>0.020474</td>\n",
       "      <td>0.019982</td>\n",
       "    </tr>\n",
       "  </tbody>\n",
       "</table>\n",
       "</div>"
      ],
      "text/plain": [
       "        Mean Absolute Error  Root Mean Square Error  R Squared  \\\n",
       "linear            18.329323               27.585897   0.020474   \n",
       "\n",
       "        Adjusted R Squared  \n",
       "linear            0.019982  "
      ]
     },
     "execution_count": 80,
     "metadata": {},
     "output_type": "execute_result"
    }
   ],
   "source": [
    "model_comparison_linear = IFPE_Regression(X_train_scaled, y_train, X_test_scaled, y_test, regressor='linear', deg=None)\n",
    "model_comparison_linear"
   ]
  },
  {
   "cell_type": "code",
   "execution_count": 81,
   "metadata": {},
   "outputs": [
    {
     "data": {
      "text/html": [
       "<div>\n",
       "<style scoped>\n",
       "    .dataframe tbody tr th:only-of-type {\n",
       "        vertical-align: middle;\n",
       "    }\n",
       "\n",
       "    .dataframe tbody tr th {\n",
       "        vertical-align: top;\n",
       "    }\n",
       "\n",
       "    .dataframe thead th {\n",
       "        text-align: right;\n",
       "    }\n",
       "</style>\n",
       "<table border=\"1\" class=\"dataframe\">\n",
       "  <thead>\n",
       "    <tr style=\"text-align: right;\">\n",
       "      <th></th>\n",
       "      <th>Mean Absolute Error</th>\n",
       "      <th>Root Mean Square Error</th>\n",
       "      <th>R Squared</th>\n",
       "      <th>Adjusted R Squared</th>\n",
       "    </tr>\n",
       "  </thead>\n",
       "  <tbody>\n",
       "    <tr>\n",
       "      <th>ridge</th>\n",
       "      <td>18.330523</td>\n",
       "      <td>27.586088</td>\n",
       "      <td>0.02046</td>\n",
       "      <td>0.019969</td>\n",
       "    </tr>\n",
       "  </tbody>\n",
       "</table>\n",
       "</div>"
      ],
      "text/plain": [
       "       Mean Absolute Error  Root Mean Square Error  R Squared  \\\n",
       "ridge            18.330523               27.586088    0.02046   \n",
       "\n",
       "       Adjusted R Squared  \n",
       "ridge            0.019969  "
      ]
     },
     "execution_count": 81,
     "metadata": {},
     "output_type": "execute_result"
    }
   ],
   "source": [
    "model_comparison_ridge = IFPE_Regression(X_train_scaled, y_train, X_test_scaled, y_test, regressor='ridge', deg=None)\n",
    "model_comparison_ridge"
   ]
  },
  {
   "cell_type": "code",
   "execution_count": 82,
   "metadata": {},
   "outputs": [
    {
     "data": {
      "text/html": [
       "<div>\n",
       "<style scoped>\n",
       "    .dataframe tbody tr th:only-of-type {\n",
       "        vertical-align: middle;\n",
       "    }\n",
       "\n",
       "    .dataframe tbody tr th {\n",
       "        vertical-align: top;\n",
       "    }\n",
       "\n",
       "    .dataframe thead th {\n",
       "        text-align: right;\n",
       "    }\n",
       "</style>\n",
       "<table border=\"1\" class=\"dataframe\">\n",
       "  <thead>\n",
       "    <tr style=\"text-align: right;\">\n",
       "      <th></th>\n",
       "      <th>Mean Absolute Error</th>\n",
       "      <th>Root Mean Square Error</th>\n",
       "      <th>R Squared</th>\n",
       "      <th>Adjusted R Squared</th>\n",
       "    </tr>\n",
       "  </thead>\n",
       "  <tbody>\n",
       "    <tr>\n",
       "      <th>lasso</th>\n",
       "      <td>18.339888</td>\n",
       "      <td>27.653532</td>\n",
       "      <td>0.015664</td>\n",
       "      <td>0.015171</td>\n",
       "    </tr>\n",
       "  </tbody>\n",
       "</table>\n",
       "</div>"
      ],
      "text/plain": [
       "       Mean Absolute Error  Root Mean Square Error  R Squared  \\\n",
       "lasso            18.339888               27.653532   0.015664   \n",
       "\n",
       "       Adjusted R Squared  \n",
       "lasso            0.015171  "
      ]
     },
     "execution_count": 82,
     "metadata": {},
     "output_type": "execute_result"
    }
   ],
   "source": [
    "model_comparison_lasso = IFPE_Regression(X_train_scaled, y_train, X_test_scaled, y_test, regressor='lasso', deg=None)\n",
    "model_comparison_lasso"
   ]
  },
  {
   "cell_type": "code",
   "execution_count": 83,
   "metadata": {},
   "outputs": [
    {
     "data": {
      "text/html": [
       "<div>\n",
       "<style scoped>\n",
       "    .dataframe tbody tr th:only-of-type {\n",
       "        vertical-align: middle;\n",
       "    }\n",
       "\n",
       "    .dataframe tbody tr th {\n",
       "        vertical-align: top;\n",
       "    }\n",
       "\n",
       "    .dataframe thead th {\n",
       "        text-align: right;\n",
       "    }\n",
       "</style>\n",
       "<table border=\"1\" class=\"dataframe\">\n",
       "  <thead>\n",
       "    <tr style=\"text-align: right;\">\n",
       "      <th></th>\n",
       "      <th>Mean Absolute Error</th>\n",
       "      <th>Root Mean Square Error</th>\n",
       "      <th>R Squared</th>\n",
       "      <th>Adjusted R Squared</th>\n",
       "    </tr>\n",
       "  </thead>\n",
       "  <tbody>\n",
       "    <tr>\n",
       "      <th>polynomial</th>\n",
       "      <td>3.096295e+07</td>\n",
       "      <td>3.659459e+09</td>\n",
       "      <td>-1.723756e+16</td>\n",
       "      <td>-1.731192e+16</td>\n",
       "    </tr>\n",
       "  </tbody>\n",
       "</table>\n",
       "</div>"
      ],
      "text/plain": [
       "            Mean Absolute Error  Root Mean Square Error     R Squared  \\\n",
       "polynomial         3.096295e+07            3.659459e+09 -1.723756e+16   \n",
       "\n",
       "            Adjusted R Squared  \n",
       "polynomial       -1.731192e+16  "
      ]
     },
     "execution_count": 83,
     "metadata": {},
     "output_type": "execute_result"
    }
   ],
   "source": [
    "model_comparison_poly2 = IFPE_Regression(X_train_scaled, y_train, X_test_scaled, y_test, regressor='polynomial', deg=2)\n",
    "model_comparison_poly2"
   ]
  },
  {
   "cell_type": "code",
   "execution_count": 84,
   "metadata": {},
   "outputs": [
    {
     "data": {
      "text/html": [
       "<div>\n",
       "<style scoped>\n",
       "    .dataframe tbody tr th:only-of-type {\n",
       "        vertical-align: middle;\n",
       "    }\n",
       "\n",
       "    .dataframe tbody tr th {\n",
       "        vertical-align: top;\n",
       "    }\n",
       "\n",
       "    .dataframe thead th {\n",
       "        text-align: right;\n",
       "    }\n",
       "</style>\n",
       "<table border=\"1\" class=\"dataframe\">\n",
       "  <thead>\n",
       "    <tr style=\"text-align: right;\">\n",
       "      <th></th>\n",
       "      <th>Mean Absolute Error</th>\n",
       "      <th>Root Mean Square Error</th>\n",
       "      <th>R Squared</th>\n",
       "      <th>Adjusted R Squared</th>\n",
       "    </tr>\n",
       "  </thead>\n",
       "  <tbody>\n",
       "    <tr>\n",
       "      <th>polynomial</th>\n",
       "      <td>1.514631e+09</td>\n",
       "      <td>1.803042e+11</td>\n",
       "      <td>-4.184595e+19</td>\n",
       "      <td>-4.288995e+19</td>\n",
       "    </tr>\n",
       "  </tbody>\n",
       "</table>\n",
       "</div>"
      ],
      "text/plain": [
       "            Mean Absolute Error  Root Mean Square Error     R Squared  \\\n",
       "polynomial         1.514631e+09            1.803042e+11 -4.184595e+19   \n",
       "\n",
       "            Adjusted R Squared  \n",
       "polynomial       -4.288995e+19  "
      ]
     },
     "execution_count": 84,
     "metadata": {},
     "output_type": "execute_result"
    }
   ],
   "source": [
    "model_comparison_poly3 = IFPE_Regression(X_train, y_train, X_test, y_test, regressor='polynomial', deg=3)\n",
    "model_comparison_poly3"
   ]
  },
  {
   "cell_type": "code",
   "execution_count": 85,
   "metadata": {},
   "outputs": [
    {
     "data": {
      "text/html": [
       "<div>\n",
       "<style scoped>\n",
       "    .dataframe tbody tr th:only-of-type {\n",
       "        vertical-align: middle;\n",
       "    }\n",
       "\n",
       "    .dataframe tbody tr th {\n",
       "        vertical-align: top;\n",
       "    }\n",
       "\n",
       "    .dataframe thead th {\n",
       "        text-align: right;\n",
       "    }\n",
       "</style>\n",
       "<table border=\"1\" class=\"dataframe\">\n",
       "  <thead>\n",
       "    <tr style=\"text-align: right;\">\n",
       "      <th></th>\n",
       "      <th>Mean Absolute Error</th>\n",
       "      <th>Root Mean Square Error</th>\n",
       "      <th>R Squared</th>\n",
       "      <th>Adjusted R Squared</th>\n",
       "    </tr>\n",
       "  </thead>\n",
       "  <tbody>\n",
       "    <tr>\n",
       "      <th>sgd</th>\n",
       "      <td>18.383102</td>\n",
       "      <td>27.608625</td>\n",
       "      <td>0.018859</td>\n",
       "      <td>0.018367</td>\n",
       "    </tr>\n",
       "  </tbody>\n",
       "</table>\n",
       "</div>"
      ],
      "text/plain": [
       "     Mean Absolute Error  Root Mean Square Error  R Squared  \\\n",
       "sgd            18.383102               27.608625   0.018859   \n",
       "\n",
       "     Adjusted R Squared  \n",
       "sgd            0.018367  "
      ]
     },
     "execution_count": 85,
     "metadata": {},
     "output_type": "execute_result"
    }
   ],
   "source": [
    "model_comparison_sgd = IFPE_Regression(X_train_scaled, y_train, X_test_scaled, y_test, regressor='sgd', deg=None)\n",
    "model_comparison_sgd"
   ]
  },
  {
   "cell_type": "code",
   "execution_count": 86,
   "metadata": {},
   "outputs": [],
   "source": [
    "# model_comparison_svm = IFPE_Regression(X_train, y_train, X_test, y_test, regressor='svm', deg=None)\n",
    "# model_comparison_svm"
   ]
  },
  {
   "cell_type": "code",
   "execution_count": 87,
   "metadata": {},
   "outputs": [
    {
     "data": {
      "text/html": [
       "<div>\n",
       "<style scoped>\n",
       "    .dataframe tbody tr th:only-of-type {\n",
       "        vertical-align: middle;\n",
       "    }\n",
       "\n",
       "    .dataframe tbody tr th {\n",
       "        vertical-align: top;\n",
       "    }\n",
       "\n",
       "    .dataframe thead th {\n",
       "        text-align: right;\n",
       "    }\n",
       "</style>\n",
       "<table border=\"1\" class=\"dataframe\">\n",
       "  <thead>\n",
       "    <tr style=\"text-align: right;\">\n",
       "      <th></th>\n",
       "      <th>Mean Absolute Error</th>\n",
       "      <th>Root Mean Square Error</th>\n",
       "      <th>R Squared</th>\n",
       "      <th>Adjusted R Squared</th>\n",
       "    </tr>\n",
       "  </thead>\n",
       "  <tbody>\n",
       "    <tr>\n",
       "      <th>dt</th>\n",
       "      <td>18.328404</td>\n",
       "      <td>27.594127</td>\n",
       "      <td>0.019889</td>\n",
       "      <td>0.019398</td>\n",
       "    </tr>\n",
       "  </tbody>\n",
       "</table>\n",
       "</div>"
      ],
      "text/plain": [
       "    Mean Absolute Error  Root Mean Square Error  R Squared  Adjusted R Squared\n",
       "dt            18.328404               27.594127   0.019889            0.019398"
      ]
     },
     "execution_count": 87,
     "metadata": {},
     "output_type": "execute_result"
    }
   ],
   "source": [
    "model_comparison_dt = IFPE_Regression(X_train_scaled, y_train, X_test_scaled, y_test, regressor='dt', deg=None)\n",
    "model_comparison_dt"
   ]
  },
  {
   "cell_type": "code",
   "execution_count": 88,
   "metadata": {},
   "outputs": [
    {
     "data": {
      "text/html": [
       "<div>\n",
       "<style scoped>\n",
       "    .dataframe tbody tr th:only-of-type {\n",
       "        vertical-align: middle;\n",
       "    }\n",
       "\n",
       "    .dataframe tbody tr th {\n",
       "        vertical-align: top;\n",
       "    }\n",
       "\n",
       "    .dataframe thead th {\n",
       "        text-align: right;\n",
       "    }\n",
       "</style>\n",
       "<table border=\"1\" class=\"dataframe\">\n",
       "  <thead>\n",
       "    <tr style=\"text-align: right;\">\n",
       "      <th></th>\n",
       "      <th>Mean Absolute Error</th>\n",
       "      <th>Root Mean Square Error</th>\n",
       "      <th>R Squared</th>\n",
       "      <th>Adjusted R Squared</th>\n",
       "    </tr>\n",
       "  </thead>\n",
       "  <tbody>\n",
       "    <tr>\n",
       "      <th>rf</th>\n",
       "      <td>18.3584</td>\n",
       "      <td>27.642981</td>\n",
       "      <td>0.016415</td>\n",
       "      <td>0.015922</td>\n",
       "    </tr>\n",
       "  </tbody>\n",
       "</table>\n",
       "</div>"
      ],
      "text/plain": [
       "    Mean Absolute Error  Root Mean Square Error  R Squared  Adjusted R Squared\n",
       "rf              18.3584               27.642981   0.016415            0.015922"
      ]
     },
     "execution_count": 88,
     "metadata": {},
     "output_type": "execute_result"
    }
   ],
   "source": [
    "model_comparison_rf = IFPE_Regression(X_train_scaled, y_train, X_test_scaled, y_test, regressor='rf', deg=None)\n",
    "model_comparison_rf"
   ]
  },
  {
   "cell_type": "code",
   "execution_count": 89,
   "metadata": {},
   "outputs": [
    {
     "data": {
      "text/html": [
       "<div>\n",
       "<style scoped>\n",
       "    .dataframe tbody tr th:only-of-type {\n",
       "        vertical-align: middle;\n",
       "    }\n",
       "\n",
       "    .dataframe tbody tr th {\n",
       "        vertical-align: top;\n",
       "    }\n",
       "\n",
       "    .dataframe thead th {\n",
       "        text-align: right;\n",
       "    }\n",
       "</style>\n",
       "<table border=\"1\" class=\"dataframe\">\n",
       "  <thead>\n",
       "    <tr style=\"text-align: right;\">\n",
       "      <th></th>\n",
       "      <th>Mean Absolute Error</th>\n",
       "      <th>Root Mean Square Error</th>\n",
       "      <th>R Squared</th>\n",
       "      <th>Adjusted R Squared</th>\n",
       "    </tr>\n",
       "  </thead>\n",
       "  <tbody>\n",
       "    <tr>\n",
       "      <th>gb</th>\n",
       "      <td>18.310484</td>\n",
       "      <td>27.573575</td>\n",
       "      <td>0.021348</td>\n",
       "      <td>0.020858</td>\n",
       "    </tr>\n",
       "  </tbody>\n",
       "</table>\n",
       "</div>"
      ],
      "text/plain": [
       "    Mean Absolute Error  Root Mean Square Error  R Squared  Adjusted R Squared\n",
       "gb            18.310484               27.573575   0.021348            0.020858"
      ]
     },
     "execution_count": 89,
     "metadata": {},
     "output_type": "execute_result"
    }
   ],
   "source": [
    "model_comparison_gb = IFPE_Regression(X_train_scaled, y_train, X_test_scaled, y_test, regressor='gb', deg=None)\n",
    "model_comparison_gb"
   ]
  },
  {
   "cell_type": "code",
   "execution_count": 90,
   "metadata": {},
   "outputs": [
    {
     "data": {
      "text/html": [
       "<div>\n",
       "<style scoped>\n",
       "    .dataframe tbody tr th:only-of-type {\n",
       "        vertical-align: middle;\n",
       "    }\n",
       "\n",
       "    .dataframe tbody tr th {\n",
       "        vertical-align: top;\n",
       "    }\n",
       "\n",
       "    .dataframe thead th {\n",
       "        text-align: right;\n",
       "    }\n",
       "</style>\n",
       "<table border=\"1\" class=\"dataframe\">\n",
       "  <thead>\n",
       "    <tr style=\"text-align: right;\">\n",
       "      <th></th>\n",
       "      <th>Mean Absolute Error</th>\n",
       "      <th>Root Mean Square Error</th>\n",
       "      <th>R Squared</th>\n",
       "      <th>Adjusted R Squared</th>\n",
       "    </tr>\n",
       "  </thead>\n",
       "  <tbody>\n",
       "    <tr>\n",
       "      <th>vr</th>\n",
       "      <td>18.31278</td>\n",
       "      <td>27.57345</td>\n",
       "      <td>0.021357</td>\n",
       "      <td>0.020867</td>\n",
       "    </tr>\n",
       "  </tbody>\n",
       "</table>\n",
       "</div>"
      ],
      "text/plain": [
       "    Mean Absolute Error  Root Mean Square Error  R Squared  Adjusted R Squared\n",
       "vr             18.31278                27.57345   0.021357            0.020867"
      ]
     },
     "execution_count": 90,
     "metadata": {},
     "output_type": "execute_result"
    }
   ],
   "source": [
    "model_comparison_vr = IFPE_Regression(X_train_scaled, y_train, X_test_scaled, y_test, regressor='vr', deg=None)\n",
    "model_comparison_vr"
   ]
  },
  {
   "cell_type": "code",
   "execution_count": 91,
   "metadata": {},
   "outputs": [
    {
     "data": {
      "text/html": [
       "<div>\n",
       "<style scoped>\n",
       "    .dataframe tbody tr th:only-of-type {\n",
       "        vertical-align: middle;\n",
       "    }\n",
       "\n",
       "    .dataframe tbody tr th {\n",
       "        vertical-align: top;\n",
       "    }\n",
       "\n",
       "    .dataframe thead th {\n",
       "        text-align: right;\n",
       "    }\n",
       "</style>\n",
       "<table border=\"1\" class=\"dataframe\">\n",
       "  <thead>\n",
       "    <tr style=\"text-align: right;\">\n",
       "      <th></th>\n",
       "      <th>Mean Absolute Error</th>\n",
       "      <th>Root Mean Square Error</th>\n",
       "      <th>R Squared</th>\n",
       "      <th>Adjusted R Squared</th>\n",
       "    </tr>\n",
       "  </thead>\n",
       "  <tbody>\n",
       "    <tr>\n",
       "      <th>xgb</th>\n",
       "      <td>18.328412</td>\n",
       "      <td>27.594132</td>\n",
       "      <td>0.019889</td>\n",
       "      <td>0.019397</td>\n",
       "    </tr>\n",
       "  </tbody>\n",
       "</table>\n",
       "</div>"
      ],
      "text/plain": [
       "     Mean Absolute Error  Root Mean Square Error  R Squared  \\\n",
       "xgb            18.328412               27.594132   0.019889   \n",
       "\n",
       "     Adjusted R Squared  \n",
       "xgb            0.019397  "
      ]
     },
     "execution_count": 91,
     "metadata": {},
     "output_type": "execute_result"
    }
   ],
   "source": [
    "model_comparison_xgb = IFPE_Regression(X_train_scaled, y_train, X_test_scaled, y_test, regressor='xgb', deg=None)\n",
    "model_comparison_xgb"
   ]
  },
  {
   "cell_type": "code",
   "execution_count": 92,
   "metadata": {},
   "outputs": [],
   "source": [
    "model_comparison = pd.concat([model_comparison_linear,model_comparison_ridge,model_comparison_lasso,model_comparison_poly2,model_comparison_poly3,model_comparison_sgd,model_comparison_dt,model_comparison_rf,model_comparison_gb,model_comparison_vr,model_comparison_xgb])\n"
   ]
  },
  {
   "cell_type": "code",
   "execution_count": 93,
   "metadata": {},
   "outputs": [
    {
     "data": {
      "text/html": [
       "<div>\n",
       "<style scoped>\n",
       "    .dataframe tbody tr th:only-of-type {\n",
       "        vertical-align: middle;\n",
       "    }\n",
       "\n",
       "    .dataframe tbody tr th {\n",
       "        vertical-align: top;\n",
       "    }\n",
       "\n",
       "    .dataframe thead th {\n",
       "        text-align: right;\n",
       "    }\n",
       "</style>\n",
       "<table border=\"1\" class=\"dataframe\">\n",
       "  <thead>\n",
       "    <tr style=\"text-align: right;\">\n",
       "      <th></th>\n",
       "      <th>Mean Absolute Error</th>\n",
       "      <th>Root Mean Square Error</th>\n",
       "      <th>R Squared</th>\n",
       "      <th>Adjusted R Squared</th>\n",
       "    </tr>\n",
       "  </thead>\n",
       "  <tbody>\n",
       "    <tr>\n",
       "      <th>vr</th>\n",
       "      <td>1.831278e+01</td>\n",
       "      <td>2.757345e+01</td>\n",
       "      <td>2.135729e-02</td>\n",
       "      <td>2.086660e-02</td>\n",
       "    </tr>\n",
       "    <tr>\n",
       "      <th>gb</th>\n",
       "      <td>1.831048e+01</td>\n",
       "      <td>2.757357e+01</td>\n",
       "      <td>2.134842e-02</td>\n",
       "      <td>2.085772e-02</td>\n",
       "    </tr>\n",
       "    <tr>\n",
       "      <th>linear</th>\n",
       "      <td>1.832932e+01</td>\n",
       "      <td>2.758590e+01</td>\n",
       "      <td>2.047352e-02</td>\n",
       "      <td>1.998239e-02</td>\n",
       "    </tr>\n",
       "    <tr>\n",
       "      <th>ridge</th>\n",
       "      <td>1.833052e+01</td>\n",
       "      <td>2.758609e+01</td>\n",
       "      <td>2.045997e-02</td>\n",
       "      <td>1.996883e-02</td>\n",
       "    </tr>\n",
       "    <tr>\n",
       "      <th>dt</th>\n",
       "      <td>1.832840e+01</td>\n",
       "      <td>2.759413e+01</td>\n",
       "      <td>1.988896e-02</td>\n",
       "      <td>1.939754e-02</td>\n",
       "    </tr>\n",
       "    <tr>\n",
       "      <th>xgb</th>\n",
       "      <td>1.832841e+01</td>\n",
       "      <td>2.759413e+01</td>\n",
       "      <td>1.988863e-02</td>\n",
       "      <td>1.939721e-02</td>\n",
       "    </tr>\n",
       "    <tr>\n",
       "      <th>sgd</th>\n",
       "      <td>1.838310e+01</td>\n",
       "      <td>2.760863e+01</td>\n",
       "      <td>1.885878e-02</td>\n",
       "      <td>1.836683e-02</td>\n",
       "    </tr>\n",
       "    <tr>\n",
       "      <th>rf</th>\n",
       "      <td>1.835840e+01</td>\n",
       "      <td>2.764298e+01</td>\n",
       "      <td>1.641543e-02</td>\n",
       "      <td>1.592227e-02</td>\n",
       "    </tr>\n",
       "    <tr>\n",
       "      <th>lasso</th>\n",
       "      <td>1.833989e+01</td>\n",
       "      <td>2.765353e+01</td>\n",
       "      <td>1.566445e-02</td>\n",
       "      <td>1.517091e-02</td>\n",
       "    </tr>\n",
       "    <tr>\n",
       "      <th>polynomial</th>\n",
       "      <td>3.096295e+07</td>\n",
       "      <td>3.659459e+09</td>\n",
       "      <td>-1.723756e+16</td>\n",
       "      <td>-1.731192e+16</td>\n",
       "    </tr>\n",
       "    <tr>\n",
       "      <th>polynomial</th>\n",
       "      <td>1.514631e+09</td>\n",
       "      <td>1.803042e+11</td>\n",
       "      <td>-4.184595e+19</td>\n",
       "      <td>-4.288995e+19</td>\n",
       "    </tr>\n",
       "  </tbody>\n",
       "</table>\n",
       "</div>"
      ],
      "text/plain": [
       "            Mean Absolute Error  Root Mean Square Error     R Squared  \\\n",
       "vr                 1.831278e+01            2.757345e+01  2.135729e-02   \n",
       "gb                 1.831048e+01            2.757357e+01  2.134842e-02   \n",
       "linear             1.832932e+01            2.758590e+01  2.047352e-02   \n",
       "ridge              1.833052e+01            2.758609e+01  2.045997e-02   \n",
       "dt                 1.832840e+01            2.759413e+01  1.988896e-02   \n",
       "xgb                1.832841e+01            2.759413e+01  1.988863e-02   \n",
       "sgd                1.838310e+01            2.760863e+01  1.885878e-02   \n",
       "rf                 1.835840e+01            2.764298e+01  1.641543e-02   \n",
       "lasso              1.833989e+01            2.765353e+01  1.566445e-02   \n",
       "polynomial         3.096295e+07            3.659459e+09 -1.723756e+16   \n",
       "polynomial         1.514631e+09            1.803042e+11 -4.184595e+19   \n",
       "\n",
       "            Adjusted R Squared  \n",
       "vr                2.086660e-02  \n",
       "gb                2.085772e-02  \n",
       "linear            1.998239e-02  \n",
       "ridge             1.996883e-02  \n",
       "dt                1.939754e-02  \n",
       "xgb               1.939721e-02  \n",
       "sgd               1.836683e-02  \n",
       "rf                1.592227e-02  \n",
       "lasso             1.517091e-02  \n",
       "polynomial       -1.731192e+16  \n",
       "polynomial       -4.288995e+19  "
      ]
     },
     "execution_count": 93,
     "metadata": {},
     "output_type": "execute_result"
    }
   ],
   "source": [
    "iteration3 = model_comparison.sort_values('R Squared', ascending=False)\n",
    "iteration3"
   ]
  },
  {
   "cell_type": "code",
   "execution_count": null,
   "metadata": {},
   "outputs": [],
   "source": []
  },
  {
   "cell_type": "markdown",
   "metadata": {},
   "source": [
    "# Iteration 4"
   ]
  },
  {
   "cell_type": "code",
   "execution_count": 94,
   "metadata": {},
   "outputs": [],
   "source": [
    "import pickle\n",
    "\n",
    "with open('iteration4.pickle','rb') as flight_data_file:\n",
    "     df_flights = pickle.load(flight_data_file)"
   ]
  },
  {
   "cell_type": "code",
   "execution_count": 95,
   "metadata": {},
   "outputs": [
    {
     "data": {
      "text/html": [
       "<div>\n",
       "<style scoped>\n",
       "    .dataframe tbody tr th:only-of-type {\n",
       "        vertical-align: middle;\n",
       "    }\n",
       "\n",
       "    .dataframe tbody tr th {\n",
       "        vertical-align: top;\n",
       "    }\n",
       "\n",
       "    .dataframe thead th {\n",
       "        text-align: right;\n",
       "    }\n",
       "</style>\n",
       "<table border=\"1\" class=\"dataframe\">\n",
       "  <thead>\n",
       "    <tr style=\"text-align: right;\">\n",
       "      <th></th>\n",
       "      <th>arr_delay</th>\n",
       "      <th>season_Fall</th>\n",
       "      <th>season_Spring</th>\n",
       "      <th>season_Summer</th>\n",
       "      <th>season_Winter</th>\n",
       "      <th>crs_dep_time_of_day_early morning</th>\n",
       "      <th>crs_dep_time_of_day_late morning</th>\n",
       "      <th>crs_dep_time_of_day_midday</th>\n",
       "      <th>crs_dep_time_of_day_late afternoon</th>\n",
       "      <th>crs_dep_time_of_day_evening</th>\n",
       "      <th>crs_arr_time_of_day_early morning</th>\n",
       "      <th>crs_arr_time_of_day_late morning</th>\n",
       "      <th>crs_arr_time_of_day_midday</th>\n",
       "      <th>crs_arr_time_of_day_late afternoon</th>\n",
       "      <th>crs_arr_time_of_day_evening</th>\n",
       "      <th>origin_region_Midwest</th>\n",
       "      <th>origin_region_Northeast</th>\n",
       "      <th>origin_region_Other</th>\n",
       "      <th>origin_region_South</th>\n",
       "      <th>origin_region_West</th>\n",
       "    </tr>\n",
       "  </thead>\n",
       "  <tbody>\n",
       "    <tr>\n",
       "      <th>0</th>\n",
       "      <td>19.0</td>\n",
       "      <td>0</td>\n",
       "      <td>0</td>\n",
       "      <td>0</td>\n",
       "      <td>1</td>\n",
       "      <td>0</td>\n",
       "      <td>0</td>\n",
       "      <td>0</td>\n",
       "      <td>1</td>\n",
       "      <td>0</td>\n",
       "      <td>0</td>\n",
       "      <td>0</td>\n",
       "      <td>0</td>\n",
       "      <td>0</td>\n",
       "      <td>1</td>\n",
       "      <td>0</td>\n",
       "      <td>0</td>\n",
       "      <td>0</td>\n",
       "      <td>0</td>\n",
       "      <td>1</td>\n",
       "    </tr>\n",
       "    <tr>\n",
       "      <th>1</th>\n",
       "      <td>46.0</td>\n",
       "      <td>0</td>\n",
       "      <td>0</td>\n",
       "      <td>0</td>\n",
       "      <td>1</td>\n",
       "      <td>0</td>\n",
       "      <td>0</td>\n",
       "      <td>0</td>\n",
       "      <td>0</td>\n",
       "      <td>1</td>\n",
       "      <td>0</td>\n",
       "      <td>0</td>\n",
       "      <td>1</td>\n",
       "      <td>0</td>\n",
       "      <td>0</td>\n",
       "      <td>0</td>\n",
       "      <td>0</td>\n",
       "      <td>0</td>\n",
       "      <td>0</td>\n",
       "      <td>1</td>\n",
       "    </tr>\n",
       "    <tr>\n",
       "      <th>2</th>\n",
       "      <td>-9.0</td>\n",
       "      <td>0</td>\n",
       "      <td>0</td>\n",
       "      <td>0</td>\n",
       "      <td>1</td>\n",
       "      <td>0</td>\n",
       "      <td>1</td>\n",
       "      <td>0</td>\n",
       "      <td>0</td>\n",
       "      <td>0</td>\n",
       "      <td>0</td>\n",
       "      <td>0</td>\n",
       "      <td>1</td>\n",
       "      <td>0</td>\n",
       "      <td>0</td>\n",
       "      <td>0</td>\n",
       "      <td>0</td>\n",
       "      <td>0</td>\n",
       "      <td>0</td>\n",
       "      <td>1</td>\n",
       "    </tr>\n",
       "    <tr>\n",
       "      <th>3</th>\n",
       "      <td>-3.0</td>\n",
       "      <td>0</td>\n",
       "      <td>0</td>\n",
       "      <td>0</td>\n",
       "      <td>1</td>\n",
       "      <td>0</td>\n",
       "      <td>1</td>\n",
       "      <td>0</td>\n",
       "      <td>0</td>\n",
       "      <td>0</td>\n",
       "      <td>0</td>\n",
       "      <td>1</td>\n",
       "      <td>0</td>\n",
       "      <td>0</td>\n",
       "      <td>0</td>\n",
       "      <td>0</td>\n",
       "      <td>0</td>\n",
       "      <td>0</td>\n",
       "      <td>0</td>\n",
       "      <td>1</td>\n",
       "    </tr>\n",
       "    <tr>\n",
       "      <th>4</th>\n",
       "      <td>37.0</td>\n",
       "      <td>0</td>\n",
       "      <td>0</td>\n",
       "      <td>0</td>\n",
       "      <td>1</td>\n",
       "      <td>0</td>\n",
       "      <td>0</td>\n",
       "      <td>0</td>\n",
       "      <td>1</td>\n",
       "      <td>0</td>\n",
       "      <td>0</td>\n",
       "      <td>0</td>\n",
       "      <td>0</td>\n",
       "      <td>1</td>\n",
       "      <td>0</td>\n",
       "      <td>0</td>\n",
       "      <td>0</td>\n",
       "      <td>0</td>\n",
       "      <td>0</td>\n",
       "      <td>1</td>\n",
       "    </tr>\n",
       "  </tbody>\n",
       "</table>\n",
       "</div>"
      ],
      "text/plain": [
       "   arr_delay  season_Fall  season_Spring  season_Summer  season_Winter  \\\n",
       "0       19.0            0              0              0              1   \n",
       "1       46.0            0              0              0              1   \n",
       "2       -9.0            0              0              0              1   \n",
       "3       -3.0            0              0              0              1   \n",
       "4       37.0            0              0              0              1   \n",
       "\n",
       "   crs_dep_time_of_day_early morning  crs_dep_time_of_day_late morning  \\\n",
       "0                                  0                                 0   \n",
       "1                                  0                                 0   \n",
       "2                                  0                                 1   \n",
       "3                                  0                                 1   \n",
       "4                                  0                                 0   \n",
       "\n",
       "   crs_dep_time_of_day_midday  crs_dep_time_of_day_late afternoon  \\\n",
       "0                           0                                   1   \n",
       "1                           0                                   0   \n",
       "2                           0                                   0   \n",
       "3                           0                                   0   \n",
       "4                           0                                   1   \n",
       "\n",
       "   crs_dep_time_of_day_evening  crs_arr_time_of_day_early morning  \\\n",
       "0                            0                                  0   \n",
       "1                            1                                  0   \n",
       "2                            0                                  0   \n",
       "3                            0                                  0   \n",
       "4                            0                                  0   \n",
       "\n",
       "   crs_arr_time_of_day_late morning  crs_arr_time_of_day_midday  \\\n",
       "0                                 0                           0   \n",
       "1                                 0                           1   \n",
       "2                                 0                           1   \n",
       "3                                 1                           0   \n",
       "4                                 0                           0   \n",
       "\n",
       "   crs_arr_time_of_day_late afternoon  crs_arr_time_of_day_evening  \\\n",
       "0                                   0                            1   \n",
       "1                                   0                            0   \n",
       "2                                   0                            0   \n",
       "3                                   0                            0   \n",
       "4                                   1                            0   \n",
       "\n",
       "   origin_region_Midwest  origin_region_Northeast  origin_region_Other  \\\n",
       "0                      0                        0                    0   \n",
       "1                      0                        0                    0   \n",
       "2                      0                        0                    0   \n",
       "3                      0                        0                    0   \n",
       "4                      0                        0                    0   \n",
       "\n",
       "   origin_region_South  origin_region_West  \n",
       "0                    0                   1  \n",
       "1                    0                   1  \n",
       "2                    0                   1  \n",
       "3                    0                   1  \n",
       "4                    0                   1  "
      ]
     },
     "execution_count": 95,
     "metadata": {},
     "output_type": "execute_result"
    }
   ],
   "source": [
    "df_flights.head()"
   ]
  },
  {
   "cell_type": "code",
   "execution_count": 96,
   "metadata": {},
   "outputs": [],
   "source": [
    "X = df_flights.drop('arr_delay',axis=1).to_numpy()\n",
    "y = df_flights['arr_delay'].to_numpy()"
   ]
  },
  {
   "cell_type": "code",
   "execution_count": 97,
   "metadata": {},
   "outputs": [],
   "source": [
    "def split_data(data, target=None, percent_test=0.3, dtype='array'):\n",
    "    # Import train_test_split function\n",
    "    from sklearn.model_selection import train_test_split\n",
    "\n",
    "    # Split dataset into training set and test set\n",
    "    if dtype == 'array':      \n",
    "        X_train, X_test, y_train, y_test = train_test_split(data, target, test_size=percent_test,random_state=10)\n",
    "    \n",
    "        print(f'X_train shape: {X_train.shape}')\n",
    "        print(f'X_test shape: {X_test.shape}')\n",
    "        print(f'y_train shape: {y_train.shape}')\n",
    "        print(f'y_test shape: {y_test.shape}')\n",
    "    \n",
    "        return X_train, X_test, y_train, y_test\n",
    "    \n",
    "    if dtype == 'df':\n",
    "        df_train, df_test = train_test_split(data, test_size=percent_test,random_state=10)\n",
    "\n",
    "        print(f'df_train shape: {df_train.shape}')\n",
    "        print(f'df_test shape: {df_test.shape}')\n",
    "    \n",
    "        return df_train, df_test"
   ]
  },
  {
   "cell_type": "code",
   "execution_count": 98,
   "metadata": {},
   "outputs": [
    {
     "name": "stdout",
     "output_type": "stream",
     "text": [
      "X_train shape: (65186, 19)\n",
      "X_test shape: (27937, 19)\n",
      "y_train shape: (65186,)\n",
      "y_test shape: (27937,)\n"
     ]
    }
   ],
   "source": [
    "X_train, X_test, y_train, y_test = split_data(data=X, target=y)"
   ]
  },
  {
   "cell_type": "code",
   "execution_count": 99,
   "metadata": {},
   "outputs": [],
   "source": [
    "from sklearn.preprocessing import StandardScaler\n",
    "\n",
    "scaler = StandardScaler()"
   ]
  },
  {
   "cell_type": "code",
   "execution_count": 100,
   "metadata": {},
   "outputs": [
    {
     "data": {
      "text/html": [
       "<style>#sk-container-id-5 {color: black;background-color: white;}#sk-container-id-5 pre{padding: 0;}#sk-container-id-5 div.sk-toggleable {background-color: white;}#sk-container-id-5 label.sk-toggleable__label {cursor: pointer;display: block;width: 100%;margin-bottom: 0;padding: 0.3em;box-sizing: border-box;text-align: center;}#sk-container-id-5 label.sk-toggleable__label-arrow:before {content: \"▸\";float: left;margin-right: 0.25em;color: #696969;}#sk-container-id-5 label.sk-toggleable__label-arrow:hover:before {color: black;}#sk-container-id-5 div.sk-estimator:hover label.sk-toggleable__label-arrow:before {color: black;}#sk-container-id-5 div.sk-toggleable__content {max-height: 0;max-width: 0;overflow: hidden;text-align: left;background-color: #f0f8ff;}#sk-container-id-5 div.sk-toggleable__content pre {margin: 0.2em;color: black;border-radius: 0.25em;background-color: #f0f8ff;}#sk-container-id-5 input.sk-toggleable__control:checked~div.sk-toggleable__content {max-height: 200px;max-width: 100%;overflow: auto;}#sk-container-id-5 input.sk-toggleable__control:checked~label.sk-toggleable__label-arrow:before {content: \"▾\";}#sk-container-id-5 div.sk-estimator input.sk-toggleable__control:checked~label.sk-toggleable__label {background-color: #d4ebff;}#sk-container-id-5 div.sk-label input.sk-toggleable__control:checked~label.sk-toggleable__label {background-color: #d4ebff;}#sk-container-id-5 input.sk-hidden--visually {border: 0;clip: rect(1px 1px 1px 1px);clip: rect(1px, 1px, 1px, 1px);height: 1px;margin: -1px;overflow: hidden;padding: 0;position: absolute;width: 1px;}#sk-container-id-5 div.sk-estimator {font-family: monospace;background-color: #f0f8ff;border: 1px dotted black;border-radius: 0.25em;box-sizing: border-box;margin-bottom: 0.5em;}#sk-container-id-5 div.sk-estimator:hover {background-color: #d4ebff;}#sk-container-id-5 div.sk-parallel-item::after {content: \"\";width: 100%;border-bottom: 1px solid gray;flex-grow: 1;}#sk-container-id-5 div.sk-label:hover label.sk-toggleable__label {background-color: #d4ebff;}#sk-container-id-5 div.sk-serial::before {content: \"\";position: absolute;border-left: 1px solid gray;box-sizing: border-box;top: 0;bottom: 0;left: 50%;z-index: 0;}#sk-container-id-5 div.sk-serial {display: flex;flex-direction: column;align-items: center;background-color: white;padding-right: 0.2em;padding-left: 0.2em;position: relative;}#sk-container-id-5 div.sk-item {position: relative;z-index: 1;}#sk-container-id-5 div.sk-parallel {display: flex;align-items: stretch;justify-content: center;background-color: white;position: relative;}#sk-container-id-5 div.sk-item::before, #sk-container-id-5 div.sk-parallel-item::before {content: \"\";position: absolute;border-left: 1px solid gray;box-sizing: border-box;top: 0;bottom: 0;left: 50%;z-index: -1;}#sk-container-id-5 div.sk-parallel-item {display: flex;flex-direction: column;z-index: 1;position: relative;background-color: white;}#sk-container-id-5 div.sk-parallel-item:first-child::after {align-self: flex-end;width: 50%;}#sk-container-id-5 div.sk-parallel-item:last-child::after {align-self: flex-start;width: 50%;}#sk-container-id-5 div.sk-parallel-item:only-child::after {width: 0;}#sk-container-id-5 div.sk-dashed-wrapped {border: 1px dashed gray;margin: 0 0.4em 0.5em 0.4em;box-sizing: border-box;padding-bottom: 0.4em;background-color: white;}#sk-container-id-5 div.sk-label label {font-family: monospace;font-weight: bold;display: inline-block;line-height: 1.2em;}#sk-container-id-5 div.sk-label-container {text-align: center;}#sk-container-id-5 div.sk-container {/* jupyter's `normalize.less` sets `[hidden] { display: none; }` but bootstrap.min.css set `[hidden] { display: none !important; }` so we also need the `!important` here to be able to override the default hidden behavior on the sphinx rendered scikit-learn.org. See: https://github.com/scikit-learn/scikit-learn/issues/21755 */display: inline-block !important;position: relative;}#sk-container-id-5 div.sk-text-repr-fallback {display: none;}</style><div id=\"sk-container-id-5\" class=\"sk-top-container\"><div class=\"sk-text-repr-fallback\"><pre>StandardScaler()</pre><b>In a Jupyter environment, please rerun this cell to show the HTML representation or trust the notebook. <br />On GitHub, the HTML representation is unable to render, please try loading this page with nbviewer.org.</b></div><div class=\"sk-container\" hidden><div class=\"sk-item\"><div class=\"sk-estimator sk-toggleable\"><input class=\"sk-toggleable__control sk-hidden--visually\" id=\"sk-estimator-id-5\" type=\"checkbox\" checked><label for=\"sk-estimator-id-5\" class=\"sk-toggleable__label sk-toggleable__label-arrow\">StandardScaler</label><div class=\"sk-toggleable__content\"><pre>StandardScaler()</pre></div></div></div></div></div>"
      ],
      "text/plain": [
       "StandardScaler()"
      ]
     },
     "execution_count": 100,
     "metadata": {},
     "output_type": "execute_result"
    }
   ],
   "source": [
    "scaler.fit(X_train)"
   ]
  },
  {
   "cell_type": "code",
   "execution_count": 101,
   "metadata": {},
   "outputs": [],
   "source": [
    "X_train_scaled = scaler.transform(X_train)\n",
    "X_test_scaled = scaler.transform(X_test)"
   ]
  },
  {
   "cell_type": "code",
   "execution_count": 102,
   "metadata": {},
   "outputs": [],
   "source": [
    "X_train_scaled_df = pd.DataFrame(X_train_scaled, columns=df_flights.drop('arr_delay',axis=1).columns)"
   ]
  },
  {
   "cell_type": "code",
   "execution_count": 103,
   "metadata": {},
   "outputs": [
    {
     "data": {
      "text/html": [
       "<div>\n",
       "<style scoped>\n",
       "    .dataframe tbody tr th:only-of-type {\n",
       "        vertical-align: middle;\n",
       "    }\n",
       "\n",
       "    .dataframe tbody tr th {\n",
       "        vertical-align: top;\n",
       "    }\n",
       "\n",
       "    .dataframe thead th {\n",
       "        text-align: right;\n",
       "    }\n",
       "</style>\n",
       "<table border=\"1\" class=\"dataframe\">\n",
       "  <thead>\n",
       "    <tr style=\"text-align: right;\">\n",
       "      <th></th>\n",
       "      <th>season_Fall</th>\n",
       "      <th>season_Spring</th>\n",
       "      <th>season_Summer</th>\n",
       "      <th>season_Winter</th>\n",
       "      <th>crs_dep_time_of_day_early morning</th>\n",
       "      <th>crs_dep_time_of_day_late morning</th>\n",
       "      <th>crs_dep_time_of_day_midday</th>\n",
       "      <th>crs_dep_time_of_day_late afternoon</th>\n",
       "      <th>crs_dep_time_of_day_evening</th>\n",
       "      <th>crs_arr_time_of_day_early morning</th>\n",
       "      <th>crs_arr_time_of_day_late morning</th>\n",
       "      <th>crs_arr_time_of_day_midday</th>\n",
       "      <th>crs_arr_time_of_day_late afternoon</th>\n",
       "      <th>crs_arr_time_of_day_evening</th>\n",
       "      <th>origin_region_Midwest</th>\n",
       "      <th>origin_region_Northeast</th>\n",
       "      <th>origin_region_Other</th>\n",
       "      <th>origin_region_South</th>\n",
       "      <th>origin_region_West</th>\n",
       "    </tr>\n",
       "  </thead>\n",
       "  <tbody>\n",
       "    <tr>\n",
       "      <th>0</th>\n",
       "      <td>-0.587164</td>\n",
       "      <td>-0.572780</td>\n",
       "      <td>1.681047</td>\n",
       "      <td>-0.554585</td>\n",
       "      <td>-0.163045</td>\n",
       "      <td>1.419780</td>\n",
       "      <td>-0.663422</td>\n",
       "      <td>-0.625957</td>\n",
       "      <td>-0.24213</td>\n",
       "      <td>-0.118121</td>\n",
       "      <td>1.847460</td>\n",
       "      <td>-0.661600</td>\n",
       "      <td>-0.661552</td>\n",
       "      <td>-0.421349</td>\n",
       "      <td>-0.492337</td>\n",
       "      <td>-0.382925</td>\n",
       "      <td>-0.074417</td>\n",
       "      <td>1.229431</td>\n",
       "      <td>-0.613320</td>\n",
       "    </tr>\n",
       "    <tr>\n",
       "      <th>1</th>\n",
       "      <td>1.703100</td>\n",
       "      <td>-0.572780</td>\n",
       "      <td>-0.594867</td>\n",
       "      <td>-0.554585</td>\n",
       "      <td>-0.163045</td>\n",
       "      <td>-0.704334</td>\n",
       "      <td>-0.663422</td>\n",
       "      <td>1.597553</td>\n",
       "      <td>-0.24213</td>\n",
       "      <td>-0.118121</td>\n",
       "      <td>-0.541284</td>\n",
       "      <td>-0.661600</td>\n",
       "      <td>1.511596</td>\n",
       "      <td>-0.421349</td>\n",
       "      <td>-0.492337</td>\n",
       "      <td>-0.382925</td>\n",
       "      <td>-0.074417</td>\n",
       "      <td>1.229431</td>\n",
       "      <td>-0.613320</td>\n",
       "    </tr>\n",
       "    <tr>\n",
       "      <th>2</th>\n",
       "      <td>-0.587164</td>\n",
       "      <td>1.745871</td>\n",
       "      <td>-0.594867</td>\n",
       "      <td>-0.554585</td>\n",
       "      <td>-0.163045</td>\n",
       "      <td>-0.704334</td>\n",
       "      <td>-0.663422</td>\n",
       "      <td>1.597553</td>\n",
       "      <td>-0.24213</td>\n",
       "      <td>-0.118121</td>\n",
       "      <td>-0.541284</td>\n",
       "      <td>-0.661600</td>\n",
       "      <td>1.511596</td>\n",
       "      <td>-0.421349</td>\n",
       "      <td>-0.492337</td>\n",
       "      <td>-0.382925</td>\n",
       "      <td>-0.074417</td>\n",
       "      <td>1.229431</td>\n",
       "      <td>-0.613320</td>\n",
       "    </tr>\n",
       "    <tr>\n",
       "      <th>3</th>\n",
       "      <td>-0.587164</td>\n",
       "      <td>1.745871</td>\n",
       "      <td>-0.594867</td>\n",
       "      <td>-0.554585</td>\n",
       "      <td>-0.163045</td>\n",
       "      <td>1.419780</td>\n",
       "      <td>-0.663422</td>\n",
       "      <td>-0.625957</td>\n",
       "      <td>-0.24213</td>\n",
       "      <td>-0.118121</td>\n",
       "      <td>-0.541284</td>\n",
       "      <td>-0.661600</td>\n",
       "      <td>1.511596</td>\n",
       "      <td>-0.421349</td>\n",
       "      <td>-0.492337</td>\n",
       "      <td>-0.382925</td>\n",
       "      <td>-0.074417</td>\n",
       "      <td>-0.813384</td>\n",
       "      <td>1.630471</td>\n",
       "    </tr>\n",
       "    <tr>\n",
       "      <th>4</th>\n",
       "      <td>-0.587164</td>\n",
       "      <td>-0.572780</td>\n",
       "      <td>-0.594867</td>\n",
       "      <td>1.803151</td>\n",
       "      <td>-0.163045</td>\n",
       "      <td>1.419780</td>\n",
       "      <td>-0.663422</td>\n",
       "      <td>-0.625957</td>\n",
       "      <td>-0.24213</td>\n",
       "      <td>-0.118121</td>\n",
       "      <td>-0.541284</td>\n",
       "      <td>1.511486</td>\n",
       "      <td>-0.661552</td>\n",
       "      <td>-0.421349</td>\n",
       "      <td>-0.492337</td>\n",
       "      <td>-0.382925</td>\n",
       "      <td>-0.074417</td>\n",
       "      <td>-0.813384</td>\n",
       "      <td>1.630471</td>\n",
       "    </tr>\n",
       "  </tbody>\n",
       "</table>\n",
       "</div>"
      ],
      "text/plain": [
       "   season_Fall  season_Spring  season_Summer  season_Winter  \\\n",
       "0    -0.587164      -0.572780       1.681047      -0.554585   \n",
       "1     1.703100      -0.572780      -0.594867      -0.554585   \n",
       "2    -0.587164       1.745871      -0.594867      -0.554585   \n",
       "3    -0.587164       1.745871      -0.594867      -0.554585   \n",
       "4    -0.587164      -0.572780      -0.594867       1.803151   \n",
       "\n",
       "   crs_dep_time_of_day_early morning  crs_dep_time_of_day_late morning  \\\n",
       "0                          -0.163045                          1.419780   \n",
       "1                          -0.163045                         -0.704334   \n",
       "2                          -0.163045                         -0.704334   \n",
       "3                          -0.163045                          1.419780   \n",
       "4                          -0.163045                          1.419780   \n",
       "\n",
       "   crs_dep_time_of_day_midday  crs_dep_time_of_day_late afternoon  \\\n",
       "0                   -0.663422                           -0.625957   \n",
       "1                   -0.663422                            1.597553   \n",
       "2                   -0.663422                            1.597553   \n",
       "3                   -0.663422                           -0.625957   \n",
       "4                   -0.663422                           -0.625957   \n",
       "\n",
       "   crs_dep_time_of_day_evening  crs_arr_time_of_day_early morning  \\\n",
       "0                     -0.24213                          -0.118121   \n",
       "1                     -0.24213                          -0.118121   \n",
       "2                     -0.24213                          -0.118121   \n",
       "3                     -0.24213                          -0.118121   \n",
       "4                     -0.24213                          -0.118121   \n",
       "\n",
       "   crs_arr_time_of_day_late morning  crs_arr_time_of_day_midday  \\\n",
       "0                          1.847460                   -0.661600   \n",
       "1                         -0.541284                   -0.661600   \n",
       "2                         -0.541284                   -0.661600   \n",
       "3                         -0.541284                   -0.661600   \n",
       "4                         -0.541284                    1.511486   \n",
       "\n",
       "   crs_arr_time_of_day_late afternoon  crs_arr_time_of_day_evening  \\\n",
       "0                           -0.661552                    -0.421349   \n",
       "1                            1.511596                    -0.421349   \n",
       "2                            1.511596                    -0.421349   \n",
       "3                            1.511596                    -0.421349   \n",
       "4                           -0.661552                    -0.421349   \n",
       "\n",
       "   origin_region_Midwest  origin_region_Northeast  origin_region_Other  \\\n",
       "0              -0.492337                -0.382925            -0.074417   \n",
       "1              -0.492337                -0.382925            -0.074417   \n",
       "2              -0.492337                -0.382925            -0.074417   \n",
       "3              -0.492337                -0.382925            -0.074417   \n",
       "4              -0.492337                -0.382925            -0.074417   \n",
       "\n",
       "   origin_region_South  origin_region_West  \n",
       "0             1.229431           -0.613320  \n",
       "1             1.229431           -0.613320  \n",
       "2             1.229431           -0.613320  \n",
       "3            -0.813384            1.630471  \n",
       "4            -0.813384            1.630471  "
      ]
     },
     "execution_count": 103,
     "metadata": {},
     "output_type": "execute_result"
    }
   ],
   "source": [
    "X_train_scaled_df.head()"
   ]
  },
  {
   "cell_type": "code",
   "execution_count": 104,
   "metadata": {},
   "outputs": [
    {
     "data": {
      "text/plain": [
       "<AxesSubplot: >"
      ]
     },
     "execution_count": 104,
     "metadata": {},
     "output_type": "execute_result"
    },
    {
     "data": {
      "image/png": "[encoded data removed]",
      "text/plain": [
       "<Figure size 640x480 with 1 Axes>"
      ]
     },
     "metadata": {},
     "output_type": "display_data"
    }
   ],
   "source": [
    "X_train_scaled_df.boxplot(vert=False)"
   ]
  },
  {
   "cell_type": "code",
   "execution_count": 105,
   "metadata": {},
   "outputs": [
    {
     "data": {
      "text/html": [
       "<div>\n",
       "<style scoped>\n",
       "    .dataframe tbody tr th:only-of-type {\n",
       "        vertical-align: middle;\n",
       "    }\n",
       "\n",
       "    .dataframe tbody tr th {\n",
       "        vertical-align: top;\n",
       "    }\n",
       "\n",
       "    .dataframe thead th {\n",
       "        text-align: right;\n",
       "    }\n",
       "</style>\n",
       "<table border=\"1\" class=\"dataframe\">\n",
       "  <thead>\n",
       "    <tr style=\"text-align: right;\">\n",
       "      <th></th>\n",
       "      <th>Mean Absolute Error</th>\n",
       "      <th>Root Mean Square Error</th>\n",
       "      <th>R Squared</th>\n",
       "      <th>Adjusted R Squared</th>\n",
       "    </tr>\n",
       "  </thead>\n",
       "  <tbody>\n",
       "    <tr>\n",
       "      <th>linear</th>\n",
       "      <td>18.330863</td>\n",
       "      <td>27.582008</td>\n",
       "      <td>0.02075</td>\n",
       "      <td>0.020083</td>\n",
       "    </tr>\n",
       "  </tbody>\n",
       "</table>\n",
       "</div>"
      ],
      "text/plain": [
       "        Mean Absolute Error  Root Mean Square Error  R Squared  \\\n",
       "linear            18.330863               27.582008    0.02075   \n",
       "\n",
       "        Adjusted R Squared  \n",
       "linear            0.020083  "
      ]
     },
     "execution_count": 105,
     "metadata": {},
     "output_type": "execute_result"
    }
   ],
   "source": [
    "model_comparison_linear = IFPE_Regression(X_train_scaled, y_train, X_test_scaled, y_test, regressor='linear', deg=None)\n",
    "model_comparison_linear"
   ]
  },
  {
   "cell_type": "code",
   "execution_count": 106,
   "metadata": {},
   "outputs": [
    {
     "data": {
      "text/html": [
       "<div>\n",
       "<style scoped>\n",
       "    .dataframe tbody tr th:only-of-type {\n",
       "        vertical-align: middle;\n",
       "    }\n",
       "\n",
       "    .dataframe tbody tr th {\n",
       "        vertical-align: top;\n",
       "    }\n",
       "\n",
       "    .dataframe thead th {\n",
       "        text-align: right;\n",
       "    }\n",
       "</style>\n",
       "<table border=\"1\" class=\"dataframe\">\n",
       "  <thead>\n",
       "    <tr style=\"text-align: right;\">\n",
       "      <th></th>\n",
       "      <th>Mean Absolute Error</th>\n",
       "      <th>Root Mean Square Error</th>\n",
       "      <th>R Squared</th>\n",
       "      <th>Adjusted R Squared</th>\n",
       "    </tr>\n",
       "  </thead>\n",
       "  <tbody>\n",
       "    <tr>\n",
       "      <th>ridge</th>\n",
       "      <td>18.33248</td>\n",
       "      <td>27.583598</td>\n",
       "      <td>0.020637</td>\n",
       "      <td>0.01997</td>\n",
       "    </tr>\n",
       "  </tbody>\n",
       "</table>\n",
       "</div>"
      ],
      "text/plain": [
       "       Mean Absolute Error  Root Mean Square Error  R Squared  \\\n",
       "ridge             18.33248               27.583598   0.020637   \n",
       "\n",
       "       Adjusted R Squared  \n",
       "ridge             0.01997  "
      ]
     },
     "execution_count": 106,
     "metadata": {},
     "output_type": "execute_result"
    }
   ],
   "source": [
    "model_comparison_ridge = IFPE_Regression(X_train_scaled, y_train, X_test_scaled, y_test, regressor='ridge', deg=None)\n",
    "model_comparison_ridge"
   ]
  },
  {
   "cell_type": "code",
   "execution_count": 107,
   "metadata": {},
   "outputs": [
    {
     "data": {
      "text/html": [
       "<div>\n",
       "<style scoped>\n",
       "    .dataframe tbody tr th:only-of-type {\n",
       "        vertical-align: middle;\n",
       "    }\n",
       "\n",
       "    .dataframe tbody tr th {\n",
       "        vertical-align: top;\n",
       "    }\n",
       "\n",
       "    .dataframe thead th {\n",
       "        text-align: right;\n",
       "    }\n",
       "</style>\n",
       "<table border=\"1\" class=\"dataframe\">\n",
       "  <thead>\n",
       "    <tr style=\"text-align: right;\">\n",
       "      <th></th>\n",
       "      <th>Mean Absolute Error</th>\n",
       "      <th>Root Mean Square Error</th>\n",
       "      <th>R Squared</th>\n",
       "      <th>Adjusted R Squared</th>\n",
       "    </tr>\n",
       "  </thead>\n",
       "  <tbody>\n",
       "    <tr>\n",
       "      <th>lasso</th>\n",
       "      <td>18.339888</td>\n",
       "      <td>27.653532</td>\n",
       "      <td>0.015664</td>\n",
       "      <td>0.014995</td>\n",
       "    </tr>\n",
       "  </tbody>\n",
       "</table>\n",
       "</div>"
      ],
      "text/plain": [
       "       Mean Absolute Error  Root Mean Square Error  R Squared  \\\n",
       "lasso            18.339888               27.653532   0.015664   \n",
       "\n",
       "       Adjusted R Squared  \n",
       "lasso            0.014995  "
      ]
     },
     "execution_count": 107,
     "metadata": {},
     "output_type": "execute_result"
    }
   ],
   "source": [
    "model_comparison_lasso = IFPE_Regression(X_train_scaled, y_train, X_test_scaled, y_test, regressor='lasso', deg=None)\n",
    "model_comparison_lasso"
   ]
  },
  {
   "cell_type": "code",
   "execution_count": 108,
   "metadata": {},
   "outputs": [
    {
     "data": {
      "text/html": [
       "<div>\n",
       "<style scoped>\n",
       "    .dataframe tbody tr th:only-of-type {\n",
       "        vertical-align: middle;\n",
       "    }\n",
       "\n",
       "    .dataframe tbody tr th {\n",
       "        vertical-align: top;\n",
       "    }\n",
       "\n",
       "    .dataframe thead th {\n",
       "        text-align: right;\n",
       "    }\n",
       "</style>\n",
       "<table border=\"1\" class=\"dataframe\">\n",
       "  <thead>\n",
       "    <tr style=\"text-align: right;\">\n",
       "      <th></th>\n",
       "      <th>Mean Absolute Error</th>\n",
       "      <th>Root Mean Square Error</th>\n",
       "      <th>R Squared</th>\n",
       "      <th>Adjusted R Squared</th>\n",
       "    </tr>\n",
       "  </thead>\n",
       "  <tbody>\n",
       "    <tr>\n",
       "      <th>polynomial</th>\n",
       "      <td>2.410419e+09</td>\n",
       "      <td>2.848836e+11</td>\n",
       "      <td>-1.044665e+20</td>\n",
       "      <td>-1.052577e+20</td>\n",
       "    </tr>\n",
       "  </tbody>\n",
       "</table>\n",
       "</div>"
      ],
      "text/plain": [
       "            Mean Absolute Error  Root Mean Square Error     R Squared  \\\n",
       "polynomial         2.410419e+09            2.848836e+11 -1.044665e+20   \n",
       "\n",
       "            Adjusted R Squared  \n",
       "polynomial       -1.052577e+20  "
      ]
     },
     "execution_count": 108,
     "metadata": {},
     "output_type": "execute_result"
    }
   ],
   "source": [
    "model_comparison_poly2 = IFPE_Regression(X_train_scaled, y_train, X_test_scaled, y_test, regressor='polynomial', deg=2)\n",
    "model_comparison_poly2"
   ]
  },
  {
   "cell_type": "code",
   "execution_count": 109,
   "metadata": {},
   "outputs": [
    {
     "data": {
      "text/html": [
       "<div>\n",
       "<style scoped>\n",
       "    .dataframe tbody tr th:only-of-type {\n",
       "        vertical-align: middle;\n",
       "    }\n",
       "\n",
       "    .dataframe tbody tr th {\n",
       "        vertical-align: top;\n",
       "    }\n",
       "\n",
       "    .dataframe thead th {\n",
       "        text-align: right;\n",
       "    }\n",
       "</style>\n",
       "<table border=\"1\" class=\"dataframe\">\n",
       "  <thead>\n",
       "    <tr style=\"text-align: right;\">\n",
       "      <th></th>\n",
       "      <th>Mean Absolute Error</th>\n",
       "      <th>Root Mean Square Error</th>\n",
       "      <th>R Squared</th>\n",
       "      <th>Adjusted R Squared</th>\n",
       "    </tr>\n",
       "  </thead>\n",
       "  <tbody>\n",
       "    <tr>\n",
       "      <th>polynomial</th>\n",
       "      <td>4.560674e+09</td>\n",
       "      <td>5.231494e+11</td>\n",
       "      <td>-3.522844e+20</td>\n",
       "      <td>-3.728374e+20</td>\n",
       "    </tr>\n",
       "  </tbody>\n",
       "</table>\n",
       "</div>"
      ],
      "text/plain": [
       "            Mean Absolute Error  Root Mean Square Error     R Squared  \\\n",
       "polynomial         4.560674e+09            5.231494e+11 -3.522844e+20   \n",
       "\n",
       "            Adjusted R Squared  \n",
       "polynomial       -3.728374e+20  "
      ]
     },
     "execution_count": 109,
     "metadata": {},
     "output_type": "execute_result"
    }
   ],
   "source": [
    "model_comparison_poly3 = IFPE_Regression(X_train, y_train, X_test, y_test, regressor='polynomial', deg=3)\n",
    "model_comparison_poly3"
   ]
  },
  {
   "cell_type": "code",
   "execution_count": 110,
   "metadata": {},
   "outputs": [
    {
     "data": {
      "text/html": [
       "<div>\n",
       "<style scoped>\n",
       "    .dataframe tbody tr th:only-of-type {\n",
       "        vertical-align: middle;\n",
       "    }\n",
       "\n",
       "    .dataframe tbody tr th {\n",
       "        vertical-align: top;\n",
       "    }\n",
       "\n",
       "    .dataframe thead th {\n",
       "        text-align: right;\n",
       "    }\n",
       "</style>\n",
       "<table border=\"1\" class=\"dataframe\">\n",
       "  <thead>\n",
       "    <tr style=\"text-align: right;\">\n",
       "      <th></th>\n",
       "      <th>Mean Absolute Error</th>\n",
       "      <th>Root Mean Square Error</th>\n",
       "      <th>R Squared</th>\n",
       "      <th>Adjusted R Squared</th>\n",
       "    </tr>\n",
       "  </thead>\n",
       "  <tbody>\n",
       "    <tr>\n",
       "      <th>sgd</th>\n",
       "      <td>18.333194</td>\n",
       "      <td>27.619603</td>\n",
       "      <td>0.018078</td>\n",
       "      <td>0.01741</td>\n",
       "    </tr>\n",
       "  </tbody>\n",
       "</table>\n",
       "</div>"
      ],
      "text/plain": [
       "     Mean Absolute Error  Root Mean Square Error  R Squared  \\\n",
       "sgd            18.333194               27.619603   0.018078   \n",
       "\n",
       "     Adjusted R Squared  \n",
       "sgd             0.01741  "
      ]
     },
     "execution_count": 110,
     "metadata": {},
     "output_type": "execute_result"
    }
   ],
   "source": [
    "model_comparison_sgd = IFPE_Regression(X_train_scaled, y_train, X_test_scaled, y_test, regressor='sgd', deg=None)\n",
    "model_comparison_sgd"
   ]
  },
  {
   "cell_type": "code",
   "execution_count": 111,
   "metadata": {},
   "outputs": [],
   "source": [
    "# model_comparison_svm = IFPE_Regression(X_train, y_train, X_test, y_test, regressor='svm', deg=None)\n",
    "# model_comparison_svm"
   ]
  },
  {
   "cell_type": "code",
   "execution_count": 112,
   "metadata": {},
   "outputs": [
    {
     "data": {
      "text/html": [
       "<div>\n",
       "<style scoped>\n",
       "    .dataframe tbody tr th:only-of-type {\n",
       "        vertical-align: middle;\n",
       "    }\n",
       "\n",
       "    .dataframe tbody tr th {\n",
       "        vertical-align: top;\n",
       "    }\n",
       "\n",
       "    .dataframe thead th {\n",
       "        text-align: right;\n",
       "    }\n",
       "</style>\n",
       "<table border=\"1\" class=\"dataframe\">\n",
       "  <thead>\n",
       "    <tr style=\"text-align: right;\">\n",
       "      <th></th>\n",
       "      <th>Mean Absolute Error</th>\n",
       "      <th>Root Mean Square Error</th>\n",
       "      <th>R Squared</th>\n",
       "      <th>Adjusted R Squared</th>\n",
       "    </tr>\n",
       "  </thead>\n",
       "  <tbody>\n",
       "    <tr>\n",
       "      <th>dt</th>\n",
       "      <td>18.34606</td>\n",
       "      <td>27.62178</td>\n",
       "      <td>0.017924</td>\n",
       "      <td>0.017255</td>\n",
       "    </tr>\n",
       "  </tbody>\n",
       "</table>\n",
       "</div>"
      ],
      "text/plain": [
       "    Mean Absolute Error  Root Mean Square Error  R Squared  Adjusted R Squared\n",
       "dt             18.34606                27.62178   0.017924            0.017255"
      ]
     },
     "execution_count": 112,
     "metadata": {},
     "output_type": "execute_result"
    }
   ],
   "source": [
    "model_comparison_dt = IFPE_Regression(X_train_scaled, y_train, X_test_scaled, y_test, regressor='dt', deg=None)\n",
    "model_comparison_dt"
   ]
  },
  {
   "cell_type": "code",
   "execution_count": 113,
   "metadata": {},
   "outputs": [
    {
     "data": {
      "text/html": [
       "<div>\n",
       "<style scoped>\n",
       "    .dataframe tbody tr th:only-of-type {\n",
       "        vertical-align: middle;\n",
       "    }\n",
       "\n",
       "    .dataframe tbody tr th {\n",
       "        vertical-align: top;\n",
       "    }\n",
       "\n",
       "    .dataframe thead th {\n",
       "        text-align: right;\n",
       "    }\n",
       "</style>\n",
       "<table border=\"1\" class=\"dataframe\">\n",
       "  <thead>\n",
       "    <tr style=\"text-align: right;\">\n",
       "      <th></th>\n",
       "      <th>Mean Absolute Error</th>\n",
       "      <th>Root Mean Square Error</th>\n",
       "      <th>R Squared</th>\n",
       "      <th>Adjusted R Squared</th>\n",
       "    </tr>\n",
       "  </thead>\n",
       "  <tbody>\n",
       "    <tr>\n",
       "      <th>rf</th>\n",
       "      <td>18.356969</td>\n",
       "      <td>27.643086</td>\n",
       "      <td>0.016408</td>\n",
       "      <td>0.015739</td>\n",
       "    </tr>\n",
       "  </tbody>\n",
       "</table>\n",
       "</div>"
      ],
      "text/plain": [
       "    Mean Absolute Error  Root Mean Square Error  R Squared  Adjusted R Squared\n",
       "rf            18.356969               27.643086   0.016408            0.015739"
      ]
     },
     "execution_count": 113,
     "metadata": {},
     "output_type": "execute_result"
    }
   ],
   "source": [
    "model_comparison_rf = IFPE_Regression(X_train_scaled, y_train, X_test_scaled, y_test, regressor='rf', deg=None)\n",
    "model_comparison_rf"
   ]
  },
  {
   "cell_type": "code",
   "execution_count": 114,
   "metadata": {},
   "outputs": [
    {
     "data": {
      "text/html": [
       "<div>\n",
       "<style scoped>\n",
       "    .dataframe tbody tr th:only-of-type {\n",
       "        vertical-align: middle;\n",
       "    }\n",
       "\n",
       "    .dataframe tbody tr th {\n",
       "        vertical-align: top;\n",
       "    }\n",
       "\n",
       "    .dataframe thead th {\n",
       "        text-align: right;\n",
       "    }\n",
       "</style>\n",
       "<table border=\"1\" class=\"dataframe\">\n",
       "  <thead>\n",
       "    <tr style=\"text-align: right;\">\n",
       "      <th></th>\n",
       "      <th>Mean Absolute Error</th>\n",
       "      <th>Root Mean Square Error</th>\n",
       "      <th>R Squared</th>\n",
       "      <th>Adjusted R Squared</th>\n",
       "    </tr>\n",
       "  </thead>\n",
       "  <tbody>\n",
       "    <tr>\n",
       "      <th>gb</th>\n",
       "      <td>18.300381</td>\n",
       "      <td>27.561269</td>\n",
       "      <td>0.022222</td>\n",
       "      <td>0.021556</td>\n",
       "    </tr>\n",
       "  </tbody>\n",
       "</table>\n",
       "</div>"
      ],
      "text/plain": [
       "    Mean Absolute Error  Root Mean Square Error  R Squared  Adjusted R Squared\n",
       "gb            18.300381               27.561269   0.022222            0.021556"
      ]
     },
     "execution_count": 114,
     "metadata": {},
     "output_type": "execute_result"
    }
   ],
   "source": [
    "model_comparison_gb = IFPE_Regression(X_train_scaled, y_train, X_test_scaled, y_test, regressor='gb', deg=None)\n",
    "model_comparison_gb"
   ]
  },
  {
   "cell_type": "code",
   "execution_count": 115,
   "metadata": {},
   "outputs": [
    {
     "data": {
      "text/html": [
       "<div>\n",
       "<style scoped>\n",
       "    .dataframe tbody tr th:only-of-type {\n",
       "        vertical-align: middle;\n",
       "    }\n",
       "\n",
       "    .dataframe tbody tr th {\n",
       "        vertical-align: top;\n",
       "    }\n",
       "\n",
       "    .dataframe thead th {\n",
       "        text-align: right;\n",
       "    }\n",
       "</style>\n",
       "<table border=\"1\" class=\"dataframe\">\n",
       "  <thead>\n",
       "    <tr style=\"text-align: right;\">\n",
       "      <th></th>\n",
       "      <th>Mean Absolute Error</th>\n",
       "      <th>Root Mean Square Error</th>\n",
       "      <th>R Squared</th>\n",
       "      <th>Adjusted R Squared</th>\n",
       "    </tr>\n",
       "  </thead>\n",
       "  <tbody>\n",
       "    <tr>\n",
       "      <th>vr</th>\n",
       "      <td>18.306838</td>\n",
       "      <td>27.563535</td>\n",
       "      <td>0.022061</td>\n",
       "      <td>0.021395</td>\n",
       "    </tr>\n",
       "  </tbody>\n",
       "</table>\n",
       "</div>"
      ],
      "text/plain": [
       "    Mean Absolute Error  Root Mean Square Error  R Squared  Adjusted R Squared\n",
       "vr            18.306838               27.563535   0.022061            0.021395"
      ]
     },
     "execution_count": 115,
     "metadata": {},
     "output_type": "execute_result"
    }
   ],
   "source": [
    "model_comparison_vr = IFPE_Regression(X_train_scaled, y_train, X_test_scaled, y_test, regressor='vr', deg=None)\n",
    "model_comparison_vr"
   ]
  },
  {
   "cell_type": "code",
   "execution_count": 116,
   "metadata": {},
   "outputs": [
    {
     "data": {
      "text/html": [
       "<div>\n",
       "<style scoped>\n",
       "    .dataframe tbody tr th:only-of-type {\n",
       "        vertical-align: middle;\n",
       "    }\n",
       "\n",
       "    .dataframe tbody tr th {\n",
       "        vertical-align: top;\n",
       "    }\n",
       "\n",
       "    .dataframe thead th {\n",
       "        text-align: right;\n",
       "    }\n",
       "</style>\n",
       "<table border=\"1\" class=\"dataframe\">\n",
       "  <thead>\n",
       "    <tr style=\"text-align: right;\">\n",
       "      <th></th>\n",
       "      <th>Mean Absolute Error</th>\n",
       "      <th>Root Mean Square Error</th>\n",
       "      <th>R Squared</th>\n",
       "      <th>Adjusted R Squared</th>\n",
       "    </tr>\n",
       "  </thead>\n",
       "  <tbody>\n",
       "    <tr>\n",
       "      <th>xgb</th>\n",
       "      <td>18.345715</td>\n",
       "      <td>27.621898</td>\n",
       "      <td>0.017915</td>\n",
       "      <td>0.017247</td>\n",
       "    </tr>\n",
       "  </tbody>\n",
       "</table>\n",
       "</div>"
      ],
      "text/plain": [
       "     Mean Absolute Error  Root Mean Square Error  R Squared  \\\n",
       "xgb            18.345715               27.621898   0.017915   \n",
       "\n",
       "     Adjusted R Squared  \n",
       "xgb            0.017247  "
      ]
     },
     "execution_count": 116,
     "metadata": {},
     "output_type": "execute_result"
    }
   ],
   "source": [
    "model_comparison_xgb = IFPE_Regression(X_train_scaled, y_train, X_test_scaled, y_test, regressor='xgb', deg=None)\n",
    "model_comparison_xgb"
   ]
  },
  {
   "cell_type": "code",
   "execution_count": 117,
   "metadata": {},
   "outputs": [],
   "source": [
    "model_comparison = pd.concat([model_comparison_linear,model_comparison_ridge,model_comparison_lasso,model_comparison_poly2,model_comparison_poly3,model_comparison_sgd,model_comparison_dt,model_comparison_rf,model_comparison_gb,model_comparison_vr,model_comparison_xgb])\n"
   ]
  },
  {
   "cell_type": "code",
   "execution_count": 118,
   "metadata": {},
   "outputs": [
    {
     "data": {
      "text/html": [
       "<div>\n",
       "<style scoped>\n",
       "    .dataframe tbody tr th:only-of-type {\n",
       "        vertical-align: middle;\n",
       "    }\n",
       "\n",
       "    .dataframe tbody tr th {\n",
       "        vertical-align: top;\n",
       "    }\n",
       "\n",
       "    .dataframe thead th {\n",
       "        text-align: right;\n",
       "    }\n",
       "</style>\n",
       "<table border=\"1\" class=\"dataframe\">\n",
       "  <thead>\n",
       "    <tr style=\"text-align: right;\">\n",
       "      <th></th>\n",
       "      <th>Mean Absolute Error</th>\n",
       "      <th>Root Mean Square Error</th>\n",
       "      <th>R Squared</th>\n",
       "      <th>Adjusted R Squared</th>\n",
       "    </tr>\n",
       "  </thead>\n",
       "  <tbody>\n",
       "    <tr>\n",
       "      <th>gb</th>\n",
       "      <td>1.830038e+01</td>\n",
       "      <td>2.756127e+01</td>\n",
       "      <td>2.222177e-02</td>\n",
       "      <td>2.155631e-02</td>\n",
       "    </tr>\n",
       "    <tr>\n",
       "      <th>vr</th>\n",
       "      <td>1.830684e+01</td>\n",
       "      <td>2.756354e+01</td>\n",
       "      <td>2.206095e-02</td>\n",
       "      <td>2.139537e-02</td>\n",
       "    </tr>\n",
       "    <tr>\n",
       "      <th>linear</th>\n",
       "      <td>1.833086e+01</td>\n",
       "      <td>2.758201e+01</td>\n",
       "      <td>2.074973e-02</td>\n",
       "      <td>2.008326e-02</td>\n",
       "    </tr>\n",
       "    <tr>\n",
       "      <th>ridge</th>\n",
       "      <td>1.833248e+01</td>\n",
       "      <td>2.758360e+01</td>\n",
       "      <td>2.063678e-02</td>\n",
       "      <td>1.997023e-02</td>\n",
       "    </tr>\n",
       "    <tr>\n",
       "      <th>sgd</th>\n",
       "      <td>1.833319e+01</td>\n",
       "      <td>2.761960e+01</td>\n",
       "      <td>1.807840e-02</td>\n",
       "      <td>1.741012e-02</td>\n",
       "    </tr>\n",
       "    <tr>\n",
       "      <th>dt</th>\n",
       "      <td>1.834606e+01</td>\n",
       "      <td>2.762178e+01</td>\n",
       "      <td>1.792356e-02</td>\n",
       "      <td>1.725517e-02</td>\n",
       "    </tr>\n",
       "    <tr>\n",
       "      <th>xgb</th>\n",
       "      <td>1.834572e+01</td>\n",
       "      <td>2.762190e+01</td>\n",
       "      <td>1.791521e-02</td>\n",
       "      <td>1.724681e-02</td>\n",
       "    </tr>\n",
       "    <tr>\n",
       "      <th>rf</th>\n",
       "      <td>1.835697e+01</td>\n",
       "      <td>2.764309e+01</td>\n",
       "      <td>1.640800e-02</td>\n",
       "      <td>1.573857e-02</td>\n",
       "    </tr>\n",
       "    <tr>\n",
       "      <th>lasso</th>\n",
       "      <td>1.833989e+01</td>\n",
       "      <td>2.765353e+01</td>\n",
       "      <td>1.566445e-02</td>\n",
       "      <td>1.499452e-02</td>\n",
       "    </tr>\n",
       "    <tr>\n",
       "      <th>polynomial</th>\n",
       "      <td>2.410419e+09</td>\n",
       "      <td>2.848836e+11</td>\n",
       "      <td>-1.044665e+20</td>\n",
       "      <td>-1.052577e+20</td>\n",
       "    </tr>\n",
       "    <tr>\n",
       "      <th>polynomial</th>\n",
       "      <td>4.560674e+09</td>\n",
       "      <td>5.231494e+11</td>\n",
       "      <td>-3.522844e+20</td>\n",
       "      <td>-3.728374e+20</td>\n",
       "    </tr>\n",
       "  </tbody>\n",
       "</table>\n",
       "</div>"
      ],
      "text/plain": [
       "            Mean Absolute Error  Root Mean Square Error     R Squared  \\\n",
       "gb                 1.830038e+01            2.756127e+01  2.222177e-02   \n",
       "vr                 1.830684e+01            2.756354e+01  2.206095e-02   \n",
       "linear             1.833086e+01            2.758201e+01  2.074973e-02   \n",
       "ridge              1.833248e+01            2.758360e+01  2.063678e-02   \n",
       "sgd                1.833319e+01            2.761960e+01  1.807840e-02   \n",
       "dt                 1.834606e+01            2.762178e+01  1.792356e-02   \n",
       "xgb                1.834572e+01            2.762190e+01  1.791521e-02   \n",
       "rf                 1.835697e+01            2.764309e+01  1.640800e-02   \n",
       "lasso              1.833989e+01            2.765353e+01  1.566445e-02   \n",
       "polynomial         2.410419e+09            2.848836e+11 -1.044665e+20   \n",
       "polynomial         4.560674e+09            5.231494e+11 -3.522844e+20   \n",
       "\n",
       "            Adjusted R Squared  \n",
       "gb                2.155631e-02  \n",
       "vr                2.139537e-02  \n",
       "linear            2.008326e-02  \n",
       "ridge             1.997023e-02  \n",
       "sgd               1.741012e-02  \n",
       "dt                1.725517e-02  \n",
       "xgb               1.724681e-02  \n",
       "rf                1.573857e-02  \n",
       "lasso             1.499452e-02  \n",
       "polynomial       -1.052577e+20  \n",
       "polynomial       -3.728374e+20  "
      ]
     },
     "execution_count": 118,
     "metadata": {},
     "output_type": "execute_result"
    }
   ],
   "source": [
    "iteration4 = model_comparison.sort_values('R Squared', ascending=False)\n",
    "iteration4"
   ]
  },
  {
   "cell_type": "code",
   "execution_count": null,
   "metadata": {},
   "outputs": [],
   "source": []
  }
 ],
 "metadata": {
  "kernelspec": {
   "display_name": "Python 3.9.13 64-bit",
   "language": "python",
   "name": "python3"
  },
  "language_info": {
   "codemirror_mode": {
    "name": "ipython",
    "version": 3
   },
   "file_extension": ".py",
   "mimetype": "text/x-python",
   "name": "python",
   "nbconvert_exporter": "python",
   "pygments_lexer": "ipython3",
   "version": "3.9.13"
  },
  "orig_nbformat": 4,
  "vscode": {
   "interpreter": {
    "hash": "11938c6bc6919ae2720b4d5011047913343b08a43b18698fd82dedb0d4417594"
   }
  }
 },
 "nbformat": 4,
 "nbformat_minor": 2
}
