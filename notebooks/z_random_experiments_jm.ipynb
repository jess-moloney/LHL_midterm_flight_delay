{
 "cells": [
  {
   "cell_type": "code",
   "execution_count": 1,
   "metadata": {},
   "outputs": [
    {
     "name": "stdout",
     "output_type": "stream",
     "text": [
      "Database opened successfully\n"
     ]
    }
   ],
   "source": [
    "import psycopg2\n",
    "import pandas as pd\n",
    "\n",
    "con = psycopg2.connect(database=\"mid_term_project\", user=\"lhl_student\", password=\"lhl_student\", host=\"lhl-data-bootcamp.crzjul5qln0e.ca-central-1.rds.amazonaws.com\", port=\"5432\")\n",
    "\n",
    "print(\"Database opened successfully\")"
   ]
  },
  {
   "cell_type": "code",
   "execution_count": null,
   "metadata": {},
   "outputs": [],
   "source": [
    "def execute_query(query_string, return_pandas=True, limit=' LIMIT 20;'):\n",
    "    con = psycopg2.connect(database=\"mid_term_project\", user=\"lhl_student\", password=\"lhl_student\", host=\"lhl-data-bootcamp.crzjul5qln0e.ca-central-1.rds.amazonaws.com\", port=\"5432\")\n",
    "    cur = con.cursor()\n",
    "    if limit:\n",
    "        query_string+=limit\n",
    "    if return_pandas:\n",
    "        response = pd.read_sql_query(query_string, con)\n",
    "    else:\n",
    "        cur.execute(query_string)\n",
    "        response = cur.fetchall()\n",
    "    con.close()\n",
    "    return response\n",
    "\n",
    "# query = \"\"\"\n",
    "# SELECT * \n",
    "# FROM flights\n",
    "# \"\"\"\n",
    "# execute_query(query, limit=' LIMIT 20;')"
   ]
  },
  {
   "cell_type": "code",
   "execution_count": null,
   "metadata": {},
   "outputs": [
    {
     "name": "stderr",
     "output_type": "stream",
     "text": [
      "C:\\Users\\User\\AppData\\Local\\Temp\\ipykernel_13300\\3177490415.py:7: UserWarning: pandas only supports SQLAlchemy connectable (engine/connection) or database string URI or sqlite3 DBAPI2 connection. Other DBAPI2 objects are not tested. Please consider using SQLAlchemy.\n",
      "  response = pd.read_sql_query(query_string, con)\n"
     ]
    }
   ],
   "source": [
    "query = \"\"\"\n",
    "SELECT flights.op_unique_carrier, passengers.unique_carrier, fuel_comsumption.unique_carrier \n",
    "FROM flights\n",
    "INNER JOIN passengers\n",
    "ON flights.op_unique_carrier = passengers.unique_carrier\n",
    "INNER JOIN fuel_comsumption\n",
    "ON passengers.unique_carrier = fuel_comsumption.unique_carrier\n",
    "\"\"\"\n",
    "execute_query(query, limit=' LIMIT 20;')"
   ]
  },
  {
   "cell_type": "code",
   "execution_count": 1,
   "metadata": {},
   "outputs": [],
   "source": [
    "## For first model - just drop rows with null values. \n",
    "## For tuning later models, investigate if the missing values are randomly distributed or not, then impute values using median/mean/mode if appropriate.\n",
    "\n",
    "# tail_num                 0.281194\n",
    "# dep_time                 1.557457\n",
    "# dep_delay                1.602012\n",
    "# taxi_out                 1.643597\n",
    "# wheels_off               1.643597\n",
    "# wheels_on                1.678251\n",
    "# taxi_in                  1.678251\n",
    "# arr_time                 1.642607\n",
    "# arr_delay                1.869344\n",
    "# actual_elapsed_time      1.848551\n",
    "# air_time                 1.884196\n",
    "\n",
    "## Drop these columns entirely - mostly null values\n",
    "\n",
    "# cancellation_code       98.378186\n",
    "# carrier_delay           81.043189\n",
    "# weather_delay           81.043189\n",
    "# nas_delay               81.043189\n",
    "# security_delay          81.043189\n",
    "# late_aircraft_delay     81.043189\n",
    "# first_dep_time          99.334640\n",
    "# total_add_gtime         99.334640\n",
    "# longest_add_gtime       99.334640\n",
    "# no_name                100.000000"
   ]
  },
  {
   "cell_type": "code",
   "execution_count": null,
   "metadata": {},
   "outputs": [],
   "source": []
  }
 ],
 "metadata": {
  "kernelspec": {
   "display_name": "Python 3.9.13 64-bit",
   "language": "python",
   "name": "python3"
  },
  "language_info": {
   "codemirror_mode": {
    "name": "ipython",
    "version": 3
   },
   "file_extension": ".py",
   "mimetype": "text/x-python",
   "name": "python",
   "nbconvert_exporter": "python",
   "pygments_lexer": "ipython3",
   "version": "3.9.13"
  },
  "orig_nbformat": 4,
  "vscode": {
   "interpreter": {
    "hash": "11938c6bc6919ae2720b4d5011047913343b08a43b18698fd82dedb0d4417594"
   }
  }
 },
 "nbformat": 4,
 "nbformat_minor": 2
}
