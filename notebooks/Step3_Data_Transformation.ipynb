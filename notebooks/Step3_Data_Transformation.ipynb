{
 "cells": [
  {
   "cell_type": "markdown",
   "metadata": {},
   "source": [
    "# Load Feature Engineered Data"
   ]
  },
  {
   "cell_type": "code",
   "execution_count": null,
   "metadata": {},
   "outputs": [],
   "source": [
    "import pandas as pd\n",
    "import numpy as np\n",
    "import seaborn as sns\n",
    "from matplotlib import pyplot as plt\n",
    "sns.set() # Setting seaborn as default style even if use only matplotlib\n",
    "pd.set_option('display.max_rows', None)"
   ]
  },
  {
   "cell_type": "code",
   "execution_count": null,
   "metadata": {},
   "outputs": [],
   "source": [
    "import pickle\n",
    "\n",
    "with open(r'..\\data\\flight_data_engineered.pickle','rb') as flight_data_file:\n",
    "     df_flights = pickle.load(flight_data_file)"
   ]
  },
  {
   "cell_type": "code",
   "execution_count": null,
   "metadata": {},
   "outputs": [],
   "source": [
    "df_flights = df_flights.reset_index(drop=True)"
   ]
  },
  {
   "cell_type": "code",
   "execution_count": null,
   "metadata": {},
   "outputs": [],
   "source": [
    "df_flights.head()"
   ]
  },
  {
   "cell_type": "markdown",
   "metadata": {},
   "source": [
    "# Check for Missing Values"
   ]
  },
  {
   "cell_type": "code",
   "execution_count": null,
   "metadata": {},
   "outputs": [],
   "source": [
    "sum(df_flights.isnull().sum())"
   ]
  },
  {
   "cell_type": "markdown",
   "metadata": {},
   "source": [
    "# Fix DataTypes"
   ]
  },
  {
   "cell_type": "code",
   "execution_count": null,
   "metadata": {},
   "outputs": [],
   "source": [
    "df_flights.info()"
   ]
  },
  {
   "cell_type": "code",
   "execution_count": null,
   "metadata": {},
   "outputs": [],
   "source": [
    "# fix datatypes for categorical data\n",
    "\n",
    "df_flights['mkt_carrier_fl_num'] = df_flights['mkt_carrier_fl_num'].astype(str)\n",
    "df_flights['op_carrier_fl_num'] = df_flights['op_carrier_fl_num'].astype(str)\n",
    "df_flights['origin_airport_id'] = df_flights['origin_airport_id'].astype(str)\n",
    "df_flights['dest_airport_id'] = df_flights['dest_airport_id'].astype(str)"
   ]
  },
  {
   "cell_type": "code",
   "execution_count": null,
   "metadata": {},
   "outputs": [],
   "source": [
    "# df_flights.drop(columns='fl_date', inplace = True)\n",
    "# df_flights.drop(columns='dup', inplace = True)\n",
    "# df_flights.drop(columns='flights', inplace = True)"
   ]
  },
  {
   "cell_type": "code",
   "execution_count": null,
   "metadata": {},
   "outputs": [],
   "source": [
    "sum(df_flights.isnull().sum())"
   ]
  },
  {
   "cell_type": "markdown",
   "metadata": {},
   "source": [
    "# Detect / Treat Outliers"
   ]
  },
  {
   "cell_type": "code",
   "execution_count": null,
   "metadata": {},
   "outputs": [],
   "source": [
    "df_flights.describe()"
   ]
  },
  {
   "cell_type": "code",
   "execution_count": null,
   "metadata": {},
   "outputs": [],
   "source": [
    "df_flights.head()"
   ]
  },
  {
   "cell_type": "code",
   "execution_count": null,
   "metadata": {},
   "outputs": [],
   "source": [
    "def uni_analyis_continuous(df, feature, feature_title):\n",
    "    \n",
    "    import matplotlib.pyplot as plt\n",
    "    import matplotlib.transforms as mtrans\n",
    "\n",
    "    fig, axes = plt.subplots(1,2, sharex=False, figsize=(10,5))\n",
    "    fig.suptitle(f'Univariate Analysis - {feature_title}')\n",
    "\n",
    "    sns.boxplot(ax=axes[0], data=df[feature])\n",
    "    axes[0].set_title(f'{feature_title} Boxplot')\n",
    "    sns.histplot(ax=axes[1], data=df[feature])\n",
    "    axes[1].set_title(f'{feature_title} Histogram')\n",
    "\n",
    "    Minimum = min(df[feature])\n",
    "    Median = df[feature].median()\n",
    "    Mean = df[feature].mean()\n",
    "    Maximum = max(df[feature])\n",
    "    \n",
    "    trans = mtrans.blended_transform_factory(fig.transFigure, mtrans.IdentityTransform())\n",
    "\n",
    "    txt = fig.text(0.5,10, f'Minimum : {Minimum}, Median : {Median}, Mean : {Mean}, Maximum : {Maximum}', ha='center', va='center_baseline')\n",
    "    txt.set_transform(trans)"
   ]
  },
  {
   "cell_type": "code",
   "execution_count": null,
   "metadata": {},
   "outputs": [],
   "source": [
    "for feat in ['crs_elapsed_time','distance','arr_delay']:\n",
    "    uni_analyis_continuous(df_flights, feature=feat, feature_title=feat)"
   ]
  },
  {
   "cell_type": "code",
   "execution_count": null,
   "metadata": {},
   "outputs": [],
   "source": [
    "# check if the outliers seem like mistakes, or if they could be possible. If mistakes, then drop, otherwise keep."
   ]
  },
  {
   "cell_type": "code",
   "execution_count": null,
   "metadata": {},
   "outputs": [],
   "source": [
    "from scipy import stats\n",
    "import numpy as np\n",
    "\n",
    "#Finding Z Score on Column\n",
    "stats.zscore(df_flights['crs_elapsed_time'])\n",
    "\n",
    "# Turning Absolute\n",
    "np.abs(stats.zscore(df_flights['crs_elapsed_time']))\n",
    "\n",
    "# view the outliers\n",
    "outliers = df_flights['crs_elapsed_time'][(np.abs(stats.zscore(df_flights['crs_elapsed_time'])) > 3)]\n",
    "outliers.max()\n",
    "# # drop outliers\n",
    "# df_flights.drop(outliers.index, inplace=True)"
   ]
  },
  {
   "cell_type": "code",
   "execution_count": null,
   "metadata": {},
   "outputs": [],
   "source": [
    "# 11 hour flights are possible - so keep"
   ]
  },
  {
   "cell_type": "code",
   "execution_count": null,
   "metadata": {},
   "outputs": [],
   "source": [
    "# df_flights.shape"
   ]
  },
  {
   "cell_type": "code",
   "execution_count": null,
   "metadata": {},
   "outputs": [],
   "source": [
    "from scipy import stats\n",
    "import numpy as np\n",
    "\n",
    "#Finding Z Score on Column\n",
    "stats.zscore(df_flights['distance'])\n",
    "\n",
    "# Turning Absolute\n",
    "np.abs(stats.zscore(df_flights['distance']))\n",
    "\n",
    "# view the outliers\n",
    "outliers = df_flights['distance'][(np.abs(stats.zscore(df_flights['distance'])) > 3)]\n",
    "outliers.max()\n",
    "# # # drop outliers\n",
    "# df_flights.drop(outliers.index, inplace=True)"
   ]
  },
  {
   "cell_type": "code",
   "execution_count": null,
   "metadata": {},
   "outputs": [],
   "source": [
    "# 4983 mile flights are possible, so keep outliers"
   ]
  },
  {
   "cell_type": "code",
   "execution_count": null,
   "metadata": {},
   "outputs": [],
   "source": [
    "df_flights.shape"
   ]
  },
  {
   "cell_type": "code",
   "execution_count": null,
   "metadata": {},
   "outputs": [],
   "source": [
    "from scipy import stats\n",
    "import numpy as np\n",
    "\n",
    "#Finding Z Score on Column\n",
    "stats.zscore(df_flights['arr_delay'])\n",
    "\n",
    "# Turning Absolute\n",
    "np.abs(stats.zscore(df_flights['arr_delay']))\n",
    "\n",
    "# view the outliers\n",
    "outliers = df_flights['arr_delay'][(np.abs(stats.zscore(df_flights['arr_delay'])) > 3)]\n",
    "outliers.max()\n",
    "# # drop outliers\n",
    "# df_flights.drop(outliers.index, inplace=True)"
   ]
  },
  {
   "cell_type": "code",
   "execution_count": null,
   "metadata": {},
   "outputs": [],
   "source": [
    "# a 25 hour delay seems possible, so keep"
   ]
  },
  {
   "cell_type": "code",
   "execution_count": null,
   "metadata": {},
   "outputs": [],
   "source": [
    "df_flights = df_flights.reset_index(drop=True)"
   ]
  },
  {
   "cell_type": "code",
   "execution_count": null,
   "metadata": {},
   "outputs": [],
   "source": [
    "# do log transformation of 'crs_elapsed_time','distance','arr_delay'\n",
    "\n",
    "# df_flights['crs_elapsed_time_log'] = np.log(df_flights['crs_elapsed_time'])\n",
    "# df_flights['distance_log'] = np.log(df_flights['distance'])\n",
    "# df_flights['arr_delay_log'] = np.log(df_flights['arr_delay'])"
   ]
  },
  {
   "cell_type": "code",
   "execution_count": null,
   "metadata": {},
   "outputs": [],
   "source": [
    "# df_flights.drop('crs_elapsed_time', axis = 1, inplace = True)\n",
    "# df_flights.drop('distance', axis = 1, inplace = True)\n",
    "# df_flights.drop('arr_delay', axis = 1, inplace = True)\n"
   ]
  },
  {
   "cell_type": "code",
   "execution_count": null,
   "metadata": {},
   "outputs": [],
   "source": [
    "sum(df_flights.isnull().sum())"
   ]
  },
  {
   "cell_type": "code",
   "execution_count": null,
   "metadata": {},
   "outputs": [],
   "source": [
    "# for feat in ['crs_elapsed_time_log','distance_log','arr_delay']:\n",
    "#     uni_analyis_continuous(df_flights, feature=feat, feature_title=feat)"
   ]
  },
  {
   "cell_type": "markdown",
   "metadata": {},
   "source": [
    "# Transform Categorical Variables into Numeric Data"
   ]
  },
  {
   "cell_type": "code",
   "execution_count": null,
   "metadata": {},
   "outputs": [],
   "source": [
    "df_flights.info()"
   ]
  },
  {
   "cell_type": "code",
   "execution_count": null,
   "metadata": {},
   "outputs": [],
   "source": [
    "# <class 'pandas.core.frame.DataFrame'>\n",
    "# Int64Index: 93123 entries, 0 to 100997\n",
    "# Data columns (total 36 columns):\n",
    "#  #   Column                Non-Null Count  Dtype         \n",
    "# ---  ------                --------------  -----         \n",
    "#  0   mkt_unique_carrier    93123 non-null  object        \n",
    "#  1   branded_code_share    93123 non-null  object        \n",
    "#  2   mkt_carrier           93123 non-null  object        \n",
    "#  3   mkt_carrier_fl_num    93123 non-null  object        \n",
    "#  4   op_unique_carrier     93123 non-null  object        \n",
    "#  5   tail_num              93123 non-null  object        \n",
    "#  6   op_carrier_fl_num     93123 non-null  object        \n",
    "#  7   origin_airport_id     93123 non-null  object        \n",
    "#  8   origin                93123 non-null  object        \n",
    "#  9   origin_city_name      93123 non-null  object        \n",
    "#  10  dest_airport_id       93123 non-null  object        \n",
    "#  11  dest                  93123 non-null  object        \n",
    "#  12  dest_city_name        93123 non-null  object        \n",
    "#  13  crs_dep_time          93123 non-null  datetime64[ns]\n",
    "#  14  crs_arr_time          93123 non-null  datetime64[ns]\n",
    "#  15  year                  93123 non-null  int64         \n",
    "#  16  month                 93123 non-null  int64         \n",
    "#  17  day                   93123 non-null  int64         \n",
    "#  18  mean_arr_delay        93123 non-null  float64       \n",
    "#  19  median_arr_delay      93123 non-null  float64       \n",
    "#  20  season                93123 non-null  object        \n",
    "#  21  day_of_week           93123 non-null  object        \n",
    "#  22  is_weekend            93123 non-null  bool          \n",
    "#  23  is_holiday            93123 non-null  bool          \n",
    "#  24  crs_dep_time_hour     93123 non-null  float64       \n",
    "#  25  crs_dep_time_of_day   93123 non-null  category      \n",
    "#  26  crs_arr_time_hour     93123 non-null  float64       \n",
    "#  27  crs_arr_time_of_day   93123 non-null  category      \n",
    "#  28  origin_state          93123 non-null  object        \n",
    "#  29  dest_state            93123 non-null  object        \n",
    "#  30  origin_region         93123 non-null  object        \n",
    "#  31  dest_region           93123 non-null  object        \n",
    "#  32  haul                  93123 non-null  category      \n",
    "#  33  crs_elapsed_time_log  93123 non-null  float64       \n",
    "#  34  distance_log          93123 non-null  float64       \n",
    "#  35  arr_delay_log         33133 non-null  float64       \n",
    "# dtypes: bool(2), category(3), datetime64[ns](2), float64(7), int64(3), object(19)\n",
    "# memory usage: 25.2+ MB"
   ]
  },
  {
   "cell_type": "code",
   "execution_count": null,
   "metadata": {},
   "outputs": [],
   "source": [
    "# df_flights = df_flights.drop(columns=['mkt_carrier','mkt_carrier_fl_num','tail_num','op_carrier_fl_num','origin_airport_id','origin','origin_city_name','dest_airport_id','dest','dest_city_name','crs_dep_time','crs_arr_time'],axis=1)"
   ]
  },
  {
   "cell_type": "code",
   "execution_count": null,
   "metadata": {},
   "outputs": [],
   "source": [
    "# mkt_unique_carrier unique values: 10\n",
    "# branded_code_share unique values: 15\n",
    "# mkt_carrier unique values: 10             drop\n",
    "# mkt_carrier_fl_num unique values: 6770    drop\n",
    "# op_unique_carrier unique values: 27\n",
    "# tail_num unique values: 6150              drop\n",
    "# op_carrier_fl_num unique values: 6772     drop\n",
    "# origin_airport_id unique values: 368      drop\n",
    "# origin unique values: 368                 drop\n",
    "# origin_city_name unique values: 361       drop\n",
    "# dest_airport_id unique values: 370        drop\n",
    "# dest unique values: 370                   drop\n",
    "# dest_city_name unique values: 363         drop\n",
    "# cancelled unique values: 1                drop\n",
    "# diverted unique values: 1                 drop\n",
    "# dup unique values: 1                      drop"
   ]
  },
  {
   "cell_type": "code",
   "execution_count": null,
   "metadata": {},
   "outputs": [],
   "source": [
    "df_flights.info()"
   ]
  },
  {
   "cell_type": "code",
   "execution_count": null,
   "metadata": {},
   "outputs": [],
   "source": [
    "#  0   mkt_unique_carrier    93123 non-null  object  -dummy\n",
    "#  1   branded_code_share    93123 non-null  object  -dummy\n",
    "#  2   op_unique_carrier     93123 non-null  object  -dummy\n",
    "#  3   arr_delay             93123 non-null  float64 \n",
    "#  4   year                  93123 non-null  int64   \n",
    "#  5   month                 93123 non-null  int64   \n",
    "#  6   day                   93123 non-null  int64   \n",
    "#  7   mean_arr_delay        93123 non-null  float64 \n",
    "#  8   median_arr_delay      93123 non-null  float64 \n",
    "#  9   season                93123 non-null  object  -dummy\n",
    "#  10  day_of_week           93123 non-null  object  -dummy\n",
    "#  11  is_weekend            93123 non-null  bool    -map 0 to false, 1 to true\n",
    "#  12  is_holiday            93123 non-null  bool    -map 0 to false, 1 to true\n",
    "#  13  crs_dep_time_hour     93123 non-null  float64 \n",
    "#  14  crs_dep_time_of_day   93123 non-null  category-dummy\n",
    "#  15  crs_arr_time_hour     93123 non-null  float64 \n",
    "#  16  crs_arr_time_of_day   93123 non-null  category-dummy\n",
    "#  17  origin_state          93123 non-null  object  -dummy\n",
    "#  18  dest_state            93123 non-null  object  -dummy\n",
    "#  19  origin_region         93123 non-null  object  -dummy\n",
    "#  20  dest_region           93123 non-null  object  -dummy\n",
    "#  21  haul                  93123 non-null  category-dummy\n",
    "#  22  crs_elapsed_time_log  93123 non-null  float64 \n",
    "#  23  distance_log          93123 non-null  float64"
   ]
  },
  {
   "cell_type": "code",
   "execution_count": null,
   "metadata": {},
   "outputs": [],
   "source": [
    "sum(df_flights.isnull().sum())"
   ]
  },
  {
   "cell_type": "code",
   "execution_count": null,
   "metadata": {},
   "outputs": [],
   "source": [
    "# transform nominal variables into Dummy Variables\n",
    "\n",
    "cat_feats = df_flights.dtypes[(df_flights.dtypes == 'object') | (df_flights.dtypes == 'category') ].index.tolist()\n",
    "df_dummy = pd.get_dummies(df_flights[cat_feats])\n",
    "df_dummy.head()"
   ]
  },
  {
   "cell_type": "code",
   "execution_count": null,
   "metadata": {},
   "outputs": [],
   "source": [
    "sum(df_dummy.isnull().sum())"
   ]
  },
  {
   "cell_type": "code",
   "execution_count": null,
   "metadata": {},
   "outputs": [],
   "source": [
    "df_dummy.shape"
   ]
  },
  {
   "cell_type": "code",
   "execution_count": null,
   "metadata": {},
   "outputs": [],
   "source": [
    "# Map values onto numbers for bool variables\n",
    "\n",
    "df_flights.replace({\n",
    "    \"is_weekend\" : {True : 1, False : 0}, \n",
    "    \"is_holiday\" : {True : 1, False : 0},\n",
    "    }, inplace=True)"
   ]
  },
  {
   "cell_type": "code",
   "execution_count": null,
   "metadata": {},
   "outputs": [],
   "source": [
    "# drop the nominal variables from the original dataset\n",
    "\n",
    "numeric_df = df_flights.drop(columns=cat_feats)\n"
   ]
  },
  {
   "cell_type": "code",
   "execution_count": null,
   "metadata": {},
   "outputs": [],
   "source": [
    "numeric_df.shape"
   ]
  },
  {
   "cell_type": "code",
   "execution_count": null,
   "metadata": {},
   "outputs": [],
   "source": [
    "# scale the numeric data\n",
    "#use MinMaxScaler to scale data into a given range ((0,1) by default)\n",
    "\n",
    "from sklearn import preprocessing\n",
    "from sklearn.preprocessing import MinMaxScaler\n",
    "scaler = MinMaxScaler()\n",
    "scaled_data = pd.DataFrame(scaler.fit_transform(numeric_df), columns=numeric_df.columns)\n",
    "scaled_data.head()"
   ]
  },
  {
   "cell_type": "code",
   "execution_count": null,
   "metadata": {},
   "outputs": [],
   "source": [
    "scaled_data.shape"
   ]
  },
  {
   "cell_type": "code",
   "execution_count": null,
   "metadata": {},
   "outputs": [],
   "source": [
    "scaled_data['year'].value_counts()"
   ]
  },
  {
   "cell_type": "code",
   "execution_count": null,
   "metadata": {},
   "outputs": [],
   "source": [
    "scaled_data['month'].value_counts()"
   ]
  },
  {
   "cell_type": "code",
   "execution_count": null,
   "metadata": {},
   "outputs": [],
   "source": [
    "len(scaled_data['day'].value_counts())"
   ]
  },
  {
   "cell_type": "code",
   "execution_count": null,
   "metadata": {},
   "outputs": [],
   "source": [
    "sum(scaled_data.isnull().sum())"
   ]
  },
  {
   "cell_type": "code",
   "execution_count": null,
   "metadata": {},
   "outputs": [],
   "source": [
    "transformed_df = scaled_data.merge(df_dummy, how='outer', left_index = True, right_index = True)\n",
    "transformed_df.head(50)\n",
    "transformed_df.shape"
   ]
  },
  {
   "cell_type": "code",
   "execution_count": null,
   "metadata": {},
   "outputs": [],
   "source": [
    "# merge the scaled and dummy variables into one dataset\n",
    "\n",
    "transformed_df = pd.concat([scaled_data, df_dummy], axis=1)\n",
    "transformed_df.head(50)"
   ]
  },
  {
   "cell_type": "code",
   "execution_count": null,
   "metadata": {},
   "outputs": [],
   "source": [
    "transformed_df.shape"
   ]
  },
  {
   "cell_type": "code",
   "execution_count": null,
   "metadata": {},
   "outputs": [],
   "source": [
    "transformed_df.isnull().sum()"
   ]
  },
  {
   "cell_type": "code",
   "execution_count": null,
   "metadata": {},
   "outputs": [],
   "source": [
    "# make a pickle of the feature engineered data\n",
    "import pickle\n",
    "\n",
    "#Do Some Feature Engineering\n",
    "feature_engineered__trans_data = transformed_df\n",
    "\n",
    "#Dump it(save it in binary format)\n",
    "with open(r'..\\data\\flight_data_engineered_trans.pickle','wb') as flight_data_file:\n",
    "     pickle.dump(feature_engineered__trans_data, flight_data_file)"
   ]
  },
  {
   "cell_type": "code",
   "execution_count": null,
   "metadata": {},
   "outputs": [],
   "source": []
  },
  {
   "cell_type": "markdown",
   "metadata": {},
   "source": [
    "# Iteration 2"
   ]
  },
  {
   "cell_type": "markdown",
   "metadata": {},
   "source": [
    "### Load Feature Engineered Data"
   ]
  },
  {
   "cell_type": "code",
   "execution_count": 1,
   "metadata": {},
   "outputs": [],
   "source": [
    "import pandas as pd\n",
    "import numpy as np\n",
    "import seaborn as sns\n",
    "from matplotlib import pyplot as plt\n",
    "sns.set() # Setting seaborn as default style even if use only matplotlib\n",
    "pd.set_option('display.max_rows', None)"
   ]
  },
  {
   "cell_type": "code",
   "execution_count": 2,
   "metadata": {},
   "outputs": [],
   "source": [
    "import pickle\n",
    "\n",
    "with open(r'..\\data\\flight_data_engineered2.pickle','rb') as flight_data_file:\n",
    "     df_flights = pickle.load(flight_data_file)"
   ]
  },
  {
   "cell_type": "code",
   "execution_count": 3,
   "metadata": {},
   "outputs": [],
   "source": [
    "df_flights = df_flights.reset_index(drop=True)"
   ]
  },
  {
   "cell_type": "code",
   "execution_count": 4,
   "metadata": {},
   "outputs": [
    {
     "name": "stdout",
     "output_type": "stream",
     "text": [
      "<class 'pandas.core.frame.DataFrame'>\n",
      "RangeIndex: 98363 entries, 0 to 98362\n",
      "Data columns (total 15 columns):\n",
      " #   Column                     Non-Null Count  Dtype   \n",
      "---  ------                     --------------  -----   \n",
      " 0   op_unique_carrier          98363 non-null  object  \n",
      " 1   crs_elapsed_time           98363 non-null  int64   \n",
      " 2   arr_delay                  98363 non-null  float64 \n",
      " 3   mean_arr_delay             98363 non-null  float64 \n",
      " 4   season                     98363 non-null  object  \n",
      " 5   day_of_week                98363 non-null  object  \n",
      " 6   is_weekend                 98363 non-null  bool    \n",
      " 7   is_holiday                 98363 non-null  bool    \n",
      " 8   crs_dep_time_of_day        98363 non-null  category\n",
      " 9   crs_arr_time_of_day        98363 non-null  category\n",
      " 10  origin_region              98363 non-null  object  \n",
      " 11  dest_region                98363 non-null  object  \n",
      " 12  haul                       98363 non-null  category\n",
      " 13  mean_origin_airport_delay  98363 non-null  float64 \n",
      " 14  mean_dest_airport_delay    98363 non-null  float64 \n",
      "dtypes: bool(2), category(3), float64(4), int64(1), object(5)\n",
      "memory usage: 8.0+ MB\n"
     ]
    }
   ],
   "source": [
    "df_flights.info()"
   ]
  },
  {
   "cell_type": "markdown",
   "metadata": {},
   "source": [
    "### Check for Missing Values"
   ]
  },
  {
   "cell_type": "code",
   "execution_count": 5,
   "metadata": {},
   "outputs": [
    {
     "data": {
      "text/plain": [
       "0"
      ]
     },
     "execution_count": 5,
     "metadata": {},
     "output_type": "execute_result"
    }
   ],
   "source": [
    "sum(df_flights.isnull().sum())"
   ]
  },
  {
   "cell_type": "markdown",
   "metadata": {},
   "source": [
    "### Fix DataTypes"
   ]
  },
  {
   "cell_type": "code",
   "execution_count": 6,
   "metadata": {},
   "outputs": [
    {
     "name": "stdout",
     "output_type": "stream",
     "text": [
      "<class 'pandas.core.frame.DataFrame'>\n",
      "RangeIndex: 98363 entries, 0 to 98362\n",
      "Data columns (total 15 columns):\n",
      " #   Column                     Non-Null Count  Dtype   \n",
      "---  ------                     --------------  -----   \n",
      " 0   op_unique_carrier          98363 non-null  object  \n",
      " 1   crs_elapsed_time           98363 non-null  int64   \n",
      " 2   arr_delay                  98363 non-null  float64 \n",
      " 3   mean_arr_delay             98363 non-null  float64 \n",
      " 4   season                     98363 non-null  object  \n",
      " 5   day_of_week                98363 non-null  object  \n",
      " 6   is_weekend                 98363 non-null  bool    \n",
      " 7   is_holiday                 98363 non-null  bool    \n",
      " 8   crs_dep_time_of_day        98363 non-null  category\n",
      " 9   crs_arr_time_of_day        98363 non-null  category\n",
      " 10  origin_region              98363 non-null  object  \n",
      " 11  dest_region                98363 non-null  object  \n",
      " 12  haul                       98363 non-null  category\n",
      " 13  mean_origin_airport_delay  98363 non-null  float64 \n",
      " 14  mean_dest_airport_delay    98363 non-null  float64 \n",
      "dtypes: bool(2), category(3), float64(4), int64(1), object(5)\n",
      "memory usage: 8.0+ MB\n"
     ]
    }
   ],
   "source": [
    "df_flights.info()"
   ]
  },
  {
   "cell_type": "code",
   "execution_count": 7,
   "metadata": {},
   "outputs": [],
   "source": [
    "# all good"
   ]
  },
  {
   "cell_type": "markdown",
   "metadata": {},
   "source": [
    "### Transform Categorical Variables into Numeric Data"
   ]
  },
  {
   "cell_type": "code",
   "execution_count": 9,
   "metadata": {},
   "outputs": [
    {
     "data": {
      "text/html": [
       "<div>\n",
       "<style scoped>\n",
       "    .dataframe tbody tr th:only-of-type {\n",
       "        vertical-align: middle;\n",
       "    }\n",
       "\n",
       "    .dataframe tbody tr th {\n",
       "        vertical-align: top;\n",
       "    }\n",
       "\n",
       "    .dataframe thead th {\n",
       "        text-align: right;\n",
       "    }\n",
       "</style>\n",
       "<table border=\"1\" class=\"dataframe\">\n",
       "  <thead>\n",
       "    <tr style=\"text-align: right;\">\n",
       "      <th></th>\n",
       "      <th>op_unique_carrier_9E</th>\n",
       "      <th>op_unique_carrier_9K</th>\n",
       "      <th>op_unique_carrier_AA</th>\n",
       "      <th>op_unique_carrier_AS</th>\n",
       "      <th>op_unique_carrier_AX</th>\n",
       "      <th>op_unique_carrier_B6</th>\n",
       "      <th>op_unique_carrier_C5</th>\n",
       "      <th>op_unique_carrier_CP</th>\n",
       "      <th>op_unique_carrier_DL</th>\n",
       "      <th>op_unique_carrier_EM</th>\n",
       "      <th>...</th>\n",
       "      <th>origin_region_South</th>\n",
       "      <th>origin_region_West</th>\n",
       "      <th>dest_region_Midwest</th>\n",
       "      <th>dest_region_Northeast</th>\n",
       "      <th>dest_region_Other</th>\n",
       "      <th>dest_region_South</th>\n",
       "      <th>dest_region_West</th>\n",
       "      <th>haul_short</th>\n",
       "      <th>haul_medium</th>\n",
       "      <th>haul_long</th>\n",
       "    </tr>\n",
       "  </thead>\n",
       "  <tbody>\n",
       "    <tr>\n",
       "      <th>0</th>\n",
       "      <td>0</td>\n",
       "      <td>0</td>\n",
       "      <td>0</td>\n",
       "      <td>0</td>\n",
       "      <td>0</td>\n",
       "      <td>0</td>\n",
       "      <td>0</td>\n",
       "      <td>0</td>\n",
       "      <td>0</td>\n",
       "      <td>0</td>\n",
       "      <td>...</td>\n",
       "      <td>0</td>\n",
       "      <td>1</td>\n",
       "      <td>0</td>\n",
       "      <td>0</td>\n",
       "      <td>0</td>\n",
       "      <td>1</td>\n",
       "      <td>0</td>\n",
       "      <td>0</td>\n",
       "      <td>1</td>\n",
       "      <td>0</td>\n",
       "    </tr>\n",
       "    <tr>\n",
       "      <th>1</th>\n",
       "      <td>0</td>\n",
       "      <td>0</td>\n",
       "      <td>0</td>\n",
       "      <td>0</td>\n",
       "      <td>0</td>\n",
       "      <td>0</td>\n",
       "      <td>0</td>\n",
       "      <td>0</td>\n",
       "      <td>0</td>\n",
       "      <td>0</td>\n",
       "      <td>...</td>\n",
       "      <td>0</td>\n",
       "      <td>1</td>\n",
       "      <td>1</td>\n",
       "      <td>0</td>\n",
       "      <td>0</td>\n",
       "      <td>0</td>\n",
       "      <td>0</td>\n",
       "      <td>0</td>\n",
       "      <td>1</td>\n",
       "      <td>0</td>\n",
       "    </tr>\n",
       "    <tr>\n",
       "      <th>2</th>\n",
       "      <td>0</td>\n",
       "      <td>0</td>\n",
       "      <td>0</td>\n",
       "      <td>0</td>\n",
       "      <td>0</td>\n",
       "      <td>0</td>\n",
       "      <td>0</td>\n",
       "      <td>0</td>\n",
       "      <td>0</td>\n",
       "      <td>0</td>\n",
       "      <td>...</td>\n",
       "      <td>0</td>\n",
       "      <td>1</td>\n",
       "      <td>1</td>\n",
       "      <td>0</td>\n",
       "      <td>0</td>\n",
       "      <td>0</td>\n",
       "      <td>0</td>\n",
       "      <td>0</td>\n",
       "      <td>1</td>\n",
       "      <td>0</td>\n",
       "    </tr>\n",
       "    <tr>\n",
       "      <th>3</th>\n",
       "      <td>0</td>\n",
       "      <td>0</td>\n",
       "      <td>0</td>\n",
       "      <td>0</td>\n",
       "      <td>0</td>\n",
       "      <td>0</td>\n",
       "      <td>0</td>\n",
       "      <td>0</td>\n",
       "      <td>0</td>\n",
       "      <td>0</td>\n",
       "      <td>...</td>\n",
       "      <td>0</td>\n",
       "      <td>1</td>\n",
       "      <td>0</td>\n",
       "      <td>0</td>\n",
       "      <td>0</td>\n",
       "      <td>0</td>\n",
       "      <td>1</td>\n",
       "      <td>1</td>\n",
       "      <td>0</td>\n",
       "      <td>0</td>\n",
       "    </tr>\n",
       "    <tr>\n",
       "      <th>4</th>\n",
       "      <td>0</td>\n",
       "      <td>0</td>\n",
       "      <td>0</td>\n",
       "      <td>0</td>\n",
       "      <td>0</td>\n",
       "      <td>0</td>\n",
       "      <td>0</td>\n",
       "      <td>0</td>\n",
       "      <td>0</td>\n",
       "      <td>0</td>\n",
       "      <td>...</td>\n",
       "      <td>0</td>\n",
       "      <td>1</td>\n",
       "      <td>0</td>\n",
       "      <td>0</td>\n",
       "      <td>0</td>\n",
       "      <td>0</td>\n",
       "      <td>1</td>\n",
       "      <td>1</td>\n",
       "      <td>0</td>\n",
       "      <td>0</td>\n",
       "    </tr>\n",
       "  </tbody>\n",
       "</table>\n",
       "<p>5 rows × 61 columns</p>\n",
       "</div>"
      ],
      "text/plain": [
       "   op_unique_carrier_9E  op_unique_carrier_9K  op_unique_carrier_AA  \\\n",
       "0                     0                     0                     0   \n",
       "1                     0                     0                     0   \n",
       "2                     0                     0                     0   \n",
       "3                     0                     0                     0   \n",
       "4                     0                     0                     0   \n",
       "\n",
       "   op_unique_carrier_AS  op_unique_carrier_AX  op_unique_carrier_B6  \\\n",
       "0                     0                     0                     0   \n",
       "1                     0                     0                     0   \n",
       "2                     0                     0                     0   \n",
       "3                     0                     0                     0   \n",
       "4                     0                     0                     0   \n",
       "\n",
       "   op_unique_carrier_C5  op_unique_carrier_CP  op_unique_carrier_DL  \\\n",
       "0                     0                     0                     0   \n",
       "1                     0                     0                     0   \n",
       "2                     0                     0                     0   \n",
       "3                     0                     0                     0   \n",
       "4                     0                     0                     0   \n",
       "\n",
       "   op_unique_carrier_EM  ...  origin_region_South  origin_region_West  \\\n",
       "0                     0  ...                    0                   1   \n",
       "1                     0  ...                    0                   1   \n",
       "2                     0  ...                    0                   1   \n",
       "3                     0  ...                    0                   1   \n",
       "4                     0  ...                    0                   1   \n",
       "\n",
       "   dest_region_Midwest  dest_region_Northeast  dest_region_Other  \\\n",
       "0                    0                      0                  0   \n",
       "1                    1                      0                  0   \n",
       "2                    1                      0                  0   \n",
       "3                    0                      0                  0   \n",
       "4                    0                      0                  0   \n",
       "\n",
       "   dest_region_South  dest_region_West  haul_short  haul_medium  haul_long  \n",
       "0                  1                 0           0            1          0  \n",
       "1                  0                 0           0            1          0  \n",
       "2                  0                 0           0            1          0  \n",
       "3                  0                 1           1            0          0  \n",
       "4                  0                 1           1            0          0  \n",
       "\n",
       "[5 rows x 61 columns]"
      ]
     },
     "execution_count": 9,
     "metadata": {},
     "output_type": "execute_result"
    }
   ],
   "source": [
    "# transform nominal variables into Dummy Variables\n",
    "\n",
    "cat_feats = df_flights.dtypes[(df_flights.dtypes == 'object') | (df_flights.dtypes == 'category') ].index.tolist()\n",
    "df_dummy = pd.get_dummies(df_flights[cat_feats])\n",
    "df_dummy.head()"
   ]
  },
  {
   "cell_type": "code",
   "execution_count": 10,
   "metadata": {},
   "outputs": [],
   "source": [
    "# Map values onto numbers for bool variables\n",
    "\n",
    "df_flights.replace({\n",
    "    \"is_weekend\" : {True : 1, False : 0}, \n",
    "    \"is_holiday\" : {True : 1, False : 0},\n",
    "    }, inplace=True)"
   ]
  },
  {
   "cell_type": "code",
   "execution_count": 11,
   "metadata": {},
   "outputs": [],
   "source": [
    "# drop the nominal variables from the original dataset\n",
    "\n",
    "numeric_df = df_flights.drop(columns=cat_feats)\n"
   ]
  },
  {
   "cell_type": "code",
   "execution_count": 13,
   "metadata": {},
   "outputs": [
    {
     "data": {
      "text/html": [
       "<div>\n",
       "<style scoped>\n",
       "    .dataframe tbody tr th:only-of-type {\n",
       "        vertical-align: middle;\n",
       "    }\n",
       "\n",
       "    .dataframe tbody tr th {\n",
       "        vertical-align: top;\n",
       "    }\n",
       "\n",
       "    .dataframe thead th {\n",
       "        text-align: right;\n",
       "    }\n",
       "</style>\n",
       "<table border=\"1\" class=\"dataframe\">\n",
       "  <thead>\n",
       "    <tr style=\"text-align: right;\">\n",
       "      <th></th>\n",
       "      <th>crs_elapsed_time</th>\n",
       "      <th>arr_delay</th>\n",
       "      <th>mean_arr_delay</th>\n",
       "      <th>is_weekend</th>\n",
       "      <th>is_holiday</th>\n",
       "      <th>mean_origin_airport_delay</th>\n",
       "      <th>mean_dest_airport_delay</th>\n",
       "    </tr>\n",
       "  </thead>\n",
       "  <tbody>\n",
       "    <tr>\n",
       "      <th>0</th>\n",
       "      <td>0.016631</td>\n",
       "      <td>0.281114</td>\n",
       "      <td>-0.968084</td>\n",
       "      <td>-0.604196</td>\n",
       "      <td>6.414322</td>\n",
       "      <td>0.051481</td>\n",
       "      <td>1.330524</td>\n",
       "    </tr>\n",
       "    <tr>\n",
       "      <th>1</th>\n",
       "      <td>0.156155</td>\n",
       "      <td>0.837591</td>\n",
       "      <td>-0.968084</td>\n",
       "      <td>-0.604196</td>\n",
       "      <td>6.414322</td>\n",
       "      <td>0.051481</td>\n",
       "      <td>0.269255</td>\n",
       "    </tr>\n",
       "    <tr>\n",
       "      <th>2</th>\n",
       "      <td>0.156155</td>\n",
       "      <td>-0.295973</td>\n",
       "      <td>-0.968084</td>\n",
       "      <td>-0.604196</td>\n",
       "      <td>6.414322</td>\n",
       "      <td>0.051481</td>\n",
       "      <td>0.269255</td>\n",
       "    </tr>\n",
       "    <tr>\n",
       "      <th>3</th>\n",
       "      <td>-1.169323</td>\n",
       "      <td>-0.172311</td>\n",
       "      <td>-0.968084</td>\n",
       "      <td>-0.604196</td>\n",
       "      <td>6.414322</td>\n",
       "      <td>0.051481</td>\n",
       "      <td>-0.266687</td>\n",
       "    </tr>\n",
       "    <tr>\n",
       "      <th>4</th>\n",
       "      <td>-1.169323</td>\n",
       "      <td>0.652099</td>\n",
       "      <td>-0.968084</td>\n",
       "      <td>-0.604196</td>\n",
       "      <td>6.414322</td>\n",
       "      <td>0.051481</td>\n",
       "      <td>-0.266687</td>\n",
       "    </tr>\n",
       "  </tbody>\n",
       "</table>\n",
       "</div>"
      ],
      "text/plain": [
       "   crs_elapsed_time  arr_delay  mean_arr_delay  is_weekend  is_holiday  \\\n",
       "0          0.016631   0.281114       -0.968084   -0.604196    6.414322   \n",
       "1          0.156155   0.837591       -0.968084   -0.604196    6.414322   \n",
       "2          0.156155  -0.295973       -0.968084   -0.604196    6.414322   \n",
       "3         -1.169323  -0.172311       -0.968084   -0.604196    6.414322   \n",
       "4         -1.169323   0.652099       -0.968084   -0.604196    6.414322   \n",
       "\n",
       "   mean_origin_airport_delay  mean_dest_airport_delay  \n",
       "0                   0.051481                 1.330524  \n",
       "1                   0.051481                 0.269255  \n",
       "2                   0.051481                 0.269255  \n",
       "3                   0.051481                -0.266687  \n",
       "4                   0.051481                -0.266687  "
      ]
     },
     "execution_count": 13,
     "metadata": {},
     "output_type": "execute_result"
    }
   ],
   "source": [
    "# scale the numeric data\n",
    "\n",
    "from sklearn import preprocessing\n",
    "from sklearn.preprocessing import StandardScaler\n",
    "scaler = StandardScaler()\n",
    "scaled_data = pd.DataFrame(scaler.fit_transform(numeric_df), columns=numeric_df.columns)\n",
    "scaled_data.head()"
   ]
  },
  {
   "cell_type": "code",
   "execution_count": 22,
   "metadata": {},
   "outputs": [
    {
     "data": {
      "text/html": [
       "<div>\n",
       "<style scoped>\n",
       "    .dataframe tbody tr th:only-of-type {\n",
       "        vertical-align: middle;\n",
       "    }\n",
       "\n",
       "    .dataframe tbody tr th {\n",
       "        vertical-align: top;\n",
       "    }\n",
       "\n",
       "    .dataframe thead th {\n",
       "        text-align: right;\n",
       "    }\n",
       "</style>\n",
       "<table border=\"1\" class=\"dataframe\">\n",
       "  <thead>\n",
       "    <tr style=\"text-align: right;\">\n",
       "      <th></th>\n",
       "      <th>crs_elapsed_time</th>\n",
       "      <th>arr_delay</th>\n",
       "      <th>mean_arr_delay</th>\n",
       "      <th>is_weekend</th>\n",
       "      <th>is_holiday</th>\n",
       "      <th>mean_origin_airport_delay</th>\n",
       "      <th>mean_dest_airport_delay</th>\n",
       "      <th>op_unique_carrier_9E</th>\n",
       "      <th>op_unique_carrier_9K</th>\n",
       "      <th>op_unique_carrier_AA</th>\n",
       "      <th>...</th>\n",
       "      <th>origin_region_South</th>\n",
       "      <th>origin_region_West</th>\n",
       "      <th>dest_region_Midwest</th>\n",
       "      <th>dest_region_Northeast</th>\n",
       "      <th>dest_region_Other</th>\n",
       "      <th>dest_region_South</th>\n",
       "      <th>dest_region_West</th>\n",
       "      <th>haul_short</th>\n",
       "      <th>haul_medium</th>\n",
       "      <th>haul_long</th>\n",
       "    </tr>\n",
       "  </thead>\n",
       "  <tbody>\n",
       "    <tr>\n",
       "      <th>0</th>\n",
       "      <td>0.016631</td>\n",
       "      <td>0.281114</td>\n",
       "      <td>-0.968084</td>\n",
       "      <td>-0.604196</td>\n",
       "      <td>6.414322</td>\n",
       "      <td>0.051481</td>\n",
       "      <td>1.330524</td>\n",
       "      <td>0</td>\n",
       "      <td>0</td>\n",
       "      <td>0</td>\n",
       "      <td>...</td>\n",
       "      <td>0</td>\n",
       "      <td>1</td>\n",
       "      <td>0</td>\n",
       "      <td>0</td>\n",
       "      <td>0</td>\n",
       "      <td>1</td>\n",
       "      <td>0</td>\n",
       "      <td>0</td>\n",
       "      <td>1</td>\n",
       "      <td>0</td>\n",
       "    </tr>\n",
       "    <tr>\n",
       "      <th>1</th>\n",
       "      <td>0.156155</td>\n",
       "      <td>0.837591</td>\n",
       "      <td>-0.968084</td>\n",
       "      <td>-0.604196</td>\n",
       "      <td>6.414322</td>\n",
       "      <td>0.051481</td>\n",
       "      <td>0.269255</td>\n",
       "      <td>0</td>\n",
       "      <td>0</td>\n",
       "      <td>0</td>\n",
       "      <td>...</td>\n",
       "      <td>0</td>\n",
       "      <td>1</td>\n",
       "      <td>1</td>\n",
       "      <td>0</td>\n",
       "      <td>0</td>\n",
       "      <td>0</td>\n",
       "      <td>0</td>\n",
       "      <td>0</td>\n",
       "      <td>1</td>\n",
       "      <td>0</td>\n",
       "    </tr>\n",
       "    <tr>\n",
       "      <th>2</th>\n",
       "      <td>0.156155</td>\n",
       "      <td>-0.295973</td>\n",
       "      <td>-0.968084</td>\n",
       "      <td>-0.604196</td>\n",
       "      <td>6.414322</td>\n",
       "      <td>0.051481</td>\n",
       "      <td>0.269255</td>\n",
       "      <td>0</td>\n",
       "      <td>0</td>\n",
       "      <td>0</td>\n",
       "      <td>...</td>\n",
       "      <td>0</td>\n",
       "      <td>1</td>\n",
       "      <td>1</td>\n",
       "      <td>0</td>\n",
       "      <td>0</td>\n",
       "      <td>0</td>\n",
       "      <td>0</td>\n",
       "      <td>0</td>\n",
       "      <td>1</td>\n",
       "      <td>0</td>\n",
       "    </tr>\n",
       "    <tr>\n",
       "      <th>3</th>\n",
       "      <td>-1.169323</td>\n",
       "      <td>-0.172311</td>\n",
       "      <td>-0.968084</td>\n",
       "      <td>-0.604196</td>\n",
       "      <td>6.414322</td>\n",
       "      <td>0.051481</td>\n",
       "      <td>-0.266687</td>\n",
       "      <td>0</td>\n",
       "      <td>0</td>\n",
       "      <td>0</td>\n",
       "      <td>...</td>\n",
       "      <td>0</td>\n",
       "      <td>1</td>\n",
       "      <td>0</td>\n",
       "      <td>0</td>\n",
       "      <td>0</td>\n",
       "      <td>0</td>\n",
       "      <td>1</td>\n",
       "      <td>1</td>\n",
       "      <td>0</td>\n",
       "      <td>0</td>\n",
       "    </tr>\n",
       "    <tr>\n",
       "      <th>4</th>\n",
       "      <td>-1.169323</td>\n",
       "      <td>0.652099</td>\n",
       "      <td>-0.968084</td>\n",
       "      <td>-0.604196</td>\n",
       "      <td>6.414322</td>\n",
       "      <td>0.051481</td>\n",
       "      <td>-0.266687</td>\n",
       "      <td>0</td>\n",
       "      <td>0</td>\n",
       "      <td>0</td>\n",
       "      <td>...</td>\n",
       "      <td>0</td>\n",
       "      <td>1</td>\n",
       "      <td>0</td>\n",
       "      <td>0</td>\n",
       "      <td>0</td>\n",
       "      <td>0</td>\n",
       "      <td>1</td>\n",
       "      <td>1</td>\n",
       "      <td>0</td>\n",
       "      <td>0</td>\n",
       "    </tr>\n",
       "  </tbody>\n",
       "</table>\n",
       "<p>5 rows × 68 columns</p>\n",
       "</div>"
      ],
      "text/plain": [
       "   crs_elapsed_time  arr_delay  mean_arr_delay  is_weekend  is_holiday  \\\n",
       "0          0.016631   0.281114       -0.968084   -0.604196    6.414322   \n",
       "1          0.156155   0.837591       -0.968084   -0.604196    6.414322   \n",
       "2          0.156155  -0.295973       -0.968084   -0.604196    6.414322   \n",
       "3         -1.169323  -0.172311       -0.968084   -0.604196    6.414322   \n",
       "4         -1.169323   0.652099       -0.968084   -0.604196    6.414322   \n",
       "\n",
       "   mean_origin_airport_delay  mean_dest_airport_delay  op_unique_carrier_9E  \\\n",
       "0                   0.051481                 1.330524                     0   \n",
       "1                   0.051481                 0.269255                     0   \n",
       "2                   0.051481                 0.269255                     0   \n",
       "3                   0.051481                -0.266687                     0   \n",
       "4                   0.051481                -0.266687                     0   \n",
       "\n",
       "   op_unique_carrier_9K  op_unique_carrier_AA  ...  origin_region_South  \\\n",
       "0                     0                     0  ...                    0   \n",
       "1                     0                     0  ...                    0   \n",
       "2                     0                     0  ...                    0   \n",
       "3                     0                     0  ...                    0   \n",
       "4                     0                     0  ...                    0   \n",
       "\n",
       "   origin_region_West  dest_region_Midwest  dest_region_Northeast  \\\n",
       "0                   1                    0                      0   \n",
       "1                   1                    1                      0   \n",
       "2                   1                    1                      0   \n",
       "3                   1                    0                      0   \n",
       "4                   1                    0                      0   \n",
       "\n",
       "   dest_region_Other  dest_region_South  dest_region_West  haul_short  \\\n",
       "0                  0                  1                 0           0   \n",
       "1                  0                  0                 0           0   \n",
       "2                  0                  0                 0           0   \n",
       "3                  0                  0                 1           1   \n",
       "4                  0                  0                 1           1   \n",
       "\n",
       "   haul_medium  haul_long  \n",
       "0            1          0  \n",
       "1            1          0  \n",
       "2            1          0  \n",
       "3            0          0  \n",
       "4            0          0  \n",
       "\n",
       "[5 rows x 68 columns]"
      ]
     },
     "execution_count": 22,
     "metadata": {},
     "output_type": "execute_result"
    }
   ],
   "source": [
    "# merge the scaled and dummy variables into one dataset\n",
    "\n",
    "transformed_df = scaled_data.merge(df_dummy, how='outer', left_index = True, right_index = True)\n",
    "transformed_df.head()"
   ]
  },
  {
   "cell_type": "markdown",
   "metadata": {},
   "source": [
    "### Make a pickle of the transformed data"
   ]
  },
  {
   "cell_type": "code",
   "execution_count": 21,
   "metadata": {},
   "outputs": [],
   "source": [
    "import pickle\n",
    "\n",
    "feature_engineered_trans_data2 = transformed_df\n",
    "\n",
    "with open(r'..\\data\\flight_data_engineered_trans2.pickle','wb') as flight_data_file:\n",
    "      pickle.dump(feature_engineered_trans_data2, flight_data_file)"
   ]
  },
  {
   "cell_type": "code",
   "execution_count": null,
   "metadata": {},
   "outputs": [],
   "source": []
  },
  {
   "cell_type": "markdown",
   "metadata": {},
   "source": [
    "# Iteration 3"
   ]
  },
  {
   "cell_type": "markdown",
   "metadata": {},
   "source": [
    "### Load Feature Engineered Data"
   ]
  },
  {
   "cell_type": "code",
   "execution_count": 23,
   "metadata": {},
   "outputs": [],
   "source": [
    "import pandas as pd\n",
    "import numpy as np\n",
    "import seaborn as sns\n",
    "from matplotlib import pyplot as plt\n",
    "sns.set() # Setting seaborn as default style even if use only matplotlib\n",
    "pd.set_option('display.max_rows', None)"
   ]
  },
  {
   "cell_type": "code",
   "execution_count": 24,
   "metadata": {},
   "outputs": [],
   "source": [
    "import pickle\n",
    "\n",
    "with open(r'..\\data\\flight_data_engineered3.pickle','rb') as flight_data_file:\n",
    "     df_flights = pickle.load(flight_data_file)"
   ]
  },
  {
   "cell_type": "code",
   "execution_count": 25,
   "metadata": {},
   "outputs": [],
   "source": [
    "df_flights = df_flights.reset_index(drop=True)"
   ]
  },
  {
   "cell_type": "code",
   "execution_count": 26,
   "metadata": {},
   "outputs": [
    {
     "name": "stdout",
     "output_type": "stream",
     "text": [
      "<class 'pandas.core.frame.DataFrame'>\n",
      "RangeIndex: 99023 entries, 0 to 99022\n",
      "Data columns (total 2 columns):\n",
      " #   Column                 Non-Null Count  Dtype  \n",
      "---  ------                 --------------  -----  \n",
      " 0   mean_flight_num_delay  99023 non-null  float64\n",
      " 1   arr_delay              99023 non-null  float64\n",
      "dtypes: float64(2)\n",
      "memory usage: 1.5 MB\n"
     ]
    }
   ],
   "source": [
    "df_flights.info()"
   ]
  },
  {
   "cell_type": "markdown",
   "metadata": {},
   "source": [
    "### Check for Missing Values"
   ]
  },
  {
   "cell_type": "code",
   "execution_count": 27,
   "metadata": {},
   "outputs": [
    {
     "data": {
      "text/plain": [
       "0"
      ]
     },
     "execution_count": 27,
     "metadata": {},
     "output_type": "execute_result"
    }
   ],
   "source": [
    "sum(df_flights.isnull().sum())"
   ]
  },
  {
   "cell_type": "markdown",
   "metadata": {},
   "source": [
    "### Fix DataTypes"
   ]
  },
  {
   "cell_type": "code",
   "execution_count": 28,
   "metadata": {},
   "outputs": [
    {
     "name": "stdout",
     "output_type": "stream",
     "text": [
      "<class 'pandas.core.frame.DataFrame'>\n",
      "RangeIndex: 99023 entries, 0 to 99022\n",
      "Data columns (total 2 columns):\n",
      " #   Column                 Non-Null Count  Dtype  \n",
      "---  ------                 --------------  -----  \n",
      " 0   mean_flight_num_delay  99023 non-null  float64\n",
      " 1   arr_delay              99023 non-null  float64\n",
      "dtypes: float64(2)\n",
      "memory usage: 1.5 MB\n"
     ]
    }
   ],
   "source": [
    "df_flights.info()"
   ]
  },
  {
   "cell_type": "code",
   "execution_count": null,
   "metadata": {},
   "outputs": [],
   "source": [
    "# all good"
   ]
  },
  {
   "cell_type": "markdown",
   "metadata": {},
   "source": [
    "### Transform Categorical Variables into Numeric Data"
   ]
  },
  {
   "cell_type": "code",
   "execution_count": 30,
   "metadata": {},
   "outputs": [],
   "source": [
    "# # transform nominal variables into Dummy Variables\n",
    "\n",
    "# cat_feats = df_flights.dtypes[(df_flights.dtypes == 'object') | (df_flights.dtypes == 'category') ].index.tolist()\n",
    "# df_dummy = pd.get_dummies(df_flights[cat_feats])\n",
    "# df_dummy.head()"
   ]
  },
  {
   "cell_type": "code",
   "execution_count": null,
   "metadata": {},
   "outputs": [],
   "source": [
    "# # Map values onto numbers for bool variables\n",
    "\n",
    "# df_flights.replace({\n",
    "#     \"is_weekend\" : {True : 1, False : 0}, \n",
    "#     \"is_holiday\" : {True : 1, False : 0},\n",
    "#     }, inplace=True)"
   ]
  },
  {
   "cell_type": "code",
   "execution_count": null,
   "metadata": {},
   "outputs": [],
   "source": [
    "# drop the nominal variables from the original dataset\n",
    "\n",
    "# numeric_df = df_flights.drop(columns=cat_feats)\n"
   ]
  },
  {
   "cell_type": "code",
   "execution_count": null,
   "metadata": {},
   "outputs": [
    {
     "data": {
      "text/html": [
       "<div>\n",
       "<style scoped>\n",
       "    .dataframe tbody tr th:only-of-type {\n",
       "        vertical-align: middle;\n",
       "    }\n",
       "\n",
       "    .dataframe tbody tr th {\n",
       "        vertical-align: top;\n",
       "    }\n",
       "\n",
       "    .dataframe thead th {\n",
       "        text-align: right;\n",
       "    }\n",
       "</style>\n",
       "<table border=\"1\" class=\"dataframe\">\n",
       "  <thead>\n",
       "    <tr style=\"text-align: right;\">\n",
       "      <th></th>\n",
       "      <th>crs_elapsed_time</th>\n",
       "      <th>arr_delay</th>\n",
       "      <th>mean_arr_delay</th>\n",
       "      <th>is_weekend</th>\n",
       "      <th>is_holiday</th>\n",
       "      <th>mean_origin_airport_delay</th>\n",
       "      <th>mean_dest_airport_delay</th>\n",
       "    </tr>\n",
       "  </thead>\n",
       "  <tbody>\n",
       "    <tr>\n",
       "      <th>0</th>\n",
       "      <td>0.016631</td>\n",
       "      <td>0.281114</td>\n",
       "      <td>-0.968084</td>\n",
       "      <td>-0.604196</td>\n",
       "      <td>6.414322</td>\n",
       "      <td>0.051481</td>\n",
       "      <td>1.330524</td>\n",
       "    </tr>\n",
       "    <tr>\n",
       "      <th>1</th>\n",
       "      <td>0.156155</td>\n",
       "      <td>0.837591</td>\n",
       "      <td>-0.968084</td>\n",
       "      <td>-0.604196</td>\n",
       "      <td>6.414322</td>\n",
       "      <td>0.051481</td>\n",
       "      <td>0.269255</td>\n",
       "    </tr>\n",
       "    <tr>\n",
       "      <th>2</th>\n",
       "      <td>0.156155</td>\n",
       "      <td>-0.295973</td>\n",
       "      <td>-0.968084</td>\n",
       "      <td>-0.604196</td>\n",
       "      <td>6.414322</td>\n",
       "      <td>0.051481</td>\n",
       "      <td>0.269255</td>\n",
       "    </tr>\n",
       "    <tr>\n",
       "      <th>3</th>\n",
       "      <td>-1.169323</td>\n",
       "      <td>-0.172311</td>\n",
       "      <td>-0.968084</td>\n",
       "      <td>-0.604196</td>\n",
       "      <td>6.414322</td>\n",
       "      <td>0.051481</td>\n",
       "      <td>-0.266687</td>\n",
       "    </tr>\n",
       "    <tr>\n",
       "      <th>4</th>\n",
       "      <td>-1.169323</td>\n",
       "      <td>0.652099</td>\n",
       "      <td>-0.968084</td>\n",
       "      <td>-0.604196</td>\n",
       "      <td>6.414322</td>\n",
       "      <td>0.051481</td>\n",
       "      <td>-0.266687</td>\n",
       "    </tr>\n",
       "  </tbody>\n",
       "</table>\n",
       "</div>"
      ],
      "text/plain": [
       "   crs_elapsed_time  arr_delay  mean_arr_delay  is_weekend  is_holiday  \\\n",
       "0          0.016631   0.281114       -0.968084   -0.604196    6.414322   \n",
       "1          0.156155   0.837591       -0.968084   -0.604196    6.414322   \n",
       "2          0.156155  -0.295973       -0.968084   -0.604196    6.414322   \n",
       "3         -1.169323  -0.172311       -0.968084   -0.604196    6.414322   \n",
       "4         -1.169323   0.652099       -0.968084   -0.604196    6.414322   \n",
       "\n",
       "   mean_origin_airport_delay  mean_dest_airport_delay  \n",
       "0                   0.051481                 1.330524  \n",
       "1                   0.051481                 0.269255  \n",
       "2                   0.051481                 0.269255  \n",
       "3                   0.051481                -0.266687  \n",
       "4                   0.051481                -0.266687  "
      ]
     },
     "metadata": {},
     "output_type": "display_data"
    }
   ],
   "source": [
    "# scale the numeric data\n",
    "\n",
    "from sklearn import preprocessing\n",
    "from sklearn.preprocessing import StandardScaler\n",
    "scaler = StandardScaler()\n",
    "scaled_data = pd.DataFrame(scaler.fit_transform(numeric_df), columns=numeric_df.columns)\n",
    "scaled_data.head()"
   ]
  },
  {
   "cell_type": "code",
   "execution_count": null,
   "metadata": {},
   "outputs": [
    {
     "data": {
      "text/html": [
       "<div>\n",
       "<style scoped>\n",
       "    .dataframe tbody tr th:only-of-type {\n",
       "        vertical-align: middle;\n",
       "    }\n",
       "\n",
       "    .dataframe tbody tr th {\n",
       "        vertical-align: top;\n",
       "    }\n",
       "\n",
       "    .dataframe thead th {\n",
       "        text-align: right;\n",
       "    }\n",
       "</style>\n",
       "<table border=\"1\" class=\"dataframe\">\n",
       "  <thead>\n",
       "    <tr style=\"text-align: right;\">\n",
       "      <th></th>\n",
       "      <th>crs_elapsed_time</th>\n",
       "      <th>arr_delay</th>\n",
       "      <th>mean_arr_delay</th>\n",
       "      <th>is_weekend</th>\n",
       "      <th>is_holiday</th>\n",
       "      <th>mean_origin_airport_delay</th>\n",
       "      <th>mean_dest_airport_delay</th>\n",
       "      <th>op_unique_carrier_9E</th>\n",
       "      <th>op_unique_carrier_9K</th>\n",
       "      <th>op_unique_carrier_AA</th>\n",
       "      <th>...</th>\n",
       "      <th>origin_region_South</th>\n",
       "      <th>origin_region_West</th>\n",
       "      <th>dest_region_Midwest</th>\n",
       "      <th>dest_region_Northeast</th>\n",
       "      <th>dest_region_Other</th>\n",
       "      <th>dest_region_South</th>\n",
       "      <th>dest_region_West</th>\n",
       "      <th>haul_short</th>\n",
       "      <th>haul_medium</th>\n",
       "      <th>haul_long</th>\n",
       "    </tr>\n",
       "  </thead>\n",
       "  <tbody>\n",
       "    <tr>\n",
       "      <th>0</th>\n",
       "      <td>0.016631</td>\n",
       "      <td>0.281114</td>\n",
       "      <td>-0.968084</td>\n",
       "      <td>-0.604196</td>\n",
       "      <td>6.414322</td>\n",
       "      <td>0.051481</td>\n",
       "      <td>1.330524</td>\n",
       "      <td>0</td>\n",
       "      <td>0</td>\n",
       "      <td>0</td>\n",
       "      <td>...</td>\n",
       "      <td>0</td>\n",
       "      <td>1</td>\n",
       "      <td>0</td>\n",
       "      <td>0</td>\n",
       "      <td>0</td>\n",
       "      <td>1</td>\n",
       "      <td>0</td>\n",
       "      <td>0</td>\n",
       "      <td>1</td>\n",
       "      <td>0</td>\n",
       "    </tr>\n",
       "    <tr>\n",
       "      <th>1</th>\n",
       "      <td>0.156155</td>\n",
       "      <td>0.837591</td>\n",
       "      <td>-0.968084</td>\n",
       "      <td>-0.604196</td>\n",
       "      <td>6.414322</td>\n",
       "      <td>0.051481</td>\n",
       "      <td>0.269255</td>\n",
       "      <td>0</td>\n",
       "      <td>0</td>\n",
       "      <td>0</td>\n",
       "      <td>...</td>\n",
       "      <td>0</td>\n",
       "      <td>1</td>\n",
       "      <td>1</td>\n",
       "      <td>0</td>\n",
       "      <td>0</td>\n",
       "      <td>0</td>\n",
       "      <td>0</td>\n",
       "      <td>0</td>\n",
       "      <td>1</td>\n",
       "      <td>0</td>\n",
       "    </tr>\n",
       "    <tr>\n",
       "      <th>2</th>\n",
       "      <td>0.156155</td>\n",
       "      <td>-0.295973</td>\n",
       "      <td>-0.968084</td>\n",
       "      <td>-0.604196</td>\n",
       "      <td>6.414322</td>\n",
       "      <td>0.051481</td>\n",
       "      <td>0.269255</td>\n",
       "      <td>0</td>\n",
       "      <td>0</td>\n",
       "      <td>0</td>\n",
       "      <td>...</td>\n",
       "      <td>0</td>\n",
       "      <td>1</td>\n",
       "      <td>1</td>\n",
       "      <td>0</td>\n",
       "      <td>0</td>\n",
       "      <td>0</td>\n",
       "      <td>0</td>\n",
       "      <td>0</td>\n",
       "      <td>1</td>\n",
       "      <td>0</td>\n",
       "    </tr>\n",
       "    <tr>\n",
       "      <th>3</th>\n",
       "      <td>-1.169323</td>\n",
       "      <td>-0.172311</td>\n",
       "      <td>-0.968084</td>\n",
       "      <td>-0.604196</td>\n",
       "      <td>6.414322</td>\n",
       "      <td>0.051481</td>\n",
       "      <td>-0.266687</td>\n",
       "      <td>0</td>\n",
       "      <td>0</td>\n",
       "      <td>0</td>\n",
       "      <td>...</td>\n",
       "      <td>0</td>\n",
       "      <td>1</td>\n",
       "      <td>0</td>\n",
       "      <td>0</td>\n",
       "      <td>0</td>\n",
       "      <td>0</td>\n",
       "      <td>1</td>\n",
       "      <td>1</td>\n",
       "      <td>0</td>\n",
       "      <td>0</td>\n",
       "    </tr>\n",
       "    <tr>\n",
       "      <th>4</th>\n",
       "      <td>-1.169323</td>\n",
       "      <td>0.652099</td>\n",
       "      <td>-0.968084</td>\n",
       "      <td>-0.604196</td>\n",
       "      <td>6.414322</td>\n",
       "      <td>0.051481</td>\n",
       "      <td>-0.266687</td>\n",
       "      <td>0</td>\n",
       "      <td>0</td>\n",
       "      <td>0</td>\n",
       "      <td>...</td>\n",
       "      <td>0</td>\n",
       "      <td>1</td>\n",
       "      <td>0</td>\n",
       "      <td>0</td>\n",
       "      <td>0</td>\n",
       "      <td>0</td>\n",
       "      <td>1</td>\n",
       "      <td>1</td>\n",
       "      <td>0</td>\n",
       "      <td>0</td>\n",
       "    </tr>\n",
       "  </tbody>\n",
       "</table>\n",
       "<p>5 rows × 68 columns</p>\n",
       "</div>"
      ],
      "text/plain": [
       "   crs_elapsed_time  arr_delay  mean_arr_delay  is_weekend  is_holiday  \\\n",
       "0          0.016631   0.281114       -0.968084   -0.604196    6.414322   \n",
       "1          0.156155   0.837591       -0.968084   -0.604196    6.414322   \n",
       "2          0.156155  -0.295973       -0.968084   -0.604196    6.414322   \n",
       "3         -1.169323  -0.172311       -0.968084   -0.604196    6.414322   \n",
       "4         -1.169323   0.652099       -0.968084   -0.604196    6.414322   \n",
       "\n",
       "   mean_origin_airport_delay  mean_dest_airport_delay  op_unique_carrier_9E  \\\n",
       "0                   0.051481                 1.330524                     0   \n",
       "1                   0.051481                 0.269255                     0   \n",
       "2                   0.051481                 0.269255                     0   \n",
       "3                   0.051481                -0.266687                     0   \n",
       "4                   0.051481                -0.266687                     0   \n",
       "\n",
       "   op_unique_carrier_9K  op_unique_carrier_AA  ...  origin_region_South  \\\n",
       "0                     0                     0  ...                    0   \n",
       "1                     0                     0  ...                    0   \n",
       "2                     0                     0  ...                    0   \n",
       "3                     0                     0  ...                    0   \n",
       "4                     0                     0  ...                    0   \n",
       "\n",
       "   origin_region_West  dest_region_Midwest  dest_region_Northeast  \\\n",
       "0                   1                    0                      0   \n",
       "1                   1                    1                      0   \n",
       "2                   1                    1                      0   \n",
       "3                   1                    0                      0   \n",
       "4                   1                    0                      0   \n",
       "\n",
       "   dest_region_Other  dest_region_South  dest_region_West  haul_short  \\\n",
       "0                  0                  1                 0           0   \n",
       "1                  0                  0                 0           0   \n",
       "2                  0                  0                 0           0   \n",
       "3                  0                  0                 1           1   \n",
       "4                  0                  0                 1           1   \n",
       "\n",
       "   haul_medium  haul_long  \n",
       "0            1          0  \n",
       "1            1          0  \n",
       "2            1          0  \n",
       "3            0          0  \n",
       "4            0          0  \n",
       "\n",
       "[5 rows x 68 columns]"
      ]
     },
     "metadata": {},
     "output_type": "display_data"
    }
   ],
   "source": [
    "# merge the scaled and dummy variables into one dataset\n",
    "\n",
    "transformed_df = scaled_data.merge(df_dummy, how='outer', left_index = True, right_index = True)\n",
    "transformed_df.head()"
   ]
  },
  {
   "cell_type": "markdown",
   "metadata": {},
   "source": [
    "### Make a pickle of the transformed data"
   ]
  },
  {
   "cell_type": "code",
   "execution_count": null,
   "metadata": {},
   "outputs": [],
   "source": [
    "import pickle\n",
    "\n",
    "feature_engineered_trans_data2 = transformed_df\n",
    "\n",
    "with open(r'..\\data\\flight_data_engineered_trans2.pickle','wb') as flight_data_file:\n",
    "      pickle.dump(feature_engineered_trans_data2, flight_data_file)"
   ]
  },
  {
   "cell_type": "code",
   "execution_count": null,
   "metadata": {},
   "outputs": [],
   "source": []
  },
  {
   "cell_type": "markdown",
   "metadata": {},
   "source": [
    "# Iteration 6"
   ]
  },
  {
   "cell_type": "markdown",
   "metadata": {},
   "source": [
    "### Load Feature Engineered Data"
   ]
  },
  {
   "cell_type": "code",
   "execution_count": 1,
   "metadata": {},
   "outputs": [],
   "source": [
    "import pandas as pd\n",
    "import numpy as np\n",
    "import seaborn as sns\n",
    "from matplotlib import pyplot as plt\n",
    "sns.set() # Setting seaborn as default style even if use only matplotlib\n",
    "pd.set_option('display.max_rows', None)"
   ]
  },
  {
   "cell_type": "code",
   "execution_count": 16,
   "metadata": {},
   "outputs": [],
   "source": [
    "import pickle\n",
    "\n",
    "with open(r'..\\data\\flight_data_engineered5.pickle','rb') as flight_data_file:\n",
    "     df_flights_train = pickle.load(flight_data_file)"
   ]
  },
  {
   "cell_type": "code",
   "execution_count": 17,
   "metadata": {},
   "outputs": [
    {
     "data": {
      "text/html": [
       "<div>\n",
       "<style scoped>\n",
       "    .dataframe tbody tr th:only-of-type {\n",
       "        vertical-align: middle;\n",
       "    }\n",
       "\n",
       "    .dataframe tbody tr th {\n",
       "        vertical-align: top;\n",
       "    }\n",
       "\n",
       "    .dataframe thead th {\n",
       "        text-align: right;\n",
       "    }\n",
       "</style>\n",
       "<table border=\"1\" class=\"dataframe\">\n",
       "  <thead>\n",
       "    <tr style=\"text-align: right;\">\n",
       "      <th></th>\n",
       "      <th>op_unique_carrier</th>\n",
       "      <th>op_carrier_fl_num</th>\n",
       "      <th>crs_dep_time_of_day</th>\n",
       "      <th>mean_flight_num_delay</th>\n",
       "      <th>arr_delay</th>\n",
       "    </tr>\n",
       "  </thead>\n",
       "  <tbody>\n",
       "    <tr>\n",
       "      <th>301432</th>\n",
       "      <td>OO</td>\n",
       "      <td>5510</td>\n",
       "      <td>evening</td>\n",
       "      <td>-10.933333</td>\n",
       "      <td>-34.0</td>\n",
       "    </tr>\n",
       "    <tr>\n",
       "      <th>66582</th>\n",
       "      <td>AA</td>\n",
       "      <td>2570</td>\n",
       "      <td>midday</td>\n",
       "      <td>32.222222</td>\n",
       "      <td>0.0</td>\n",
       "    </tr>\n",
       "    <tr>\n",
       "      <th>49986</th>\n",
       "      <td>WN</td>\n",
       "      <td>623</td>\n",
       "      <td>evening</td>\n",
       "      <td>1.500000</td>\n",
       "      <td>-14.0</td>\n",
       "    </tr>\n",
       "    <tr>\n",
       "      <th>358318</th>\n",
       "      <td>WN</td>\n",
       "      <td>1902</td>\n",
       "      <td>midday</td>\n",
       "      <td>-4.200000</td>\n",
       "      <td>10.0</td>\n",
       "    </tr>\n",
       "    <tr>\n",
       "      <th>88298</th>\n",
       "      <td>AA</td>\n",
       "      <td>1172</td>\n",
       "      <td>late afternoon</td>\n",
       "      <td>8.631579</td>\n",
       "      <td>19.0</td>\n",
       "    </tr>\n",
       "  </tbody>\n",
       "</table>\n",
       "</div>"
      ],
      "text/plain": [
       "       op_unique_carrier op_carrier_fl_num crs_dep_time_of_day  \\\n",
       "301432                OO              5510             evening   \n",
       "66582                 AA              2570              midday   \n",
       "49986                 WN               623             evening   \n",
       "358318                WN              1902              midday   \n",
       "88298                 AA              1172      late afternoon   \n",
       "\n",
       "        mean_flight_num_delay  arr_delay  \n",
       "301432             -10.933333      -34.0  \n",
       "66582               32.222222        0.0  \n",
       "49986                1.500000      -14.0  \n",
       "358318              -4.200000       10.0  \n",
       "88298                8.631579       19.0  "
      ]
     },
     "execution_count": 17,
     "metadata": {},
     "output_type": "execute_result"
    }
   ],
   "source": [
    "df_flights_train.head() # drop all these features, use mean_flight_num_delay instead"
   ]
  },
  {
   "cell_type": "code",
   "execution_count": 18,
   "metadata": {},
   "outputs": [],
   "source": [
    "df_flights_train = df_flights_train.reset_index(drop=True)"
   ]
  },
  {
   "cell_type": "code",
   "execution_count": 19,
   "metadata": {},
   "outputs": [
    {
     "name": "stdout",
     "output_type": "stream",
     "text": [
      "<class 'pandas.core.frame.DataFrame'>\n",
      "RangeIndex: 367483 entries, 0 to 367482\n",
      "Data columns (total 5 columns):\n",
      " #   Column                 Non-Null Count   Dtype  \n",
      "---  ------                 --------------   -----  \n",
      " 0   op_unique_carrier      367483 non-null  object \n",
      " 1   op_carrier_fl_num      367483 non-null  object \n",
      " 2   crs_dep_time_of_day    367483 non-null  object \n",
      " 3   mean_flight_num_delay  367483 non-null  float64\n",
      " 4   arr_delay              367483 non-null  float64\n",
      "dtypes: float64(2), object(3)\n",
      "memory usage: 14.0+ MB\n"
     ]
    }
   ],
   "source": [
    "df_flights_train.info()"
   ]
  },
  {
   "cell_type": "markdown",
   "metadata": {},
   "source": [
    "### Check for Missing Values"
   ]
  },
  {
   "cell_type": "code",
   "execution_count": 36,
   "metadata": {},
   "outputs": [
    {
     "data": {
      "text/plain": [
       "0"
      ]
     },
     "execution_count": 36,
     "metadata": {},
     "output_type": "execute_result"
    }
   ],
   "source": [
    "sum(df_flights_train.isnull().sum())"
   ]
  },
  {
   "cell_type": "markdown",
   "metadata": {},
   "source": [
    "### Fix DataTypes"
   ]
  },
  {
   "cell_type": "code",
   "execution_count": 21,
   "metadata": {},
   "outputs": [
    {
     "name": "stdout",
     "output_type": "stream",
     "text": [
      "<class 'pandas.core.frame.DataFrame'>\n",
      "RangeIndex: 367483 entries, 0 to 367482\n",
      "Data columns (total 5 columns):\n",
      " #   Column                 Non-Null Count   Dtype  \n",
      "---  ------                 --------------   -----  \n",
      " 0   op_unique_carrier      367483 non-null  object \n",
      " 1   op_carrier_fl_num      367483 non-null  object \n",
      " 2   crs_dep_time_of_day    367483 non-null  object \n",
      " 3   mean_flight_num_delay  367483 non-null  float64\n",
      " 4   arr_delay              367483 non-null  float64\n",
      "dtypes: float64(2), object(3)\n",
      "memory usage: 14.0+ MB\n"
     ]
    }
   ],
   "source": [
    "df_flights_train.info()"
   ]
  },
  {
   "cell_type": "code",
   "execution_count": 14,
   "metadata": {},
   "outputs": [],
   "source": [
    "# all good"
   ]
  },
  {
   "cell_type": "markdown",
   "metadata": {},
   "source": [
    "### Transform Categorical Variables into Numeric Data"
   ]
  },
  {
   "cell_type": "code",
   "execution_count": 40,
   "metadata": {},
   "outputs": [
    {
     "data": {
      "text/plain": [
       "late morning      120350\n",
       "midday            111271\n",
       "late afternoon    102800\n",
       "evening            23227\n",
       "early morning       9665\n",
       "nan                  170\n",
       "Name: crs_dep_time_of_day, dtype: int64"
      ]
     },
     "execution_count": 40,
     "metadata": {},
     "output_type": "execute_result"
    }
   ],
   "source": [
    "df_flights_train['crs_dep_time_of_day'].value_counts()"
   ]
  },
  {
   "cell_type": "code",
   "execution_count": 27,
   "metadata": {},
   "outputs": [
    {
     "data": {
      "text/html": [
       "<div>\n",
       "<style scoped>\n",
       "    .dataframe tbody tr th:only-of-type {\n",
       "        vertical-align: middle;\n",
       "    }\n",
       "\n",
       "    .dataframe tbody tr th {\n",
       "        vertical-align: top;\n",
       "    }\n",
       "\n",
       "    .dataframe thead th {\n",
       "        text-align: right;\n",
       "    }\n",
       "</style>\n",
       "<table border=\"1\" class=\"dataframe\">\n",
       "  <thead>\n",
       "    <tr style=\"text-align: right;\">\n",
       "      <th></th>\n",
       "      <th>op_unique_carrier_9E</th>\n",
       "      <th>op_unique_carrier_9K</th>\n",
       "      <th>op_unique_carrier_AA</th>\n",
       "      <th>op_unique_carrier_AS</th>\n",
       "      <th>op_unique_carrier_AX</th>\n",
       "      <th>op_unique_carrier_B6</th>\n",
       "      <th>op_unique_carrier_C5</th>\n",
       "      <th>op_unique_carrier_CP</th>\n",
       "      <th>op_unique_carrier_DL</th>\n",
       "      <th>op_unique_carrier_EM</th>\n",
       "      <th>...</th>\n",
       "      <th>op_carrier_fl_num_996</th>\n",
       "      <th>op_carrier_fl_num_997</th>\n",
       "      <th>op_carrier_fl_num_998</th>\n",
       "      <th>op_carrier_fl_num_999</th>\n",
       "      <th>crs_dep_time_of_day_early morning</th>\n",
       "      <th>crs_dep_time_of_day_evening</th>\n",
       "      <th>crs_dep_time_of_day_late afternoon</th>\n",
       "      <th>crs_dep_time_of_day_late morning</th>\n",
       "      <th>crs_dep_time_of_day_midday</th>\n",
       "      <th>crs_dep_time_of_day_nan</th>\n",
       "    </tr>\n",
       "  </thead>\n",
       "  <tbody>\n",
       "    <tr>\n",
       "      <th>0</th>\n",
       "      <td>0</td>\n",
       "      <td>0</td>\n",
       "      <td>0</td>\n",
       "      <td>0</td>\n",
       "      <td>0</td>\n",
       "      <td>0</td>\n",
       "      <td>0</td>\n",
       "      <td>0</td>\n",
       "      <td>0</td>\n",
       "      <td>0</td>\n",
       "      <td>...</td>\n",
       "      <td>0</td>\n",
       "      <td>0</td>\n",
       "      <td>0</td>\n",
       "      <td>0</td>\n",
       "      <td>0</td>\n",
       "      <td>1</td>\n",
       "      <td>0</td>\n",
       "      <td>0</td>\n",
       "      <td>0</td>\n",
       "      <td>0</td>\n",
       "    </tr>\n",
       "    <tr>\n",
       "      <th>1</th>\n",
       "      <td>0</td>\n",
       "      <td>0</td>\n",
       "      <td>1</td>\n",
       "      <td>0</td>\n",
       "      <td>0</td>\n",
       "      <td>0</td>\n",
       "      <td>0</td>\n",
       "      <td>0</td>\n",
       "      <td>0</td>\n",
       "      <td>0</td>\n",
       "      <td>...</td>\n",
       "      <td>0</td>\n",
       "      <td>0</td>\n",
       "      <td>0</td>\n",
       "      <td>0</td>\n",
       "      <td>0</td>\n",
       "      <td>0</td>\n",
       "      <td>0</td>\n",
       "      <td>0</td>\n",
       "      <td>1</td>\n",
       "      <td>0</td>\n",
       "    </tr>\n",
       "    <tr>\n",
       "      <th>2</th>\n",
       "      <td>0</td>\n",
       "      <td>0</td>\n",
       "      <td>0</td>\n",
       "      <td>0</td>\n",
       "      <td>0</td>\n",
       "      <td>0</td>\n",
       "      <td>0</td>\n",
       "      <td>0</td>\n",
       "      <td>0</td>\n",
       "      <td>0</td>\n",
       "      <td>...</td>\n",
       "      <td>0</td>\n",
       "      <td>0</td>\n",
       "      <td>0</td>\n",
       "      <td>0</td>\n",
       "      <td>0</td>\n",
       "      <td>1</td>\n",
       "      <td>0</td>\n",
       "      <td>0</td>\n",
       "      <td>0</td>\n",
       "      <td>0</td>\n",
       "    </tr>\n",
       "    <tr>\n",
       "      <th>3</th>\n",
       "      <td>0</td>\n",
       "      <td>0</td>\n",
       "      <td>0</td>\n",
       "      <td>0</td>\n",
       "      <td>0</td>\n",
       "      <td>0</td>\n",
       "      <td>0</td>\n",
       "      <td>0</td>\n",
       "      <td>0</td>\n",
       "      <td>0</td>\n",
       "      <td>...</td>\n",
       "      <td>0</td>\n",
       "      <td>0</td>\n",
       "      <td>0</td>\n",
       "      <td>0</td>\n",
       "      <td>0</td>\n",
       "      <td>0</td>\n",
       "      <td>0</td>\n",
       "      <td>0</td>\n",
       "      <td>1</td>\n",
       "      <td>0</td>\n",
       "    </tr>\n",
       "    <tr>\n",
       "      <th>4</th>\n",
       "      <td>0</td>\n",
       "      <td>0</td>\n",
       "      <td>1</td>\n",
       "      <td>0</td>\n",
       "      <td>0</td>\n",
       "      <td>0</td>\n",
       "      <td>0</td>\n",
       "      <td>0</td>\n",
       "      <td>0</td>\n",
       "      <td>0</td>\n",
       "      <td>...</td>\n",
       "      <td>0</td>\n",
       "      <td>0</td>\n",
       "      <td>0</td>\n",
       "      <td>0</td>\n",
       "      <td>0</td>\n",
       "      <td>0</td>\n",
       "      <td>1</td>\n",
       "      <td>0</td>\n",
       "      <td>0</td>\n",
       "      <td>0</td>\n",
       "    </tr>\n",
       "  </tbody>\n",
       "</table>\n",
       "<p>5 rows × 7002 columns</p>\n",
       "</div>"
      ],
      "text/plain": [
       "   op_unique_carrier_9E  op_unique_carrier_9K  op_unique_carrier_AA  \\\n",
       "0                     0                     0                     0   \n",
       "1                     0                     0                     1   \n",
       "2                     0                     0                     0   \n",
       "3                     0                     0                     0   \n",
       "4                     0                     0                     1   \n",
       "\n",
       "   op_unique_carrier_AS  op_unique_carrier_AX  op_unique_carrier_B6  \\\n",
       "0                     0                     0                     0   \n",
       "1                     0                     0                     0   \n",
       "2                     0                     0                     0   \n",
       "3                     0                     0                     0   \n",
       "4                     0                     0                     0   \n",
       "\n",
       "   op_unique_carrier_C5  op_unique_carrier_CP  op_unique_carrier_DL  \\\n",
       "0                     0                     0                     0   \n",
       "1                     0                     0                     0   \n",
       "2                     0                     0                     0   \n",
       "3                     0                     0                     0   \n",
       "4                     0                     0                     0   \n",
       "\n",
       "   op_unique_carrier_EM  ...  op_carrier_fl_num_996  op_carrier_fl_num_997  \\\n",
       "0                     0  ...                      0                      0   \n",
       "1                     0  ...                      0                      0   \n",
       "2                     0  ...                      0                      0   \n",
       "3                     0  ...                      0                      0   \n",
       "4                     0  ...                      0                      0   \n",
       "\n",
       "   op_carrier_fl_num_998  op_carrier_fl_num_999  \\\n",
       "0                      0                      0   \n",
       "1                      0                      0   \n",
       "2                      0                      0   \n",
       "3                      0                      0   \n",
       "4                      0                      0   \n",
       "\n",
       "   crs_dep_time_of_day_early morning  crs_dep_time_of_day_evening  \\\n",
       "0                                  0                            1   \n",
       "1                                  0                            0   \n",
       "2                                  0                            1   \n",
       "3                                  0                            0   \n",
       "4                                  0                            0   \n",
       "\n",
       "   crs_dep_time_of_day_late afternoon  crs_dep_time_of_day_late morning  \\\n",
       "0                                   0                                 0   \n",
       "1                                   0                                 0   \n",
       "2                                   0                                 0   \n",
       "3                                   0                                 0   \n",
       "4                                   1                                 0   \n",
       "\n",
       "   crs_dep_time_of_day_midday  crs_dep_time_of_day_nan  \n",
       "0                           0                        0  \n",
       "1                           1                        0  \n",
       "2                           0                        0  \n",
       "3                           1                        0  \n",
       "4                           0                        0  \n",
       "\n",
       "[5 rows x 7002 columns]"
      ]
     },
     "execution_count": 27,
     "metadata": {},
     "output_type": "execute_result"
    }
   ],
   "source": [
    "# # transform nominal variables into Dummy Variables\n",
    "\n",
    "cat_feats = df_flights_train.dtypes[(df_flights_train.dtypes == 'object') | (df_flights_train.dtypes == 'category') ].index.tolist()\n",
    "df_dummy = pd.get_dummies(df_flights_train[cat_feats])\n",
    "df_dummy.head()"
   ]
  },
  {
   "cell_type": "code",
   "execution_count": null,
   "metadata": {},
   "outputs": [],
   "source": [
    "# # Map values onto numbers for bool variables\n",
    "\n",
    "# df_flights.replace({\n",
    "#     \"is_weekend\" : {True : 1, False : 0}, \n",
    "#     \"is_holiday\" : {True : 1, False : 0},\n",
    "#     }, inplace=True)"
   ]
  },
  {
   "cell_type": "code",
   "execution_count": 28,
   "metadata": {},
   "outputs": [],
   "source": [
    "# drop the nominal variables from the original dataset\n",
    "\n",
    "numeric_df = df_flights_train.drop(columns=cat_feats)\n"
   ]
  },
  {
   "cell_type": "code",
   "execution_count": 29,
   "metadata": {},
   "outputs": [
    {
     "data": {
      "text/html": [
       "<div>\n",
       "<style scoped>\n",
       "    .dataframe tbody tr th:only-of-type {\n",
       "        vertical-align: middle;\n",
       "    }\n",
       "\n",
       "    .dataframe tbody tr th {\n",
       "        vertical-align: top;\n",
       "    }\n",
       "\n",
       "    .dataframe thead th {\n",
       "        text-align: right;\n",
       "    }\n",
       "</style>\n",
       "<table border=\"1\" class=\"dataframe\">\n",
       "  <thead>\n",
       "    <tr style=\"text-align: right;\">\n",
       "      <th></th>\n",
       "      <th>mean_flight_num_delay</th>\n",
       "      <th>arr_delay</th>\n",
       "    </tr>\n",
       "  </thead>\n",
       "  <tbody>\n",
       "    <tr>\n",
       "      <th>0</th>\n",
       "      <td>-0.664788</td>\n",
       "      <td>-0.790335</td>\n",
       "    </tr>\n",
       "    <tr>\n",
       "      <th>1</th>\n",
       "      <td>1.075340</td>\n",
       "      <td>-0.110968</td>\n",
       "    </tr>\n",
       "    <tr>\n",
       "      <th>2</th>\n",
       "      <td>-0.163448</td>\n",
       "      <td>-0.390707</td>\n",
       "    </tr>\n",
       "    <tr>\n",
       "      <th>3</th>\n",
       "      <td>-0.393285</td>\n",
       "      <td>0.088846</td>\n",
       "    </tr>\n",
       "    <tr>\n",
       "      <th>4</th>\n",
       "      <td>0.124113</td>\n",
       "      <td>0.268679</td>\n",
       "    </tr>\n",
       "  </tbody>\n",
       "</table>\n",
       "</div>"
      ],
      "text/plain": [
       "   mean_flight_num_delay  arr_delay\n",
       "0              -0.664788  -0.790335\n",
       "1               1.075340  -0.110968\n",
       "2              -0.163448  -0.390707\n",
       "3              -0.393285   0.088846\n",
       "4               0.124113   0.268679"
      ]
     },
     "execution_count": 29,
     "metadata": {},
     "output_type": "execute_result"
    }
   ],
   "source": [
    "# scale the numeric data\n",
    "\n",
    "from sklearn import preprocessing\n",
    "from sklearn.preprocessing import StandardScaler\n",
    "scaler = StandardScaler()\n",
    "scaled_data = pd.DataFrame(scaler.fit_transform(numeric_df), columns=numeric_df.columns)\n",
    "scaled_data.head()"
   ]
  },
  {
   "cell_type": "code",
   "execution_count": 39,
   "metadata": {},
   "outputs": [
    {
     "name": "stdout",
     "output_type": "stream",
     "text": [
      "<class 'pandas.core.frame.DataFrame'>\n",
      "RangeIndex: 367483 entries, 0 to 367482\n",
      "Columns: 7002 entries, op_unique_carrier_9E to crs_dep_time_of_day_nan\n",
      "dtypes: uint8(7002)\n",
      "memory usage: 2.4 GB\n"
     ]
    }
   ],
   "source": [
    "df_dummy.info()"
   ]
  },
  {
   "cell_type": "code",
   "execution_count": 38,
   "metadata": {},
   "outputs": [
    {
     "name": "stdout",
     "output_type": "stream",
     "text": [
      "<class 'pandas.core.frame.DataFrame'>\n",
      "RangeIndex: 367483 entries, 0 to 367482\n",
      "Data columns (total 2 columns):\n",
      " #   Column                 Non-Null Count   Dtype  \n",
      "---  ------                 --------------   -----  \n",
      " 0   mean_flight_num_delay  367483 non-null  float64\n",
      " 1   arr_delay              367483 non-null  float64\n",
      "dtypes: float64(2)\n",
      "memory usage: 5.6 MB\n"
     ]
    }
   ],
   "source": [
    "scaled_data.info()"
   ]
  },
  {
   "cell_type": "code",
   "execution_count": 30,
   "metadata": {},
   "outputs": [
    {
     "data": {
      "text/html": [
       "<div>\n",
       "<style scoped>\n",
       "    .dataframe tbody tr th:only-of-type {\n",
       "        vertical-align: middle;\n",
       "    }\n",
       "\n",
       "    .dataframe tbody tr th {\n",
       "        vertical-align: top;\n",
       "    }\n",
       "\n",
       "    .dataframe thead th {\n",
       "        text-align: right;\n",
       "    }\n",
       "</style>\n",
       "<table border=\"1\" class=\"dataframe\">\n",
       "  <thead>\n",
       "    <tr style=\"text-align: right;\">\n",
       "      <th></th>\n",
       "      <th>mean_flight_num_delay</th>\n",
       "      <th>arr_delay</th>\n",
       "      <th>op_unique_carrier_9E</th>\n",
       "      <th>op_unique_carrier_9K</th>\n",
       "      <th>op_unique_carrier_AA</th>\n",
       "      <th>op_unique_carrier_AS</th>\n",
       "      <th>op_unique_carrier_AX</th>\n",
       "      <th>op_unique_carrier_B6</th>\n",
       "      <th>op_unique_carrier_C5</th>\n",
       "      <th>op_unique_carrier_CP</th>\n",
       "      <th>...</th>\n",
       "      <th>op_carrier_fl_num_996</th>\n",
       "      <th>op_carrier_fl_num_997</th>\n",
       "      <th>op_carrier_fl_num_998</th>\n",
       "      <th>op_carrier_fl_num_999</th>\n",
       "      <th>crs_dep_time_of_day_early morning</th>\n",
       "      <th>crs_dep_time_of_day_evening</th>\n",
       "      <th>crs_dep_time_of_day_late afternoon</th>\n",
       "      <th>crs_dep_time_of_day_late morning</th>\n",
       "      <th>crs_dep_time_of_day_midday</th>\n",
       "      <th>crs_dep_time_of_day_nan</th>\n",
       "    </tr>\n",
       "  </thead>\n",
       "  <tbody>\n",
       "    <tr>\n",
       "      <th>0</th>\n",
       "      <td>-0.664788</td>\n",
       "      <td>-0.790335</td>\n",
       "      <td>0</td>\n",
       "      <td>0</td>\n",
       "      <td>0</td>\n",
       "      <td>0</td>\n",
       "      <td>0</td>\n",
       "      <td>0</td>\n",
       "      <td>0</td>\n",
       "      <td>0</td>\n",
       "      <td>...</td>\n",
       "      <td>0</td>\n",
       "      <td>0</td>\n",
       "      <td>0</td>\n",
       "      <td>0</td>\n",
       "      <td>0</td>\n",
       "      <td>1</td>\n",
       "      <td>0</td>\n",
       "      <td>0</td>\n",
       "      <td>0</td>\n",
       "      <td>0</td>\n",
       "    </tr>\n",
       "    <tr>\n",
       "      <th>1</th>\n",
       "      <td>1.075340</td>\n",
       "      <td>-0.110968</td>\n",
       "      <td>0</td>\n",
       "      <td>0</td>\n",
       "      <td>1</td>\n",
       "      <td>0</td>\n",
       "      <td>0</td>\n",
       "      <td>0</td>\n",
       "      <td>0</td>\n",
       "      <td>0</td>\n",
       "      <td>...</td>\n",
       "      <td>0</td>\n",
       "      <td>0</td>\n",
       "      <td>0</td>\n",
       "      <td>0</td>\n",
       "      <td>0</td>\n",
       "      <td>0</td>\n",
       "      <td>0</td>\n",
       "      <td>0</td>\n",
       "      <td>1</td>\n",
       "      <td>0</td>\n",
       "    </tr>\n",
       "    <tr>\n",
       "      <th>2</th>\n",
       "      <td>-0.163448</td>\n",
       "      <td>-0.390707</td>\n",
       "      <td>0</td>\n",
       "      <td>0</td>\n",
       "      <td>0</td>\n",
       "      <td>0</td>\n",
       "      <td>0</td>\n",
       "      <td>0</td>\n",
       "      <td>0</td>\n",
       "      <td>0</td>\n",
       "      <td>...</td>\n",
       "      <td>0</td>\n",
       "      <td>0</td>\n",
       "      <td>0</td>\n",
       "      <td>0</td>\n",
       "      <td>0</td>\n",
       "      <td>1</td>\n",
       "      <td>0</td>\n",
       "      <td>0</td>\n",
       "      <td>0</td>\n",
       "      <td>0</td>\n",
       "    </tr>\n",
       "    <tr>\n",
       "      <th>3</th>\n",
       "      <td>-0.393285</td>\n",
       "      <td>0.088846</td>\n",
       "      <td>0</td>\n",
       "      <td>0</td>\n",
       "      <td>0</td>\n",
       "      <td>0</td>\n",
       "      <td>0</td>\n",
       "      <td>0</td>\n",
       "      <td>0</td>\n",
       "      <td>0</td>\n",
       "      <td>...</td>\n",
       "      <td>0</td>\n",
       "      <td>0</td>\n",
       "      <td>0</td>\n",
       "      <td>0</td>\n",
       "      <td>0</td>\n",
       "      <td>0</td>\n",
       "      <td>0</td>\n",
       "      <td>0</td>\n",
       "      <td>1</td>\n",
       "      <td>0</td>\n",
       "    </tr>\n",
       "    <tr>\n",
       "      <th>4</th>\n",
       "      <td>0.124113</td>\n",
       "      <td>0.268679</td>\n",
       "      <td>0</td>\n",
       "      <td>0</td>\n",
       "      <td>1</td>\n",
       "      <td>0</td>\n",
       "      <td>0</td>\n",
       "      <td>0</td>\n",
       "      <td>0</td>\n",
       "      <td>0</td>\n",
       "      <td>...</td>\n",
       "      <td>0</td>\n",
       "      <td>0</td>\n",
       "      <td>0</td>\n",
       "      <td>0</td>\n",
       "      <td>0</td>\n",
       "      <td>0</td>\n",
       "      <td>1</td>\n",
       "      <td>0</td>\n",
       "      <td>0</td>\n",
       "      <td>0</td>\n",
       "    </tr>\n",
       "  </tbody>\n",
       "</table>\n",
       "<p>5 rows × 7004 columns</p>\n",
       "</div>"
      ],
      "text/plain": [
       "   mean_flight_num_delay  arr_delay  op_unique_carrier_9E  \\\n",
       "0              -0.664788  -0.790335                     0   \n",
       "1               1.075340  -0.110968                     0   \n",
       "2              -0.163448  -0.390707                     0   \n",
       "3              -0.393285   0.088846                     0   \n",
       "4               0.124113   0.268679                     0   \n",
       "\n",
       "   op_unique_carrier_9K  op_unique_carrier_AA  op_unique_carrier_AS  \\\n",
       "0                     0                     0                     0   \n",
       "1                     0                     1                     0   \n",
       "2                     0                     0                     0   \n",
       "3                     0                     0                     0   \n",
       "4                     0                     1                     0   \n",
       "\n",
       "   op_unique_carrier_AX  op_unique_carrier_B6  op_unique_carrier_C5  \\\n",
       "0                     0                     0                     0   \n",
       "1                     0                     0                     0   \n",
       "2                     0                     0                     0   \n",
       "3                     0                     0                     0   \n",
       "4                     0                     0                     0   \n",
       "\n",
       "   op_unique_carrier_CP  ...  op_carrier_fl_num_996  op_carrier_fl_num_997  \\\n",
       "0                     0  ...                      0                      0   \n",
       "1                     0  ...                      0                      0   \n",
       "2                     0  ...                      0                      0   \n",
       "3                     0  ...                      0                      0   \n",
       "4                     0  ...                      0                      0   \n",
       "\n",
       "   op_carrier_fl_num_998  op_carrier_fl_num_999  \\\n",
       "0                      0                      0   \n",
       "1                      0                      0   \n",
       "2                      0                      0   \n",
       "3                      0                      0   \n",
       "4                      0                      0   \n",
       "\n",
       "   crs_dep_time_of_day_early morning  crs_dep_time_of_day_evening  \\\n",
       "0                                  0                            1   \n",
       "1                                  0                            0   \n",
       "2                                  0                            1   \n",
       "3                                  0                            0   \n",
       "4                                  0                            0   \n",
       "\n",
       "   crs_dep_time_of_day_late afternoon  crs_dep_time_of_day_late morning  \\\n",
       "0                                   0                                 0   \n",
       "1                                   0                                 0   \n",
       "2                                   0                                 0   \n",
       "3                                   0                                 0   \n",
       "4                                   1                                 0   \n",
       "\n",
       "   crs_dep_time_of_day_midday  crs_dep_time_of_day_nan  \n",
       "0                           0                        0  \n",
       "1                           1                        0  \n",
       "2                           0                        0  \n",
       "3                           1                        0  \n",
       "4                           0                        0  \n",
       "\n",
       "[5 rows x 7004 columns]"
      ]
     },
     "execution_count": 30,
     "metadata": {},
     "output_type": "execute_result"
    }
   ],
   "source": [
    "# merge the scaled and dummy variables into one dataset\n",
    "\n",
    "transformed_df = scaled_data.merge(df_dummy, how='outer', left_index = True, right_index = True)\n",
    "transformed_df.head()"
   ]
  },
  {
   "cell_type": "code",
   "execution_count": 37,
   "metadata": {},
   "outputs": [
    {
     "data": {
      "text/plain": [
       "(367483, 7004)"
      ]
     },
     "execution_count": 37,
     "metadata": {},
     "output_type": "execute_result"
    }
   ],
   "source": [
    "transformed_df.shape"
   ]
  },
  {
   "cell_type": "code",
   "execution_count": 32,
   "metadata": {},
   "outputs": [
    {
     "data": {
      "text/plain": [
       "0    367313\n",
       "1       170\n",
       "Name: crs_dep_time_of_day_nan, dtype: int64"
      ]
     },
     "execution_count": 32,
     "metadata": {},
     "output_type": "execute_result"
    }
   ],
   "source": [
    "transformed_df['crs_dep_time_of_day_nan'].value_counts()"
   ]
  },
  {
   "cell_type": "markdown",
   "metadata": {},
   "source": [
    "### Make a pickle of the transformed data"
   ]
  },
  {
   "cell_type": "code",
   "execution_count": null,
   "metadata": {},
   "outputs": [],
   "source": [
    "import pickle\n",
    "\n",
    "feature_engineered_trans_data2 = transformed_df\n",
    "\n",
    "with open(r'..\\data\\flight_data_engineered_trans2.pickle','wb') as flight_data_file:\n",
    "      pickle.dump(feature_engineered_trans_data2, flight_data_file)"
   ]
  },
  {
   "cell_type": "code",
   "execution_count": null,
   "metadata": {},
   "outputs": [],
   "source": []
  }
 ],
 "metadata": {
  "kernelspec": {
   "display_name": "Python 3.9.13 64-bit",
   "language": "python",
   "name": "python3"
  },
  "language_info": {
   "codemirror_mode": {
    "name": "ipython",
    "version": 3
   },
   "file_extension": ".py",
   "mimetype": "text/x-python",
   "name": "python",
   "nbconvert_exporter": "python",
   "pygments_lexer": "ipython3",
   "version": "3.9.13"
  },
  "orig_nbformat": 4,
  "vscode": {
   "interpreter": {
    "hash": "11938c6bc6919ae2720b4d5011047913343b08a43b18698fd82dedb0d4417594"
   }
  }
 },
 "nbformat": 4,
 "nbformat_minor": 2
}
